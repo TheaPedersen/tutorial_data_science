{
  "nbformat": 4,
  "nbformat_minor": 0,
  "metadata": {
    "colab": {
      "name": "P2_4.Linear_regression&Logistic regression.ipynb",
      "provenance": [],
      "collapsed_sections": [
        "tfV0qv5WNTwY"
      ],
      "toc_visible": true,
      "include_colab_link": true
    },
    "kernelspec": {
      "name": "python3",
      "display_name": "Python 3"
    }
  },
  "cells": [
    {
      "cell_type": "markdown",
      "metadata": {
        "id": "view-in-github",
        "colab_type": "text"
      },
      "source": [
        "<a href=\"https://colab.research.google.com/github/strongway/tutorial_data_science/blob/master/P2_4_Linear_regression.ipynb\" target=\"_parent\"><img src=\"https://colab.research.google.com/assets/colab-badge.svg\" alt=\"Open In Colab\"/></a>"
      ]
    },
    {
      "cell_type": "markdown",
      "metadata": {
        "id": "MeQmkNMRNnMo"
      },
      "source": [
        "# Linear regression for computational neuroscience\n",
        "\n",
        "**Zhuanghua Shi (Nov. 24th, 2021)**\n",
        "\n",
        "Inn neurobiologicla modeling we are often dealing with arrays of variables. For example, the activities of all of the neurons in a network at a given time, the firing rate of neuronn in each of many small epochs of time; the weights of all of the synapes impinging on a postsynapitc cell. The natural language for thinking about and analyzing the behavior of such arrays of variables is the language of vectors and matrices. \n"
      ]
    },
    {
      "cell_type": "markdown",
      "metadata": {
        "id": "tfV0qv5WNTwY"
      },
      "source": [
        "## Matrix and Vector (Optional)\n",
        "\n",
        "There are several arithmetic operations defined on vectors and matrices."
      ]
    },
    {
      "cell_type": "code",
      "metadata": {
        "id": "jYEkkZ1GNoqD",
        "colab": {
          "base_uri": "https://localhost:8080/"
        },
        "outputId": "d0b13af7-5b6d-4823-effc-e63ec052b9ff"
      },
      "source": [
        "import numpy as np\n",
        "\n",
        "a = np.array([1,2,3])\n",
        "b = np.array([4,5,6])\n",
        "print(3*a)\n",
        "print(a - b)\n"
      ],
      "execution_count": 1,
      "outputs": [
        {
          "output_type": "stream",
          "name": "stdout",
          "text": [
            "[3 6 9]\n",
            "[-3 -3 -3]\n"
          ]
        }
      ]
    },
    {
      "cell_type": "code",
      "metadata": {
        "id": "6N4a4PD3_TnQ",
        "colab": {
          "base_uri": "https://localhost:8080/",
          "height": 272
        },
        "outputId": "4c524ffd-779d-4536-f48e-09e7da3ba8e2"
      },
      "source": [
        "x = np.random.random((5,5))\n",
        "y = np.random.random((5,5))\n",
        "print(x)\n",
        "print(y)\n",
        "print(x+y)"
      ],
      "execution_count": null,
      "outputs": [
        {
          "output_type": "stream",
          "text": [
            "[[0.05491462 0.78273345 0.88603491 0.3592183  0.85036491]\n",
            " [0.69188389 0.52104915 0.84030971 0.01734402 0.31550732]\n",
            " [0.47882176 0.01493439 0.43001527 0.32330317 0.12311434]\n",
            " [0.80588462 0.9425507  0.01388475 0.84032303 0.67910847]\n",
            " [0.90236392 0.86344192 0.97584419 0.43834883 0.07534173]]\n",
            "[[0.89481107 0.67596597 0.62455573 0.59430523 0.11791265]\n",
            " [0.01234299 0.40108628 0.493521   0.98342292 0.06462904]\n",
            " [0.54911854 0.08872745 0.93618064 0.21274724 0.90217274]\n",
            " [0.2377658  0.39759529 0.63636045 0.99360618 0.11179851]\n",
            " [0.7388838  0.72755473 0.36696047 0.02729125 0.80027528]]\n",
            "[[0.9497257  1.45869942 1.51059064 0.95352353 0.96827756]\n",
            " [0.70422687 0.92213543 1.33383071 1.00076694 0.38013635]\n",
            " [1.0279403  0.10366185 1.36619591 0.53605041 1.02528708]\n",
            " [1.04365042 1.340146   0.6502452  1.83392921 0.79090698]\n",
            " [1.64124772 1.59099665 1.34280466 0.46564009 0.87561701]]\n"
          ],
          "name": "stdout"
        }
      ]
    },
    {
      "cell_type": "markdown",
      "metadata": {
        "id": "1iqIXpHyQ24H"
      },
      "source": [
        "#### Broadcasting\n",
        "\n",
        "Broadcasting is a powerful mechanism that allows numpy to work with arrays of different shapes when performing arithmetic operations. \n",
        "\n"
      ]
    },
    {
      "cell_type": "markdown",
      "metadata": {
        "id": "mgttJMMSRWNG"
      },
      "source": [
        "__Example__\n",
        "\n",
        "Suppose we want to subtract the mean from an array __x__. We first demonstrate how we realize this using classic programming approach. And then we use broadcasting from numpy. "
      ]
    },
    {
      "cell_type": "code",
      "metadata": {
        "id": "8mQUMLvTRVa7",
        "colab": {
          "base_uri": "https://localhost:8080/",
          "height": 85
        },
        "outputId": "b2301475-3ec7-43ab-d8aa-c39ae79aed1b"
      },
      "source": [
        "x = np.array([[1,2,3], [4,5,6], [7,8,9], [10, 11, 12]])\n",
        "print(x)"
      ],
      "execution_count": null,
      "outputs": [
        {
          "output_type": "stream",
          "text": [
            "[[ 1  2  3]\n",
            " [ 4  5  6]\n",
            " [ 7  8  9]\n",
            " [10 11 12]]\n"
          ],
          "name": "stdout"
        }
      ]
    },
    {
      "cell_type": "code",
      "metadata": {
        "id": "tWqgvJMPTPiL",
        "colab": {
          "base_uri": "https://localhost:8080/",
          "height": 102
        },
        "outputId": "687fd40d-3f49-46d5-f9f1-060e53f3c1a9"
      },
      "source": [
        "# second approach using broadcasting\n",
        "\n",
        "xm = np.mean(x,axis = 1)\n",
        "print(xm)\n",
        "(x.T - xm).T\n"
      ],
      "execution_count": null,
      "outputs": [
        {
          "output_type": "stream",
          "text": [
            "[ 2.  5.  8. 11.]\n"
          ],
          "name": "stdout"
        },
        {
          "output_type": "execute_result",
          "data": {
            "text/plain": [
              "array([[-1.,  0.,  1.],\n",
              "       [-1.,  0.,  1.],\n",
              "       [-1.,  0.,  1.],\n",
              "       [-1.,  0.,  1.]])"
            ]
          },
          "metadata": {
            "tags": []
          },
          "execution_count": 50
        }
      ]
    },
    {
      "cell_type": "markdown",
      "metadata": {
        "id": "MCIJZ0eg-Rgi"
      },
      "source": [
        "Question: Please write the matrix of the above implementation. "
      ]
    },
    {
      "cell_type": "markdown",
      "metadata": {
        "id": "IVLWkADD4aP3"
      },
      "source": [
        "### Multiplication\n",
        "\n",
        "There are three types of multiplications for matrices. \n",
        "\n",
        "1. __Matrix multiply__\n",
        "\n",
        "$$A_{m,n} B_{n,p} = \n",
        " \\begin{pmatrix}\n",
        "  a_{0,0} &  \\cdots & a_{0,n-1} \\\\\n",
        "  a_{1,0} &  \\cdots & a_{1,n-1} \\\\\n",
        "  \\vdots  &  \\ddots & \\vdots  \\\\\n",
        "  a_{m-1,1}  & \\cdots & a_{m-1,n-1} \n",
        " \\end{pmatrix} \\begin{pmatrix}\n",
        "  b_{0,0} &  \\cdots & b_{0,p-1} \\\\\n",
        "  b_{1,0} &  \\cdots & b_{1,p-1} \\\\\n",
        "  \\vdots  &  \\ddots & \\vdots  \\\\\n",
        "  b_{n-1,1}  & \\cdots & b_{n-1,p-1} \n",
        " \\end{pmatrix} \\\\\n",
        " = \\begin{pmatrix}\n",
        "  \\sum_j a_{0,j}b_{j,o} &  \\cdots & \\sum_j a_{m-1,j}b_{j,o} \\\\\n",
        "  \\sum_j a_{1,j}b_{j,o} &  \\cdots & \\sum_j a_{m-1,j}b_{j,1} \\\\\n",
        "  \\vdots  &  \\ddots & \\vdots  \\\\\n",
        "  \\sum_j a_{m-1,j}b_{j,o}  & \\cdots & \\sum_j a_{m-1,j}b_{j,p-1} \n",
        " \\end{pmatrix} $$"
      ]
    },
    {
      "cell_type": "code",
      "metadata": {
        "id": "ufZ-9wRPN69T",
        "colab": {
          "base_uri": "https://localhost:8080/",
          "height": 102
        },
        "outputId": "9e4ac03f-9847-4c62-fdac-82d435839175"
      },
      "source": [
        "X = np.array([[1,2,3],[4,5,6]])\n",
        "Y = np.array([[7,8],[9,10],[11,12]])\n",
        "print(X)\n",
        "print(Y)"
      ],
      "execution_count": null,
      "outputs": [
        {
          "output_type": "stream",
          "text": [
            "[[1 2 3]\n",
            " [4 5 6]]\n",
            "[[ 7  8]\n",
            " [ 9 10]\n",
            " [11 12]]\n"
          ],
          "name": "stdout"
        }
      ]
    },
    {
      "cell_type": "code",
      "metadata": {
        "id": "DdLj-437N-Gu",
        "colab": {
          "base_uri": "https://localhost:8080/",
          "height": 51
        },
        "outputId": "f15b0050-06fd-4640-b58c-b25cb9af0e1e"
      },
      "source": [
        "# multiple in python is X.dot(Y), or np.dot(X,Y)\n",
        "# please check the finnal output dimension!\n",
        "X.dot(Y)"
      ],
      "execution_count": null,
      "outputs": [
        {
          "output_type": "execute_result",
          "data": {
            "text/plain": [
              "array([[ 58,  64],\n",
              "       [139, 154]])"
            ]
          },
          "metadata": {
            "tags": []
          },
          "execution_count": 52
        }
      ]
    },
    {
      "cell_type": "code",
      "metadata": {
        "id": "Ueme2PLu7YbJ",
        "colab": {
          "base_uri": "https://localhost:8080/",
          "height": 68
        },
        "outputId": "64f1057a-eaab-4c3b-b6b2-609529838afa"
      },
      "source": [
        "# Question: What is the output of Y.dot(X)?\n",
        "\n",
        "# You code here\n",
        "Y.dot(X)"
      ],
      "execution_count": null,
      "outputs": [
        {
          "output_type": "execute_result",
          "data": {
            "text/plain": [
              "array([[ 39,  54,  69],\n",
              "       [ 49,  68,  87],\n",
              "       [ 59,  82, 105]])"
            ]
          },
          "metadata": {
            "tags": []
          },
          "execution_count": 53
        }
      ]
    },
    {
      "cell_type": "markdown",
      "metadata": {
        "id": "9ci2dl_r7kGD"
      },
      "source": [
        "__2. Inner Product__\n",
        "\n",
        "$X\\cdot Y = [x_{ij}*y_{ij}]$\n",
        "\n",
        "Note, inner product must be applied to the matrices with the __same dimension_!"
      ]
    },
    {
      "cell_type": "code",
      "metadata": {
        "id": "epJVtfR08Eek",
        "colab": {
          "base_uri": "https://localhost:8080/",
          "height": 51
        },
        "outputId": "37b1b575-09a4-4f57-98d7-ad461b11eb31"
      },
      "source": [
        "# please try to run X*Y, and see what is the output. \n",
        "\n",
        "X*Y.T "
      ],
      "execution_count": null,
      "outputs": [
        {
          "output_type": "execute_result",
          "data": {
            "text/plain": [
              "array([[ 7, 18, 33],\n",
              "       [32, 50, 72]])"
            ]
          },
          "metadata": {
            "tags": []
          },
          "execution_count": 55
        }
      ]
    },
    {
      "cell_type": "markdown",
      "metadata": {
        "id": "zTR14SFq9f32"
      },
      "source": [
        "#### Example\n",
        "\n",
        "Suppose we have 4 neurons with initial values [1,2,1,2] and all send their signals to a postsynaptic cell with weights of [0.2, 0.3, 0.5 0.6], the postsynaptic cell receives input I will be:\n",
        "\n",
        "$\\sum(1,2,1,2) \\cdot (0.2,0.3,0.5,0.6) = (1,2,1,2) \n",
        "\\begin{pmatrix}0.2 \\\\ 0.3 \\\\ 0.5 \\\\ 0.6\\end{pmatrix}$"
      ]
    },
    {
      "cell_type": "code",
      "metadata": {
        "id": "qPeOYeyp8ZbH",
        "colab": {
          "base_uri": "https://localhost:8080/",
          "height": 34
        },
        "outputId": "ec585eee-5ebd-4fbd-c42f-8aaec82a51e3"
      },
      "source": [
        "# implementation\n",
        "neurons = np.array([1,2,1,2])\n",
        "weights = np.array([0.2, 0.3, 0.5, 0.6])\n",
        "I = np.sum(neurons*weights)\n",
        "print(I)"
      ],
      "execution_count": null,
      "outputs": [
        {
          "output_type": "stream",
          "text": [
            "2.5\n"
          ],
          "name": "stdout"
        }
      ]
    },
    {
      "cell_type": "code",
      "metadata": {
        "id": "qwN_GrAl-T0E",
        "colab": {
          "base_uri": "https://localhost:8080/",
          "height": 34
        },
        "outputId": "7822cab1-4af7-4653-d2c1-b701a2e7cc56"
      },
      "source": [
        "# alternative implementation using matrix\n",
        "np.inner(weights, neurons)\n"
      ],
      "execution_count": null,
      "outputs": [
        {
          "output_type": "execute_result",
          "data": {
            "text/plain": [
              "2.5"
            ]
          },
          "metadata": {
            "tags": []
          },
          "execution_count": 57
        }
      ]
    },
    {
      "cell_type": "markdown",
      "metadata": {
        "id": "2hJGbnClAB0R"
      },
      "source": [
        "__3. Outer product__\n",
        "\n",
        "please try yourself to see what the output of $neurons^T\\cdot weights$ is. "
      ]
    },
    {
      "cell_type": "code",
      "metadata": {
        "id": "Wh54N0k4Amvv",
        "colab": {
          "base_uri": "https://localhost:8080/",
          "height": 85
        },
        "outputId": "961d5c13-cdc8-4767-a437-31003a55bb5b"
      },
      "source": [
        "# \n",
        "np.outer(weights, neurons)"
      ],
      "execution_count": null,
      "outputs": [
        {
          "output_type": "execute_result",
          "data": {
            "text/plain": [
              "array([[0.2, 0.4, 0.2, 0.4],\n",
              "       [0.3, 0.6, 0.3, 0.6],\n",
              "       [0.5, 1. , 0.5, 1. ],\n",
              "       [0.6, 1.2, 0.6, 1.2]])"
            ]
          },
          "metadata": {
            "tags": []
          },
          "execution_count": 58
        }
      ]
    },
    {
      "cell_type": "code",
      "metadata": {
        "id": "WU-F1fz4HDZT"
      },
      "source": [
        ""
      ],
      "execution_count": null,
      "outputs": []
    },
    {
      "cell_type": "markdown",
      "metadata": {
        "id": "C8rQ9k2D7fcT"
      },
      "source": [
        "## 1. Simple Linear Regression\n",
        "A linear regression is to find a relation between the output $y$ and input $X$ in a linear relationship. In mathematical notation, if $\\hat{y}$ is the predicted value.\n",
        "\n",
        "$$\\hat{y}(w, x) = w_0 + w_1 x_1 + ... + w_p x_p$$\n",
        "\n",
        "where the vector $w = (w_1,..., w_p)$ as ``coef_`` and $w_0$ as ``intercept_``.\n",
        "\n",
        "`LinearRegression` fits a linear model with coefficients\n",
        "$w = (w_0, ..., w_p)$ to minimize the residual sum\n",
        "of squares between the observed targets in the dataset, and the\n",
        "targets predicted by the linear approximation. Mathematically it\n",
        "solves a problem of the form:\n",
        "\n",
        "$$ \\min_{w} || X w - y||_2^2$$\n",
        "\n",
        "![alt text](https://scikit-learn.org/stable/_images/sphx_glr_plot_ols_001.png)\n",
        "\n",
        "\n",
        "### 5 Steps for linear regression\n",
        "\n",
        "1. Import packages\n",
        "2. provide data\n",
        "3. create a regression model and fit it with existing data\n",
        "4. check the results of the model (goodness of fit)\n",
        "5. apply the model for predictions\n",
        "\n"
      ]
    },
    {
      "cell_type": "markdown",
      "metadata": {
        "id": "u_3BXgH2-no9"
      },
      "source": [
        "### Linear Regression with statsmodels\n",
        "\n",
        "`statsmodels` provides more statistics and other statistical models, as well as for conducting statistical tests, and statistical data exploration.\n",
        "\n",
        "`pingouin` alsp provides simple linear regression. "
      ]
    },
    {
      "cell_type": "code",
      "metadata": {
        "id": "mFm_9v6NVxhj"
      },
      "source": [
        "!pip install pingouin"
      ],
      "execution_count": null,
      "outputs": []
    },
    {
      "cell_type": "code",
      "metadata": {
        "id": "DJisCGov_Fg6"
      },
      "source": [
        "import numpy as np\n",
        "import pandas as pd\n",
        "import seaborn as sns\n",
        "import matplotlib.pyplot as plt\n",
        "\n",
        "import statsmodels.api as sm\n",
        "import statsmodels.formula.api as smf\n",
        "import pingouin as pg\n",
        "%matplotlib inline"
      ],
      "execution_count": 27,
      "outputs": []
    },
    {
      "cell_type": "markdown",
      "metadata": {
        "id": "qpQhPfkhWT4z"
      },
      "source": [
        "Let's use this [dataset](https://raw.githubusercontent.com/contactsunny/data-science-examples/master/salaryData.csv), which contains the salary and Experience. Let's explore the data and do linear regression"
      ]
    },
    {
      "cell_type": "code",
      "metadata": {
        "id": "sDxRcTiAWbr3",
        "colab": {
          "base_uri": "https://localhost:8080/",
          "height": 206
        },
        "outputId": "ffffcca2-fd7b-440a-f042-7e8d4f4e46ef"
      },
      "source": [
        "# import csv file using pandas.read_csv\n",
        "dataset = pd.read_csv('https://raw.githubusercontent.com/contactsunny/data-science-examples/master/salaryData.csv')\n",
        "\n",
        "dataset.tail()"
      ],
      "execution_count": 4,
      "outputs": [
        {
          "output_type": "execute_result",
          "data": {
            "text/html": [
              "<div>\n",
              "<style scoped>\n",
              "    .dataframe tbody tr th:only-of-type {\n",
              "        vertical-align: middle;\n",
              "    }\n",
              "\n",
              "    .dataframe tbody tr th {\n",
              "        vertical-align: top;\n",
              "    }\n",
              "\n",
              "    .dataframe thead th {\n",
              "        text-align: right;\n",
              "    }\n",
              "</style>\n",
              "<table border=\"1\" class=\"dataframe\">\n",
              "  <thead>\n",
              "    <tr style=\"text-align: right;\">\n",
              "      <th></th>\n",
              "      <th>YearsExperience</th>\n",
              "      <th>Salary</th>\n",
              "    </tr>\n",
              "  </thead>\n",
              "  <tbody>\n",
              "    <tr>\n",
              "      <th>25</th>\n",
              "      <td>9.0</td>\n",
              "      <td>105582.0</td>\n",
              "    </tr>\n",
              "    <tr>\n",
              "      <th>26</th>\n",
              "      <td>9.5</td>\n",
              "      <td>116969.0</td>\n",
              "    </tr>\n",
              "    <tr>\n",
              "      <th>27</th>\n",
              "      <td>9.6</td>\n",
              "      <td>112635.0</td>\n",
              "    </tr>\n",
              "    <tr>\n",
              "      <th>28</th>\n",
              "      <td>10.3</td>\n",
              "      <td>122391.0</td>\n",
              "    </tr>\n",
              "    <tr>\n",
              "      <th>29</th>\n",
              "      <td>10.5</td>\n",
              "      <td>121872.0</td>\n",
              "    </tr>\n",
              "  </tbody>\n",
              "</table>\n",
              "</div>"
            ],
            "text/plain": [
              "    YearsExperience    Salary\n",
              "25              9.0  105582.0\n",
              "26              9.5  116969.0\n",
              "27              9.6  112635.0\n",
              "28             10.3  122391.0\n",
              "29             10.5  121872.0"
            ]
          },
          "metadata": {},
          "execution_count": 4
        }
      ]
    },
    {
      "cell_type": "code",
      "metadata": {
        "colab": {
          "base_uri": "https://localhost:8080/",
          "height": 387
        },
        "id": "E2L5vej5WoZf",
        "outputId": "e4a5b229-0a8f-47a5-d42c-10bfc349c482"
      },
      "source": [
        "sns.lmplot(data = dataset, x = 'YearsExperience', y = 'Salary')"
      ],
      "execution_count": 12,
      "outputs": [
        {
          "output_type": "execute_result",
          "data": {
            "text/plain": [
              "<seaborn.axisgrid.FacetGrid at 0x7fa643f06cd0>"
            ]
          },
          "metadata": {},
          "execution_count": 12
        },
        {
          "output_type": "display_data",
          "data": {
            "image/png": "[encoded data removed]",
            "text/plain": [
              "<Figure size 360x360 with 1 Axes>"
            ]
          },
          "metadata": {
            "needs_background": "light"
          }
        }
      ]
    },
    {
      "cell_type": "markdown",
      "metadata": {
        "id": "v8VlZS6gCnrp"
      },
      "source": [
        "In `statsmodels`, the linear regression is called 'ordinary least square' (OLS). There are other linear regression models (Generalized least squares, weighted least squares, linear mixed effects models), which we will not cover here. If you are interested in those, please refer to [the official website](https://www.statsmodels.org/dev/examples/index.html#linear-regression-models).\n",
        "\n",
        "There are two ways to do regression:\n",
        "\n",
        "1. Numpy arrays\n",
        "2. Pandas data.frame using formula "
      ]
    },
    {
      "cell_type": "code",
      "metadata": {
        "id": "raW5O1l3AO21",
        "colab": {
          "base_uri": "https://localhost:8080/",
          "height": 451
        },
        "outputId": "a91c1ffa-0bb8-4815-cb42-aae63766f134"
      },
      "source": [
        "# Method 1: Numpy arrays, you need to explicitly specify the column of constant\n",
        "Xc = sm.add_constant(dataset.YearsExperience)\n",
        "# linear model OLS\n",
        "model = sm.OLS(dataset.Salary,Xc).fit()\n",
        "model.summary()"
      ],
      "execution_count": 6,
      "outputs": [
        {
          "output_type": "execute_result",
          "data": {
            "text/html": [
              "<table class=\"simpletable\">\n",
              "<caption>OLS Regression Results</caption>\n",
              "<tr>\n",
              "  <th>Dep. Variable:</th>         <td>Salary</td>      <th>  R-squared:         </th> <td>   0.957</td>\n",
              "</tr>\n",
              "<tr>\n",
              "  <th>Model:</th>                   <td>OLS</td>       <th>  Adj. R-squared:    </th> <td>   0.955</td>\n",
              "</tr>\n",
              "<tr>\n",
              "  <th>Method:</th>             <td>Least Squares</td>  <th>  F-statistic:       </th> <td>   622.5</td>\n",
              "</tr>\n",
              "<tr>\n",
              "  <th>Date:</th>             <td>Tue, 23 Nov 2021</td> <th>  Prob (F-statistic):</th> <td>1.14e-20</td>\n",
              "</tr>\n",
              "<tr>\n",
              "  <th>Time:</th>                 <td>10:35:26</td>     <th>  Log-Likelihood:    </th> <td> -301.44</td>\n",
              "</tr>\n",
              "<tr>\n",
              "  <th>No. Observations:</th>      <td>    30</td>      <th>  AIC:               </th> <td>   606.9</td>\n",
              "</tr>\n",
              "<tr>\n",
              "  <th>Df Residuals:</th>          <td>    28</td>      <th>  BIC:               </th> <td>   609.7</td>\n",
              "</tr>\n",
              "<tr>\n",
              "  <th>Df Model:</th>              <td>     1</td>      <th>                     </th>     <td> </td>   \n",
              "</tr>\n",
              "<tr>\n",
              "  <th>Covariance Type:</th>      <td>nonrobust</td>    <th>                     </th>     <td> </td>   \n",
              "</tr>\n",
              "</table>\n",
              "<table class=\"simpletable\">\n",
              "<tr>\n",
              "         <td></td>            <th>coef</th>     <th>std err</th>      <th>t</th>      <th>P>|t|</th>  <th>[0.025</th>    <th>0.975]</th>  \n",
              "</tr>\n",
              "<tr>\n",
              "  <th>const</th>           <td> 2.579e+04</td> <td> 2273.053</td> <td>   11.347</td> <td> 0.000</td> <td> 2.11e+04</td> <td> 3.04e+04</td>\n",
              "</tr>\n",
              "<tr>\n",
              "  <th>YearsExperience</th> <td> 9449.9623</td> <td>  378.755</td> <td>   24.950</td> <td> 0.000</td> <td> 8674.119</td> <td> 1.02e+04</td>\n",
              "</tr>\n",
              "</table>\n",
              "<table class=\"simpletable\">\n",
              "<tr>\n",
              "  <th>Omnibus:</th>       <td> 2.140</td> <th>  Durbin-Watson:     </th> <td>   1.648</td>\n",
              "</tr>\n",
              "<tr>\n",
              "  <th>Prob(Omnibus):</th> <td> 0.343</td> <th>  Jarque-Bera (JB):  </th> <td>   1.569</td>\n",
              "</tr>\n",
              "<tr>\n",
              "  <th>Skew:</th>          <td> 0.363</td> <th>  Prob(JB):          </th> <td>   0.456</td>\n",
              "</tr>\n",
              "<tr>\n",
              "  <th>Kurtosis:</th>      <td> 2.147</td> <th>  Cond. No.          </th> <td>    13.2</td>\n",
              "</tr>\n",
              "</table><br/><br/>Notes:<br/>[1] Standard Errors assume that the covariance matrix of the errors is correctly specified."
            ],
            "text/plain": [
              "<class 'statsmodels.iolib.summary.Summary'>\n",
              "\"\"\"\n",
              "                            OLS Regression Results                            \n",
              "==============================================================================\n",
              "Dep. Variable:                 Salary   R-squared:                       0.957\n",
              "Model:                            OLS   Adj. R-squared:                  0.955\n",
              "Method:                 Least Squares   F-statistic:                     622.5\n",
              "Date:                Tue, 23 Nov 2021   Prob (F-statistic):           1.14e-20\n",
              "Time:                        10:35:26   Log-Likelihood:                -301.44\n",
              "No. Observations:                  30   AIC:                             606.9\n",
              "Df Residuals:                      28   BIC:                             609.7\n",
              "Df Model:                           1                                         \n",
              "Covariance Type:            nonrobust                                         \n",
              "===================================================================================\n",
              "                      coef    std err          t      P>|t|      [0.025      0.975]\n",
              "-----------------------------------------------------------------------------------\n",
              "const            2.579e+04   2273.053     11.347      0.000    2.11e+04    3.04e+04\n",
              "YearsExperience  9449.9623    378.755     24.950      0.000    8674.119    1.02e+04\n",
              "==============================================================================\n",
              "Omnibus:                        2.140   Durbin-Watson:                   1.648\n",
              "Prob(Omnibus):                  0.343   Jarque-Bera (JB):                1.569\n",
              "Skew:                           0.363   Prob(JB):                        0.456\n",
              "Kurtosis:                       2.147   Cond. No.                         13.2\n",
              "==============================================================================\n",
              "\n",
              "Notes:\n",
              "[1] Standard Errors assume that the covariance matrix of the errors is correctly specified.\n",
              "\"\"\""
            ]
          },
          "metadata": {},
          "execution_count": 6
        }
      ]
    },
    {
      "cell_type": "code",
      "metadata": {
        "colab": {
          "base_uri": "https://localhost:8080/",
          "height": 451
        },
        "id": "Qmm-56OuXtCi",
        "outputId": "8c6459f5-ef04-4b94-ba61-a431a8d6939d"
      },
      "source": [
        "# Method 2: using formula\n",
        "model = smf.ols(formula = 'Salary ~ YearsExperience', data = dataset).fit()\n",
        "model.summary()"
      ],
      "execution_count": 11,
      "outputs": [
        {
          "output_type": "execute_result",
          "data": {
            "text/html": [
              "<table class=\"simpletable\">\n",
              "<caption>OLS Regression Results</caption>\n",
              "<tr>\n",
              "  <th>Dep. Variable:</th>         <td>Salary</td>      <th>  R-squared:         </th> <td>   0.957</td>\n",
              "</tr>\n",
              "<tr>\n",
              "  <th>Model:</th>                   <td>OLS</td>       <th>  Adj. R-squared:    </th> <td>   0.955</td>\n",
              "</tr>\n",
              "<tr>\n",
              "  <th>Method:</th>             <td>Least Squares</td>  <th>  F-statistic:       </th> <td>   622.5</td>\n",
              "</tr>\n",
              "<tr>\n",
              "  <th>Date:</th>             <td>Tue, 23 Nov 2021</td> <th>  Prob (F-statistic):</th> <td>1.14e-20</td>\n",
              "</tr>\n",
              "<tr>\n",
              "  <th>Time:</th>                 <td>10:39:53</td>     <th>  Log-Likelihood:    </th> <td> -301.44</td>\n",
              "</tr>\n",
              "<tr>\n",
              "  <th>No. Observations:</th>      <td>    30</td>      <th>  AIC:               </th> <td>   606.9</td>\n",
              "</tr>\n",
              "<tr>\n",
              "  <th>Df Residuals:</th>          <td>    28</td>      <th>  BIC:               </th> <td>   609.7</td>\n",
              "</tr>\n",
              "<tr>\n",
              "  <th>Df Model:</th>              <td>     1</td>      <th>                     </th>     <td> </td>   \n",
              "</tr>\n",
              "<tr>\n",
              "  <th>Covariance Type:</th>      <td>nonrobust</td>    <th>                     </th>     <td> </td>   \n",
              "</tr>\n",
              "</table>\n",
              "<table class=\"simpletable\">\n",
              "<tr>\n",
              "         <td></td>            <th>coef</th>     <th>std err</th>      <th>t</th>      <th>P>|t|</th>  <th>[0.025</th>    <th>0.975]</th>  \n",
              "</tr>\n",
              "<tr>\n",
              "  <th>Intercept</th>       <td> 2.579e+04</td> <td> 2273.053</td> <td>   11.347</td> <td> 0.000</td> <td> 2.11e+04</td> <td> 3.04e+04</td>\n",
              "</tr>\n",
              "<tr>\n",
              "  <th>YearsExperience</th> <td> 9449.9623</td> <td>  378.755</td> <td>   24.950</td> <td> 0.000</td> <td> 8674.119</td> <td> 1.02e+04</td>\n",
              "</tr>\n",
              "</table>\n",
              "<table class=\"simpletable\">\n",
              "<tr>\n",
              "  <th>Omnibus:</th>       <td> 2.140</td> <th>  Durbin-Watson:     </th> <td>   1.648</td>\n",
              "</tr>\n",
              "<tr>\n",
              "  <th>Prob(Omnibus):</th> <td> 0.343</td> <th>  Jarque-Bera (JB):  </th> <td>   1.569</td>\n",
              "</tr>\n",
              "<tr>\n",
              "  <th>Skew:</th>          <td> 0.363</td> <th>  Prob(JB):          </th> <td>   0.456</td>\n",
              "</tr>\n",
              "<tr>\n",
              "  <th>Kurtosis:</th>      <td> 2.147</td> <th>  Cond. No.          </th> <td>    13.2</td>\n",
              "</tr>\n",
              "</table><br/><br/>Notes:<br/>[1] Standard Errors assume that the covariance matrix of the errors is correctly specified."
            ],
            "text/plain": [
              "<class 'statsmodels.iolib.summary.Summary'>\n",
              "\"\"\"\n",
              "                            OLS Regression Results                            \n",
              "==============================================================================\n",
              "Dep. Variable:                 Salary   R-squared:                       0.957\n",
              "Model:                            OLS   Adj. R-squared:                  0.955\n",
              "Method:                 Least Squares   F-statistic:                     622.5\n",
              "Date:                Tue, 23 Nov 2021   Prob (F-statistic):           1.14e-20\n",
              "Time:                        10:39:53   Log-Likelihood:                -301.44\n",
              "No. Observations:                  30   AIC:                             606.9\n",
              "Df Residuals:                      28   BIC:                             609.7\n",
              "Df Model:                           1                                         \n",
              "Covariance Type:            nonrobust                                         \n",
              "===================================================================================\n",
              "                      coef    std err          t      P>|t|      [0.025      0.975]\n",
              "-----------------------------------------------------------------------------------\n",
              "Intercept        2.579e+04   2273.053     11.347      0.000    2.11e+04    3.04e+04\n",
              "YearsExperience  9449.9623    378.755     24.950      0.000    8674.119    1.02e+04\n",
              "==============================================================================\n",
              "Omnibus:                        2.140   Durbin-Watson:                   1.648\n",
              "Prob(Omnibus):                  0.343   Jarque-Bera (JB):                1.569\n",
              "Skew:                           0.363   Prob(JB):                        0.456\n",
              "Kurtosis:                       2.147   Cond. No.                         13.2\n",
              "==============================================================================\n",
              "\n",
              "Notes:\n",
              "[1] Standard Errors assume that the covariance matrix of the errors is correctly specified.\n",
              "\"\"\""
            ]
          },
          "metadata": {},
          "execution_count": 11
        }
      ]
    },
    {
      "cell_type": "markdown",
      "metadata": {
        "id": "t_zuNTBdYaeo"
      },
      "source": [
        "Both methods give the same results. The latter with formula is easier to understand. Readability is better. "
      ]
    },
    {
      "cell_type": "markdown",
      "metadata": {
        "id": "rN0G5bmyTTQT"
      },
      "source": [
        "## 2. Multivariate linear regression\n",
        "\n",
        "Here we use our recent published multisensory contextual study for an illustration of multivariate regression:\n",
        "\n",
        "* Chen, S., Shi, Z., Müller, H. J., & Geyer, T. (2021). Multisensory visuo-tactile context learning enhances the guidance of unisensory visual search. Scientific Reports, 11(1), 9439. https://doi.org/10.1038/s41598-021-88946-6 \n",
        "\n",
        "In this study, we comapred multisensory learning in different configurations (Old vs. New) and different multisensory environments. The original study used hierarchical drift-diffusion model (HDDM) and partial pooling methods to estimated HDDM parameters, which is a bit more complex than we do here. \n",
        "\n",
        "Here we only illustrate that we can also estimate behavioral data using simple linear regression to interpret the findings. "
      ]
    },
    {
      "cell_type": "code",
      "metadata": {
        "colab": {
          "base_uri": "https://localhost:8080/",
          "height": 491
        },
        "id": "aNHo6hISh7qL",
        "outputId": "627d1757-5d27-459d-c0c7-440717819646"
      },
      "source": [
        "# first load data and visualize it. \n",
        "data = pd.read_csv('https://osf.io/58wqy/download')\n",
        "mdata = data.groupby(['subj_idx','condition','epoch']).rt.mean().reset_index()\n",
        "print(mdata.head())\n",
        "sns.catplot(data = mdata, kind = 'point', \n",
        "                    x = 'epoch', y = 'rt', hue = 'condition')\n"
      ],
      "execution_count": 32,
      "outputs": [
        {
          "output_type": "stream",
          "name": "stdout",
          "text": [
            "   subj_idx condition  epoch        rt\n",
            "0         1   v_v_new      1  1.517301\n",
            "1         1   v_v_new      2  0.920525\n",
            "2         1   v_v_new      3  0.864780\n",
            "3         1   v_v_new      4  1.048344\n",
            "4         1   v_v_new      5  0.911363\n"
          ]
        },
        {
          "output_type": "execute_result",
          "data": {
            "text/plain": [
              "<seaborn.axisgrid.FacetGrid at 0x7fea454ceed0>"
            ]
          },
          "metadata": {},
          "execution_count": 32
        },
        {
          "output_type": "display_data",
          "data": {
            "image/png": "[encoded data removed]",
            "text/plain": [
              "<Figure size 446.125x360 with 1 Axes>"
            ]
          },
          "metadata": {
            "needs_background": "light"
          }
        }
      ]
    },
    {
      "cell_type": "markdown",
      "metadata": {
        "id": "pkOzaVgbb7oW"
      },
      "source": [
        "The above figure shows the typical procedual learning effect. Intially the reaction was slow, and gradually became faster and reach some platue. In the original paper, we use exponential function to capture this $RT = RT_0 + \\Delta e^{-\\alpha N} $, where $N$ is the epoch number. \n",
        "\n",
        " "
      ]
    },
    {
      "cell_type": "markdown",
      "metadata": {
        "id": "dj5wFjkNOpR7"
      },
      "source": [
        "For simplicity, here we log-tranform the epoch, and see if we can get a linear relationship. The idea behind this is that the learning benefits reduces as the number of epochs increases. Thus, to get the same ammount of reduction in RT, you need more epochs (number of blocks). "
      ]
    },
    {
      "cell_type": "code",
      "metadata": {
        "colab": {
          "base_uri": "https://localhost:8080/",
          "height": 279
        },
        "id": "2EIkGzi7KLfc",
        "outputId": "255bec0a-4f73-49cd-90f4-702ebfc7d7ee"
      },
      "source": [
        "#if we plot in log-scale for x-axis\n",
        "mdata['lepoch']  = np.log(mdata.epoch)\n",
        "mm = mdata.groupby(['lepoch','condition']).rt.mean().reset_index()\n",
        "f = sns.lineplot(data = mm, \n",
        "                    x = 'lepoch', y = 'rt', hue = 'condition')\n",
        "plt.show()\n"
      ],
      "execution_count": 41,
      "outputs": [
        {
          "output_type": "display_data",
          "data": {
            "image/png": "[encoded data removed]",
            "text/plain": [
              "<Figure size 432x288 with 1 Axes>"
            ]
          },
          "metadata": {
            "needs_background": "light"
          }
        }
      ]
    },
    {
      "cell_type": "markdown",
      "metadata": {
        "id": "C9HBLHUYPMV_"
      },
      "source": [
        "For the illustration purpose, we only focus on the visual-tactile conditons. "
      ]
    },
    {
      "cell_type": "code",
      "metadata": {
        "colab": {
          "base_uri": "https://localhost:8080/",
          "height": 387
        },
        "id": "IQSzimWSilr_",
        "outputId": "8a1fb0e2-39b9-40e1-9326-d3765bfdf45a"
      },
      "source": [
        "vt = mdata.query('condition == \"vt_vt_new\" | condition == \"vt_vt_old\"')\n",
        "# visualize\n",
        "sns.lmplot(data = vt, x = 'lepoch', y = 'rt', hue = 'condition')"
      ],
      "execution_count": 42,
      "outputs": [
        {
          "output_type": "execute_result",
          "data": {
            "text/plain": [
              "<seaborn.axisgrid.FacetGrid at 0x7fea4044d0d0>"
            ]
          },
          "metadata": {},
          "execution_count": 42
        },
        {
          "output_type": "display_data",
          "data": {
            "image/png": "[encoded data removed]",
            "text/plain": [
              "<Figure size 446.125x360 with 1 Axes>"
            ]
          },
          "metadata": {
            "needs_background": "light"
          }
        }
      ]
    },
    {
      "cell_type": "markdown",
      "metadata": {
        "id": "XWIuRhPkPfsj"
      },
      "source": [
        "Using the scatter plot, we see there were huge individual differences. "
      ]
    },
    {
      "cell_type": "markdown",
      "metadata": {
        "id": "waO-SzASDsys"
      },
      "source": [
        "To model the both conditions, we should first assume what kind of linear models would be. \n",
        "\n",
        "* One could assume that the 'old' vs. 'new' did not differ in the learning rate, but differ in the intercept. \n",
        "* one could assume there was interaction between the context (old/new) and procedual learning (epochs). \n",
        "\n",
        "The first hypothesis would be:\n",
        "\n",
        "$$RT = a_0 + a_{d} + b \\cdot ln(Epoch), $$\n",
        "where $a_d$ is the difference between the old and new. \n",
        "\n",
        "The second hypothesis would be:\n",
        "\n",
        "$$RT = a_0 + a_{d} + (b_0+b_d) \\cdot ln(Epoch), $$\n",
        "where $b_d$ is the difference in the slope between two conditions. \n",
        "\n",
        "### Syntax of R-Type formula. \n",
        "\n",
        "A formulas is an unevaluated expression, which denotes the relationships between the independent variables and dependent variables. The relationship uses the symbol `~`. On the left side is the dependent variable, while on the right side is the independent variables. For example,\n",
        "\n",
        "` y ~ x` is the simple linear regression. \n",
        "\n",
        "If you have two independent variables, and they are independent with each other, you use `+` symbol.\n",
        "\n",
        "`y ~ x + z`\n",
        "\n",
        "When you want to include their interaction (using `:` symbol), the formula would be:\n",
        "\n",
        "`y ~ x + z + x:z`\n",
        "\n",
        "For simplicity, the above formula can be simplified as \n",
        "\n",
        "` y ~ x*z` (i.e., including main factors and their interactions). \n",
        "\n"
      ]
    },
    {
      "cell_type": "code",
      "metadata": {
        "colab": {
          "base_uri": "https://localhost:8080/",
          "height": 494
        },
        "id": "aTu_bZXzlxVW",
        "outputId": "10a784a1-6562-4bd2-c191-de480e0ad303"
      },
      "source": [
        "# apply linear regression (assumption with interactions)\n",
        "model1 = smf.ols(formula = 'rt ~ lepoch*condition', data = vt).fit()\n",
        "model1.summary()"
      ],
      "execution_count": 43,
      "outputs": [
        {
          "output_type": "execute_result",
          "data": {
            "text/html": [
              "<table class=\"simpletable\">\n",
              "<caption>OLS Regression Results</caption>\n",
              "<tr>\n",
              "  <th>Dep. Variable:</th>           <td>rt</td>        <th>  R-squared:         </th> <td>   0.312</td>\n",
              "</tr>\n",
              "<tr>\n",
              "  <th>Model:</th>                   <td>OLS</td>       <th>  Adj. R-squared:    </th> <td>   0.303</td>\n",
              "</tr>\n",
              "<tr>\n",
              "  <th>Method:</th>             <td>Least Squares</td>  <th>  F-statistic:       </th> <td>   33.33</td>\n",
              "</tr>\n",
              "<tr>\n",
              "  <th>Date:</th>             <td>Tue, 23 Nov 2021</td> <th>  Prob (F-statistic):</th> <td>8.45e-18</td>\n",
              "</tr>\n",
              "<tr>\n",
              "  <th>Time:</th>                 <td>19:21:43</td>     <th>  Log-Likelihood:    </th> <td>  49.384</td>\n",
              "</tr>\n",
              "<tr>\n",
              "  <th>No. Observations:</th>      <td>   224</td>      <th>  AIC:               </th> <td>  -90.77</td>\n",
              "</tr>\n",
              "<tr>\n",
              "  <th>Df Residuals:</th>          <td>   220</td>      <th>  BIC:               </th> <td>  -77.12</td>\n",
              "</tr>\n",
              "<tr>\n",
              "  <th>Df Model:</th>              <td>     3</td>      <th>                     </th>     <td> </td>   \n",
              "</tr>\n",
              "<tr>\n",
              "  <th>Covariance Type:</th>      <td>nonrobust</td>    <th>                     </th>     <td> </td>   \n",
              "</tr>\n",
              "</table>\n",
              "<table class=\"simpletable\">\n",
              "<tr>\n",
              "                <td></td>                   <th>coef</th>     <th>std err</th>      <th>t</th>      <th>P>|t|</th>  <th>[0.025</th>    <th>0.975]</th>  \n",
              "</tr>\n",
              "<tr>\n",
              "  <th>Intercept</th>                     <td>    1.2535</td> <td>    0.042</td> <td>   30.115</td> <td> 0.000</td> <td>    1.171</td> <td>    1.336</td>\n",
              "</tr>\n",
              "<tr>\n",
              "  <th>condition[T.vt_vt_old]</th>        <td>   -0.0460</td> <td>    0.059</td> <td>   -0.781</td> <td> 0.436</td> <td>   -0.162</td> <td>    0.070</td>\n",
              "</tr>\n",
              "<tr>\n",
              "  <th>lepoch</th>                        <td>   -0.1507</td> <td>    0.028</td> <td>   -5.358</td> <td> 0.000</td> <td>   -0.206</td> <td>   -0.095</td>\n",
              "</tr>\n",
              "<tr>\n",
              "  <th>lepoch:condition[T.vt_vt_old]</th> <td>   -0.0521</td> <td>    0.040</td> <td>   -1.309</td> <td> 0.192</td> <td>   -0.130</td> <td>    0.026</td>\n",
              "</tr>\n",
              "</table>\n",
              "<table class=\"simpletable\">\n",
              "<tr>\n",
              "  <th>Omnibus:</th>       <td> 0.767</td> <th>  Durbin-Watson:     </th> <td>   0.930</td>\n",
              "</tr>\n",
              "<tr>\n",
              "  <th>Prob(Omnibus):</th> <td> 0.681</td> <th>  Jarque-Bera (JB):  </th> <td>   0.555</td>\n",
              "</tr>\n",
              "<tr>\n",
              "  <th>Skew:</th>          <td> 0.112</td> <th>  Prob(JB):          </th> <td>   0.758</td>\n",
              "</tr>\n",
              "<tr>\n",
              "  <th>Kurtosis:</th>      <td> 3.096</td> <th>  Cond. No.          </th> <td>    12.1</td>\n",
              "</tr>\n",
              "</table><br/><br/>Warnings:<br/>[1] Standard Errors assume that the covariance matrix of the errors is correctly specified."
            ],
            "text/plain": [
              "<class 'statsmodels.iolib.summary.Summary'>\n",
              "\"\"\"\n",
              "                            OLS Regression Results                            \n",
              "==============================================================================\n",
              "Dep. Variable:                     rt   R-squared:                       0.312\n",
              "Model:                            OLS   Adj. R-squared:                  0.303\n",
              "Method:                 Least Squares   F-statistic:                     33.33\n",
              "Date:                Tue, 23 Nov 2021   Prob (F-statistic):           8.45e-18\n",
              "Time:                        19:21:43   Log-Likelihood:                 49.384\n",
              "No. Observations:                 224   AIC:                            -90.77\n",
              "Df Residuals:                     220   BIC:                            -77.12\n",
              "Df Model:                           3                                         \n",
              "Covariance Type:            nonrobust                                         \n",
              "=================================================================================================\n",
              "                                    coef    std err          t      P>|t|      [0.025      0.975]\n",
              "-------------------------------------------------------------------------------------------------\n",
              "Intercept                         1.2535      0.042     30.115      0.000       1.171       1.336\n",
              "condition[T.vt_vt_old]           -0.0460      0.059     -0.781      0.436      -0.162       0.070\n",
              "lepoch                           -0.1507      0.028     -5.358      0.000      -0.206      -0.095\n",
              "lepoch:condition[T.vt_vt_old]    -0.0521      0.040     -1.309      0.192      -0.130       0.026\n",
              "==============================================================================\n",
              "Omnibus:                        0.767   Durbin-Watson:                   0.930\n",
              "Prob(Omnibus):                  0.681   Jarque-Bera (JB):                0.555\n",
              "Skew:                           0.112   Prob(JB):                        0.758\n",
              "Kurtosis:                       3.096   Cond. No.                         12.1\n",
              "==============================================================================\n",
              "\n",
              "Warnings:\n",
              "[1] Standard Errors assume that the covariance matrix of the errors is correctly specified.\n",
              "\"\"\""
            ]
          },
          "metadata": {},
          "execution_count": 43
        }
      ]
    },
    {
      "cell_type": "markdown",
      "metadata": {
        "id": "kuE9N_8FgmNE"
      },
      "source": [
        "Note, in the above regression, we have categorical variable `condition` (Old and New). In the linear regression, the categorical variable will first be translated into dummy variable(s). Here:\n",
        "\n",
        "$$RT = a_0 + a_{old} + (b_0 + b_{old})\\cdot ln(\\text{Epoch})$$\n",
        "\n",
        "That is, it assumes the new and old have different intercepts and slopes. The 'new' condition has $a_0$ and $b_0$, while the 'old' has $a_0 + a_{old}$ and $b_0 + b_{old}$. \n",
        "\n"
      ]
    },
    {
      "cell_type": "markdown",
      "metadata": {
        "id": "h6KWB8YPhpWp"
      },
      "source": [
        "The above regression shows that there were significant negative slope and positive slope, but the differences between the old and new condition, indicated by the $a_{old}, b_{old}$, was not significance. \n",
        "\n",
        "**Why? and possible reasons?**\n",
        "\n",
        "\n",
        "Alternative model: No interaction. "
      ]
    },
    {
      "cell_type": "code",
      "metadata": {
        "colab": {
          "base_uri": "https://localhost:8080/",
          "height": 473
        },
        "id": "bf-YcyaTHnMt",
        "outputId": "d94647cc-d035-4c55-f389-14274b057907"
      },
      "source": [
        "# alternative model: no interaction (i.e., the slope were the same)\n",
        "model2 = smf.ols(formula = 'rt ~ lepoch + condition', data = vt).fit()\n",
        "model2.summary()"
      ],
      "execution_count": 44,
      "outputs": [
        {
          "output_type": "execute_result",
          "data": {
            "text/html": [
              "<table class=\"simpletable\">\n",
              "<caption>OLS Regression Results</caption>\n",
              "<tr>\n",
              "  <th>Dep. Variable:</th>           <td>rt</td>        <th>  R-squared:         </th> <td>   0.307</td>\n",
              "</tr>\n",
              "<tr>\n",
              "  <th>Model:</th>                   <td>OLS</td>       <th>  Adj. R-squared:    </th> <td>   0.301</td>\n",
              "</tr>\n",
              "<tr>\n",
              "  <th>Method:</th>             <td>Least Squares</td>  <th>  F-statistic:       </th> <td>   48.98</td>\n",
              "</tr>\n",
              "<tr>\n",
              "  <th>Date:</th>             <td>Tue, 23 Nov 2021</td> <th>  Prob (F-statistic):</th> <td>2.47e-18</td>\n",
              "</tr>\n",
              "<tr>\n",
              "  <th>Time:</th>                 <td>19:23:53</td>     <th>  Log-Likelihood:    </th> <td>  48.514</td>\n",
              "</tr>\n",
              "<tr>\n",
              "  <th>No. Observations:</th>      <td>   224</td>      <th>  AIC:               </th> <td>  -91.03</td>\n",
              "</tr>\n",
              "<tr>\n",
              "  <th>Df Residuals:</th>          <td>   221</td>      <th>  BIC:               </th> <td>  -80.79</td>\n",
              "</tr>\n",
              "<tr>\n",
              "  <th>Df Model:</th>              <td>     2</td>      <th>                     </th>     <td> </td>   \n",
              "</tr>\n",
              "<tr>\n",
              "  <th>Covariance Type:</th>      <td>nonrobust</td>    <th>                     </th>     <td> </td>   \n",
              "</tr>\n",
              "</table>\n",
              "<table class=\"simpletable\">\n",
              "<tr>\n",
              "             <td></td>               <th>coef</th>     <th>std err</th>      <th>t</th>      <th>P>|t|</th>  <th>[0.025</th>    <th>0.975]</th>  \n",
              "</tr>\n",
              "<tr>\n",
              "  <th>Intercept</th>              <td>    1.2880</td> <td>    0.032</td> <td>   39.923</td> <td> 0.000</td> <td>    1.224</td> <td>    1.352</td>\n",
              "</tr>\n",
              "<tr>\n",
              "  <th>condition[T.vt_vt_old]</th> <td>   -0.1150</td> <td>    0.026</td> <td>   -4.388</td> <td> 0.000</td> <td>   -0.167</td> <td>   -0.063</td>\n",
              "</tr>\n",
              "<tr>\n",
              "  <th>lepoch</th>                 <td>   -0.1767</td> <td>    0.020</td> <td>   -8.872</td> <td> 0.000</td> <td>   -0.216</td> <td>   -0.137</td>\n",
              "</tr>\n",
              "</table>\n",
              "<table class=\"simpletable\">\n",
              "<tr>\n",
              "  <th>Omnibus:</th>       <td> 1.055</td> <th>  Durbin-Watson:     </th> <td>   0.935</td>\n",
              "</tr>\n",
              "<tr>\n",
              "  <th>Prob(Omnibus):</th> <td> 0.590</td> <th>  Jarque-Bera (JB):  </th> <td>   0.828</td>\n",
              "</tr>\n",
              "<tr>\n",
              "  <th>Skew:</th>          <td> 0.141</td> <th>  Prob(JB):          </th> <td>   0.661</td>\n",
              "</tr>\n",
              "<tr>\n",
              "  <th>Kurtosis:</th>      <td> 3.097</td> <th>  Cond. No.          </th> <td>    5.28</td>\n",
              "</tr>\n",
              "</table><br/><br/>Warnings:<br/>[1] Standard Errors assume that the covariance matrix of the errors is correctly specified."
            ],
            "text/plain": [
              "<class 'statsmodels.iolib.summary.Summary'>\n",
              "\"\"\"\n",
              "                            OLS Regression Results                            \n",
              "==============================================================================\n",
              "Dep. Variable:                     rt   R-squared:                       0.307\n",
              "Model:                            OLS   Adj. R-squared:                  0.301\n",
              "Method:                 Least Squares   F-statistic:                     48.98\n",
              "Date:                Tue, 23 Nov 2021   Prob (F-statistic):           2.47e-18\n",
              "Time:                        19:23:53   Log-Likelihood:                 48.514\n",
              "No. Observations:                 224   AIC:                            -91.03\n",
              "Df Residuals:                     221   BIC:                            -80.79\n",
              "Df Model:                           2                                         \n",
              "Covariance Type:            nonrobust                                         \n",
              "==========================================================================================\n",
              "                             coef    std err          t      P>|t|      [0.025      0.975]\n",
              "------------------------------------------------------------------------------------------\n",
              "Intercept                  1.2880      0.032     39.923      0.000       1.224       1.352\n",
              "condition[T.vt_vt_old]    -0.1150      0.026     -4.388      0.000      -0.167      -0.063\n",
              "lepoch                    -0.1767      0.020     -8.872      0.000      -0.216      -0.137\n",
              "==============================================================================\n",
              "Omnibus:                        1.055   Durbin-Watson:                   0.935\n",
              "Prob(Omnibus):                  0.590   Jarque-Bera (JB):                0.828\n",
              "Skew:                           0.141   Prob(JB):                        0.661\n",
              "Kurtosis:                       3.097   Cond. No.                         5.28\n",
              "==============================================================================\n",
              "\n",
              "Warnings:\n",
              "[1] Standard Errors assume that the covariance matrix of the errors is correctly specified.\n",
              "\"\"\""
            ]
          },
          "metadata": {},
          "execution_count": 44
        }
      ]
    },
    {
      "cell_type": "markdown",
      "metadata": {
        "id": "x9xQeHP4Hzbg"
      },
      "source": [
        "Here we see the difference in the intercept between the old and new conditions were highly significant! The old condition had 115 ms less in the intercept (i.e., 115 ms faster in general). "
      ]
    },
    {
      "cell_type": "code",
      "metadata": {
        "colab": {
          "base_uri": "https://localhost:8080/",
          "height": 473
        },
        "id": "CGvmj-rcHy0T",
        "outputId": "f893e3de-e30d-4ddc-fec6-643a0064b384"
      },
      "source": [
        "#  model 3: with an interaction, but did not differ in intercept\n",
        "model3 = smf.ols(formula = 'rt ~ lepoch + lepoch:condition', data = vt).fit()\n",
        "model3.summary()"
      ],
      "execution_count": 45,
      "outputs": [
        {
          "output_type": "execute_result",
          "data": {
            "text/html": [
              "<table class=\"simpletable\">\n",
              "<caption>OLS Regression Results</caption>\n",
              "<tr>\n",
              "  <th>Dep. Variable:</th>           <td>rt</td>        <th>  R-squared:         </th> <td>   0.311</td>\n",
              "</tr>\n",
              "<tr>\n",
              "  <th>Model:</th>                   <td>OLS</td>       <th>  Adj. R-squared:    </th> <td>   0.304</td>\n",
              "</tr>\n",
              "<tr>\n",
              "  <th>Method:</th>             <td>Least Squares</td>  <th>  F-statistic:       </th> <td>   49.78</td>\n",
              "</tr>\n",
              "<tr>\n",
              "  <th>Date:</th>             <td>Tue, 23 Nov 2021</td> <th>  Prob (F-statistic):</th> <td>1.42e-18</td>\n",
              "</tr>\n",
              "<tr>\n",
              "  <th>Time:</th>                 <td>19:26:16</td>     <th>  Log-Likelihood:    </th> <td>  49.074</td>\n",
              "</tr>\n",
              "<tr>\n",
              "  <th>No. Observations:</th>      <td>   224</td>      <th>  AIC:               </th> <td>  -92.15</td>\n",
              "</tr>\n",
              "<tr>\n",
              "  <th>Df Residuals:</th>          <td>   221</td>      <th>  BIC:               </th> <td>  -81.91</td>\n",
              "</tr>\n",
              "<tr>\n",
              "  <th>Df Model:</th>              <td>     2</td>      <th>                     </th>     <td> </td>   \n",
              "</tr>\n",
              "<tr>\n",
              "  <th>Covariance Type:</th>      <td>nonrobust</td>    <th>                     </th>     <td> </td>   \n",
              "</tr>\n",
              "</table>\n",
              "<table class=\"simpletable\">\n",
              "<tr>\n",
              "                <td></td>                   <th>coef</th>     <th>std err</th>      <th>t</th>      <th>P>|t|</th>  <th>[0.025</th>    <th>0.975]</th>  \n",
              "</tr>\n",
              "<tr>\n",
              "  <th>Intercept</th>                     <td>    1.2305</td> <td>    0.029</td> <td>   41.845</td> <td> 0.000</td> <td>    1.173</td> <td>    1.288</td>\n",
              "</tr>\n",
              "<tr>\n",
              "  <th>lepoch</th>                        <td>   -0.1368</td> <td>    0.022</td> <td>   -6.290</td> <td> 0.000</td> <td>   -0.180</td> <td>   -0.094</td>\n",
              "</tr>\n",
              "<tr>\n",
              "  <th>lepoch:condition[T.vt_vt_old]</th> <td>   -0.0799</td> <td>    0.018</td> <td>   -4.523</td> <td> 0.000</td> <td>   -0.115</td> <td>   -0.045</td>\n",
              "</tr>\n",
              "</table>\n",
              "<table class=\"simpletable\">\n",
              "<tr>\n",
              "  <th>Omnibus:</th>       <td> 0.656</td> <th>  Durbin-Watson:     </th> <td>   0.920</td>\n",
              "</tr>\n",
              "<tr>\n",
              "  <th>Prob(Omnibus):</th> <td> 0.720</td> <th>  Jarque-Bera (JB):  </th> <td>   0.458</td>\n",
              "</tr>\n",
              "<tr>\n",
              "  <th>Skew:</th>          <td> 0.102</td> <th>  Prob(JB):          </th> <td>   0.795</td>\n",
              "</tr>\n",
              "<tr>\n",
              "  <th>Kurtosis:</th>      <td> 3.088</td> <th>  Cond. No.          </th> <td>    5.16</td>\n",
              "</tr>\n",
              "</table><br/><br/>Warnings:<br/>[1] Standard Errors assume that the covariance matrix of the errors is correctly specified."
            ],
            "text/plain": [
              "<class 'statsmodels.iolib.summary.Summary'>\n",
              "\"\"\"\n",
              "                            OLS Regression Results                            \n",
              "==============================================================================\n",
              "Dep. Variable:                     rt   R-squared:                       0.311\n",
              "Model:                            OLS   Adj. R-squared:                  0.304\n",
              "Method:                 Least Squares   F-statistic:                     49.78\n",
              "Date:                Tue, 23 Nov 2021   Prob (F-statistic):           1.42e-18\n",
              "Time:                        19:26:16   Log-Likelihood:                 49.074\n",
              "No. Observations:                 224   AIC:                            -92.15\n",
              "Df Residuals:                     221   BIC:                            -81.91\n",
              "Df Model:                           2                                         \n",
              "Covariance Type:            nonrobust                                         \n",
              "=================================================================================================\n",
              "                                    coef    std err          t      P>|t|      [0.025      0.975]\n",
              "-------------------------------------------------------------------------------------------------\n",
              "Intercept                         1.2305      0.029     41.845      0.000       1.173       1.288\n",
              "lepoch                           -0.1368      0.022     -6.290      0.000      -0.180      -0.094\n",
              "lepoch:condition[T.vt_vt_old]    -0.0799      0.018     -4.523      0.000      -0.115      -0.045\n",
              "==============================================================================\n",
              "Omnibus:                        0.656   Durbin-Watson:                   0.920\n",
              "Prob(Omnibus):                  0.720   Jarque-Bera (JB):                0.458\n",
              "Skew:                           0.102   Prob(JB):                        0.795\n",
              "Kurtosis:                       3.088   Cond. No.                         5.16\n",
              "==============================================================================\n",
              "\n",
              "Warnings:\n",
              "[1] Standard Errors assume that the covariance matrix of the errors is correctly specified.\n",
              "\"\"\""
            ]
          },
          "metadata": {},
          "execution_count": 45
        }
      ]
    },
    {
      "cell_type": "markdown",
      "metadata": {
        "id": "rpGKK34UQ9pw"
      },
      "source": [
        "The above model 3 also showed that if we assumed the slope was different for the old and new conditions, we also obtained significance!\n",
        "\n",
        "The question arises: __which model is the best model?__\n",
        "\n",
        "In the output of model summary, you can find one key parameter `Adjusted R-squared`. The adjusted R-squared compares the explanatory power of regression models that contain different numbers of predictors. In other words, compared to the unadjusted R-squared, there is penalty in adding more predictors (variables). \n",
        "\n",
        "The adjusted R-squared are relative close. Model 3 was the best among three candidates. \n",
        "\n",
        "One issue we haven't addressed in the above example is that the experimental design was within-subject design, but the simple linear regression simply pooled all data together! The individual difference may weaken the statistical inference. We address this in the next section using \"Linear mixed model\". "
      ]
    },
    {
      "cell_type": "markdown",
      "metadata": {
        "id": "-xmEP5LsiDE3"
      },
      "source": [
        "## 3. Linear Mixed model\n",
        "\n",
        "In the standard linear regression, all data points are treated as independent. However, in most behavioral studies, we have within-subject design, which help us to disassoicate the individual difference from the main manipulation. \n",
        "\n",
        "The linear mixed model includes unique effects for individual subjects, which can extract those individual difference from the parameters estimates. \n"
      ]
    },
    {
      "cell_type": "markdown",
      "metadata": {
        "id": "n-IdUQKnj0bt"
      },
      "source": [
        "Consider a simple regression,\n",
        "\n",
        "$$Y = a + b X + \\epsilon$$\n",
        "\n",
        "If we assume the intercept may varY among participants, but individual differences may cancel out each other in the group-level intercept, we have the following mixed model:\n",
        "\n",
        "$$ Y = a + a_{ind} + bX  + \\epsilon,$$\n",
        "\n",
        "where $a_{ind} \\sim N(0, \\sigma_a)$. \n",
        "\n",
        "If we further assume that individuals have different slopes as well, we will have\n",
        "\n",
        "$$Y = a + a_{ind} + (b + b_{ind})X  + \\epsilon,$$\n",
        "where  $b_{ind} \\sim N(0, \\sigma_b)$."
      ]
    },
    {
      "cell_type": "code",
      "metadata": {
        "colab": {
          "base_uri": "https://localhost:8080/",
          "height": 256
        },
        "id": "UW_3We-Qn-a6",
        "outputId": "ec355d14-62be-44a9-f281-46d6c4956de2"
      },
      "source": [
        "# mixed model: Intercept difference\n",
        "mix1 = smf.mixedlm('rt ~ lepoch + condition', data = vt, groups = vt.subj_idx)\n",
        "res1 = mix1.fit()\n",
        "res1.summary()"
      ],
      "execution_count": 60,
      "outputs": [
        {
          "output_type": "execute_result",
          "data": {
            "text/html": [
              "<table class=\"simpletable\">\n",
              "<tr>\n",
              "       <td>Model:</td>       <td>MixedLM</td> <td>Dependent Variable:</td>   <td>rt</td>   \n",
              "</tr>\n",
              "<tr>\n",
              "  <td>No. Observations:</td>   <td>224</td>         <td>Method:</td>        <td>REML</td>  \n",
              "</tr>\n",
              "<tr>\n",
              "     <td>No. Groups:</td>      <td>14</td>          <td>Scale:</td>        <td>0.0194</td> \n",
              "</tr>\n",
              "<tr>\n",
              "  <td>Min. group size:</td>    <td>16</td>        <td>Likelihood:</td>     <td>96.1444</td>\n",
              "</tr>\n",
              "<tr>\n",
              "  <td>Max. group size:</td>    <td>16</td>        <td>Converged:</td>        <td>Yes</td>  \n",
              "</tr>\n",
              "<tr>\n",
              "  <td>Mean group size:</td>   <td>16.0</td>            <td></td>              <td></td>    \n",
              "</tr>\n",
              "</table>\n",
              "<table class=\"simpletable\">\n",
              "<tr>\n",
              "             <td></td>             <th>Coef.</th> <th>Std.Err.</th>    <th>z</th>    <th>P>|z|</th> <th>[0.025</th> <th>0.975]</th>\n",
              "</tr>\n",
              "<tr>\n",
              "  <th>Intercept</th>               <td>1.288</td>   <td>0.044</td>  <td>29.014</td>  <td>0.000</td>  <td>1.201</td>  <td>1.375</td>\n",
              "</tr>\n",
              "<tr>\n",
              "  <th>condition[T.vt_vt_old]</th> <td>-0.115</td>   <td>0.019</td>  <td>-6.172</td>  <td>0.000</td> <td>-0.152</td> <td>-0.078</td>\n",
              "</tr>\n",
              "<tr>\n",
              "  <th>lepoch</th>                 <td>-0.177</td>   <td>0.014</td>  <td>-12.481</td> <td>0.000</td> <td>-0.204</td> <td>-0.149</td>\n",
              "</tr>\n",
              "<tr>\n",
              "  <th>Group Var</th>               <td>0.020</td>   <td>0.062</td>     <td></td>       <td></td>       <td></td>       <td></td>   \n",
              "</tr>\n",
              "</table>"
            ],
            "text/plain": [
              "<class 'statsmodels.iolib.summary2.Summary'>\n",
              "\"\"\"\n",
              "              Mixed Linear Model Regression Results\n",
              "==================================================================\n",
              "Model:                 MixedLM     Dependent Variable:     rt     \n",
              "No. Observations:      224         Method:                 REML   \n",
              "No. Groups:            14          Scale:                  0.0194 \n",
              "Min. group size:       16          Likelihood:             96.1444\n",
              "Max. group size:       16          Converged:              Yes    \n",
              "Mean group size:       16.0                                       \n",
              "------------------------------------------------------------------\n",
              "                       Coef.  Std.Err.    z    P>|z| [0.025 0.975]\n",
              "------------------------------------------------------------------\n",
              "Intercept               1.288    0.044  29.014 0.000  1.201  1.375\n",
              "condition[T.vt_vt_old] -0.115    0.019  -6.172 0.000 -0.152 -0.078\n",
              "lepoch                 -0.177    0.014 -12.481 0.000 -0.204 -0.149\n",
              "Group Var               0.020    0.062                            \n",
              "==================================================================\n",
              "\n",
              "\"\"\""
            ]
          },
          "metadata": {},
          "execution_count": 60
        }
      ]
    },
    {
      "cell_type": "code",
      "metadata": {
        "colab": {
          "base_uri": "https://localhost:8080/",
          "height": 375
        },
        "id": "LSwFr75sol5P",
        "outputId": "c4929b09-3e0a-44ad-e3d2-7da40bb0625d"
      },
      "source": [
        "# mixed model with 2 random effects\n",
        "mix2 = smf.mixedlm(\"rt ~ lepoch* condition\", data = vt, groups = vt.subj_idx, re_formula='~lepoch')\n",
        "res2 = mix2.fit()\n",
        "res2.summary()"
      ],
      "execution_count": 58,
      "outputs": [
        {
          "output_type": "stream",
          "name": "stderr",
          "text": [
            "/usr/local/lib/python3.7/dist-packages/statsmodels/regression/mixed_linear_model.py:2094: ConvergenceWarning: The MLE may be on the boundary of the parameter space.\n",
            "  log-likelihood, including the fixed effects\n"
          ]
        },
        {
          "output_type": "execute_result",
          "data": {
            "text/html": [
              "<table class=\"simpletable\">\n",
              "<tr>\n",
              "       <td>Model:</td>       <td>MixedLM</td> <td>Dependent Variable:</td>    <td>rt</td>   \n",
              "</tr>\n",
              "<tr>\n",
              "  <td>No. Observations:</td>   <td>224</td>         <td>Method:</td>         <td>REML</td>  \n",
              "</tr>\n",
              "<tr>\n",
              "     <td>No. Groups:</td>      <td>14</td>          <td>Scale:</td>         <td>0.0167</td> \n",
              "</tr>\n",
              "<tr>\n",
              "  <td>Min. group size:</td>    <td>16</td>        <td>Likelihood:</td>     <td>101.9885</td>\n",
              "</tr>\n",
              "<tr>\n",
              "  <td>Max. group size:</td>    <td>16</td>        <td>Converged:</td>         <td>Yes</td>  \n",
              "</tr>\n",
              "<tr>\n",
              "  <td>Mean group size:</td>   <td>16.0</td>            <td></td>               <td></td>    \n",
              "</tr>\n",
              "</table>\n",
              "<table class=\"simpletable\">\n",
              "<tr>\n",
              "                <td></td>                 <th>Coef.</th> <th>Std.Err.</th>    <th>z</th>   <th>P>|z|</th> <th>[0.025</th> <th>0.975]</th>\n",
              "</tr>\n",
              "<tr>\n",
              "  <th>Intercept</th>                      <td>1.254</td>   <td>0.059</td>  <td>21.196</td> <td>0.000</td>  <td>1.138</td>  <td>1.369</td>\n",
              "</tr>\n",
              "<tr>\n",
              "  <th>condition[T.vt_vt_old]</th>        <td>-0.046</td>   <td>0.039</td>  <td>-1.182</td> <td>0.237</td> <td>-0.122</td>  <td>0.030</td>\n",
              "</tr>\n",
              "<tr>\n",
              "  <th>lepoch</th>                        <td>-0.151</td>   <td>0.027</td>  <td>-5.490</td> <td>0.000</td> <td>-0.204</td> <td>-0.097</td>\n",
              "</tr>\n",
              "<tr>\n",
              "  <th>lepoch:condition[T.vt_vt_old]</th> <td>-0.052</td>   <td>0.026</td>  <td>-1.983</td> <td>0.047</td> <td>-0.104</td> <td>-0.001</td>\n",
              "</tr>\n",
              "<tr>\n",
              "  <th>Group Var</th>                      <td>0.038</td>   <td>0.137</td>     <td></td>      <td></td>       <td></td>       <td></td>   \n",
              "</tr>\n",
              "<tr>\n",
              "  <th>Group x lepoch Cov</th>            <td>-0.011</td>   <td>0.051</td>     <td></td>      <td></td>       <td></td>       <td></td>   \n",
              "</tr>\n",
              "<tr>\n",
              "  <th>lepoch Var</th>                     <td>0.006</td>   <td>0.025</td>     <td></td>      <td></td>       <td></td>       <td></td>   \n",
              "</tr>\n",
              "</table>"
            ],
            "text/plain": [
              "<class 'statsmodels.iolib.summary2.Summary'>\n",
              "\"\"\"\n",
              "                 Mixed Linear Model Regression Results\n",
              "========================================================================\n",
              "Model:                  MixedLM       Dependent Variable:       rt      \n",
              "No. Observations:       224           Method:                   REML    \n",
              "No. Groups:             14            Scale:                    0.0167  \n",
              "Min. group size:        16            Likelihood:               101.9885\n",
              "Max. group size:        16            Converged:                Yes     \n",
              "Mean group size:        16.0                                            \n",
              "------------------------------------------------------------------------\n",
              "                              Coef.  Std.Err.   z    P>|z| [0.025 0.975]\n",
              "------------------------------------------------------------------------\n",
              "Intercept                      1.254    0.059 21.196 0.000  1.138  1.369\n",
              "condition[T.vt_vt_old]        -0.046    0.039 -1.182 0.237 -0.122  0.030\n",
              "lepoch                        -0.151    0.027 -5.490 0.000 -0.204 -0.097\n",
              "lepoch:condition[T.vt_vt_old] -0.052    0.026 -1.983 0.047 -0.104 -0.001\n",
              "Group Var                      0.038    0.137                           \n",
              "Group x lepoch Cov            -0.011    0.051                           \n",
              "lepoch Var                     0.006    0.025                           \n",
              "========================================================================\n",
              "\n",
              "\"\"\""
            ]
          },
          "metadata": {},
          "execution_count": 58
        }
      ]
    },
    {
      "cell_type": "markdown",
      "metadata": {
        "id": "P961IfeGbLPU"
      },
      "source": [
        "To compare multiple mixed models, you can use the likelihood values shown in the summaries. "
      ]
    },
    {
      "cell_type": "markdown",
      "metadata": {
        "id": "Nb7hzLbFbYAF"
      },
      "source": [
        "## Conclusion\n",
        "\n",
        "Linear regression is the basic modeling tool when the independent  and dependent variables both are continuous (interval scales). Using mixed linear models you could reduce the estimation errors by removing the inter-subject variabilities.  "
      ]
    },
    {
      "cell_type": "markdown",
      "metadata": {
        "id": "8H3t6QHGOIC_"
      },
      "source": [
        "## Resources\n",
        "\n",
        "* [Linear Algebra for Theoretical Neuroscience by Ken Miller](http://www.columbia.edu/cu/neurotheory/Ken/math-notes/) \n",
        "* [Mathematics for Computational Neuroscience & Imaginng by John Porrill.](https://www.sheffield.ac.uk/polopoly_fs/1.13304!/file/maths.pdf) \n",
        "* [Linear Mixed Effect models Examples](https://github.com/statsmodels/statsmodels/blob/main/examples/notebooks/mixed_lm_example.ipynb)"
      ]
    }
  ]
}