{
  "nbformat": 4,
  "nbformat_minor": 0,
  "metadata": {
    "colab": {
      "name": "P2_4.Linear_regression&Logistic regression.ipynb",
      "provenance": [],
      "collapsed_sections": []
    },
    "kernelspec": {
      "name": "python3",
      "display_name": "Python 3"
    }
  },
  "cells": [
    {
      "cell_type": "markdown",
      "metadata": {
        "id": "MeQmkNMRNnMo"
      },
      "source": [
        "# Linear regression and logistic regression for computational neuroscience\n",
        "\n",
        "**Zhuanghua Shi (Dec. 2nd, 2020)**\n",
        "\n",
        "Inn neurobiologicla modeling we are often dealing with arrays of variables. For example, the activities of all of the neurons in a network at a given time, the firing rate of neuronn in each of many small epochs of time; the weights of all of the synapes impinging on a postsynapitc cell. The natural language for thinking about and analyzing the behavior of such arrays of variables is the language of vectors and matrices. \n"
      ]
    },
    {
      "cell_type": "markdown",
      "metadata": {
        "id": "tfV0qv5WNTwY"
      },
      "source": [
        "## Matrix and Vector (Optional)\n",
        "\n",
        "There are several arithmetic operations defined on vectors and matrices."
      ]
    },
    {
      "cell_type": "code",
      "metadata": {
        "id": "jYEkkZ1GNoqD",
        "colab": {
          "base_uri": "https://localhost:8080/",
          "height": 51
        },
        "outputId": "3ec7f8d7-acdf-403d-a3aa-d9dd1febb609"
      },
      "source": [
        "import numpy as np\n",
        "\n",
        "a = np.array([1,2,3])\n",
        "b = np.array([4,5,6])\n",
        "print(3*a)\n",
        "print(a - b)\n"
      ],
      "execution_count": null,
      "outputs": [
        {
          "output_type": "stream",
          "text": [
            "[3 6 9]\n",
            "[-3 -3 -3]\n"
          ],
          "name": "stdout"
        }
      ]
    },
    {
      "cell_type": "code",
      "metadata": {
        "id": "6N4a4PD3_TnQ",
        "colab": {
          "base_uri": "https://localhost:8080/",
          "height": 272
        },
        "outputId": "4c524ffd-779d-4536-f48e-09e7da3ba8e2"
      },
      "source": [
        "x = np.random.random((5,5))\n",
        "y = np.random.random((5,5))\n",
        "print(x)\n",
        "print(y)\n",
        "print(x+y)"
      ],
      "execution_count": null,
      "outputs": [
        {
          "output_type": "stream",
          "text": [
            "[[0.05491462 0.78273345 0.88603491 0.3592183  0.85036491]\n",
            " [0.69188389 0.52104915 0.84030971 0.01734402 0.31550732]\n",
            " [0.47882176 0.01493439 0.43001527 0.32330317 0.12311434]\n",
            " [0.80588462 0.9425507  0.01388475 0.84032303 0.67910847]\n",
            " [0.90236392 0.86344192 0.97584419 0.43834883 0.07534173]]\n",
            "[[0.89481107 0.67596597 0.62455573 0.59430523 0.11791265]\n",
            " [0.01234299 0.40108628 0.493521   0.98342292 0.06462904]\n",
            " [0.54911854 0.08872745 0.93618064 0.21274724 0.90217274]\n",
            " [0.2377658  0.39759529 0.63636045 0.99360618 0.11179851]\n",
            " [0.7388838  0.72755473 0.36696047 0.02729125 0.80027528]]\n",
            "[[0.9497257  1.45869942 1.51059064 0.95352353 0.96827756]\n",
            " [0.70422687 0.92213543 1.33383071 1.00076694 0.38013635]\n",
            " [1.0279403  0.10366185 1.36619591 0.53605041 1.02528708]\n",
            " [1.04365042 1.340146   0.6502452  1.83392921 0.79090698]\n",
            " [1.64124772 1.59099665 1.34280466 0.46564009 0.87561701]]\n"
          ],
          "name": "stdout"
        }
      ]
    },
    {
      "cell_type": "markdown",
      "metadata": {
        "id": "1iqIXpHyQ24H"
      },
      "source": [
        "#### Broadcasting\n",
        "\n",
        "Broadcasting is a powerful mechanism that allows numpy to work with arrays of different shapes when performing arithmetic operations. \n",
        "\n"
      ]
    },
    {
      "cell_type": "markdown",
      "metadata": {
        "id": "mgttJMMSRWNG"
      },
      "source": [
        "__Example__\n",
        "\n",
        "Suppose we want to subtract the mean from an array __x__. We first demonstrate how we realize this using classic programming approach. And then we use broadcasting from numpy. "
      ]
    },
    {
      "cell_type": "code",
      "metadata": {
        "id": "8mQUMLvTRVa7",
        "colab": {
          "base_uri": "https://localhost:8080/",
          "height": 85
        },
        "outputId": "b2301475-3ec7-43ab-d8aa-c39ae79aed1b"
      },
      "source": [
        "x = np.array([[1,2,3], [4,5,6], [7,8,9], [10, 11, 12]])\n",
        "print(x)"
      ],
      "execution_count": null,
      "outputs": [
        {
          "output_type": "stream",
          "text": [
            "[[ 1  2  3]\n",
            " [ 4  5  6]\n",
            " [ 7  8  9]\n",
            " [10 11 12]]\n"
          ],
          "name": "stdout"
        }
      ]
    },
    {
      "cell_type": "code",
      "metadata": {
        "id": "tWqgvJMPTPiL",
        "colab": {
          "base_uri": "https://localhost:8080/",
          "height": 102
        },
        "outputId": "687fd40d-3f49-46d5-f9f1-060e53f3c1a9"
      },
      "source": [
        "# second approach using broadcasting\n",
        "\n",
        "xm = np.mean(x,axis = 1)\n",
        "print(xm)\n",
        "(x.T - xm).T\n"
      ],
      "execution_count": null,
      "outputs": [
        {
          "output_type": "stream",
          "text": [
            "[ 2.  5.  8. 11.]\n"
          ],
          "name": "stdout"
        },
        {
          "output_type": "execute_result",
          "data": {
            "text/plain": [
              "array([[-1.,  0.,  1.],\n",
              "       [-1.,  0.,  1.],\n",
              "       [-1.,  0.,  1.],\n",
              "       [-1.,  0.,  1.]])"
            ]
          },
          "metadata": {
            "tags": []
          },
          "execution_count": 50
        }
      ]
    },
    {
      "cell_type": "markdown",
      "metadata": {
        "id": "MCIJZ0eg-Rgi"
      },
      "source": [
        "Question: Please write the matrix of the above implementation. "
      ]
    },
    {
      "cell_type": "markdown",
      "metadata": {
        "id": "IVLWkADD4aP3"
      },
      "source": [
        "### Multiplication\n",
        "\n",
        "There are three types of multiplications for matrices. \n",
        "\n",
        "1. __Matrix multiply__\n",
        "\n",
        "$$A_{m,n} B_{n,p} = \n",
        " \\begin{pmatrix}\n",
        "  a_{0,0} &  \\cdots & a_{0,n-1} \\\\\n",
        "  a_{1,0} &  \\cdots & a_{1,n-1} \\\\\n",
        "  \\vdots  &  \\ddots & \\vdots  \\\\\n",
        "  a_{m-1,1}  & \\cdots & a_{m-1,n-1} \n",
        " \\end{pmatrix} \\begin{pmatrix}\n",
        "  b_{0,0} &  \\cdots & b_{0,p-1} \\\\\n",
        "  b_{1,0} &  \\cdots & b_{1,p-1} \\\\\n",
        "  \\vdots  &  \\ddots & \\vdots  \\\\\n",
        "  b_{n-1,1}  & \\cdots & b_{n-1,p-1} \n",
        " \\end{pmatrix} \\\\\n",
        " = \\begin{pmatrix}\n",
        "  \\sum_j a_{0,j}b_{j,o} &  \\cdots & \\sum_j a_{m-1,j}b_{j,o} \\\\\n",
        "  \\sum_j a_{1,j}b_{j,o} &  \\cdots & \\sum_j a_{m-1,j}b_{j,1} \\\\\n",
        "  \\vdots  &  \\ddots & \\vdots  \\\\\n",
        "  \\sum_j a_{m-1,j}b_{j,o}  & \\cdots & \\sum_j a_{m-1,j}b_{j,p-1} \n",
        " \\end{pmatrix} $$"
      ]
    },
    {
      "cell_type": "code",
      "metadata": {
        "id": "ufZ-9wRPN69T",
        "colab": {
          "base_uri": "https://localhost:8080/",
          "height": 102
        },
        "outputId": "9e4ac03f-9847-4c62-fdac-82d435839175"
      },
      "source": [
        "X = np.array([[1,2,3],[4,5,6]])\n",
        "Y = np.array([[7,8],[9,10],[11,12]])\n",
        "print(X)\n",
        "print(Y)"
      ],
      "execution_count": null,
      "outputs": [
        {
          "output_type": "stream",
          "text": [
            "[[1 2 3]\n",
            " [4 5 6]]\n",
            "[[ 7  8]\n",
            " [ 9 10]\n",
            " [11 12]]\n"
          ],
          "name": "stdout"
        }
      ]
    },
    {
      "cell_type": "code",
      "metadata": {
        "id": "DdLj-437N-Gu",
        "colab": {
          "base_uri": "https://localhost:8080/",
          "height": 51
        },
        "outputId": "f15b0050-06fd-4640-b58c-b25cb9af0e1e"
      },
      "source": [
        "# multiple in python is X.dot(Y), or np.dot(X,Y)\n",
        "# please check the finnal output dimension!\n",
        "X.dot(Y)"
      ],
      "execution_count": null,
      "outputs": [
        {
          "output_type": "execute_result",
          "data": {
            "text/plain": [
              "array([[ 58,  64],\n",
              "       [139, 154]])"
            ]
          },
          "metadata": {
            "tags": []
          },
          "execution_count": 52
        }
      ]
    },
    {
      "cell_type": "code",
      "metadata": {
        "id": "Ueme2PLu7YbJ",
        "colab": {
          "base_uri": "https://localhost:8080/",
          "height": 68
        },
        "outputId": "64f1057a-eaab-4c3b-b6b2-609529838afa"
      },
      "source": [
        "# Question: What is the output of Y.dot(X)?\n",
        "\n",
        "# You code here\n",
        "Y.dot(X)"
      ],
      "execution_count": null,
      "outputs": [
        {
          "output_type": "execute_result",
          "data": {
            "text/plain": [
              "array([[ 39,  54,  69],\n",
              "       [ 49,  68,  87],\n",
              "       [ 59,  82, 105]])"
            ]
          },
          "metadata": {
            "tags": []
          },
          "execution_count": 53
        }
      ]
    },
    {
      "cell_type": "markdown",
      "metadata": {
        "id": "9ci2dl_r7kGD"
      },
      "source": [
        "__2. Inner Product__\n",
        "\n",
        "$X\\cdot Y = [x_{ij}*y_{ij}]$\n",
        "\n",
        "Note, inner product must be applied to the matrices with the __same dimension_!"
      ]
    },
    {
      "cell_type": "code",
      "metadata": {
        "id": "epJVtfR08Eek",
        "colab": {
          "base_uri": "https://localhost:8080/",
          "height": 51
        },
        "outputId": "37b1b575-09a4-4f57-98d7-ad461b11eb31"
      },
      "source": [
        "# please try to run X*Y, and see what is the output. \n",
        "\n",
        "X*Y.T "
      ],
      "execution_count": null,
      "outputs": [
        {
          "output_type": "execute_result",
          "data": {
            "text/plain": [
              "array([[ 7, 18, 33],\n",
              "       [32, 50, 72]])"
            ]
          },
          "metadata": {
            "tags": []
          },
          "execution_count": 55
        }
      ]
    },
    {
      "cell_type": "markdown",
      "metadata": {
        "id": "zTR14SFq9f32"
      },
      "source": [
        "#### Example\n",
        "\n",
        "Suppose we have 4 neurons with initial values [1,2,1,2] and all send their signals to a postsynaptic cell with weights of [0.2, 0.3, 0.5 0.6], the postsynaptic cell receives input I will be:\n",
        "\n",
        "$\\sum(1,2,1,2) \\cdot (0.2,0.3,0.5,0.6) = (1,2,1,2) \n",
        "\\begin{pmatrix}0.2 \\\\ 0.3 \\\\ 0.5 \\\\ 0.6\\end{pmatrix}$"
      ]
    },
    {
      "cell_type": "code",
      "metadata": {
        "id": "qPeOYeyp8ZbH",
        "colab": {
          "base_uri": "https://localhost:8080/",
          "height": 34
        },
        "outputId": "ec585eee-5ebd-4fbd-c42f-8aaec82a51e3"
      },
      "source": [
        "# implementation\n",
        "neurons = np.array([1,2,1,2])\n",
        "weights = np.array([0.2, 0.3, 0.5, 0.6])\n",
        "I = np.sum(neurons*weights)\n",
        "print(I)"
      ],
      "execution_count": null,
      "outputs": [
        {
          "output_type": "stream",
          "text": [
            "2.5\n"
          ],
          "name": "stdout"
        }
      ]
    },
    {
      "cell_type": "code",
      "metadata": {
        "id": "qwN_GrAl-T0E",
        "colab": {
          "base_uri": "https://localhost:8080/",
          "height": 34
        },
        "outputId": "7822cab1-4af7-4653-d2c1-b701a2e7cc56"
      },
      "source": [
        "# alternative implementation using matrix\n",
        "np.inner(weights, neurons)\n"
      ],
      "execution_count": null,
      "outputs": [
        {
          "output_type": "execute_result",
          "data": {
            "text/plain": [
              "2.5"
            ]
          },
          "metadata": {
            "tags": []
          },
          "execution_count": 57
        }
      ]
    },
    {
      "cell_type": "markdown",
      "metadata": {
        "id": "2hJGbnClAB0R"
      },
      "source": [
        "__3. Outer product__\n",
        "\n",
        "please try yourself to see what the output of $neurons^T\\cdot weights$ is. "
      ]
    },
    {
      "cell_type": "code",
      "metadata": {
        "id": "Wh54N0k4Amvv",
        "colab": {
          "base_uri": "https://localhost:8080/",
          "height": 85
        },
        "outputId": "961d5c13-cdc8-4767-a437-31003a55bb5b"
      },
      "source": [
        "# \n",
        "np.outer(weights, neurons)"
      ],
      "execution_count": null,
      "outputs": [
        {
          "output_type": "execute_result",
          "data": {
            "text/plain": [
              "array([[0.2, 0.4, 0.2, 0.4],\n",
              "       [0.3, 0.6, 0.3, 0.6],\n",
              "       [0.5, 1. , 0.5, 1. ],\n",
              "       [0.6, 1.2, 0.6, 1.2]])"
            ]
          },
          "metadata": {
            "tags": []
          },
          "execution_count": 58
        }
      ]
    },
    {
      "cell_type": "code",
      "metadata": {
        "id": "WU-F1fz4HDZT"
      },
      "source": [
        ""
      ],
      "execution_count": null,
      "outputs": []
    },
    {
      "cell_type": "markdown",
      "metadata": {
        "id": "C8rQ9k2D7fcT"
      },
      "source": [
        "## 1. Linear Regression\n",
        "A linear regression is to find a relation between the output $y$ and input $X$ in a linear relationship. In mathematical notation, if $\\hat{y}$ is the predicted value.\n",
        "\n",
        "$$\\hat{y}(w, x) = w_0 + w_1 x_1 + ... + w_p x_p$$\n",
        "\n",
        "where the vector $w = (w_1,..., w_p)$ as ``coef_`` and $w_0$ as ``intercept_``.\n",
        "\n",
        "`LinearRegression` fits a linear model with coefficients\n",
        "$w = (w_0, ..., w_p)$ to minimize the residual sum\n",
        "of squares between the observed targets in the dataset, and the\n",
        "targets predicted by the linear approximation. Mathematically it\n",
        "solves a problem of the form:\n",
        "\n",
        "$$ \\min_{w} || X w - y||_2^2$$\n",
        "\n",
        "![alt text](https://scikit-learn.org/stable/_images/sphx_glr_plot_ols_001.png)\n",
        "\n",
        "\n",
        "### 5 Steps for linear regression\n",
        "\n",
        "1. Import packages\n",
        "2. provide data\n",
        "3. create a regression model and fit it with existing data\n",
        "4. check the results of the model (goodness of fit)\n",
        "5. apply the model for predictions\n",
        "\n"
      ]
    },
    {
      "cell_type": "markdown",
      "metadata": {
        "id": "u_3BXgH2-no9"
      },
      "source": [
        "## Linear Regression with statsmodels\n",
        "\n",
        "`statsmodels` provides more statistics and other statistical models, as well as for conducting statistical tests, and statistical data exploration. On Monday in Psychophyiscs lecture, we have use this package for repeated measures ANOVA. Now we do the linear regression for the housing data using statsmodels here. \n",
        "\n",
        "Here we use a real data example - Boston Housing dataset, which contains information about various houses in Boston through different parameters.\n",
        "\n",
        "There are 506 samples and 13 features variables in this dataset. The objective is to predict the value of prices of the house using the given features. This dataset is included in scikit-learn package.\n",
        "\n",
        "Let's start by importing some libraries."
      ]
    },
    {
      "cell_type": "code",
      "metadata": {
        "id": "DJisCGov_Fg6",
        "colab": {
          "base_uri": "https://localhost:8080/"
        },
        "outputId": "68cbae52-901d-493a-cc80-3af869efc72e"
      },
      "source": [
        "import statsmodels.api as sm\n",
        "\n",
        "#Visualization Libraries\n",
        "import seaborn as sns\n",
        "import matplotlib.pyplot as plt\n",
        "\n",
        "from sklearn import datasets\n",
        "boston = datasets.load_boston()\n",
        "\n",
        "import numpy as np\n",
        "import pandas as pd\n",
        "\n",
        "bos = pd.DataFrame(boston.data, columns = boston.feature_names)\n",
        "bos['Price'] = boston.target\n",
        "print(bos.head())\n",
        "\n",
        "X = bos.drop('Price', axis = 1)\n",
        "y = bos['Price']\n"
      ],
      "execution_count": null,
      "outputs": [
        {
          "output_type": "stream",
          "text": [
            "      CRIM    ZN  INDUS  CHAS    NOX  ...    TAX  PTRATIO       B  LSTAT  Price\n",
            "0  0.00632  18.0   2.31   0.0  0.538  ...  296.0     15.3  396.90   4.98   24.0\n",
            "1  0.02731   0.0   7.07   0.0  0.469  ...  242.0     17.8  396.90   9.14   21.6\n",
            "2  0.02729   0.0   7.07   0.0  0.469  ...  242.0     17.8  392.83   4.03   34.7\n",
            "3  0.03237   0.0   2.18   0.0  0.458  ...  222.0     18.7  394.63   2.94   33.4\n",
            "4  0.06905   0.0   2.18   0.0  0.458  ...  222.0     18.7  396.90   5.33   36.2\n",
            "\n",
            "[5 rows x 14 columns]\n"
          ],
          "name": "stdout"
        }
      ]
    },
    {
      "cell_type": "code",
      "metadata": {
        "id": "sDxRcTiAWbr3",
        "colab": {
          "base_uri": "https://localhost:8080/",
          "height": 281
        },
        "outputId": "cfe3602d-add2-4f1e-fd08-ea4fe5cab09c"
      },
      "source": [
        "# now let's check the histogram of the price\n",
        "plt.hist(bos.Price)\n",
        "plt.xlabel('House Prices in $1K')\n",
        "plt.show()"
      ],
      "execution_count": null,
      "outputs": [
        {
          "output_type": "display_data",
          "data": {
            "image/png": "[encoded data removed]",
            "text/plain": [
              "<Figure size 432x288 with 1 Axes>"
            ]
          },
          "metadata": {
            "tags": [],
            "needs_background": "light"
          }
        }
      ]
    },
    {
      "cell_type": "markdown",
      "metadata": {
        "id": "d1AO_ewKEW1p"
      },
      "source": [
        "Many features (input variables) are not independent in real situation. So let's see their correlations."
      ]
    },
    {
      "cell_type": "code",
      "metadata": {
        "id": "0rznpmEHW4mk",
        "colab": {
          "base_uri": "https://localhost:8080/",
          "height": 542
        },
        "outputId": "8a14e8f1-7052-498d-8040-5bec6a5237a0"
      },
      "source": [
        " \n",
        "# calculate correlation using .corr() from pandas\n",
        "correlation_matrix = bos.corr().round(2)\n",
        "sns.set(rc={'figure.figsize':(10,8)}) #set figure size a bit larger\n",
        "sns.heatmap(data=correlation_matrix, annot=True)"
      ],
      "execution_count": null,
      "outputs": [
        {
          "output_type": "execute_result",
          "data": {
            "text/plain": [
              "<matplotlib.axes._subplots.AxesSubplot at 0x7f419abdc5f8>"
            ]
          },
          "metadata": {
            "tags": []
          },
          "execution_count": 13
        },
        {
          "output_type": "display_data",
          "data": {
            "image/png": "[encoded data removed]",
            "text/plain": [
              "<Figure size 720x576 with 2 Axes>"
            ]
          },
          "metadata": {
            "tags": []
          }
        }
      ]
    },
    {
      "cell_type": "markdown",
      "metadata": {
        "id": "v8VlZS6gCnrp"
      },
      "source": [
        "In `statsmodels`, the linear regression is called 'ordinary least square' (OLS). There are other linear regression models (Generalized least squares, weighted least squares, linear mixed effects models), which we will not cover here. If you are interested in those, please refer to [the official website](https://www.statsmodels.org/dev/examples/index.html#linear-regression-models)."
      ]
    },
    {
      "cell_type": "code",
      "metadata": {
        "id": "raW5O1l3AO21",
        "colab": {
          "base_uri": "https://localhost:8080/",
          "height": 784
        },
        "outputId": "9ceb4bfd-f0a7-401e-cc03-229ec91f4053"
      },
      "source": [
        "Xc = sm.add_constant(X)\n",
        "# linear model OLS\n",
        "model = sm.OLS(y,Xc).fit()\n",
        "model.summary()"
      ],
      "execution_count": null,
      "outputs": [
        {
          "output_type": "stream",
          "text": [
            "/usr/local/lib/python3.6/dist-packages/numpy/core/fromnumeric.py:2495: FutureWarning: Method .ptp is deprecated and will be removed in a future version. Use numpy.ptp instead.\n",
            "  return ptp(axis=axis, out=out, **kwargs)\n"
          ],
          "name": "stderr"
        },
        {
          "output_type": "execute_result",
          "data": {
            "text/html": [
              "<table class=\"simpletable\">\n",
              "<caption>OLS Regression Results</caption>\n",
              "<tr>\n",
              "  <th>Dep. Variable:</th>          <td>Price</td>      <th>  R-squared:         </th> <td>   0.741</td> \n",
              "</tr>\n",
              "<tr>\n",
              "  <th>Model:</th>                   <td>OLS</td>       <th>  Adj. R-squared:    </th> <td>   0.734</td> \n",
              "</tr>\n",
              "<tr>\n",
              "  <th>Method:</th>             <td>Least Squares</td>  <th>  F-statistic:       </th> <td>   108.1</td> \n",
              "</tr>\n",
              "<tr>\n",
              "  <th>Date:</th>             <td>Wed, 13 Nov 2019</td> <th>  Prob (F-statistic):</th> <td>6.72e-135</td>\n",
              "</tr>\n",
              "<tr>\n",
              "  <th>Time:</th>                 <td>16:40:33</td>     <th>  Log-Likelihood:    </th> <td> -1498.8</td> \n",
              "</tr>\n",
              "<tr>\n",
              "  <th>No. Observations:</th>      <td>   506</td>      <th>  AIC:               </th> <td>   3026.</td> \n",
              "</tr>\n",
              "<tr>\n",
              "  <th>Df Residuals:</th>          <td>   492</td>      <th>  BIC:               </th> <td>   3085.</td> \n",
              "</tr>\n",
              "<tr>\n",
              "  <th>Df Model:</th>              <td>    13</td>      <th>                     </th>     <td> </td>    \n",
              "</tr>\n",
              "<tr>\n",
              "  <th>Covariance Type:</th>      <td>nonrobust</td>    <th>                     </th>     <td> </td>    \n",
              "</tr>\n",
              "</table>\n",
              "<table class=\"simpletable\">\n",
              "<tr>\n",
              "     <td></td>        <th>coef</th>     <th>std err</th>      <th>t</th>      <th>P>|t|</th>  <th>[0.025</th>    <th>0.975]</th>  \n",
              "</tr>\n",
              "<tr>\n",
              "  <th>const</th>   <td>   36.4595</td> <td>    5.103</td> <td>    7.144</td> <td> 0.000</td> <td>   26.432</td> <td>   46.487</td>\n",
              "</tr>\n",
              "<tr>\n",
              "  <th>CRIM</th>    <td>   -0.1080</td> <td>    0.033</td> <td>   -3.287</td> <td> 0.001</td> <td>   -0.173</td> <td>   -0.043</td>\n",
              "</tr>\n",
              "<tr>\n",
              "  <th>ZN</th>      <td>    0.0464</td> <td>    0.014</td> <td>    3.382</td> <td> 0.001</td> <td>    0.019</td> <td>    0.073</td>\n",
              "</tr>\n",
              "<tr>\n",
              "  <th>INDUS</th>   <td>    0.0206</td> <td>    0.061</td> <td>    0.334</td> <td> 0.738</td> <td>   -0.100</td> <td>    0.141</td>\n",
              "</tr>\n",
              "<tr>\n",
              "  <th>CHAS</th>    <td>    2.6867</td> <td>    0.862</td> <td>    3.118</td> <td> 0.002</td> <td>    0.994</td> <td>    4.380</td>\n",
              "</tr>\n",
              "<tr>\n",
              "  <th>NOX</th>     <td>  -17.7666</td> <td>    3.820</td> <td>   -4.651</td> <td> 0.000</td> <td>  -25.272</td> <td>  -10.262</td>\n",
              "</tr>\n",
              "<tr>\n",
              "  <th>RM</th>      <td>    3.8099</td> <td>    0.418</td> <td>    9.116</td> <td> 0.000</td> <td>    2.989</td> <td>    4.631</td>\n",
              "</tr>\n",
              "<tr>\n",
              "  <th>AGE</th>     <td>    0.0007</td> <td>    0.013</td> <td>    0.052</td> <td> 0.958</td> <td>   -0.025</td> <td>    0.027</td>\n",
              "</tr>\n",
              "<tr>\n",
              "  <th>DIS</th>     <td>   -1.4756</td> <td>    0.199</td> <td>   -7.398</td> <td> 0.000</td> <td>   -1.867</td> <td>   -1.084</td>\n",
              "</tr>\n",
              "<tr>\n",
              "  <th>RAD</th>     <td>    0.3060</td> <td>    0.066</td> <td>    4.613</td> <td> 0.000</td> <td>    0.176</td> <td>    0.436</td>\n",
              "</tr>\n",
              "<tr>\n",
              "  <th>TAX</th>     <td>   -0.0123</td> <td>    0.004</td> <td>   -3.280</td> <td> 0.001</td> <td>   -0.020</td> <td>   -0.005</td>\n",
              "</tr>\n",
              "<tr>\n",
              "  <th>PTRATIO</th> <td>   -0.9527</td> <td>    0.131</td> <td>   -7.283</td> <td> 0.000</td> <td>   -1.210</td> <td>   -0.696</td>\n",
              "</tr>\n",
              "<tr>\n",
              "  <th>B</th>       <td>    0.0093</td> <td>    0.003</td> <td>    3.467</td> <td> 0.001</td> <td>    0.004</td> <td>    0.015</td>\n",
              "</tr>\n",
              "<tr>\n",
              "  <th>LSTAT</th>   <td>   -0.5248</td> <td>    0.051</td> <td>  -10.347</td> <td> 0.000</td> <td>   -0.624</td> <td>   -0.425</td>\n",
              "</tr>\n",
              "</table>\n",
              "<table class=\"simpletable\">\n",
              "<tr>\n",
              "  <th>Omnibus:</th>       <td>178.041</td> <th>  Durbin-Watson:     </th> <td>   1.078</td> \n",
              "</tr>\n",
              "<tr>\n",
              "  <th>Prob(Omnibus):</th> <td> 0.000</td>  <th>  Jarque-Bera (JB):  </th> <td> 783.126</td> \n",
              "</tr>\n",
              "<tr>\n",
              "  <th>Skew:</th>          <td> 1.521</td>  <th>  Prob(JB):          </th> <td>8.84e-171</td>\n",
              "</tr>\n",
              "<tr>\n",
              "  <th>Kurtosis:</th>      <td> 8.281</td>  <th>  Cond. No.          </th> <td>1.51e+04</td> \n",
              "</tr>\n",
              "</table><br/><br/>Warnings:<br/>[1] Standard Errors assume that the covariance matrix of the errors is correctly specified.<br/>[2] The condition number is large, 1.51e+04. This might indicate that there are<br/>strong multicollinearity or other numerical problems."
            ],
            "text/plain": [
              "<class 'statsmodels.iolib.summary.Summary'>\n",
              "\"\"\"\n",
              "                            OLS Regression Results                            \n",
              "==============================================================================\n",
              "Dep. Variable:                  Price   R-squared:                       0.741\n",
              "Model:                            OLS   Adj. R-squared:                  0.734\n",
              "Method:                 Least Squares   F-statistic:                     108.1\n",
              "Date:                Wed, 13 Nov 2019   Prob (F-statistic):          6.72e-135\n",
              "Time:                        16:40:33   Log-Likelihood:                -1498.8\n",
              "No. Observations:                 506   AIC:                             3026.\n",
              "Df Residuals:                     492   BIC:                             3085.\n",
              "Df Model:                          13                                         \n",
              "Covariance Type:            nonrobust                                         \n",
              "==============================================================================\n",
              "                 coef    std err          t      P>|t|      [0.025      0.975]\n",
              "------------------------------------------------------------------------------\n",
              "const         36.4595      5.103      7.144      0.000      26.432      46.487\n",
              "CRIM          -0.1080      0.033     -3.287      0.001      -0.173      -0.043\n",
              "ZN             0.0464      0.014      3.382      0.001       0.019       0.073\n",
              "INDUS          0.0206      0.061      0.334      0.738      -0.100       0.141\n",
              "CHAS           2.6867      0.862      3.118      0.002       0.994       4.380\n",
              "NOX          -17.7666      3.820     -4.651      0.000     -25.272     -10.262\n",
              "RM             3.8099      0.418      9.116      0.000       2.989       4.631\n",
              "AGE            0.0007      0.013      0.052      0.958      -0.025       0.027\n",
              "DIS           -1.4756      0.199     -7.398      0.000      -1.867      -1.084\n",
              "RAD            0.3060      0.066      4.613      0.000       0.176       0.436\n",
              "TAX           -0.0123      0.004     -3.280      0.001      -0.020      -0.005\n",
              "PTRATIO       -0.9527      0.131     -7.283      0.000      -1.210      -0.696\n",
              "B              0.0093      0.003      3.467      0.001       0.004       0.015\n",
              "LSTAT         -0.5248      0.051    -10.347      0.000      -0.624      -0.425\n",
              "==============================================================================\n",
              "Omnibus:                      178.041   Durbin-Watson:                   1.078\n",
              "Prob(Omnibus):                  0.000   Jarque-Bera (JB):              783.126\n",
              "Skew:                           1.521   Prob(JB):                    8.84e-171\n",
              "Kurtosis:                       8.281   Cond. No.                     1.51e+04\n",
              "==============================================================================\n",
              "\n",
              "Warnings:\n",
              "[1] Standard Errors assume that the covariance matrix of the errors is correctly specified.\n",
              "[2] The condition number is large, 1.51e+04. This might indicate that there are\n",
              "strong multicollinearity or other numerical problems.\n",
              "\"\"\""
            ]
          },
          "metadata": {
            "tags": []
          },
          "execution_count": 88
        }
      ]
    },
    {
      "cell_type": "code",
      "metadata": {
        "id": "xdG2Dt4NAuvQ",
        "colab": {
          "base_uri": "https://localhost:8080/",
          "height": 502
        },
        "outputId": "d60c13ce-addb-4712-ab62-94ecbe743b6f"
      },
      "source": [
        "y_hat = model.predict(Xc)\n",
        "\n",
        "plt.scatter(y, y_hat)\n",
        "plt.xlabel('Actual House Price')\n",
        "plt.ylabel('Predicted House Price')\n",
        "plt.show()"
      ],
      "execution_count": null,
      "outputs": [
        {
          "output_type": "display_data",
          "data": {
            "image/png": "[encoded data removed]",
            "text/plain": [
              "<Figure size 720x576 with 1 Axes>"
            ]
          },
          "metadata": {
            "tags": []
          }
        }
      ]
    },
    {
      "cell_type": "markdown",
      "metadata": {
        "id": "p-qb1NBjufej"
      },
      "source": [
        "## Linear regression with scikit-learn\n",
        "\n"
      ]
    },
    {
      "cell_type": "code",
      "metadata": {
        "id": "YqFWfrlmuyc2"
      },
      "source": [
        "#1. Import relevant packages\n",
        "import numpy as np  # for matrix and array\n",
        "from sklearn.linear_model import LinearRegression\n"
      ],
      "execution_count": null,
      "outputs": []
    },
    {
      "cell_type": "markdown",
      "metadata": {
        "id": "bsp4ii5g2pop"
      },
      "source": [
        "You can provide several optional parameters to LinearRegression:\n",
        "\n",
        "* __fit_intercept__ is a Boolean (True by default) that decides whether to calculate the intercept 𝑏₀ (True) or consider it equal to zero (False).\n",
        "* __normalize__ is a Boolean (False by default) that decides whether to normalize the input variables (True) or not (False).\n",
        "* __copy_X__ is a Boolean (True by default) that decides whether to copy (True) or overwrite the input variables (False).\n",
        "* __n_jobs__ is an integer or None (default) and represents the number of jobs used in parallel computation. None usually means one job and -1 to use all processors.\n",
        "\n",
        "\n"
      ]
    },
    {
      "cell_type": "markdown",
      "metadata": {
        "id": "Pr9yD1m441xx"
      },
      "source": [
        "### Excerise - Linear regression\n",
        "\n",
        "Here is a [dataset](https://raw.githubusercontent.com/contactsunny/data-science-examples/master/salaryData.csv) that contains the salary and Experience. Let's explore the data and do linear regression"
      ]
    },
    {
      "cell_type": "code",
      "metadata": {
        "id": "hSUkojHy6nga",
        "colab": {
          "base_uri": "https://localhost:8080/",
          "height": 359
        },
        "outputId": "71bb42d2-81e7-4f5d-caff-24e71cc29713"
      },
      "source": [
        "import numpy as np  # for matrix and array\n",
        "import pandas as pd # package for import/export data\n",
        "import pylab as pyl  # plotting\n",
        "from sklearn.linear_model import LinearRegression\n",
        "\n",
        "# import csv file using pandas.read_csv\n",
        "dataset = pd.read_csv('https://raw.githubusercontent.com/contactsunny/data-science-examples/master/salaryData.csv')\n",
        "\n",
        "dataset.tail(10)\n",
        "#dataset.describe()"
      ],
      "execution_count": null,
      "outputs": [
        {
          "output_type": "execute_result",
          "data": {
            "text/html": [
              "<div>\n",
              "<style scoped>\n",
              "    .dataframe tbody tr th:only-of-type {\n",
              "        vertical-align: middle;\n",
              "    }\n",
              "\n",
              "    .dataframe tbody tr th {\n",
              "        vertical-align: top;\n",
              "    }\n",
              "\n",
              "    .dataframe thead th {\n",
              "        text-align: right;\n",
              "    }\n",
              "</style>\n",
              "<table border=\"1\" class=\"dataframe\">\n",
              "  <thead>\n",
              "    <tr style=\"text-align: right;\">\n",
              "      <th></th>\n",
              "      <th>YearsExperience</th>\n",
              "      <th>Salary</th>\n",
              "    </tr>\n",
              "  </thead>\n",
              "  <tbody>\n",
              "    <tr>\n",
              "      <th>20</th>\n",
              "      <td>6.8</td>\n",
              "      <td>91738.0</td>\n",
              "    </tr>\n",
              "    <tr>\n",
              "      <th>21</th>\n",
              "      <td>7.1</td>\n",
              "      <td>98273.0</td>\n",
              "    </tr>\n",
              "    <tr>\n",
              "      <th>22</th>\n",
              "      <td>7.9</td>\n",
              "      <td>101302.0</td>\n",
              "    </tr>\n",
              "    <tr>\n",
              "      <th>23</th>\n",
              "      <td>8.2</td>\n",
              "      <td>113812.0</td>\n",
              "    </tr>\n",
              "    <tr>\n",
              "      <th>24</th>\n",
              "      <td>8.7</td>\n",
              "      <td>109431.0</td>\n",
              "    </tr>\n",
              "    <tr>\n",
              "      <th>25</th>\n",
              "      <td>9.0</td>\n",
              "      <td>105582.0</td>\n",
              "    </tr>\n",
              "    <tr>\n",
              "      <th>26</th>\n",
              "      <td>9.5</td>\n",
              "      <td>116969.0</td>\n",
              "    </tr>\n",
              "    <tr>\n",
              "      <th>27</th>\n",
              "      <td>9.6</td>\n",
              "      <td>112635.0</td>\n",
              "    </tr>\n",
              "    <tr>\n",
              "      <th>28</th>\n",
              "      <td>10.3</td>\n",
              "      <td>122391.0</td>\n",
              "    </tr>\n",
              "    <tr>\n",
              "      <th>29</th>\n",
              "      <td>10.5</td>\n",
              "      <td>121872.0</td>\n",
              "    </tr>\n",
              "  </tbody>\n",
              "</table>\n",
              "</div>"
            ],
            "text/plain": [
              "    YearsExperience    Salary\n",
              "20              6.8   91738.0\n",
              "21              7.1   98273.0\n",
              "22              7.9  101302.0\n",
              "23              8.2  113812.0\n",
              "24              8.7  109431.0\n",
              "25              9.0  105582.0\n",
              "26              9.5  116969.0\n",
              "27              9.6  112635.0\n",
              "28             10.3  122391.0\n",
              "29             10.5  121872.0"
            ]
          },
          "metadata": {
            "tags": []
          },
          "execution_count": 3
        }
      ]
    },
    {
      "cell_type": "markdown",
      "metadata": {
        "id": "ONK33znO7Fpp"
      },
      "source": [
        "First step to visualize the data (e.g., scatterplot)."
      ]
    },
    {
      "cell_type": "code",
      "metadata": {
        "id": "BHEaOLxn7KaA",
        "colab": {
          "base_uri": "https://localhost:8080/",
          "height": 282
        },
        "outputId": "6b1382c0-abbd-4f9f-c56c-15ef6b0c0750"
      },
      "source": [
        "pyl.scatter(dataset['YearsExperience'], dataset.Salary)"
      ],
      "execution_count": null,
      "outputs": [
        {
          "output_type": "execute_result",
          "data": {
            "text/plain": [
              "<matplotlib.collections.PathCollection at 0x7f419b9a8a58>"
            ]
          },
          "metadata": {
            "tags": []
          },
          "execution_count": 4
        },
        {
          "output_type": "display_data",
          "data": {
            "image/png": "[encoded data removed]",
            "text/plain": [
              "<Figure size 432x288 with 1 Axes>"
            ]
          },
          "metadata": {
            "tags": [],
            "needs_background": "light"
          }
        }
      ]
    },
    {
      "cell_type": "markdown",
      "metadata": {
        "id": "59bwecfT7h4u"
      },
      "source": [
        "It has strong linear relationship!"
      ]
    },
    {
      "cell_type": "code",
      "metadata": {
        "id": "ghUDgIxe7mtz",
        "colab": {
          "base_uri": "https://localhost:8080/"
        },
        "outputId": "e6ce9590-5cd6-4734-9393-0860a26475e4"
      },
      "source": [
        "# we fit model \n",
        "model = LinearRegression()  # create a model\n",
        "model.fit(dataset.YearsExperience.values.reshape(-1, 1), dataset.Salary.values) # fit the model"
      ],
      "execution_count": null,
      "outputs": [
        {
          "output_type": "execute_result",
          "data": {
            "text/plain": [
              "LinearRegression(copy_X=True, fit_intercept=True, n_jobs=None, normalize=False)"
            ]
          },
          "metadata": {
            "tags": []
          },
          "execution_count": 5
        }
      ]
    },
    {
      "cell_type": "code",
      "metadata": {
        "id": "DhcZnoZ-8SNd",
        "colab": {
          "base_uri": "https://localhost:8080/"
        },
        "outputId": "46a12da0-8bb8-47e1-ef69-929792aa874c"
      },
      "source": [
        "# let's print the coefficients\n",
        "print(model.intercept_)\n",
        "print(model.coef_)"
      ],
      "execution_count": null,
      "outputs": [
        {
          "output_type": "stream",
          "text": [
            "25792.200198668696\n",
            "[9449.96232146]\n"
          ],
          "name": "stdout"
        }
      ]
    },
    {
      "cell_type": "code",
      "metadata": {
        "id": "JbvCbRdE8nfO",
        "colab": {
          "base_uri": "https://localhost:8080/",
          "height": 265
        },
        "outputId": "fb3f8154-d200-430f-c7c0-1a89337b273f"
      },
      "source": [
        "# predict via estimated linear model\n",
        "sallary_hat = model.predict(dataset.YearsExperience.values.reshape(-1,1))\n",
        "# visualize the predicted sallaries vs. observed sallaries\n",
        "pyl.scatter(dataset.YearsExperience, dataset.Salary)\n",
        "pyl.plot(dataset.YearsExperience, sallary_hat)\n",
        "pyl.show()"
      ],
      "execution_count": null,
      "outputs": [
        {
          "output_type": "display_data",
          "data": {
            "image/png": "[encoded data removed]",
            "text/plain": [
              "<Figure size 432x288 with 1 Axes>"
            ]
          },
          "metadata": {
            "tags": [],
            "needs_background": "light"
          }
        }
      ]
    },
    {
      "cell_type": "markdown",
      "metadata": {
        "id": "rN0G5bmyTTQT"
      },
      "source": [
        "## Multivariate linear regression\n",
        "\n",
        "Here we use the same real data example we used above - Boston Housing dataset, which contains information about various houses in Boston through different parameters. \n"
      ]
    },
    {
      "cell_type": "code",
      "metadata": {
        "id": "205YN-KQUJfy"
      },
      "source": [
        "import numpy as np      #deal with array matrix\n",
        "import pandas as pd     #deal with table data, import, expojrt\n",
        "\n",
        "#Visualization Libraries\n",
        "import seaborn as sns\n",
        "import matplotlib.pyplot as plt\n",
        "\n",
        "#To plot the graph embedded in the notebook\n",
        "%matplotlib inline\n",
        "\n",
        "\n",
        "#imports from sklearn library\n",
        "from sklearn import datasets\n",
        "from sklearn.linear_model import LinearRegression\n",
        "\n"
      ],
      "execution_count": null,
      "outputs": []
    },
    {
      "cell_type": "markdown",
      "metadata": {
        "id": "5qbDYBsRUbdV"
      },
      "source": [
        "We then import the data, and explore data. This step (Explorative Data Analysis, EDA) is important to gain insight to the data and their structures. \n"
      ]
    },
    {
      "cell_type": "code",
      "metadata": {
        "id": "jXe7nTDKUrhr",
        "colab": {
          "base_uri": "https://localhost:8080/"
        },
        "outputId": "f599e0bb-a893-4b81-8bbd-dcf1ada1ba65"
      },
      "source": [
        "\n",
        "#loading the dataset direclty from sklearn\n",
        "boston = datasets.load_boston()\n",
        "print(type(boston))\n",
        "print(boston.keys())\n",
        "print(boston.data.shape)\n",
        "print(boston.feature_names)"
      ],
      "execution_count": null,
      "outputs": [
        {
          "output_type": "stream",
          "text": [
            "<class 'sklearn.utils.Bunch'>\n",
            "dict_keys(['data', 'target', 'feature_names', 'DESCR', 'filename'])\n",
            "(506, 13)\n",
            "['CRIM' 'ZN' 'INDUS' 'CHAS' 'NOX' 'RM' 'AGE' 'DIS' 'RAD' 'TAX' 'PTRATIO'\n",
            " 'B' 'LSTAT']\n"
          ],
          "name": "stdout"
        }
      ]
    },
    {
      "cell_type": "markdown",
      "metadata": {
        "id": "dYFy5sV3VDlR"
      },
      "source": [
        "Let's see the description of the data. "
      ]
    },
    {
      "cell_type": "markdown",
      "metadata": {
        "id": "i_PD82oxVkSc"
      },
      "source": [
        "Now let's make the dataset nicer using pandas (table-like data)"
      ]
    },
    {
      "cell_type": "code",
      "metadata": {
        "id": "iGsAPCQNVnlw",
        "colab": {
          "base_uri": "https://localhost:8080/",
          "height": 204
        },
        "outputId": "e8c6ed08-f883-41c9-c84a-80dd93c216e6"
      },
      "source": [
        "# let's first convert the raw data to table-like data. \n",
        "bos = pd.DataFrame(boston.data, columns = boston.feature_names)\n",
        "bos['Price'] = boston.target\n",
        "bos.tail()"
      ],
      "execution_count": null,
      "outputs": [
        {
          "output_type": "execute_result",
          "data": {
            "text/html": [
              "<div>\n",
              "<style scoped>\n",
              "    .dataframe tbody tr th:only-of-type {\n",
              "        vertical-align: middle;\n",
              "    }\n",
              "\n",
              "    .dataframe tbody tr th {\n",
              "        vertical-align: top;\n",
              "    }\n",
              "\n",
              "    .dataframe thead th {\n",
              "        text-align: right;\n",
              "    }\n",
              "</style>\n",
              "<table border=\"1\" class=\"dataframe\">\n",
              "  <thead>\n",
              "    <tr style=\"text-align: right;\">\n",
              "      <th></th>\n",
              "      <th>CRIM</th>\n",
              "      <th>ZN</th>\n",
              "      <th>INDUS</th>\n",
              "      <th>CHAS</th>\n",
              "      <th>NOX</th>\n",
              "      <th>RM</th>\n",
              "      <th>AGE</th>\n",
              "      <th>DIS</th>\n",
              "      <th>RAD</th>\n",
              "      <th>TAX</th>\n",
              "      <th>PTRATIO</th>\n",
              "      <th>B</th>\n",
              "      <th>LSTAT</th>\n",
              "      <th>Price</th>\n",
              "    </tr>\n",
              "  </thead>\n",
              "  <tbody>\n",
              "    <tr>\n",
              "      <th>501</th>\n",
              "      <td>0.06263</td>\n",
              "      <td>0.0</td>\n",
              "      <td>11.93</td>\n",
              "      <td>0.0</td>\n",
              "      <td>0.573</td>\n",
              "      <td>6.593</td>\n",
              "      <td>69.1</td>\n",
              "      <td>2.4786</td>\n",
              "      <td>1.0</td>\n",
              "      <td>273.0</td>\n",
              "      <td>21.0</td>\n",
              "      <td>391.99</td>\n",
              "      <td>9.67</td>\n",
              "      <td>22.4</td>\n",
              "    </tr>\n",
              "    <tr>\n",
              "      <th>502</th>\n",
              "      <td>0.04527</td>\n",
              "      <td>0.0</td>\n",
              "      <td>11.93</td>\n",
              "      <td>0.0</td>\n",
              "      <td>0.573</td>\n",
              "      <td>6.120</td>\n",
              "      <td>76.7</td>\n",
              "      <td>2.2875</td>\n",
              "      <td>1.0</td>\n",
              "      <td>273.0</td>\n",
              "      <td>21.0</td>\n",
              "      <td>396.90</td>\n",
              "      <td>9.08</td>\n",
              "      <td>20.6</td>\n",
              "    </tr>\n",
              "    <tr>\n",
              "      <th>503</th>\n",
              "      <td>0.06076</td>\n",
              "      <td>0.0</td>\n",
              "      <td>11.93</td>\n",
              "      <td>0.0</td>\n",
              "      <td>0.573</td>\n",
              "      <td>6.976</td>\n",
              "      <td>91.0</td>\n",
              "      <td>2.1675</td>\n",
              "      <td>1.0</td>\n",
              "      <td>273.0</td>\n",
              "      <td>21.0</td>\n",
              "      <td>396.90</td>\n",
              "      <td>5.64</td>\n",
              "      <td>23.9</td>\n",
              "    </tr>\n",
              "    <tr>\n",
              "      <th>504</th>\n",
              "      <td>0.10959</td>\n",
              "      <td>0.0</td>\n",
              "      <td>11.93</td>\n",
              "      <td>0.0</td>\n",
              "      <td>0.573</td>\n",
              "      <td>6.794</td>\n",
              "      <td>89.3</td>\n",
              "      <td>2.3889</td>\n",
              "      <td>1.0</td>\n",
              "      <td>273.0</td>\n",
              "      <td>21.0</td>\n",
              "      <td>393.45</td>\n",
              "      <td>6.48</td>\n",
              "      <td>22.0</td>\n",
              "    </tr>\n",
              "    <tr>\n",
              "      <th>505</th>\n",
              "      <td>0.04741</td>\n",
              "      <td>0.0</td>\n",
              "      <td>11.93</td>\n",
              "      <td>0.0</td>\n",
              "      <td>0.573</td>\n",
              "      <td>6.030</td>\n",
              "      <td>80.8</td>\n",
              "      <td>2.5050</td>\n",
              "      <td>1.0</td>\n",
              "      <td>273.0</td>\n",
              "      <td>21.0</td>\n",
              "      <td>396.90</td>\n",
              "      <td>7.88</td>\n",
              "      <td>11.9</td>\n",
              "    </tr>\n",
              "  </tbody>\n",
              "</table>\n",
              "</div>"
            ],
            "text/plain": [
              "        CRIM   ZN  INDUS  CHAS    NOX  ...    TAX  PTRATIO       B  LSTAT  Price\n",
              "501  0.06263  0.0  11.93   0.0  0.573  ...  273.0     21.0  391.99   9.67   22.4\n",
              "502  0.04527  0.0  11.93   0.0  0.573  ...  273.0     21.0  396.90   9.08   20.6\n",
              "503  0.06076  0.0  11.93   0.0  0.573  ...  273.0     21.0  396.90   5.64   23.9\n",
              "504  0.10959  0.0  11.93   0.0  0.573  ...  273.0     21.0  393.45   6.48   22.0\n",
              "505  0.04741  0.0  11.93   0.0  0.573  ...  273.0     21.0  396.90   7.88   11.9\n",
              "\n",
              "[5 rows x 14 columns]"
            ]
          },
          "metadata": {
            "tags": []
          },
          "execution_count": 10
        }
      ]
    },
    {
      "cell_type": "markdown",
      "metadata": {
        "id": "QgeYg8WJXeJu"
      },
      "source": [
        "### Your task\n",
        "\n",
        "Please inspect the above correlation matrix, and see which factors are important for predicting house price, and note down here:\n",
        "\n",
        "__Your notes here...__"
      ]
    },
    {
      "cell_type": "code",
      "metadata": {
        "id": "NnBfDp4aYkEj",
        "colab": {
          "base_uri": "https://localhost:8080/"
        },
        "outputId": "07a97e82-15b6-4ac7-dc65-4743e440db1b"
      },
      "source": [
        "X = bos.drop('Price', axis = 1)\n",
        "y = bos['Price']\n",
        "\n",
        "reg_all = LinearRegression()\n",
        "reg_all.fit(X, y)\n",
        "y_hat = reg_all.predict(X)\n",
        "r2 = round(reg_all.score(X,y),2)\n",
        "print('R2 score is {}'.format(r2))"
      ],
      "execution_count": null,
      "outputs": [
        {
          "output_type": "stream",
          "text": [
            "R2 score is 0.74\n"
          ],
          "name": "stdout"
        }
      ]
    },
    {
      "cell_type": "code",
      "metadata": {
        "id": "w698fLJlZTVQ",
        "colab": {
          "base_uri": "https://localhost:8080/",
          "height": 519
        },
        "outputId": "f6bc290c-9dcb-4258-ee06-118cd0b29697"
      },
      "source": [
        "plt.scatter(y, y_hat)\n",
        "plt.xlabel('Actual House Price')\n",
        "plt.ylabel('Predicted House Price')"
      ],
      "execution_count": null,
      "outputs": [
        {
          "output_type": "execute_result",
          "data": {
            "text/plain": [
              "Text(0, 0.5, 'Predicted House Price')"
            ]
          },
          "metadata": {
            "tags": []
          },
          "execution_count": 15
        },
        {
          "output_type": "display_data",
          "data": {
            "image/png": "[encoded data removed]",
            "text/plain": [
              "<Figure size 720x576 with 1 Axes>"
            ]
          },
          "metadata": {
            "tags": []
          }
        }
      ]
    },
    {
      "cell_type": "markdown",
      "metadata": {
        "id": "02-zhL55ZvsT"
      },
      "source": [
        "### food for thought\n",
        "\n",
        "* We used all features / variables in multiple regression, but those features are covaried. What should those covariate feature be treated?\n",
        "\n",
        "* Would it be potential prone to overfitting?"
      ]
    },
    {
      "cell_type": "markdown",
      "metadata": {
        "id": "BfiDmeTQ-a5U"
      },
      "source": [
        "## 2. Logistic Regressionn \n",
        "\n",
        "Logistic Regression is an important activation function and Machine Learning classification algorithm that is used to predict the probability of a categorical dependent variable. In logistic regression, the dependent variable is a binary decision variable that contains two categories: 1 (yes, success, choice 1, etc.) or 0 (no, failure, choice 2, etc.). In other words, the logistic regression model predicts one choice P(Y=1) as a function of inputs X in 2AFC."
      ]
    },
    {
      "cell_type": "markdown",
      "metadata": {
        "id": "yu1O3cGOef3k"
      },
      "source": [
        "## Logistic regression with scikit-learn\n",
        "\n",
        "Recall that a linear regression is to find a relation between the dependent variable $y$ and input $X$ in a linear relationship. In mathematical notation, \n",
        "\n",
        "$$y = w_0 + w_1 x_1 + ... + w_p x_p$$\n",
        "\n",
        "where the vector $w = (w_1,..., w_p)$ as ``coef_`` and $w_0$ as ``intercept_``.\n",
        "\n",
        "The logistic regression further assume the $y$ is a log-likehood ratio between two choices (e.g., Yes vs. No). \n",
        "\n",
        "$$\\log \\frac p {1-p} = y = w'X$$\n",
        "\n",
        "\n",
        " Python `sklearn.linear_model` provide `LogisticRegression()` model. The steps of doing logistic regression is similar to what we learned in the session of 'Linear Regression'. \n",
        "\n",
        " Here we do an excercise on a hypothetical dataset, which is adapted from [this tutorial](https://datatofish.com/logistic-regression-python/). \n"
      ]
    },
    {
      "cell_type": "markdown",
      "metadata": {
        "id": "XRtu5xxMejlI"
      },
      "source": [
        "### Dataset\n",
        "\n",
        "Suppose there are three features (independent variables) GMAT score, GPA score and Work experience determines the admission (1 Yes, 0 No). \n",
        "We would like to find our which factors really matters. "
      ]
    },
    {
      "cell_type": "code",
      "metadata": {
        "id": "hU73XNw3-ag3",
        "colab": {
          "base_uri": "https://localhost:8080/",
          "height": 359
        },
        "outputId": "230c9fce-fd2b-4ec8-cc7f-182b749782d5"
      },
      "source": [
        "#1. Import relevant packages\n",
        "import numpy as np  # for matrix and array\n",
        "import pandas as pd # dealing with matrix\n",
        "from sklearn.linear_model import LogisticRegression\n",
        "import seaborn as sn # for visualization\n",
        "import pylab as pyl\n",
        "\n",
        "#2. Provide data\n",
        "# Here are hypothetical data\n",
        "candidates = {'gmat': [780,750,690,710,680,730,690,720,740,690,610,690,710,680,770,610,580,650,540,590,620,600,550,550,570,670,660,580,650,660,640,620,660,660,680,650,670,580,590,690],\n",
        "              'gpa': [4,3.9,3.3,3.7,3.9,3.7,2.3,3.3,3.3,1.7,2.7,3.7,3.7,3.3,3.3,3,2.7,3.7,2.7,2.3,3.3,2,2.3,2.7,3,3.3,3.7,2.3,3.7,3.3,3,2.7,4,3.3,3.3,2.3,2.7,3.3,1.7,3.7],\n",
        "              'work_experience': [3,4,3,5,4,6,1,4,5,1,3,5,6,4,3,1,4,6,2,3,2,1,4,1,2,6,4,2,6,5,1,2,4,6,5,1,2,1,4,5],\n",
        "              'admitted': [1,1,1,1,1,1,0,1,1,0,0,1,1,1,1,0,0,1,0,0,0,0,0,0,0,1,1,0,1,1,0,0,1,1,1,0,0,0,0,1]\n",
        "              }\n",
        "# from dictionary to a data table\n",
        "df = pd.DataFrame(candidates,columns= ['gmat', 'gpa','work_experience','admitted'])\n",
        "df.head(10) # show the first 10 rows"
      ],
      "execution_count": null,
      "outputs": [
        {
          "output_type": "execute_result",
          "data": {
            "text/html": [
              "<div>\n",
              "<style scoped>\n",
              "    .dataframe tbody tr th:only-of-type {\n",
              "        vertical-align: middle;\n",
              "    }\n",
              "\n",
              "    .dataframe tbody tr th {\n",
              "        vertical-align: top;\n",
              "    }\n",
              "\n",
              "    .dataframe thead th {\n",
              "        text-align: right;\n",
              "    }\n",
              "</style>\n",
              "<table border=\"1\" class=\"dataframe\">\n",
              "  <thead>\n",
              "    <tr style=\"text-align: right;\">\n",
              "      <th></th>\n",
              "      <th>gmat</th>\n",
              "      <th>gpa</th>\n",
              "      <th>work_experience</th>\n",
              "      <th>admitted</th>\n",
              "    </tr>\n",
              "  </thead>\n",
              "  <tbody>\n",
              "    <tr>\n",
              "      <th>0</th>\n",
              "      <td>780</td>\n",
              "      <td>4.0</td>\n",
              "      <td>3</td>\n",
              "      <td>1</td>\n",
              "    </tr>\n",
              "    <tr>\n",
              "      <th>1</th>\n",
              "      <td>750</td>\n",
              "      <td>3.9</td>\n",
              "      <td>4</td>\n",
              "      <td>1</td>\n",
              "    </tr>\n",
              "    <tr>\n",
              "      <th>2</th>\n",
              "      <td>690</td>\n",
              "      <td>3.3</td>\n",
              "      <td>3</td>\n",
              "      <td>1</td>\n",
              "    </tr>\n",
              "    <tr>\n",
              "      <th>3</th>\n",
              "      <td>710</td>\n",
              "      <td>3.7</td>\n",
              "      <td>5</td>\n",
              "      <td>1</td>\n",
              "    </tr>\n",
              "    <tr>\n",
              "      <th>4</th>\n",
              "      <td>680</td>\n",
              "      <td>3.9</td>\n",
              "      <td>4</td>\n",
              "      <td>1</td>\n",
              "    </tr>\n",
              "    <tr>\n",
              "      <th>5</th>\n",
              "      <td>730</td>\n",
              "      <td>3.7</td>\n",
              "      <td>6</td>\n",
              "      <td>1</td>\n",
              "    </tr>\n",
              "    <tr>\n",
              "      <th>6</th>\n",
              "      <td>690</td>\n",
              "      <td>2.3</td>\n",
              "      <td>1</td>\n",
              "      <td>0</td>\n",
              "    </tr>\n",
              "    <tr>\n",
              "      <th>7</th>\n",
              "      <td>720</td>\n",
              "      <td>3.3</td>\n",
              "      <td>4</td>\n",
              "      <td>1</td>\n",
              "    </tr>\n",
              "    <tr>\n",
              "      <th>8</th>\n",
              "      <td>740</td>\n",
              "      <td>3.3</td>\n",
              "      <td>5</td>\n",
              "      <td>1</td>\n",
              "    </tr>\n",
              "    <tr>\n",
              "      <th>9</th>\n",
              "      <td>690</td>\n",
              "      <td>1.7</td>\n",
              "      <td>1</td>\n",
              "      <td>0</td>\n",
              "    </tr>\n",
              "  </tbody>\n",
              "</table>\n",
              "</div>"
            ],
            "text/plain": [
              "   gmat  gpa  work_experience  admitted\n",
              "0   780  4.0                3         1\n",
              "1   750  3.9                4         1\n",
              "2   690  3.3                3         1\n",
              "3   710  3.7                5         1\n",
              "4   680  3.9                4         1\n",
              "5   730  3.7                6         1\n",
              "6   690  2.3                1         0\n",
              "7   720  3.3                4         1\n",
              "8   740  3.3                5         1\n",
              "9   690  1.7                1         0"
            ]
          },
          "metadata": {
            "tags": []
          },
          "execution_count": 16
        }
      ]
    },
    {
      "cell_type": "markdown",
      "metadata": {
        "id": "-bbtzoYteqmb"
      },
      "source": [
        "Now we create a model to fit the data. "
      ]
    },
    {
      "cell_type": "code",
      "metadata": {
        "colab": {
          "base_uri": "https://localhost:8080/"
        },
        "id": "UAw35-qIeuFG",
        "outputId": "303e003a-81ff-4481-b90a-7c910d115231"
      },
      "source": [
        "# 3. create a model\n",
        "model = LogisticRegression()\n",
        "# 4. fit the model\n",
        "X = df[['gmat','gpa','work_experience']]\n",
        "y = df['admitted']\n",
        "model.fit(X,y)\n",
        "# print the R^2\n",
        "print(model.score(X,y))\n"
      ],
      "execution_count": null,
      "outputs": [
        {
          "output_type": "stream",
          "text": [
            "1.0\n"
          ],
          "name": "stdout"
        }
      ]
    },
    {
      "cell_type": "code",
      "metadata": {
        "colab": {
          "base_uri": "https://localhost:8080/"
        },
        "id": "X4EWvfc5exXp",
        "outputId": "24658ce1-d77c-4d0e-cdab-965a96a80d71"
      },
      "source": [
        "# check the fitted coefficiencies\n",
        "print(model.coef_)\n",
        "\n",
        "# and see the predict results\n",
        "# 5. predict the results\n",
        "y_hat = model.predict(X)\n",
        "\n",
        "# check the predict accuracy\n",
        "accuracy = y_hat == y\n",
        "print(accuracy.values)"
      ],
      "execution_count": null,
      "outputs": [
        {
          "output_type": "stream",
          "text": [
            "[[0.06848285 0.72419888 1.48452727]]\n",
            "[ True  True  True  True  True  True  True  True  True  True  True  True\n",
            "  True  True  True  True  True  True  True  True  True  True  True  True\n",
            "  True  True  True  True  True  True  True  True  True  True  True  True\n",
            "  True  True  True  True]\n"
          ],
          "name": "stdout"
        }
      ]
    },
    {
      "cell_type": "markdown",
      "metadata": {
        "id": "eF6qUSxfe1bj"
      },
      "source": [
        "## Logistic regression using Statsmodels\n",
        "\n",
        "Now we do an exercise on a psychological dataset, collected by master student Phillippa. The data can be found [here](https://raw.githubusercontent.com/strongway/r-statistics/master/data/music_bisection.csv). \n",
        "\n",
        "In the study, same classic music pieces were manipulated and played in three different tempo: slow, medium, and faster. The length of the music piece was randomly select from 2 to 8 seconds. Participants had to judge if the music piece was a ‘short’ or a ‘long’ one. Participants had to estimate the ‘short’ or ‘long’ based on the past trials they received. The research question is if the music tempo alters the time judgment.\n",
        "\n",
        "In Statsmodels, we can use `.Logit()` function to fit logistic model. \n"
      ]
    },
    {
      "cell_type": "code",
      "metadata": {
        "colab": {
          "base_uri": "https://localhost:8080/",
          "height": 204
        },
        "id": "5sR3hK3PfB3X",
        "outputId": "35b7a556-188e-4483-c662-1ed09fe821c8"
      },
      "source": [
        "dat = pd.read_csv('https://raw.githubusercontent.com/strongway/r-statistics/master/data/music_bisection.csv', sep = ';')\n",
        "dat.head()\n"
      ],
      "execution_count": null,
      "outputs": [
        {
          "output_type": "execute_result",
          "data": {
            "text/html": [
              "<div>\n",
              "<style scoped>\n",
              "    .dataframe tbody tr th:only-of-type {\n",
              "        vertical-align: middle;\n",
              "    }\n",
              "\n",
              "    .dataframe tbody tr th {\n",
              "        vertical-align: top;\n",
              "    }\n",
              "\n",
              "    .dataframe thead th {\n",
              "        text-align: right;\n",
              "    }\n",
              "</style>\n",
              "<table border=\"1\" class=\"dataframe\">\n",
              "  <thead>\n",
              "    <tr style=\"text-align: right;\">\n",
              "      <th></th>\n",
              "      <th>Participant</th>\n",
              "      <th>Duration</th>\n",
              "      <th>Tempo</th>\n",
              "      <th>Stimuli_Nu</th>\n",
              "      <th>Decision</th>\n",
              "      <th>Music_Duration</th>\n",
              "    </tr>\n",
              "  </thead>\n",
              "  <tbody>\n",
              "    <tr>\n",
              "      <th>0</th>\n",
              "      <td>Sub101</td>\n",
              "      <td>2</td>\n",
              "      <td>1</td>\n",
              "      <td>10</td>\n",
              "      <td>1</td>\n",
              "      <td>2.001604</td>\n",
              "    </tr>\n",
              "    <tr>\n",
              "      <th>1</th>\n",
              "      <td>Sub101</td>\n",
              "      <td>6</td>\n",
              "      <td>3</td>\n",
              "      <td>10</td>\n",
              "      <td>2</td>\n",
              "      <td>6.000169</td>\n",
              "    </tr>\n",
              "    <tr>\n",
              "      <th>2</th>\n",
              "      <td>Sub101</td>\n",
              "      <td>5</td>\n",
              "      <td>1</td>\n",
              "      <td>4</td>\n",
              "      <td>2</td>\n",
              "      <td>5.000097</td>\n",
              "    </tr>\n",
              "    <tr>\n",
              "      <th>3</th>\n",
              "      <td>Sub101</td>\n",
              "      <td>7</td>\n",
              "      <td>1</td>\n",
              "      <td>8</td>\n",
              "      <td>2</td>\n",
              "      <td>7.000105</td>\n",
              "    </tr>\n",
              "    <tr>\n",
              "      <th>4</th>\n",
              "      <td>Sub101</td>\n",
              "      <td>2</td>\n",
              "      <td>3</td>\n",
              "      <td>1</td>\n",
              "      <td>1</td>\n",
              "      <td>2.000080</td>\n",
              "    </tr>\n",
              "  </tbody>\n",
              "</table>\n",
              "</div>"
            ],
            "text/plain": [
              "  Participant  Duration  Tempo  Stimuli_Nu  Decision  Music_Duration\n",
              "0      Sub101         2      1          10         1        2.001604\n",
              "1      Sub101         6      3          10         2        6.000169\n",
              "2      Sub101         5      1           4         2        5.000097\n",
              "3      Sub101         7      1           8         2        7.000105\n",
              "4      Sub101         2      3           1         1        2.000080"
            ]
          },
          "metadata": {
            "tags": []
          },
          "execution_count": 28
        }
      ]
    },
    {
      "cell_type": "code",
      "metadata": {
        "colab": {
          "base_uri": "https://localhost:8080/"
        },
        "id": "zOmaYYr5K9uX",
        "outputId": "3246e096-1e97-4dea-c331-21723765e4d9"
      },
      "source": [
        "#let's check how many subjects in the dataset\n",
        "dat.Participant.unique()"
      ],
      "execution_count": null,
      "outputs": [
        {
          "output_type": "execute_result",
          "data": {
            "text/plain": [
              "array(['Sub101', 'Sub102', 'Sub103'], dtype=object)"
            ]
          },
          "metadata": {
            "tags": []
          },
          "execution_count": 23
        }
      ]
    },
    {
      "cell_type": "code",
      "metadata": {
        "colab": {
          "base_uri": "https://localhost:8080/",
          "height": 519
        },
        "id": "jBDA6aNFfEiO",
        "outputId": "e06e7dfd-f057-465b-cea2-791918f52995"
      },
      "source": [
        "# quickly visualize responses for three participants\n",
        "dat.pivot_table( 'Decision', 'Duration','Participant' ).plot()"
      ],
      "execution_count": null,
      "outputs": [
        {
          "output_type": "execute_result",
          "data": {
            "text/plain": [
              "<matplotlib.axes._subplots.AxesSubplot at 0x7f41981b43c8>"
            ]
          },
          "metadata": {
            "tags": []
          },
          "execution_count": 27
        },
        {
          "output_type": "display_data",
          "data": {
            "image/png": "[encoded data removed]",
            "text/plain": [
              "<Figure size 720x576 with 1 Axes>"
            ]
          },
          "metadata": {
            "tags": []
          }
        }
      ]
    },
    {
      "cell_type": "code",
      "metadata": {
        "colab": {
          "base_uri": "https://localhost:8080/",
          "height": 519
        },
        "id": "c0zRDA8APWWZ",
        "outputId": "da9932d6-ebf6-4721-9f96-5b298f0a9139"
      },
      "source": [
        "# quickly visualize responses for three Tempi\n",
        "dat.pivot_table( 'Decision', 'Duration','Tempo' ).plot()"
      ],
      "execution_count": null,
      "outputs": [
        {
          "output_type": "execute_result",
          "data": {
            "text/plain": [
              "<matplotlib.axes._subplots.AxesSubplot at 0x7f418e1a7e10>"
            ]
          },
          "metadata": {
            "tags": []
          },
          "execution_count": 36
        },
        {
          "output_type": "display_data",
          "data": {
            "image/png": "[encoded data removed]",
            "text/plain": [
              "<Figure size 720x576 with 1 Axes>"
            ]
          },
          "metadata": {
            "tags": []
          }
        }
      ]
    },
    {
      "cell_type": "code",
      "metadata": {
        "colab": {
          "base_uri": "https://localhost:8080/"
        },
        "id": "HbgUh7GlfITC",
        "outputId": "70ae401a-9fc0-42d6-f00e-73fdd8bcacd5"
      },
      "source": [
        "# 3. we want to estimate individual conditions for individual participant, so we first get out unique subjects and unique tempi. \n",
        "\n",
        "Subjects = dat.Participant.unique()\n",
        "Tempi = dat.Tempo.unique()\n",
        "dat = dat.assign(resp = dat.Decision -1)\n",
        "#store thresholds \n",
        "thresholds = pd.DataFrame(np.zeros((3,3)),index = Subjects,columns = Tempi)\n",
        "\n",
        "for sub in Subjects:\n",
        "  for Tempo in Tempi:\n",
        "    curDat = dat.query(f\"Participant == '{sub}' & Tempo == {Tempo}\")\n",
        "    X = sm.add_constant(curDat.Duration) # we need the intercept, so add a contant column 1 here\n",
        "    log_reg = sm.Logit(curDat.resp,X).fit()\n",
        "    # below is calcualte the threshold p=0.5, x = - a/b (details in another session in Psychophysics)\n",
        "    thresholds.loc[sub, Tempo] = - log_reg.params.const/log_reg.params.Duration \n",
        "    print([sub, Tempo])\n",
        "    print(log_reg.summary())\n"
      ],
      "execution_count": null,
      "outputs": [
        {
          "output_type": "stream",
          "text": [
            "Optimization terminated successfully.\n",
            "         Current function value: 0.263577\n",
            "         Iterations 8\n",
            "['Sub101', 1]\n",
            "                           Logit Regression Results                           \n",
            "==============================================================================\n",
            "Dep. Variable:                   resp   No. Observations:                  140\n",
            "Model:                          Logit   Df Residuals:                      138\n",
            "Method:                           MLE   Df Model:                            1\n",
            "Date:                Sun, 29 Nov 2020   Pseudo R-squ.:                  0.5870\n",
            "Time:                        18:37:23   Log-Likelihood:                -36.901\n",
            "converged:                       True   LL-Null:                       -89.341\n",
            "Covariance Type:            nonrobust   LLR p-value:                 1.297e-24\n",
            "==============================================================================\n",
            "                 coef    std err          z      P>|z|      [0.025      0.975]\n",
            "------------------------------------------------------------------------------\n",
            "const        -10.6502      1.875     -5.680      0.000     -14.325      -6.975\n",
            "Duration       1.7293      0.303      5.709      0.000       1.136       2.323\n",
            "==============================================================================\n",
            "Optimization terminated successfully.\n",
            "         Current function value: 0.375010\n",
            "         Iterations 7\n",
            "['Sub101', 3]\n",
            "                           Logit Regression Results                           \n",
            "==============================================================================\n",
            "Dep. Variable:                   resp   No. Observations:                  140\n",
            "Model:                          Logit   Df Residuals:                      138\n",
            "Method:                           MLE   Df Model:                            1\n",
            "Date:                Sun, 29 Nov 2020   Pseudo R-squ.:                  0.4451\n",
            "Time:                        18:37:23   Log-Likelihood:                -52.501\n",
            "converged:                       True   LL-Null:                       -94.612\n",
            "Covariance Type:            nonrobust   LLR p-value:                 4.423e-20\n",
            "==============================================================================\n",
            "                 coef    std err          z      P>|z|      [0.025      0.975]\n",
            "------------------------------------------------------------------------------\n",
            "const         -6.5913      1.056     -6.240      0.000      -8.662      -4.521\n",
            "Duration       1.1617      0.184      6.307      0.000       0.801       1.523\n",
            "==============================================================================\n",
            "Optimization terminated successfully.\n",
            "         Current function value: 0.339025\n",
            "         Iterations 7\n",
            "['Sub101', 2]\n",
            "                           Logit Regression Results                           \n",
            "==============================================================================\n",
            "Dep. Variable:                   resp   No. Observations:                  140\n",
            "Model:                          Logit   Df Residuals:                      138\n",
            "Method:                           MLE   Df Model:                            1\n",
            "Date:                Sun, 29 Nov 2020   Pseudo R-squ.:                  0.4727\n",
            "Time:                        18:37:23   Log-Likelihood:                -47.464\n",
            "converged:                       True   LL-Null:                       -90.008\n",
            "Covariance Type:            nonrobust   LLR p-value:                 2.853e-20\n",
            "==============================================================================\n",
            "                 coef    std err          z      P>|z|      [0.025      0.975]\n",
            "------------------------------------------------------------------------------\n",
            "const         -7.8589      1.298     -6.055      0.000     -10.403      -5.315\n",
            "Duration       1.2815      0.212      6.044      0.000       0.866       1.697\n",
            "==============================================================================\n",
            "Optimization terminated successfully.\n",
            "         Current function value: 0.251414\n",
            "         Iterations 8\n",
            "['Sub102', 1]\n",
            "                           Logit Regression Results                           \n",
            "==============================================================================\n",
            "Dep. Variable:                   resp   No. Observations:                  140\n",
            "Model:                          Logit   Df Residuals:                      138\n",
            "Method:                           MLE   Df Model:                            1\n",
            "Date:                Sun, 29 Nov 2020   Pseudo R-squ.:                  0.6280\n",
            "Time:                        18:37:23   Log-Likelihood:                -35.198\n",
            "converged:                       True   LL-Null:                       -94.612\n",
            "Covariance Type:            nonrobust   LLR p-value:                 1.142e-27\n",
            "==============================================================================\n",
            "                 coef    std err          z      P>|z|      [0.025      0.975]\n",
            "------------------------------------------------------------------------------\n",
            "const         -8.0322      1.431     -5.612      0.000     -10.837      -5.227\n",
            "Duration       1.8475      0.321      5.761      0.000       1.219       2.476\n",
            "==============================================================================\n",
            "Optimization terminated successfully.\n",
            "         Current function value: 0.413735\n",
            "         Iterations 7\n",
            "['Sub102', 3]\n",
            "                           Logit Regression Results                           \n",
            "==============================================================================\n",
            "Dep. Variable:                   resp   No. Observations:                  140\n",
            "Model:                          Logit   Df Residuals:                      138\n",
            "Method:                           MLE   Df Model:                            1\n",
            "Date:                Sun, 29 Nov 2020   Pseudo R-squ.:                  0.3878\n",
            "Time:                        18:37:23   Log-Likelihood:                -57.923\n",
            "converged:                       True   LL-Null:                       -94.612\n",
            "Covariance Type:            nonrobust   LLR p-value:                 1.070e-17\n",
            "==============================================================================\n",
            "                 coef    std err          z      P>|z|      [0.025      0.975]\n",
            "------------------------------------------------------------------------------\n",
            "const         -4.3677      0.756     -5.777      0.000      -5.850      -2.886\n",
            "Duration       1.0134      0.161      6.275      0.000       0.697       1.330\n",
            "==============================================================================\n",
            "Optimization terminated successfully.\n",
            "         Current function value: 0.355169\n",
            "         Iterations 7\n",
            "['Sub102', 2]\n",
            "                           Logit Regression Results                           \n",
            "==============================================================================\n",
            "Dep. Variable:                   resp   No. Observations:                  140\n",
            "Model:                          Logit   Df Residuals:                      138\n",
            "Method:                           MLE   Df Model:                            1\n",
            "Date:                Sun, 29 Nov 2020   Pseudo R-squ.:                  0.4857\n",
            "Time:                        18:37:23   Log-Likelihood:                -49.724\n",
            "converged:                       True   LL-Null:                       -96.683\n",
            "Covariance Type:            nonrobust   LLR p-value:                 3.287e-22\n",
            "==============================================================================\n",
            "                 coef    std err          z      P>|z|      [0.025      0.975]\n",
            "------------------------------------------------------------------------------\n",
            "const         -5.9864      0.978     -6.124      0.000      -7.902      -4.070\n",
            "Duration       1.2618      0.198      6.378      0.000       0.874       1.650\n",
            "==============================================================================\n",
            "Optimization terminated successfully.\n",
            "         Current function value: 0.349591\n",
            "         Iterations 7\n",
            "['Sub103', 1]\n",
            "                           Logit Regression Results                           \n",
            "==============================================================================\n",
            "Dep. Variable:                   resp   No. Observations:                  140\n",
            "Model:                          Logit   Df Residuals:                      138\n",
            "Method:                           MLE   Df Model:                            1\n",
            "Date:                Sun, 29 Nov 2020   Pseudo R-squ.:                  0.4920\n",
            "Time:                        18:37:23   Log-Likelihood:                -48.943\n",
            "converged:                       True   LL-Null:                       -96.339\n",
            "Covariance Type:            nonrobust   LLR p-value:                 2.113e-22\n",
            "==============================================================================\n",
            "                 coef    std err          z      P>|z|      [0.025      0.975]\n",
            "------------------------------------------------------------------------------\n",
            "const         -5.9602      0.980     -6.082      0.000      -7.881      -4.040\n",
            "Duration       1.2839      0.202      6.350      0.000       0.888       1.680\n",
            "==============================================================================\n",
            "Optimization terminated successfully.\n",
            "         Current function value: 0.272002\n",
            "         Iterations 8\n",
            "['Sub103', 3]\n",
            "                           Logit Regression Results                           \n",
            "==============================================================================\n",
            "Dep. Variable:                   resp   No. Observations:                  140\n",
            "Model:                          Logit   Df Residuals:                      138\n",
            "Method:                           MLE   Df Model:                            1\n",
            "Date:                Sun, 29 Nov 2020   Pseudo R-squ.:                  0.5990\n",
            "Time:                        18:37:23   Log-Likelihood:                -38.080\n",
            "converged:                       True   LL-Null:                       -94.973\n",
            "Covariance Type:            nonrobust   LLR p-value:                 1.452e-26\n",
            "==============================================================================\n",
            "                 coef    std err          z      P>|z|      [0.025      0.975]\n",
            "------------------------------------------------------------------------------\n",
            "const         -7.4719      1.299     -5.751      0.000     -10.018      -4.925\n",
            "Duration       1.6994      0.287      5.928      0.000       1.138       2.261\n",
            "==============================================================================\n",
            "Optimization terminated successfully.\n",
            "         Current function value: 0.381504\n",
            "         Iterations 7\n",
            "['Sub103', 2]\n",
            "                           Logit Regression Results                           \n",
            "==============================================================================\n",
            "Dep. Variable:                   resp   No. Observations:                  140\n",
            "Model:                          Logit   Df Residuals:                      138\n",
            "Method:                           MLE   Df Model:                            1\n",
            "Date:                Sun, 29 Nov 2020   Pseudo R-squ.:                  0.4414\n",
            "Time:                        18:37:23   Log-Likelihood:                -53.411\n",
            "converged:                       True   LL-Null:                       -95.607\n",
            "Covariance Type:            nonrobust   LLR p-value:                 4.055e-20\n",
            "==============================================================================\n",
            "                 coef    std err          z      P>|z|      [0.025      0.975]\n",
            "------------------------------------------------------------------------------\n",
            "const         -5.1275      0.855     -5.994      0.000      -6.804      -3.451\n",
            "Duration       1.1442      0.180      6.360      0.000       0.792       1.497\n",
            "==============================================================================\n"
          ],
          "name": "stdout"
        }
      ]
    },
    {
      "cell_type": "code",
      "metadata": {
        "colab": {
          "base_uri": "https://localhost:8080/",
          "height": 142
        },
        "id": "ReOn55LcfLRD",
        "outputId": "cd619f79-34d5-44fd-e77d-3c46e0394afd"
      },
      "source": [
        "# Now let's check the thresholds (in seconds)\n",
        "thresholds"
      ],
      "execution_count": null,
      "outputs": [
        {
          "output_type": "execute_result",
          "data": {
            "text/html": [
              "<div>\n",
              "<style scoped>\n",
              "    .dataframe tbody tr th:only-of-type {\n",
              "        vertical-align: middle;\n",
              "    }\n",
              "\n",
              "    .dataframe tbody tr th {\n",
              "        vertical-align: top;\n",
              "    }\n",
              "\n",
              "    .dataframe thead th {\n",
              "        text-align: right;\n",
              "    }\n",
              "</style>\n",
              "<table border=\"1\" class=\"dataframe\">\n",
              "  <thead>\n",
              "    <tr style=\"text-align: right;\">\n",
              "      <th></th>\n",
              "      <th>1</th>\n",
              "      <th>3</th>\n",
              "      <th>2</th>\n",
              "    </tr>\n",
              "  </thead>\n",
              "  <tbody>\n",
              "    <tr>\n",
              "      <th>Sub101</th>\n",
              "      <td>6.158646</td>\n",
              "      <td>5.673695</td>\n",
              "      <td>6.132493</td>\n",
              "    </tr>\n",
              "    <tr>\n",
              "      <th>Sub102</th>\n",
              "      <td>4.347650</td>\n",
              "      <td>4.309980</td>\n",
              "      <td>4.744174</td>\n",
              "    </tr>\n",
              "    <tr>\n",
              "      <th>Sub103</th>\n",
              "      <td>4.642341</td>\n",
              "      <td>4.396651</td>\n",
              "      <td>4.481357</td>\n",
              "    </tr>\n",
              "  </tbody>\n",
              "</table>\n",
              "</div>"
            ],
            "text/plain": [
              "               1         3         2\n",
              "Sub101  6.158646  5.673695  6.132493\n",
              "Sub102  4.347650  4.309980  4.744174\n",
              "Sub103  4.642341  4.396651  4.481357"
            ]
          },
          "metadata": {
            "tags": []
          },
          "execution_count": 51
        }
      ]
    },
    {
      "cell_type": "code",
      "metadata": {
        "colab": {
          "base_uri": "https://localhost:8080/"
        },
        "id": "SXe_3Qr9TF7C",
        "outputId": "e0b167ec-fc59-4219-df53-b6cb22f57773"
      },
      "source": [
        "# check the fast and slow tempo difference\n",
        "thresholds.loc[:,1] - thresholds.loc[:,3]"
      ],
      "execution_count": null,
      "outputs": [
        {
          "output_type": "execute_result",
          "data": {
            "text/plain": [
              "Sub101    0.484951\n",
              "Sub102    0.037670\n",
              "Sub103    0.245690\n",
              "dtype: float64"
            ]
          },
          "metadata": {
            "tags": []
          },
          "execution_count": 55
        }
      ]
    },
    {
      "cell_type": "markdown",
      "metadata": {
        "id": "8H3t6QHGOIC_"
      },
      "source": [
        "## Resources\n",
        "\n",
        "* [Linear Algebra for Theoretical Neuroscience by Ken Miller](http://www.columbia.edu/cu/neurotheory/Ken/math-notes/) \n",
        "* [Mathematics for Computational Neuroscience & Imaginng by John Porrill.](https://www.sheffield.ac.uk/polopoly_fs/1.13304!/file/maths.pdf) \n"
      ]
    }
  ]
}