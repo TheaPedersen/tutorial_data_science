{
  "nbformat": 4,
  "nbformat_minor": 0,
  "metadata": {
    "colab": {
      "name": "RT_analysis_with_Python.ipynb",
      "provenance": [],
      "collapsed_sections": [
        "sVs6HrkkteH1",
        "ecnxBD6Wv20l",
        "KPAnYiGNw_gu",
        "lqSgjn6Qxilk",
        "V-XKZ4F00Equ",
        "FDH_7fk7teH7",
        "4TPCKI_V2TbM",
        "XKnsSNwu29SZ",
        "bSQpqAWY4Gv-",
        "8-XbxlA744c2",
        "pCshLLNmteI-",
        "VKkDy9vrteJD",
        "QZygXzL1teJQ",
        "uznj_NJmteJZ",
        "uT2lRhswteJo"
      ]
    },
    "kernelspec": {
      "display_name": "Python 3",
      "language": "python",
      "name": "python3"
    }
  },
  "cells": [
    {
      "cell_type": "markdown",
      "metadata": {
        "id": "sVs6HrkkteH1"
      },
      "source": [
        "# Reaction time analyses with Python\n",
        "\n",
        "**Dr. Zhuanghua Shi, 2020**\n",
        "\n",
        "This tutorial serves as hands-on for the lecture \"Psychophysics\". In this tutorial, first we will go through the basic useage of [pandas](http://pandas.pydata.org) using chain rules. Some example for chain rules are from  [Tom Augspurger's notebook](http://nbviewer.jupyter.org/gist/TomAugspurger/6e052140eaa5fdb6e8c0).\n",
        "\n",
        "Note: `seaborn`, `matplotlib.pyplot` and `altair` provide plots for python, which we will not cover in this tutorial. "
      ]
    },
    {
      "cell_type": "code",
      "metadata": {
        "id": "f3fd3GgHteH3"
      },
      "source": [
        "# Some prep work to get the data from R and into pandas\n",
        "%matplotlib inline\n",
        "\n",
        "# pandas for data process, seaborn for plotting, in addition, matplotlib\n",
        "import pandas as pd\n",
        "import numpy as np\n",
        "import seaborn as sns\n",
        "import matplotlib.pyplot as plt\n",
        "import altair as alt\n",
        "\n",
        "pd.set_option(\"display.max_rows\", 15)"
      ],
      "execution_count": null,
      "outputs": []
    },
    {
      "cell_type": "markdown",
      "metadata": {
        "id": "ecnxBD6Wv20l"
      },
      "source": [
        "## 1. Import data to Colab Cloud (Optional)\n",
        "\n",
        "Colab provides cloud computing and collaboration with python notebook, but not natively for data sharing. Fortunately, there are several ways for sharing data. \n",
        "\n"
      ]
    },
    {
      "cell_type": "markdown",
      "metadata": {
        "id": "02uvXT7cxeMe"
      },
      "source": [
        "### Uploading files from your local file system\n",
        "\n",
        "You share the data using other cloud methods, and then upload files locally. `files.upload` returns a dictionary of the files which were uploaded.\n",
        "The dictionary is keyed by the file name, the value is the data which was uploaded."
      ]
    },
    {
      "cell_type": "code",
      "metadata": {
        "id": "igjf0uUKvHnV"
      },
      "source": [
        "from google.colab import files\n",
        "\n",
        "uploaded = files.upload()\n",
        "\n",
        "for fn in uploaded.keys():\n",
        "  print('User uploaded file \"{name}\" with length {length} bytes'.format(\n",
        "      name=fn, length=len(uploaded[fn])))"
      ],
      "execution_count": null,
      "outputs": []
    },
    {
      "cell_type": "markdown",
      "metadata": {
        "id": "MiNXo2gwx175"
      },
      "source": [
        "Another example, upload a csv file and import as pandas table.\n",
        "\n"
      ]
    },
    {
      "cell_type": "code",
      "metadata": {
        "id": "w_6HLddex9mg"
      },
      "source": [
        "import io\n",
        "from google.colab import files\n",
        "\n",
        "uploaded = files.upload()\n",
        "key, value = uploaded.popitem()\n",
        "df = pd.read_csv(io.BytesIO(value))\n",
        "df.head()"
      ],
      "execution_count": null,
      "outputs": []
    },
    {
      "cell_type": "markdown",
      "metadata": {
        "id": "KPAnYiGNw_gu"
      },
      "source": [
        "### Downloading files to your local file system\n",
        "\n",
        "`files.download` will invoke a browser download of the file to the user's local computer.\n"
      ]
    },
    {
      "cell_type": "code",
      "metadata": {
        "id": "sTN6VMlCxP8o"
      },
      "source": [
        "from google.colab import files\n",
        "\n",
        "with open('example.txt', 'w') as f:\n",
        "  f.write('some content')\n",
        "\n",
        "files.download('example.txt')"
      ],
      "execution_count": null,
      "outputs": []
    },
    {
      "cell_type": "markdown",
      "metadata": {
        "id": "lqSgjn6Qxilk"
      },
      "source": [
        "### Mounting Google Drive locally\n",
        "\n",
        "The example below shows how to mount your Google Drive in your virtual machine using an authorization code, and shows a couple of ways to write & read files there. Once executed, observe the new file (`foo.txt`) is visible in https://drive.google.com/\n",
        "\n",
        "Note this only supports reading and writing files; to programmatically change sharing settings etc use one of the other options below."
      ]
    },
    {
      "cell_type": "code",
      "metadata": {
        "id": "fLvPAL64xwIQ"
      },
      "source": [
        "from google.colab import drive\n",
        "drive.mount('/content/gdrive')"
      ],
      "execution_count": null,
      "outputs": []
    },
    {
      "cell_type": "markdown",
      "metadata": {
        "id": "V-XKZ4F00Equ"
      },
      "source": [
        "### Using internet URL\n",
        "\n",
        "If you store your data in some public available address, you can simply use URL to read in. "
      ]
    },
    {
      "cell_type": "code",
      "metadata": {
        "id": "7QIyF8xZ0Tz5",
        "colab": {
          "base_uri": "https://localhost:8080/",
          "height": 204
        },
        "outputId": "4f987b0c-0a6e-404f-deac-9b93c699c401"
      },
      "source": [
        "url = 'https://raw.githubusercontent.com/msenselab/dynamic_search/master/data/exp1.csv'\n",
        "dat = pd.read_csv(url)\n",
        "dat.head()"
      ],
      "execution_count": null,
      "outputs": [
        {
          "output_type": "execute_result",
          "data": {
            "text/html": [
              "<div>\n",
              "<style scoped>\n",
              "    .dataframe tbody tr th:only-of-type {\n",
              "        vertical-align: middle;\n",
              "    }\n",
              "\n",
              "    .dataframe tbody tr th {\n",
              "        vertical-align: top;\n",
              "    }\n",
              "\n",
              "    .dataframe thead th {\n",
              "        text-align: right;\n",
              "    }\n",
              "</style>\n",
              "<table border=\"1\" class=\"dataframe\">\n",
              "  <thead>\n",
              "    <tr style=\"text-align: right;\">\n",
              "      <th></th>\n",
              "      <th>target</th>\n",
              "      <th>setsize</th>\n",
              "      <th>dyn</th>\n",
              "      <th>resp</th>\n",
              "      <th>rt</th>\n",
              "      <th>sub</th>\n",
              "      <th>exp</th>\n",
              "      <th>correct</th>\n",
              "    </tr>\n",
              "  </thead>\n",
              "  <tbody>\n",
              "    <tr>\n",
              "      <th>0</th>\n",
              "      <td>Absent</td>\n",
              "      <td>12</td>\n",
              "      <td>Static</td>\n",
              "      <td>2</td>\n",
              "      <td>2.583007</td>\n",
              "      <td>1</td>\n",
              "      <td>1</td>\n",
              "      <td>1</td>\n",
              "    </tr>\n",
              "    <tr>\n",
              "      <th>1</th>\n",
              "      <td>Absent</td>\n",
              "      <td>8</td>\n",
              "      <td>Static</td>\n",
              "      <td>2</td>\n",
              "      <td>0.935967</td>\n",
              "      <td>1</td>\n",
              "      <td>1</td>\n",
              "      <td>1</td>\n",
              "    </tr>\n",
              "    <tr>\n",
              "      <th>2</th>\n",
              "      <td>Present</td>\n",
              "      <td>16</td>\n",
              "      <td>Static</td>\n",
              "      <td>1</td>\n",
              "      <td>0.794771</td>\n",
              "      <td>1</td>\n",
              "      <td>1</td>\n",
              "      <td>1</td>\n",
              "    </tr>\n",
              "    <tr>\n",
              "      <th>3</th>\n",
              "      <td>Present</td>\n",
              "      <td>8</td>\n",
              "      <td>Static</td>\n",
              "      <td>1</td>\n",
              "      <td>1.241838</td>\n",
              "      <td>1</td>\n",
              "      <td>1</td>\n",
              "      <td>1</td>\n",
              "    </tr>\n",
              "    <tr>\n",
              "      <th>4</th>\n",
              "      <td>Absent</td>\n",
              "      <td>12</td>\n",
              "      <td>Static</td>\n",
              "      <td>2</td>\n",
              "      <td>1.759485</td>\n",
              "      <td>1</td>\n",
              "      <td>1</td>\n",
              "      <td>1</td>\n",
              "    </tr>\n",
              "  </tbody>\n",
              "</table>\n",
              "</div>"
            ],
            "text/plain": [
              "    target  setsize     dyn  resp        rt  sub  exp  correct\n",
              "0   Absent       12  Static     2  2.583007    1    1        1\n",
              "1   Absent        8  Static     2  0.935967    1    1        1\n",
              "2  Present       16  Static     1  0.794771    1    1        1\n",
              "3  Present        8  Static     1  1.241838    1    1        1\n",
              "4   Absent       12  Static     2  1.759485    1    1        1"
            ]
          },
          "metadata": {
            "tags": []
          },
          "execution_count": 3
        }
      ]
    },
    {
      "cell_type": "markdown",
      "metadata": {
        "id": "FDH_7fk7teH7"
      },
      "source": [
        "## 2. Pandas Data Table Basic\n",
        "\n",
        "read and explore pandas data table. \n",
        "\n",
        "### Shape, list rows"
      ]
    },
    {
      "cell_type": "code",
      "metadata": {
        "id": "ciJS1CeAteIA",
        "colab": {
          "base_uri": "https://localhost:8080/"
        },
        "outputId": "34e58eff-2e73-443a-d063-dffd7b3145c0"
      },
      "source": [
        "dat.shape  # <--- The python code"
      ],
      "execution_count": null,
      "outputs": [
        {
          "output_type": "execute_result",
          "data": {
            "text/plain": [
              "(4620, 8)"
            ]
          },
          "metadata": {
            "tags": []
          },
          "execution_count": 4
        }
      ]
    },
    {
      "cell_type": "markdown",
      "metadata": {
        "id": "wr3fb1zgteIF"
      },
      "source": [
        "To view the data, use `.head()` or `.tail()` function"
      ]
    },
    {
      "cell_type": "code",
      "metadata": {
        "id": "4ULGK6q0teIG",
        "colab": {
          "base_uri": "https://localhost:8080/",
          "height": 204
        },
        "outputId": "a864a433-6175-4c16-dfbd-8c58ee900ccc"
      },
      "source": [
        "dat.tail()"
      ],
      "execution_count": null,
      "outputs": [
        {
          "output_type": "execute_result",
          "data": {
            "text/html": [
              "<div>\n",
              "<style scoped>\n",
              "    .dataframe tbody tr th:only-of-type {\n",
              "        vertical-align: middle;\n",
              "    }\n",
              "\n",
              "    .dataframe tbody tr th {\n",
              "        vertical-align: top;\n",
              "    }\n",
              "\n",
              "    .dataframe thead th {\n",
              "        text-align: right;\n",
              "    }\n",
              "</style>\n",
              "<table border=\"1\" class=\"dataframe\">\n",
              "  <thead>\n",
              "    <tr style=\"text-align: right;\">\n",
              "      <th></th>\n",
              "      <th>target</th>\n",
              "      <th>setsize</th>\n",
              "      <th>dyn</th>\n",
              "      <th>resp</th>\n",
              "      <th>rt</th>\n",
              "      <th>sub</th>\n",
              "      <th>exp</th>\n",
              "      <th>correct</th>\n",
              "    </tr>\n",
              "  </thead>\n",
              "  <tbody>\n",
              "    <tr>\n",
              "      <th>4615</th>\n",
              "      <td>Present</td>\n",
              "      <td>16</td>\n",
              "      <td>Static</td>\n",
              "      <td>1</td>\n",
              "      <td>0.571045</td>\n",
              "      <td>11</td>\n",
              "      <td>1</td>\n",
              "      <td>1</td>\n",
              "    </tr>\n",
              "    <tr>\n",
              "      <th>4616</th>\n",
              "      <td>Absent</td>\n",
              "      <td>12</td>\n",
              "      <td>Static</td>\n",
              "      <td>2</td>\n",
              "      <td>1.100499</td>\n",
              "      <td>11</td>\n",
              "      <td>1</td>\n",
              "      <td>1</td>\n",
              "    </tr>\n",
              "    <tr>\n",
              "      <th>4617</th>\n",
              "      <td>Absent</td>\n",
              "      <td>8</td>\n",
              "      <td>Static</td>\n",
              "      <td>2</td>\n",
              "      <td>1.029907</td>\n",
              "      <td>11</td>\n",
              "      <td>1</td>\n",
              "      <td>1</td>\n",
              "    </tr>\n",
              "    <tr>\n",
              "      <th>4618</th>\n",
              "      <td>Absent</td>\n",
              "      <td>12</td>\n",
              "      <td>Static</td>\n",
              "      <td>2</td>\n",
              "      <td>0.994617</td>\n",
              "      <td>11</td>\n",
              "      <td>1</td>\n",
              "      <td>1</td>\n",
              "    </tr>\n",
              "    <tr>\n",
              "      <th>4619</th>\n",
              "      <td>Absent</td>\n",
              "      <td>16</td>\n",
              "      <td>Static</td>\n",
              "      <td>2</td>\n",
              "      <td>1.253425</td>\n",
              "      <td>11</td>\n",
              "      <td>1</td>\n",
              "      <td>1</td>\n",
              "    </tr>\n",
              "  </tbody>\n",
              "</table>\n",
              "</div>"
            ],
            "text/plain": [
              "       target  setsize     dyn  resp        rt  sub  exp  correct\n",
              "4615  Present       16  Static     1  0.571045   11    1        1\n",
              "4616   Absent       12  Static     2  1.100499   11    1        1\n",
              "4617   Absent        8  Static     2  1.029907   11    1        1\n",
              "4618   Absent       12  Static     2  0.994617   11    1        1\n",
              "4619   Absent       16  Static     2  1.253425   11    1        1"
            ]
          },
          "metadata": {
            "tags": []
          },
          "execution_count": 5
        }
      ]
    },
    {
      "cell_type": "markdown",
      "metadata": {
        "id": "1v-YD7To1wI_"
      },
      "source": [
        "__Your task:__ Please list the first 10 rows of the data. "
      ]
    },
    {
      "cell_type": "code",
      "metadata": {
        "id": "WzjwKafT2UwB"
      },
      "source": [
        "# your code here:"
      ],
      "execution_count": null,
      "outputs": []
    },
    {
      "cell_type": "markdown",
      "metadata": {
        "id": "4TPCKI_V2TbM"
      },
      "source": [
        "### __Solution__:"
      ]
    },
    {
      "cell_type": "code",
      "metadata": {
        "id": "NzPeJUFL2grz"
      },
      "source": [
        "dat.head(10)"
      ],
      "execution_count": null,
      "outputs": []
    },
    {
      "cell_type": "markdown",
      "metadata": {
        "id": "XKnsSNwu29SZ"
      },
      "source": [
        "### Statistical summary"
      ]
    },
    {
      "cell_type": "code",
      "metadata": {
        "id": "_EOUJHXbteIK",
        "colab": {
          "base_uri": "https://localhost:8080/",
          "height": 233
        },
        "outputId": "8d00918f-c751-43ac-fb1c-b8004bd18056"
      },
      "source": [
        "# show some descriptive summary\n",
        "# summary(dat)\n",
        "dat.describe()"
      ],
      "execution_count": null,
      "outputs": [
        {
          "output_type": "execute_result",
          "data": {
            "text/html": [
              "<div>\n",
              "<style scoped>\n",
              "    .dataframe tbody tr th:only-of-type {\n",
              "        vertical-align: middle;\n",
              "    }\n",
              "\n",
              "    .dataframe tbody tr th {\n",
              "        vertical-align: top;\n",
              "    }\n",
              "\n",
              "    .dataframe thead th {\n",
              "        text-align: right;\n",
              "    }\n",
              "</style>\n",
              "<table border=\"1\" class=\"dataframe\">\n",
              "  <thead>\n",
              "    <tr style=\"text-align: right;\">\n",
              "      <th></th>\n",
              "      <th>setsize</th>\n",
              "      <th>resp</th>\n",
              "      <th>rt</th>\n",
              "      <th>sub</th>\n",
              "      <th>exp</th>\n",
              "      <th>correct</th>\n",
              "    </tr>\n",
              "  </thead>\n",
              "  <tbody>\n",
              "    <tr>\n",
              "      <th>count</th>\n",
              "      <td>4620.0</td>\n",
              "      <td>4620.000000</td>\n",
              "      <td>4620.000000</td>\n",
              "      <td>4620.0</td>\n",
              "      <td>4620.0</td>\n",
              "      <td>4620.000000</td>\n",
              "    </tr>\n",
              "    <tr>\n",
              "      <th>mean</th>\n",
              "      <td>12.0</td>\n",
              "      <td>1.467965</td>\n",
              "      <td>1.530554</td>\n",
              "      <td>6.0</td>\n",
              "      <td>1.0</td>\n",
              "      <td>0.934416</td>\n",
              "    </tr>\n",
              "    <tr>\n",
              "      <th>...</th>\n",
              "      <td>...</td>\n",
              "      <td>...</td>\n",
              "      <td>...</td>\n",
              "      <td>...</td>\n",
              "      <td>...</td>\n",
              "      <td>...</td>\n",
              "    </tr>\n",
              "    <tr>\n",
              "      <th>75%</th>\n",
              "      <td>16.0</td>\n",
              "      <td>2.000000</td>\n",
              "      <td>1.994610</td>\n",
              "      <td>9.0</td>\n",
              "      <td>1.0</td>\n",
              "      <td>1.000000</td>\n",
              "    </tr>\n",
              "    <tr>\n",
              "      <th>max</th>\n",
              "      <td>16.0</td>\n",
              "      <td>2.000000</td>\n",
              "      <td>5.041658</td>\n",
              "      <td>11.0</td>\n",
              "      <td>1.0</td>\n",
              "      <td>1.000000</td>\n",
              "    </tr>\n",
              "  </tbody>\n",
              "</table>\n",
              "<p>8 rows × 6 columns</p>\n",
              "</div>"
            ],
            "text/plain": [
              "       setsize         resp           rt     sub     exp      correct\n",
              "count   4620.0  4620.000000  4620.000000  4620.0  4620.0  4620.000000\n",
              "mean      12.0     1.467965     1.530554     6.0     1.0     0.934416\n",
              "...        ...          ...          ...     ...     ...          ...\n",
              "75%       16.0     2.000000     1.994610     9.0     1.0     1.000000\n",
              "max       16.0     2.000000     5.041658    11.0     1.0     1.000000\n",
              "\n",
              "[8 rows x 6 columns]"
            ]
          },
          "metadata": {
            "tags": []
          },
          "execution_count": 6
        }
      ]
    },
    {
      "cell_type": "code",
      "metadata": {
        "id": "PQJY9EtHteIO",
        "colab": {
          "base_uri": "https://localhost:8080/"
        },
        "outputId": "67381822-a526-464d-e88a-3888faf12902"
      },
      "source": [
        "# show unique of one column\n",
        "dat.setsize.unique()"
      ],
      "execution_count": null,
      "outputs": [
        {
          "output_type": "execute_result",
          "data": {
            "text/plain": [
              "array([12,  8, 16])"
            ]
          },
          "metadata": {
            "tags": []
          },
          "execution_count": 7
        }
      ]
    },
    {
      "cell_type": "code",
      "metadata": {
        "id": "_G_i7h6ZteIR"
      },
      "source": [
        "dat['sub'].unique()"
      ],
      "execution_count": null,
      "outputs": []
    },
    {
      "cell_type": "code",
      "metadata": {
        "id": "7mCMA_sQteIU"
      },
      "source": [
        "type(dat.resp)"
      ],
      "execution_count": null,
      "outputs": []
    },
    {
      "cell_type": "markdown",
      "metadata": {
        "id": "bSQpqAWY4Gv-"
      },
      "source": [
        "### Indexing, slicing and subsetting in Pandas\n",
        "\n",
        "Indexing, slicing and subsettings are basic data manipulation. For example, we need to select specific subject for further data exploring, or we need to exclude error trials etc. \n",
        "\n",
        "\n"
      ]
    },
    {
      "cell_type": "markdown",
      "metadata": {
        "id": "FiHWiD53x23B"
      },
      "source": [
        "#### Doing in matlab way\n",
        "\n",
        "Pandas is a matrix, so you can index using standard matlab way. "
      ]
    },
    {
      "cell_type": "code",
      "metadata": {
        "id": "ZnWzo80Y46JY"
      },
      "source": [
        "# show the first 5 rows\n",
        "dat[:5]"
      ],
      "execution_count": null,
      "outputs": []
    },
    {
      "cell_type": "code",
      "metadata": {
        "id": "8YVUGThg5BNj"
      },
      "source": [
        "# select first 3 rows, first 3 columns\n",
        "dat.iloc[:3,:3]"
      ],
      "execution_count": null,
      "outputs": []
    },
    {
      "cell_type": "code",
      "metadata": {
        "id": "HooznWEr5sya"
      },
      "source": [
        "# select target, setsize, and rt\n",
        "dat.loc[:,['target','setsize','rt']].head()"
      ],
      "execution_count": null,
      "outputs": []
    },
    {
      "cell_type": "markdown",
      "metadata": {
        "id": "8-XbxlA744c2"
      },
      "source": [
        "#### Using query() to filter rows\n",
        "\n",
        "Pandas `query()` function is powerful for subsecting the data. "
      ]
    },
    {
      "cell_type": "code",
      "metadata": {
        "id": "zPMFsXux6EEy"
      },
      "source": [
        "# select subject 1\n",
        "dat.query('sub == 1 & correct == 1 & dyn == \"Static\"')"
      ],
      "execution_count": null,
      "outputs": []
    },
    {
      "cell_type": "markdown",
      "metadata": {
        "id": "pCshLLNmteI-"
      },
      "source": [
        "### Selecting columns using []"
      ]
    },
    {
      "cell_type": "code",
      "metadata": {
        "id": "1N12sNpQteI_",
        "colab": {
          "base_uri": "https://localhost:8080/",
          "height": 233
        },
        "outputId": "7290ddf5-ceb4-407a-ce83-f204d7338e57"
      },
      "source": [
        "dat[['sub', 'setsize', 'rt']]"
      ],
      "execution_count": null,
      "outputs": [
        {
          "output_type": "execute_result",
          "data": {
            "text/html": [
              "<div>\n",
              "<style scoped>\n",
              "    .dataframe tbody tr th:only-of-type {\n",
              "        vertical-align: middle;\n",
              "    }\n",
              "\n",
              "    .dataframe tbody tr th {\n",
              "        vertical-align: top;\n",
              "    }\n",
              "\n",
              "    .dataframe thead th {\n",
              "        text-align: right;\n",
              "    }\n",
              "</style>\n",
              "<table border=\"1\" class=\"dataframe\">\n",
              "  <thead>\n",
              "    <tr style=\"text-align: right;\">\n",
              "      <th></th>\n",
              "      <th>sub</th>\n",
              "      <th>setsize</th>\n",
              "      <th>rt</th>\n",
              "    </tr>\n",
              "  </thead>\n",
              "  <tbody>\n",
              "    <tr>\n",
              "      <th>0</th>\n",
              "      <td>1</td>\n",
              "      <td>12</td>\n",
              "      <td>2.583007</td>\n",
              "    </tr>\n",
              "    <tr>\n",
              "      <th>1</th>\n",
              "      <td>1</td>\n",
              "      <td>8</td>\n",
              "      <td>0.935967</td>\n",
              "    </tr>\n",
              "    <tr>\n",
              "      <th>...</th>\n",
              "      <td>...</td>\n",
              "      <td>...</td>\n",
              "      <td>...</td>\n",
              "    </tr>\n",
              "    <tr>\n",
              "      <th>4618</th>\n",
              "      <td>11</td>\n",
              "      <td>12</td>\n",
              "      <td>0.994617</td>\n",
              "    </tr>\n",
              "    <tr>\n",
              "      <th>4619</th>\n",
              "      <td>11</td>\n",
              "      <td>16</td>\n",
              "      <td>1.253425</td>\n",
              "    </tr>\n",
              "  </tbody>\n",
              "</table>\n",
              "<p>4620 rows × 3 columns</p>\n",
              "</div>"
            ],
            "text/plain": [
              "      sub  setsize        rt\n",
              "0       1       12  2.583007\n",
              "1       1        8  0.935967\n",
              "...   ...      ...       ...\n",
              "4618   11       12  0.994617\n",
              "4619   11       16  1.253425\n",
              "\n",
              "[4620 rows x 3 columns]"
            ]
          },
          "metadata": {
            "tags": []
          },
          "execution_count": 4
        }
      ]
    },
    {
      "cell_type": "code",
      "metadata": {
        "colab": {
          "base_uri": "https://localhost:8080/",
          "height": 233
        },
        "id": "tQXLOP87yQ4u",
        "outputId": "6b3d18bd-bba4-4f9b-c197-cf4b4d7f6f07"
      },
      "source": [
        "# using columns\n",
        "dat[dat.columns[1:4]]"
      ],
      "execution_count": null,
      "outputs": [
        {
          "output_type": "execute_result",
          "data": {
            "text/html": [
              "<div>\n",
              "<style scoped>\n",
              "    .dataframe tbody tr th:only-of-type {\n",
              "        vertical-align: middle;\n",
              "    }\n",
              "\n",
              "    .dataframe tbody tr th {\n",
              "        vertical-align: top;\n",
              "    }\n",
              "\n",
              "    .dataframe thead th {\n",
              "        text-align: right;\n",
              "    }\n",
              "</style>\n",
              "<table border=\"1\" class=\"dataframe\">\n",
              "  <thead>\n",
              "    <tr style=\"text-align: right;\">\n",
              "      <th></th>\n",
              "      <th>setsize</th>\n",
              "      <th>dyn</th>\n",
              "      <th>resp</th>\n",
              "    </tr>\n",
              "  </thead>\n",
              "  <tbody>\n",
              "    <tr>\n",
              "      <th>0</th>\n",
              "      <td>12</td>\n",
              "      <td>Static</td>\n",
              "      <td>2</td>\n",
              "    </tr>\n",
              "    <tr>\n",
              "      <th>1</th>\n",
              "      <td>8</td>\n",
              "      <td>Static</td>\n",
              "      <td>2</td>\n",
              "    </tr>\n",
              "    <tr>\n",
              "      <th>...</th>\n",
              "      <td>...</td>\n",
              "      <td>...</td>\n",
              "      <td>...</td>\n",
              "    </tr>\n",
              "    <tr>\n",
              "      <th>4618</th>\n",
              "      <td>12</td>\n",
              "      <td>Static</td>\n",
              "      <td>2</td>\n",
              "    </tr>\n",
              "    <tr>\n",
              "      <th>4619</th>\n",
              "      <td>16</td>\n",
              "      <td>Static</td>\n",
              "      <td>2</td>\n",
              "    </tr>\n",
              "  </tbody>\n",
              "</table>\n",
              "<p>4620 rows × 3 columns</p>\n",
              "</div>"
            ],
            "text/plain": [
              "      setsize     dyn  resp\n",
              "0          12  Static     2\n",
              "1           8  Static     2\n",
              "...       ...     ...   ...\n",
              "4618       12  Static     2\n",
              "4619       16  Static     2\n",
              "\n",
              "[4620 rows x 3 columns]"
            ]
          },
          "metadata": {
            "tags": []
          },
          "execution_count": 5
        }
      ]
    },
    {
      "cell_type": "markdown",
      "metadata": {
        "id": "VKkDy9vrteJD"
      },
      "source": [
        "### Rename\n",
        "\n",
        "Similar to `.replace()`, `.rename()` function also copies the data and return a new object. So you need to store it in a new object. "
      ]
    },
    {
      "cell_type": "code",
      "metadata": {
        "id": "NqfRyoS2teJD",
        "colab": {
          "base_uri": "https://localhost:8080/",
          "height": 204
        },
        "outputId": "7a0c90f5-162e-43f9-87f1-0e0db57ba1f7"
      },
      "source": [
        "ndata = dat.rename(columns={'dyn': 'Display'})\n",
        "ndata.head()"
      ],
      "execution_count": null,
      "outputs": [
        {
          "output_type": "execute_result",
          "data": {
            "text/html": [
              "<div>\n",
              "<style scoped>\n",
              "    .dataframe tbody tr th:only-of-type {\n",
              "        vertical-align: middle;\n",
              "    }\n",
              "\n",
              "    .dataframe tbody tr th {\n",
              "        vertical-align: top;\n",
              "    }\n",
              "\n",
              "    .dataframe thead th {\n",
              "        text-align: right;\n",
              "    }\n",
              "</style>\n",
              "<table border=\"1\" class=\"dataframe\">\n",
              "  <thead>\n",
              "    <tr style=\"text-align: right;\">\n",
              "      <th></th>\n",
              "      <th>target</th>\n",
              "      <th>setsize</th>\n",
              "      <th>Display</th>\n",
              "      <th>resp</th>\n",
              "      <th>rt</th>\n",
              "      <th>sub</th>\n",
              "      <th>exp</th>\n",
              "      <th>correct</th>\n",
              "    </tr>\n",
              "  </thead>\n",
              "  <tbody>\n",
              "    <tr>\n",
              "      <th>0</th>\n",
              "      <td>Absent</td>\n",
              "      <td>12</td>\n",
              "      <td>Static</td>\n",
              "      <td>2</td>\n",
              "      <td>2.583007</td>\n",
              "      <td>1</td>\n",
              "      <td>1</td>\n",
              "      <td>1</td>\n",
              "    </tr>\n",
              "    <tr>\n",
              "      <th>1</th>\n",
              "      <td>Absent</td>\n",
              "      <td>8</td>\n",
              "      <td>Static</td>\n",
              "      <td>2</td>\n",
              "      <td>0.935967</td>\n",
              "      <td>1</td>\n",
              "      <td>1</td>\n",
              "      <td>1</td>\n",
              "    </tr>\n",
              "    <tr>\n",
              "      <th>2</th>\n",
              "      <td>Present</td>\n",
              "      <td>16</td>\n",
              "      <td>Static</td>\n",
              "      <td>1</td>\n",
              "      <td>0.794771</td>\n",
              "      <td>1</td>\n",
              "      <td>1</td>\n",
              "      <td>1</td>\n",
              "    </tr>\n",
              "    <tr>\n",
              "      <th>3</th>\n",
              "      <td>Present</td>\n",
              "      <td>8</td>\n",
              "      <td>Static</td>\n",
              "      <td>1</td>\n",
              "      <td>1.241838</td>\n",
              "      <td>1</td>\n",
              "      <td>1</td>\n",
              "      <td>1</td>\n",
              "    </tr>\n",
              "    <tr>\n",
              "      <th>4</th>\n",
              "      <td>Absent</td>\n",
              "      <td>12</td>\n",
              "      <td>Static</td>\n",
              "      <td>2</td>\n",
              "      <td>1.759485</td>\n",
              "      <td>1</td>\n",
              "      <td>1</td>\n",
              "      <td>1</td>\n",
              "    </tr>\n",
              "  </tbody>\n",
              "</table>\n",
              "</div>"
            ],
            "text/plain": [
              "    target  setsize Display  resp        rt  sub  exp  correct\n",
              "0   Absent       12  Static     2  2.583007    1    1        1\n",
              "1   Absent        8  Static     2  0.935967    1    1        1\n",
              "2  Present       16  Static     1  0.794771    1    1        1\n",
              "3  Present        8  Static     1  1.241838    1    1        1\n",
              "4   Absent       12  Static     2  1.759485    1    1        1"
            ]
          },
          "metadata": {
            "tags": []
          },
          "execution_count": 8
        }
      ]
    },
    {
      "cell_type": "markdown",
      "metadata": {
        "id": "-V5uJvjateJH"
      },
      "source": [
        "Pandas is more verbose, but the the argument to `columns` can be any mapping. So it's often used with a function to perform a common task, say `df.rename(columns=lambda x: x.replace('-', '_'))` to replace any dashes with underscores. Also, ``rename`` (the pandas version) can be applied to the Index."
      ]
    },
    {
      "cell_type": "markdown",
      "metadata": {
        "id": "QZygXzL1teJQ"
      },
      "source": [
        "### Add new columns with assign() "
      ]
    },
    {
      "cell_type": "markdown",
      "metadata": {
        "id": "XjKwRYBP7mJS"
      },
      "source": [
        ""
      ]
    },
    {
      "cell_type": "code",
      "metadata": {
        "id": "rv-VVi94teJR",
        "colab": {
          "base_uri": "https://localhost:8080/",
          "height": 233
        },
        "outputId": "b8ff87c5-d00e-4c2d-87d6-0f0cf971c947"
      },
      "source": [
        "ndata.assign(rtms=ndata.rt*1000)"
      ],
      "execution_count": null,
      "outputs": [
        {
          "output_type": "execute_result",
          "data": {
            "text/html": [
              "<div>\n",
              "<style scoped>\n",
              "    .dataframe tbody tr th:only-of-type {\n",
              "        vertical-align: middle;\n",
              "    }\n",
              "\n",
              "    .dataframe tbody tr th {\n",
              "        vertical-align: top;\n",
              "    }\n",
              "\n",
              "    .dataframe thead th {\n",
              "        text-align: right;\n",
              "    }\n",
              "</style>\n",
              "<table border=\"1\" class=\"dataframe\">\n",
              "  <thead>\n",
              "    <tr style=\"text-align: right;\">\n",
              "      <th></th>\n",
              "      <th>target</th>\n",
              "      <th>setsize</th>\n",
              "      <th>Display</th>\n",
              "      <th>resp</th>\n",
              "      <th>rt</th>\n",
              "      <th>sub</th>\n",
              "      <th>exp</th>\n",
              "      <th>correct</th>\n",
              "      <th>rtms</th>\n",
              "    </tr>\n",
              "  </thead>\n",
              "  <tbody>\n",
              "    <tr>\n",
              "      <th>0</th>\n",
              "      <td>Absent</td>\n",
              "      <td>12</td>\n",
              "      <td>Static</td>\n",
              "      <td>2</td>\n",
              "      <td>2.583007</td>\n",
              "      <td>1</td>\n",
              "      <td>1</td>\n",
              "      <td>1</td>\n",
              "      <td>2583.006817</td>\n",
              "    </tr>\n",
              "    <tr>\n",
              "      <th>1</th>\n",
              "      <td>Absent</td>\n",
              "      <td>8</td>\n",
              "      <td>Static</td>\n",
              "      <td>2</td>\n",
              "      <td>0.935967</td>\n",
              "      <td>1</td>\n",
              "      <td>1</td>\n",
              "      <td>1</td>\n",
              "      <td>935.967064</td>\n",
              "    </tr>\n",
              "    <tr>\n",
              "      <th>...</th>\n",
              "      <td>...</td>\n",
              "      <td>...</td>\n",
              "      <td>...</td>\n",
              "      <td>...</td>\n",
              "      <td>...</td>\n",
              "      <td>...</td>\n",
              "      <td>...</td>\n",
              "      <td>...</td>\n",
              "      <td>...</td>\n",
              "    </tr>\n",
              "    <tr>\n",
              "      <th>4618</th>\n",
              "      <td>Absent</td>\n",
              "      <td>12</td>\n",
              "      <td>Static</td>\n",
              "      <td>2</td>\n",
              "      <td>0.994617</td>\n",
              "      <td>11</td>\n",
              "      <td>1</td>\n",
              "      <td>1</td>\n",
              "      <td>994.616595</td>\n",
              "    </tr>\n",
              "    <tr>\n",
              "      <th>4619</th>\n",
              "      <td>Absent</td>\n",
              "      <td>16</td>\n",
              "      <td>Static</td>\n",
              "      <td>2</td>\n",
              "      <td>1.253425</td>\n",
              "      <td>11</td>\n",
              "      <td>1</td>\n",
              "      <td>1</td>\n",
              "      <td>1253.424773</td>\n",
              "    </tr>\n",
              "  </tbody>\n",
              "</table>\n",
              "<p>4620 rows × 9 columns</p>\n",
              "</div>"
            ],
            "text/plain": [
              "      target  setsize Display  resp        rt  sub  exp  correct         rtms\n",
              "0     Absent       12  Static     2  2.583007    1    1        1  2583.006817\n",
              "1     Absent        8  Static     2  0.935967    1    1        1   935.967064\n",
              "...      ...      ...     ...   ...       ...  ...  ...      ...          ...\n",
              "4618  Absent       12  Static     2  0.994617   11    1        1   994.616595\n",
              "4619  Absent       16  Static     2  1.253425   11    1        1  1253.424773\n",
              "\n",
              "[4620 rows x 9 columns]"
            ]
          },
          "metadata": {
            "tags": []
          },
          "execution_count": 9
        }
      ]
    },
    {
      "cell_type": "code",
      "metadata": {
        "id": "DKVvoRuYteJV"
      },
      "source": [
        "# if you have multiple assign in a chain, you need to explicit to say the dataframe.\n",
        "\n",
        "ndata.assign(rtms=ndata.rt*1000).assign(inv_rt = lambda df: 1/df.rtms)"
      ],
      "execution_count": null,
      "outputs": []
    },
    {
      "cell_type": "markdown",
      "metadata": {
        "id": "uznj_NJmteJZ"
      },
      "source": [
        "### Summarise values with summarise()"
      ]
    },
    {
      "cell_type": "code",
      "metadata": {
        "id": "sv4P3f5MteJa",
        "colab": {
          "base_uri": "https://localhost:8080/"
        },
        "outputId": "a595b233-c8c3-4349-e0e9-349163c92d8f"
      },
      "source": [
        "# summarise(ndata,\n",
        "#   rt = mean(rt, na.rm = TRUE))\n",
        "ndata.rt.mean()"
      ],
      "execution_count": null,
      "outputs": [
        {
          "output_type": "execute_result",
          "data": {
            "text/plain": [
              "1.530554442586771"
            ]
          },
          "metadata": {
            "tags": []
          },
          "execution_count": 10
        }
      ]
    },
    {
      "cell_type": "markdown",
      "metadata": {
        "id": "0uuLgEhkteJe"
      },
      "source": [
        "This is only roughly equivalent.\n",
        "`summarise` takes a callable (e.g. `mean`, `sum`) and evaluates that on the DataFrame. In pandas these are spread across `pd.DataFrame.mean`, `pd.DataFrame.sum`. This will come up again when we look at `groupby`."
      ]
    },
    {
      "cell_type": "markdown",
      "metadata": {
        "id": "uT2lRhswteJo"
      },
      "source": [
        "### Grouping, aggregating, and Chaining\n",
        "\n",
        "Note: Pandas uses `.groupby()` function, but you need to aware that pandas `.groupby()` will **<font color = 'red'>put grouped variables into multi-index</font>**, so the columns after grouping will not include those grouped variables. If you want to put them back **as columns** for later usage, you need to add **`.reset_index()`**. \n",
        "\n",
        "Often, we want to calculate simple statistics across different conditions, such as `mean`, `sem`,`std` etc. We can use Pandas `agg()` function to do this. `agg()` accepts 'column_name: stat_function` format for aggregation. You can use multiple dictionary to aggregate multiple functions / columns. \n",
        "\n",
        "Using Python class function '.' to chain all operations together. "
      ]
    },
    {
      "cell_type": "code",
      "metadata": {
        "colab": {
          "base_uri": "https://localhost:8080/",
          "height": 418
        },
        "id": "J_1rbSnq1Mvg",
        "outputId": "958a386c-10e1-4167-da0a-459466f9d193"
      },
      "source": [
        "# let's average correct rate for each participants, and visualize it\n",
        "#ndata.groupby('sub').agg({'correct':np.mean}).plot.bar()\n",
        "\n",
        "#if you have only one column to aggregate. the following code will do the same\n",
        "macc = ndata.groupby('sub').correct.mean()#.plot.bar()\n",
        "print(macc)\n",
        "macc.plot.bar()"
      ],
      "execution_count": null,
      "outputs": [
        {
          "output_type": "stream",
          "text": [
            "sub\n",
            "1     0.976190\n",
            "2     0.959524\n",
            "        ...   \n",
            "10    0.954762\n",
            "11    0.947619\n",
            "Name: correct, Length: 11, dtype: float64\n"
          ],
          "name": "stdout"
        },
        {
          "output_type": "execute_result",
          "data": {
            "text/plain": [
              "<matplotlib.axes._subplots.AxesSubplot at 0x7efcf7099cf8>"
            ]
          },
          "metadata": {
            "tags": []
          },
          "execution_count": 13
        },
        {
          "output_type": "display_data",
          "data": {
            "image/png": "[encoded data removed]",
            "text/plain": [
              "<Figure size 432x288 with 1 Axes>"
            ]
          },
          "metadata": {
            "tags": [],
            "needs_background": "light"
          }
        }
      ]
    },
    {
      "cell_type": "code",
      "metadata": {
        "id": "xpK65RiTteJo",
        "colab": {
          "base_uri": "https://localhost:8080/",
          "height": 235
        },
        "outputId": "e1a912e7-fffb-4cd4-df4f-bbb9007ded7a"
      },
      "source": [
        "# now we want to average RTs for correct trials, separate for sub, target, setsize, and display\n",
        "mrt = ndata.query('correct == 1')\\\n",
        "  .groupby(  ['sub','target','setsize','Display'])\\\n",
        "    .agg({\"resp\":\"count\",\n",
        "         \"rt\":[\"mean\",\"sem\"]})\\\n",
        "    .rename(columns={\"resp\":\"count\"})\\\n",
        "    .reset_index()\n",
        "mrt.head()"
      ],
      "execution_count": null,
      "outputs": [
        {
          "output_type": "execute_result",
          "data": {
            "text/html": [
              "<div>\n",
              "<style scoped>\n",
              "    .dataframe tbody tr th:only-of-type {\n",
              "        vertical-align: middle;\n",
              "    }\n",
              "\n",
              "    .dataframe tbody tr th {\n",
              "        vertical-align: top;\n",
              "    }\n",
              "\n",
              "    .dataframe thead tr th {\n",
              "        text-align: left;\n",
              "    }\n",
              "</style>\n",
              "<table border=\"1\" class=\"dataframe\">\n",
              "  <thead>\n",
              "    <tr>\n",
              "      <th></th>\n",
              "      <th>sub</th>\n",
              "      <th>target</th>\n",
              "      <th>setsize</th>\n",
              "      <th>Display</th>\n",
              "      <th>count</th>\n",
              "      <th colspan=\"2\" halign=\"left\">rt</th>\n",
              "    </tr>\n",
              "    <tr>\n",
              "      <th></th>\n",
              "      <th></th>\n",
              "      <th></th>\n",
              "      <th></th>\n",
              "      <th></th>\n",
              "      <th>count</th>\n",
              "      <th>mean</th>\n",
              "      <th>sem</th>\n",
              "    </tr>\n",
              "  </thead>\n",
              "  <tbody>\n",
              "    <tr>\n",
              "      <th>0</th>\n",
              "      <td>1</td>\n",
              "      <td>Absent</td>\n",
              "      <td>8</td>\n",
              "      <td>Dynamic</td>\n",
              "      <td>35</td>\n",
              "      <td>2.566563</td>\n",
              "      <td>0.152087</td>\n",
              "    </tr>\n",
              "    <tr>\n",
              "      <th>1</th>\n",
              "      <td>1</td>\n",
              "      <td>Absent</td>\n",
              "      <td>8</td>\n",
              "      <td>Static</td>\n",
              "      <td>35</td>\n",
              "      <td>1.622023</td>\n",
              "      <td>0.089367</td>\n",
              "    </tr>\n",
              "    <tr>\n",
              "      <th>2</th>\n",
              "      <td>1</td>\n",
              "      <td>Absent</td>\n",
              "      <td>12</td>\n",
              "      <td>Dynamic</td>\n",
              "      <td>34</td>\n",
              "      <td>3.101724</td>\n",
              "      <td>0.134577</td>\n",
              "    </tr>\n",
              "    <tr>\n",
              "      <th>3</th>\n",
              "      <td>1</td>\n",
              "      <td>Absent</td>\n",
              "      <td>12</td>\n",
              "      <td>Static</td>\n",
              "      <td>35</td>\n",
              "      <td>2.053618</td>\n",
              "      <td>0.084191</td>\n",
              "    </tr>\n",
              "    <tr>\n",
              "      <th>4</th>\n",
              "      <td>1</td>\n",
              "      <td>Absent</td>\n",
              "      <td>16</td>\n",
              "      <td>Dynamic</td>\n",
              "      <td>32</td>\n",
              "      <td>2.898478</td>\n",
              "      <td>0.106577</td>\n",
              "    </tr>\n",
              "  </tbody>\n",
              "</table>\n",
              "</div>"
            ],
            "text/plain": [
              "  sub  target setsize  Display count        rt          \n",
              "                               count      mean       sem\n",
              "0   1  Absent       8  Dynamic    35  2.566563  0.152087\n",
              "1   1  Absent       8   Static    35  1.622023  0.089367\n",
              "2   1  Absent      12  Dynamic    34  3.101724  0.134577\n",
              "3   1  Absent      12   Static    35  2.053618  0.084191\n",
              "4   1  Absent      16  Dynamic    32  2.898478  0.106577"
            ]
          },
          "metadata": {
            "tags": []
          },
          "execution_count": 14
        }
      ]
    },
    {
      "cell_type": "markdown",
      "metadata": {
        "id": "JIzuXIx6teJt"
      },
      "source": [
        "Note, when python chains span over multiple lines, take care the indentation and add one '\\' at the previous line. \n",
        "\n",
        "I think pandas is more difficult for this particular example.\n",
        "There isn't as natural a way to mix column-agnostic aggregations (like ``count``) with column-specific aggregations like the other two. You end up writing could like `.agg{'resp': 'count'}` which reads, \"I want the count of `resp`\", even though you don't care about `resp` specifically. You could just as easily have said `.agg('Cond': 'count')`.\n",
        "Additionally assigning names can't be done as cleanly in pandas; you have to just follow it up with a ``rename`` like before."
      ]
    },
    {
      "cell_type": "markdown",
      "metadata": {
        "id": "RxFiDz1KteJt"
      },
      "source": [
        "The result is a `MultiIndex` in the columns which can be a bit awkard to work with (you can drop a level with `r.columns.droplevel()`). But `MultiIndex` has its own purpose, such as subsecting data (We will see later on). \n",
        "\n",
        "In the above example, if you want to read mean RT, you need to use mrt.rt['mean'], because it is muli-level columns. "
      ]
    },
    {
      "cell_type": "code",
      "metadata": {
        "colab": {
          "base_uri": "https://localhost:8080/"
        },
        "id": "m2JmdGEw2sde",
        "outputId": "bb538983-b795-4509-ffda-6f2068ea1fa4"
      },
      "source": [
        "mrt.rt['mean']"
      ],
      "execution_count": null,
      "outputs": [
        {
          "output_type": "execute_result",
          "data": {
            "text/plain": [
              "0      2.566563\n",
              "1      1.622023\n",
              "         ...   \n",
              "130    0.869591\n",
              "131    0.795092\n",
              "Name: mean, Length: 132, dtype: float64"
            ]
          },
          "metadata": {
            "tags": []
          },
          "execution_count": 24
        }
      ]
    },
    {
      "cell_type": "markdown",
      "metadata": {
        "id": "YO-Edm4kteJ_"
      },
      "source": [
        "# Explorative analysis of RTs\n",
        "\n",
        "\n",
        "The example we use is from a visual search study published in 2019:\n",
        "\n",
        "* Shi, Z., Allenmark, F., Zhu, X., Elliott, M. A., & Müller, H. J. (2019). To quit or not to quit in dynamic search. Attention, Perception & Psychophysics. https://doi.org/10.3758/s13414-019-01857-7\n",
        "\n",
        "The original data analysis and modelling were done in R. Here we use Python to do similar analysis. \n",
        "\n",
        "Explorative data analysis (EDA) often requires you to get familiar with data by various analysis. For RT analyses, usually we do followings:\n",
        "\n",
        "1. Check RT distributions (outliers)\n",
        "2. Error rates\n",
        "3. Mean RTs and relative statistics. "
      ]
    },
    {
      "cell_type": "markdown",
      "metadata": {
        "id": "aVcucTFS-1Ph"
      },
      "source": [
        "## Read raw data and RT distributions\n",
        "\n",
        "Import data as we have shown above. "
      ]
    },
    {
      "cell_type": "code",
      "metadata": {
        "colab": {
          "base_uri": "https://localhost:8080/",
          "height": 204
        },
        "id": "35g1aatz_ABF",
        "outputId": "ef13bfe9-0cec-49ec-87c9-e877e6eec366"
      },
      "source": [
        "url = 'https://raw.githubusercontent.com/msenselab/dynamic_search/master/data/exp1.csv'\n",
        "dat = pd.read_csv(url)\n",
        "dat.head()"
      ],
      "execution_count": null,
      "outputs": [
        {
          "output_type": "execute_result",
          "data": {
            "text/html": [
              "<div>\n",
              "<style scoped>\n",
              "    .dataframe tbody tr th:only-of-type {\n",
              "        vertical-align: middle;\n",
              "    }\n",
              "\n",
              "    .dataframe tbody tr th {\n",
              "        vertical-align: top;\n",
              "    }\n",
              "\n",
              "    .dataframe thead th {\n",
              "        text-align: right;\n",
              "    }\n",
              "</style>\n",
              "<table border=\"1\" class=\"dataframe\">\n",
              "  <thead>\n",
              "    <tr style=\"text-align: right;\">\n",
              "      <th></th>\n",
              "      <th>target</th>\n",
              "      <th>setsize</th>\n",
              "      <th>dyn</th>\n",
              "      <th>resp</th>\n",
              "      <th>rt</th>\n",
              "      <th>sub</th>\n",
              "      <th>exp</th>\n",
              "      <th>correct</th>\n",
              "    </tr>\n",
              "  </thead>\n",
              "  <tbody>\n",
              "    <tr>\n",
              "      <th>0</th>\n",
              "      <td>Absent</td>\n",
              "      <td>12</td>\n",
              "      <td>Static</td>\n",
              "      <td>2</td>\n",
              "      <td>2.583007</td>\n",
              "      <td>1</td>\n",
              "      <td>1</td>\n",
              "      <td>1</td>\n",
              "    </tr>\n",
              "    <tr>\n",
              "      <th>1</th>\n",
              "      <td>Absent</td>\n",
              "      <td>8</td>\n",
              "      <td>Static</td>\n",
              "      <td>2</td>\n",
              "      <td>0.935967</td>\n",
              "      <td>1</td>\n",
              "      <td>1</td>\n",
              "      <td>1</td>\n",
              "    </tr>\n",
              "    <tr>\n",
              "      <th>2</th>\n",
              "      <td>Present</td>\n",
              "      <td>16</td>\n",
              "      <td>Static</td>\n",
              "      <td>1</td>\n",
              "      <td>0.794771</td>\n",
              "      <td>1</td>\n",
              "      <td>1</td>\n",
              "      <td>1</td>\n",
              "    </tr>\n",
              "    <tr>\n",
              "      <th>3</th>\n",
              "      <td>Present</td>\n",
              "      <td>8</td>\n",
              "      <td>Static</td>\n",
              "      <td>1</td>\n",
              "      <td>1.241838</td>\n",
              "      <td>1</td>\n",
              "      <td>1</td>\n",
              "      <td>1</td>\n",
              "    </tr>\n",
              "    <tr>\n",
              "      <th>4</th>\n",
              "      <td>Absent</td>\n",
              "      <td>12</td>\n",
              "      <td>Static</td>\n",
              "      <td>2</td>\n",
              "      <td>1.759485</td>\n",
              "      <td>1</td>\n",
              "      <td>1</td>\n",
              "      <td>1</td>\n",
              "    </tr>\n",
              "  </tbody>\n",
              "</table>\n",
              "</div>"
            ],
            "text/plain": [
              "    target  setsize     dyn  resp        rt  sub  exp  correct\n",
              "0   Absent       12  Static     2  2.583007    1    1        1\n",
              "1   Absent        8  Static     2  0.935967    1    1        1\n",
              "2  Present       16  Static     1  0.794771    1    1        1\n",
              "3  Present        8  Static     1  1.241838    1    1        1\n",
              "4   Absent       12  Static     2  1.759485    1    1        1"
            ]
          },
          "metadata": {
            "tags": []
          },
          "execution_count": 15
        }
      ]
    },
    {
      "cell_type": "code",
      "metadata": {
        "colab": {
          "base_uri": "https://localhost:8080/",
          "height": 1000
        },
        "id": "v5hXFejI_C_5",
        "outputId": "e0dcdad2-c806-48c7-9a32-95e2448cdc9e"
      },
      "source": [
        "# do histogram for RT distribution\n",
        "#dat.hist('rt',by = 'sub')\n",
        "# the following will do the same job\n",
        "dat.groupby('sub').hist('rt')"
      ],
      "execution_count": null,
      "outputs": [
        {
          "output_type": "execute_result",
          "data": {
            "text/plain": [
              "sub\n",
              "1     [[AxesSubplot(0.125,0.125;0.775x0.755)]]\n",
              "2     [[AxesSubplot(0.125,0.125;0.775x0.755)]]\n",
              "                        ...                   \n",
              "10    [[AxesSubplot(0.125,0.125;0.775x0.755)]]\n",
              "11    [[AxesSubplot(0.125,0.125;0.775x0.755)]]\n",
              "Length: 11, dtype: object"
            ]
          },
          "metadata": {
            "tags": []
          },
          "execution_count": 17
        },
        {
          "output_type": "display_data",
          "data": {
            "image/png": "[encoded data removed]",
            "text/plain": [
              "<Figure size 432x288 with 1 Axes>"
            ]
          },
          "metadata": {
            "tags": [],
            "needs_background": "light"
          }
        },
        {
          "output_type": "display_data",
          "data": {
            "image/png": "[encoded data removed]",
            "text/plain": [
              "<Figure size 432x288 with 1 Axes>"
            ]
          },
          "metadata": {
            "tags": [],
            "needs_background": "light"
          }
        },
        {
          "output_type": "display_data",
          "data": {
            "image/png": "[encoded data removed]",
            "text/plain": [
              "<Figure size 432x288 with 1 Axes>"
            ]
          },
          "metadata": {
            "tags": [],
            "needs_background": "light"
          }
        },
        {
          "output_type": "display_data",
          "data": {
            "image/png": "[encoded data removed]",
            "text/plain": [
              "<Figure size 432x288 with 1 Axes>"
            ]
          },
          "metadata": {
            "tags": [],
            "needs_background": "light"
          }
        },
        {
          "output_type": "display_data",
          "data": {
            "image/png": "[encoded data removed]",
            "text/plain": [
              "<Figure size 432x288 with 1 Axes>"
            ]
          },
          "metadata": {
            "tags": [],
            "needs_background": "light"
          }
        },
        {
          "output_type": "display_data",
          "data": {
            "image/png": "[encoded data removed]",
            "text/plain": [
              "<Figure size 432x288 with 1 Axes>"
            ]
          },
          "metadata": {
            "tags": [],
            "needs_background": "light"
          }
        },
        {
          "output_type": "display_data",
          "data": {
            "image/png": "[encoded data removed]",
            "text/plain": [
              "<Figure size 432x288 with 1 Axes>"
            ]
          },
          "metadata": {
            "tags": [],
            "needs_background": "light"
          }
        },
        {
          "output_type": "display_data",
          "data": {
            "image/png": "[encoded data removed]",
            "text/plain": [
              "<Figure size 432x288 with 1 Axes>"
            ]
          },
          "metadata": {
            "tags": [],
            "needs_background": "light"
          }
        },
        {
          "output_type": "display_data",
          "data": {
            "image/png": "[encoded data removed]",
            "text/plain": [
              "<Figure size 432x288 with 1 Axes>"
            ]
          },
          "metadata": {
            "tags": [],
            "needs_background": "light"
          }
        },
        {
          "output_type": "display_data",
          "data": {
            "image/png": "[encoded data removed]",
            "text/plain": [
              "<Figure size 432x288 with 1 Axes>"
            ]
          },
          "metadata": {
            "tags": [],
            "needs_background": "light"
          }
        },
        {
          "output_type": "display_data",
          "data": {
            "image/png": "[encoded data removed]",
            "text/plain": [
              "<Figure size 432x288 with 1 Axes>"
            ]
          },
          "metadata": {
            "tags": [],
            "needs_background": "light"
          }
        }
      ]
    },
    {
      "cell_type": "code",
      "metadata": {
        "colab": {
          "base_uri": "https://localhost:8080/",
          "height": 361
        },
        "id": "8tEAxFo8B5nm",
        "outputId": "a4de5a92-51b5-43f0-f9b3-97c8ea752005"
      },
      "source": [
        "# check RTs on different setisze\n",
        "dat.hist('rt',by = 'setsize', bins = 30)"
      ],
      "execution_count": null,
      "outputs": [
        {
          "output_type": "execute_result",
          "data": {
            "text/plain": [
              "array([[<matplotlib.axes._subplots.AxesSubplot object at 0x7efcf65472e8>,\n",
              "        <matplotlib.axes._subplots.AxesSubplot object at 0x7efcf64ee630>],\n",
              "       [<matplotlib.axes._subplots.AxesSubplot object at 0x7efcf651b9b0>,\n",
              "        <matplotlib.axes._subplots.AxesSubplot object at 0x7efcf64ccd30>]],\n",
              "      dtype=object)"
            ]
          },
          "metadata": {
            "tags": []
          },
          "execution_count": 18
        },
        {
          "output_type": "display_data",
          "data": {
            "image/png": "[encoded data removed]",
            "text/plain": [
              "<Figure size 432x288 with 4 Axes>"
            ]
          },
          "metadata": {
            "tags": [],
            "needs_background": "light"
          }
        }
      ]
    },
    {
      "cell_type": "code",
      "metadata": {
        "id": "eo8yLpqHCtKQ",
        "colab": {
          "base_uri": "https://localhost:8080/",
          "height": 327
        },
        "outputId": "3c9ced77-97eb-43cb-8b05-5bc0fdc660b3"
      },
      "source": [
        "# your task: check RTs on dynamic vs. static ('dyn' column)\n",
        "# ....\n",
        "dat.hist('rt',by = 'dyn', bins = 30)"
      ],
      "execution_count": null,
      "outputs": [
        {
          "output_type": "execute_result",
          "data": {
            "text/plain": [
              "array([<matplotlib.axes._subplots.AxesSubplot object at 0x7efcee790710>,\n",
              "       <matplotlib.axes._subplots.AxesSubplot object at 0x7efcee7ae748>],\n",
              "      dtype=object)"
            ]
          },
          "metadata": {
            "tags": []
          },
          "execution_count": 19
        },
        {
          "output_type": "display_data",
          "data": {
            "image/png": "[encoded data removed]",
            "text/plain": [
              "<Figure size 432x288 with 2 Axes>"
            ]
          },
          "metadata": {
            "tags": [],
            "needs_background": "light"
          }
        }
      ]
    },
    {
      "cell_type": "code",
      "metadata": {
        "colab": {
          "base_uri": "https://localhost:8080/"
        },
        "id": "9kebUaOYCZtR",
        "outputId": "2fb5d350-181a-4f70-9904-0ab6a60bc3cf"
      },
      "source": [
        "# data includes error trials (see the hump at 5 seconds)\n",
        "# so let's do the accuracy analysis\n",
        "macc = dat.groupby(['setsize','target','dyn','sub']).correct.mean()\n",
        "print(macc)"
      ],
      "execution_count": null,
      "outputs": [
        {
          "output_type": "stream",
          "text": [
            "setsize  target   dyn      sub\n",
            "8        Absent   Dynamic  1      1.000000\n",
            "                           2      0.914286\n",
            "                                    ...   \n",
            "16       Present  Static   10     0.914286\n",
            "                           11     0.942857\n",
            "Name: correct, Length: 132, dtype: float64\n"
          ],
          "name": "stdout"
        }
      ]
    },
    {
      "cell_type": "code",
      "metadata": {
        "colab": {
          "base_uri": "https://localhost:8080/"
        },
        "id": "GhGMFtn8mnXr",
        "outputId": "0bd64de3-de5f-41a9-e664-02ae96a4d043"
      },
      "source": [
        "macc"
      ],
      "execution_count": null,
      "outputs": [
        {
          "output_type": "execute_result",
          "data": {
            "text/plain": [
              "setsize  target   dyn      sub\n",
              "8        Absent   Dynamic  1      1.000000\n",
              "                           2      0.914286\n",
              "                           3      1.000000\n",
              "                           4      0.971429\n",
              "                           5      0.657143\n",
              "                                    ...   \n",
              "16       Present  Static   7      1.000000\n",
              "                           8      1.000000\n",
              "                           9      0.971429\n",
              "                           10     0.914286\n",
              "                           11     0.942857\n",
              "Name: correct, Length: 132, dtype: float64"
            ]
          },
          "metadata": {
            "tags": []
          },
          "execution_count": 23
        }
      ]
    },
    {
      "cell_type": "code",
      "metadata": {
        "id": "24Nb8udjteKA",
        "colab": {
          "base_uri": "https://localhost:8080/",
          "height": 204
        },
        "outputId": "3b0d034c-c29c-4caa-da8c-2dfd7460943a"
      },
      "source": [
        "# visualize macc\n",
        "# first we average across sub (i.e., keep multiindex level 0, 1,2, see above table)\n",
        "# then we expand (unstack Display, and target to column)\n",
        "macc2 = macc.mean(level = [0,1,2]).unstack(level = [1,2])\n",
        "macc2"
      ],
      "execution_count": null,
      "outputs": [
        {
          "output_type": "execute_result",
          "data": {
            "text/html": [
              "<div>\n",
              "<style scoped>\n",
              "    .dataframe tbody tr th:only-of-type {\n",
              "        vertical-align: middle;\n",
              "    }\n",
              "\n",
              "    .dataframe tbody tr th {\n",
              "        vertical-align: top;\n",
              "    }\n",
              "\n",
              "    .dataframe thead tr th {\n",
              "        text-align: left;\n",
              "    }\n",
              "\n",
              "    .dataframe thead tr:last-of-type th {\n",
              "        text-align: right;\n",
              "    }\n",
              "</style>\n",
              "<table border=\"1\" class=\"dataframe\">\n",
              "  <thead>\n",
              "    <tr>\n",
              "      <th>target</th>\n",
              "      <th colspan=\"2\" halign=\"left\">Absent</th>\n",
              "      <th colspan=\"2\" halign=\"left\">Present</th>\n",
              "    </tr>\n",
              "    <tr>\n",
              "      <th>dyn</th>\n",
              "      <th>Dynamic</th>\n",
              "      <th>Static</th>\n",
              "      <th>Dynamic</th>\n",
              "      <th>Static</th>\n",
              "    </tr>\n",
              "    <tr>\n",
              "      <th>setsize</th>\n",
              "      <th></th>\n",
              "      <th></th>\n",
              "      <th></th>\n",
              "      <th></th>\n",
              "    </tr>\n",
              "  </thead>\n",
              "  <tbody>\n",
              "    <tr>\n",
              "      <th>8</th>\n",
              "      <td>0.896104</td>\n",
              "      <td>0.994805</td>\n",
              "      <td>0.955844</td>\n",
              "      <td>0.974026</td>\n",
              "    </tr>\n",
              "    <tr>\n",
              "      <th>12</th>\n",
              "      <td>0.838961</td>\n",
              "      <td>0.992208</td>\n",
              "      <td>0.935065</td>\n",
              "      <td>0.963636</td>\n",
              "    </tr>\n",
              "    <tr>\n",
              "      <th>16</th>\n",
              "      <td>0.841558</td>\n",
              "      <td>0.979221</td>\n",
              "      <td>0.885714</td>\n",
              "      <td>0.955844</td>\n",
              "    </tr>\n",
              "  </tbody>\n",
              "</table>\n",
              "</div>"
            ],
            "text/plain": [
              "target     Absent             Present          \n",
              "dyn       Dynamic    Static   Dynamic    Static\n",
              "setsize                                        \n",
              "8        0.896104  0.994805  0.955844  0.974026\n",
              "12       0.838961  0.992208  0.935065  0.963636\n",
              "16       0.841558  0.979221  0.885714  0.955844"
            ]
          },
          "metadata": {
            "tags": []
          },
          "execution_count": 27
        }
      ]
    },
    {
      "cell_type": "code",
      "metadata": {
        "colab": {
          "base_uri": "https://localhost:8080/",
          "height": 297
        },
        "id": "4ETTC7lpnEF_",
        "outputId": "dd8bee83-db5c-45a2-a577-7d20904be5aa"
      },
      "source": [
        "macc2.plot()"
      ],
      "execution_count": null,
      "outputs": [
        {
          "output_type": "execute_result",
          "data": {
            "text/plain": [
              "<matplotlib.axes._subplots.AxesSubplot at 0x7efcee50c080>"
            ]
          },
          "metadata": {
            "tags": []
          },
          "execution_count": 28
        },
        {
          "output_type": "display_data",
          "data": {
            "image/png": "[encoded data removed]",
            "text/plain": [
              "<Figure size 432x288 with 1 Axes>"
            ]
          },
          "metadata": {
            "tags": [],
            "needs_background": "light"
          }
        }
      ]
    },
    {
      "cell_type": "code",
      "metadata": {
        "colab": {
          "base_uri": "https://localhost:8080/",
          "height": 300
        },
        "id": "qg-VuMDuE6kh",
        "outputId": "537e18fd-f178-418b-89f6-142bb44fac5b"
      },
      "source": [
        "# Note that we have rows (setsize), and columns multilevels (Target Present/Absent) x Display (Dynamic, Static)\n",
        "# We then visualize it, each column will be one line. \n",
        "ax = macc2.plot( )\n",
        "plt.ylim([0.75,1])\n",
        "plt.legend(loc = 'lower left')\n"
      ],
      "execution_count": null,
      "outputs": [
        {
          "output_type": "execute_result",
          "data": {
            "text/plain": [
              "<matplotlib.legend.Legend at 0x7efcee4666a0>"
            ]
          },
          "metadata": {
            "tags": []
          },
          "execution_count": 29
        },
        {
          "output_type": "display_data",
          "data": {
            "image/png": "[encoded data removed]",
            "text/plain": [
              "<Figure size 432x288 with 1 Axes>"
            ]
          },
          "metadata": {
            "tags": [],
            "needs_background": "light"
          }
        }
      ]
    },
    {
      "cell_type": "code",
      "metadata": {
        "id": "KcfNrNUgteKB",
        "colab": {
          "base_uri": "https://localhost:8080/",
          "height": 282
        },
        "outputId": "0d8979f3-f692-4368-e2f7-6889e07b5c1b"
      },
      "source": [
        "# we filter the valid data for further analysis\n",
        "vdat = dat.query('correct == 1')\n",
        "vdat.rt.hist(bins = 20)"
      ],
      "execution_count": null,
      "outputs": [
        {
          "output_type": "execute_result",
          "data": {
            "text/plain": [
              "<matplotlib.axes._subplots.AxesSubplot at 0x7efcee441518>"
            ]
          },
          "metadata": {
            "tags": []
          },
          "execution_count": 30
        },
        {
          "output_type": "display_data",
          "data": {
            "image/png": "[encoded data removed]",
            "text/plain": [
              "<Figure size 432x288 with 1 Axes>"
            ]
          },
          "metadata": {
            "tags": [],
            "needs_background": "light"
          }
        }
      ]
    },
    {
      "cell_type": "code",
      "metadata": {
        "colab": {
          "base_uri": "https://localhost:8080/",
          "height": 481
        },
        "id": "H90QUyS9_uFn",
        "outputId": "fe24cab7-9c51-49ea-cf92-743423ecf515"
      },
      "source": [
        "mrt = dat.query('correct == 1').groupby(['setsize','target','dyn','sub'])\\\n",
        "    .agg({'rt':['mean','sem']}\n",
        "        )#.mean(level = [0,1,2]).unstack(level = [1,2])\n",
        "\n",
        "mrt"
      ],
      "execution_count": null,
      "outputs": [
        {
          "output_type": "execute_result",
          "data": {
            "text/html": [
              "<div>\n",
              "<style scoped>\n",
              "    .dataframe tbody tr th:only-of-type {\n",
              "        vertical-align: middle;\n",
              "    }\n",
              "\n",
              "    .dataframe tbody tr th {\n",
              "        vertical-align: top;\n",
              "    }\n",
              "\n",
              "    .dataframe thead tr th {\n",
              "        text-align: left;\n",
              "    }\n",
              "\n",
              "    .dataframe thead tr:last-of-type th {\n",
              "        text-align: right;\n",
              "    }\n",
              "</style>\n",
              "<table border=\"1\" class=\"dataframe\">\n",
              "  <thead>\n",
              "    <tr>\n",
              "      <th></th>\n",
              "      <th></th>\n",
              "      <th></th>\n",
              "      <th></th>\n",
              "      <th colspan=\"2\" halign=\"left\">rt</th>\n",
              "    </tr>\n",
              "    <tr>\n",
              "      <th></th>\n",
              "      <th></th>\n",
              "      <th></th>\n",
              "      <th></th>\n",
              "      <th>mean</th>\n",
              "      <th>sem</th>\n",
              "    </tr>\n",
              "    <tr>\n",
              "      <th>setsize</th>\n",
              "      <th>target</th>\n",
              "      <th>dyn</th>\n",
              "      <th>sub</th>\n",
              "      <th></th>\n",
              "      <th></th>\n",
              "    </tr>\n",
              "  </thead>\n",
              "  <tbody>\n",
              "    <tr>\n",
              "      <th rowspan=\"5\" valign=\"top\">8</th>\n",
              "      <th rowspan=\"5\" valign=\"top\">Absent</th>\n",
              "      <th rowspan=\"5\" valign=\"top\">Dynamic</th>\n",
              "      <th>1</th>\n",
              "      <td>2.566563</td>\n",
              "      <td>0.152087</td>\n",
              "    </tr>\n",
              "    <tr>\n",
              "      <th>2</th>\n",
              "      <td>2.515756</td>\n",
              "      <td>0.144914</td>\n",
              "    </tr>\n",
              "    <tr>\n",
              "      <th>3</th>\n",
              "      <td>2.401525</td>\n",
              "      <td>0.125244</td>\n",
              "    </tr>\n",
              "    <tr>\n",
              "      <th>4</th>\n",
              "      <td>2.118680</td>\n",
              "      <td>0.104073</td>\n",
              "    </tr>\n",
              "    <tr>\n",
              "      <th>5</th>\n",
              "      <td>1.744670</td>\n",
              "      <td>0.190036</td>\n",
              "    </tr>\n",
              "    <tr>\n",
              "      <th>...</th>\n",
              "      <th>...</th>\n",
              "      <th>...</th>\n",
              "      <th>...</th>\n",
              "      <td>...</td>\n",
              "      <td>...</td>\n",
              "    </tr>\n",
              "    <tr>\n",
              "      <th rowspan=\"5\" valign=\"top\">16</th>\n",
              "      <th rowspan=\"5\" valign=\"top\">Present</th>\n",
              "      <th rowspan=\"5\" valign=\"top\">Static</th>\n",
              "      <th>7</th>\n",
              "      <td>0.899330</td>\n",
              "      <td>0.064893</td>\n",
              "    </tr>\n",
              "    <tr>\n",
              "      <th>8</th>\n",
              "      <td>0.832591</td>\n",
              "      <td>0.041576</td>\n",
              "    </tr>\n",
              "    <tr>\n",
              "      <th>9</th>\n",
              "      <td>1.089745</td>\n",
              "      <td>0.061440</td>\n",
              "    </tr>\n",
              "    <tr>\n",
              "      <th>10</th>\n",
              "      <td>0.866280</td>\n",
              "      <td>0.055461</td>\n",
              "    </tr>\n",
              "    <tr>\n",
              "      <th>11</th>\n",
              "      <td>0.795092</td>\n",
              "      <td>0.045105</td>\n",
              "    </tr>\n",
              "  </tbody>\n",
              "</table>\n",
              "<p>132 rows × 2 columns</p>\n",
              "</div>"
            ],
            "text/plain": [
              "                                   rt          \n",
              "                                 mean       sem\n",
              "setsize target  dyn     sub                    \n",
              "8       Absent  Dynamic 1    2.566563  0.152087\n",
              "                        2    2.515756  0.144914\n",
              "                        3    2.401525  0.125244\n",
              "                        4    2.118680  0.104073\n",
              "                        5    1.744670  0.190036\n",
              "...                               ...       ...\n",
              "16      Present Static  7    0.899330  0.064893\n",
              "                        8    0.832591  0.041576\n",
              "                        9    1.089745  0.061440\n",
              "                        10   0.866280  0.055461\n",
              "                        11   0.795092  0.045105\n",
              "\n",
              "[132 rows x 2 columns]"
            ]
          },
          "metadata": {
            "tags": []
          },
          "execution_count": 35
        }
      ]
    },
    {
      "cell_type": "code",
      "metadata": {
        "colab": {
          "base_uri": "https://localhost:8080/",
          "height": 266
        },
        "id": "eAe6GqYY_1gQ",
        "outputId": "93c38035-3611-47e4-c731-824282d8924e"
      },
      "source": [
        "# we do the same as for accuracy:\n",
        "# average acorss subject, expand to columns for (target and display)\n",
        "mrt2 = mrt.mean(level = [0,1,2]).unstack(level=[1,2])\n",
        "mrt2"
      ],
      "execution_count": null,
      "outputs": [
        {
          "output_type": "execute_result",
          "data": {
            "text/html": [
              "<div>\n",
              "<style scoped>\n",
              "    .dataframe tbody tr th:only-of-type {\n",
              "        vertical-align: middle;\n",
              "    }\n",
              "\n",
              "    .dataframe tbody tr th {\n",
              "        vertical-align: top;\n",
              "    }\n",
              "\n",
              "    .dataframe thead tr th {\n",
              "        text-align: left;\n",
              "    }\n",
              "\n",
              "    .dataframe thead tr:last-of-type th {\n",
              "        text-align: right;\n",
              "    }\n",
              "</style>\n",
              "<table border=\"1\" class=\"dataframe\">\n",
              "  <thead>\n",
              "    <tr>\n",
              "      <th></th>\n",
              "      <th colspan=\"8\" halign=\"left\">rt</th>\n",
              "    </tr>\n",
              "    <tr>\n",
              "      <th></th>\n",
              "      <th colspan=\"4\" halign=\"left\">mean</th>\n",
              "      <th colspan=\"4\" halign=\"left\">sem</th>\n",
              "    </tr>\n",
              "    <tr>\n",
              "      <th>target</th>\n",
              "      <th colspan=\"2\" halign=\"left\">Absent</th>\n",
              "      <th colspan=\"2\" halign=\"left\">Present</th>\n",
              "      <th colspan=\"2\" halign=\"left\">Absent</th>\n",
              "      <th colspan=\"2\" halign=\"left\">Present</th>\n",
              "    </tr>\n",
              "    <tr>\n",
              "      <th>dyn</th>\n",
              "      <th>Dynamic</th>\n",
              "      <th>Static</th>\n",
              "      <th>Dynamic</th>\n",
              "      <th>Static</th>\n",
              "      <th>Dynamic</th>\n",
              "      <th>Static</th>\n",
              "      <th>Dynamic</th>\n",
              "      <th>Static</th>\n",
              "    </tr>\n",
              "    <tr>\n",
              "      <th>setsize</th>\n",
              "      <th></th>\n",
              "      <th></th>\n",
              "      <th></th>\n",
              "      <th></th>\n",
              "      <th></th>\n",
              "      <th></th>\n",
              "      <th></th>\n",
              "      <th></th>\n",
              "    </tr>\n",
              "  </thead>\n",
              "  <tbody>\n",
              "    <tr>\n",
              "      <th>8</th>\n",
              "      <td>2.208454</td>\n",
              "      <td>1.177113</td>\n",
              "      <td>1.178920</td>\n",
              "      <td>0.771285</td>\n",
              "      <td>0.117347</td>\n",
              "      <td>0.062346</td>\n",
              "      <td>0.093851</td>\n",
              "      <td>0.036742</td>\n",
              "    </tr>\n",
              "    <tr>\n",
              "      <th>12</th>\n",
              "      <td>2.433945</td>\n",
              "      <td>1.554864</td>\n",
              "      <td>1.318243</td>\n",
              "      <td>0.898985</td>\n",
              "      <td>0.125896</td>\n",
              "      <td>0.077407</td>\n",
              "      <td>0.109111</td>\n",
              "      <td>0.051305</td>\n",
              "    </tr>\n",
              "    <tr>\n",
              "      <th>16</th>\n",
              "      <td>2.495611</td>\n",
              "      <td>1.788847</td>\n",
              "      <td>1.415677</td>\n",
              "      <td>0.945592</td>\n",
              "      <td>0.124998</td>\n",
              "      <td>0.082156</td>\n",
              "      <td>0.119519</td>\n",
              "      <td>0.054581</td>\n",
              "    </tr>\n",
              "  </tbody>\n",
              "</table>\n",
              "</div>"
            ],
            "text/plain": [
              "               rt                      ...                              \n",
              "             mean                      ...       sem                    \n",
              "target     Absent             Present  ...    Absent   Present          \n",
              "dyn       Dynamic    Static   Dynamic  ...    Static   Dynamic    Static\n",
              "setsize                                ...                              \n",
              "8        2.208454  1.177113  1.178920  ...  0.062346  0.093851  0.036742\n",
              "12       2.433945  1.554864  1.318243  ...  0.077407  0.109111  0.051305\n",
              "16       2.495611  1.788847  1.415677  ...  0.082156  0.119519  0.054581\n",
              "\n",
              "[3 rows x 8 columns]"
            ]
          },
          "metadata": {
            "tags": []
          },
          "execution_count": 32
        }
      ]
    },
    {
      "cell_type": "code",
      "metadata": {
        "id": "jo4dhISGAhoR",
        "colab": {
          "base_uri": "https://localhost:8080/",
          "height": 300
        },
        "outputId": "bba96389-86be-4a31-c080-94e636443373"
      },
      "source": [
        "# now let's visualize with error bars\n",
        "mrt2.rt['mean'].plot(yerr=mrt2.rt['sem'])\n",
        "plt.ylim([0.7,3.5])\n",
        "plt.legend(loc = 'upper left')"
      ],
      "execution_count": null,
      "outputs": [
        {
          "output_type": "execute_result",
          "data": {
            "text/plain": [
              "<matplotlib.legend.Legend at 0x7efcf7086e10>"
            ]
          },
          "metadata": {
            "tags": []
          },
          "execution_count": 33
        },
        {
          "output_type": "display_data",
          "data": {
            "image/png": "[encoded data removed]",
            "text/plain": [
              "<Figure size 432x288 with 1 Axes>"
            ]
          },
          "metadata": {
            "tags": [],
            "needs_background": "light"
          }
        }
      ]
    },
    {
      "cell_type": "markdown",
      "metadata": {
        "id": "2QUj6dMFGOpW"
      },
      "source": [
        "## Statistics: RM ANOVA with statmodels\n",
        "\n",
        "[statsmodels](https://www.statsmodels.org/stable/index.html) is a Python module that provides classes and functions for the estimation of many different statistical models, as well as for conducting statistical tests, and statistical data exploration. An extensive list of result statistics are available for each estimator. The results are tested against existing statistical packages to ensure that they are correct. The package is released under the open source Modified BSD (3-clause) license. The online documentation is hosted at statsmodels.org.\n",
        "\n",
        "Here we only mention one function `AnovaRM()`, which is very often used in within-subject design experiments. Currently, only fully balanced within-subject designs are supported. Calculation of between-subject effects and corrections for violation of sphericity are not yet implemented.\n",
        "\n",
        "**Input Parameters**\n",
        "\n",
        "* data: DataFrame\n",
        "* depvar: The dependent variable in data\n",
        "* subject: Specify the subject id\n",
        "* within: The within-subject factors\n",
        "* between: The between-subject factors, this is not yet implemented\n",
        "* aggregate_func: {None, ‘mean’, callable}\n",
        "If the data set contains more than a single observation per subject and cell of the specified model, this function will be used to aggregate the data before running the Anova. None (the default) will not perform any aggregation; ‘mean’ is s shortcut to numpy.mean. An exception will be raised if aggregation is required, but no aggregation function was specified.\n"
      ]
    },
    {
      "cell_type": "code",
      "metadata": {
        "colab": {
          "base_uri": "https://localhost:8080/",
          "height": 453
        },
        "id": "YPweLuPyGOK4",
        "outputId": "26be27dd-9266-43a4-c035-7280413fd176"
      },
      "source": [
        "from statsmodels.stats.anova import AnovaRM\n",
        "mrt0 = mrt.copy() # here copy the table, making sure multiple run of the following code isn't a problem\n",
        "#we want to flat the multiple levels into one level columns\n",
        "mrt0.columns = mrt0.columns.map('_'.join) # change column names by combine multiple level names \n",
        "mrt0=mrt0.reset_index() # change multi-index into columns\n",
        "mrt0"
      ],
      "execution_count": null,
      "outputs": [
        {
          "output_type": "stream",
          "text": [
            "/usr/local/lib/python3.6/dist-packages/statsmodels/tools/_testing.py:19: FutureWarning: pandas.util.testing is deprecated. Use the functions in the public API at pandas.testing instead.\n",
            "  import pandas.util.testing as tm\n"
          ],
          "name": "stderr"
        },
        {
          "output_type": "execute_result",
          "data": {
            "text/html": [
              "<div>\n",
              "<style scoped>\n",
              "    .dataframe tbody tr th:only-of-type {\n",
              "        vertical-align: middle;\n",
              "    }\n",
              "\n",
              "    .dataframe tbody tr th {\n",
              "        vertical-align: top;\n",
              "    }\n",
              "\n",
              "    .dataframe thead th {\n",
              "        text-align: right;\n",
              "    }\n",
              "</style>\n",
              "<table border=\"1\" class=\"dataframe\">\n",
              "  <thead>\n",
              "    <tr style=\"text-align: right;\">\n",
              "      <th></th>\n",
              "      <th>setsize</th>\n",
              "      <th>target</th>\n",
              "      <th>dyn</th>\n",
              "      <th>sub</th>\n",
              "      <th>rt_mean</th>\n",
              "      <th>rt_sem</th>\n",
              "    </tr>\n",
              "  </thead>\n",
              "  <tbody>\n",
              "    <tr>\n",
              "      <th>0</th>\n",
              "      <td>8</td>\n",
              "      <td>Absent</td>\n",
              "      <td>Dynamic</td>\n",
              "      <td>1</td>\n",
              "      <td>2.566563</td>\n",
              "      <td>0.152087</td>\n",
              "    </tr>\n",
              "    <tr>\n",
              "      <th>1</th>\n",
              "      <td>8</td>\n",
              "      <td>Absent</td>\n",
              "      <td>Dynamic</td>\n",
              "      <td>2</td>\n",
              "      <td>2.515756</td>\n",
              "      <td>0.144914</td>\n",
              "    </tr>\n",
              "    <tr>\n",
              "      <th>2</th>\n",
              "      <td>8</td>\n",
              "      <td>Absent</td>\n",
              "      <td>Dynamic</td>\n",
              "      <td>3</td>\n",
              "      <td>2.401525</td>\n",
              "      <td>0.125244</td>\n",
              "    </tr>\n",
              "    <tr>\n",
              "      <th>3</th>\n",
              "      <td>8</td>\n",
              "      <td>Absent</td>\n",
              "      <td>Dynamic</td>\n",
              "      <td>4</td>\n",
              "      <td>2.118680</td>\n",
              "      <td>0.104073</td>\n",
              "    </tr>\n",
              "    <tr>\n",
              "      <th>4</th>\n",
              "      <td>8</td>\n",
              "      <td>Absent</td>\n",
              "      <td>Dynamic</td>\n",
              "      <td>5</td>\n",
              "      <td>1.744670</td>\n",
              "      <td>0.190036</td>\n",
              "    </tr>\n",
              "    <tr>\n",
              "      <th>...</th>\n",
              "      <td>...</td>\n",
              "      <td>...</td>\n",
              "      <td>...</td>\n",
              "      <td>...</td>\n",
              "      <td>...</td>\n",
              "      <td>...</td>\n",
              "    </tr>\n",
              "    <tr>\n",
              "      <th>127</th>\n",
              "      <td>16</td>\n",
              "      <td>Present</td>\n",
              "      <td>Static</td>\n",
              "      <td>7</td>\n",
              "      <td>0.899330</td>\n",
              "      <td>0.064893</td>\n",
              "    </tr>\n",
              "    <tr>\n",
              "      <th>128</th>\n",
              "      <td>16</td>\n",
              "      <td>Present</td>\n",
              "      <td>Static</td>\n",
              "      <td>8</td>\n",
              "      <td>0.832591</td>\n",
              "      <td>0.041576</td>\n",
              "    </tr>\n",
              "    <tr>\n",
              "      <th>129</th>\n",
              "      <td>16</td>\n",
              "      <td>Present</td>\n",
              "      <td>Static</td>\n",
              "      <td>9</td>\n",
              "      <td>1.089745</td>\n",
              "      <td>0.061440</td>\n",
              "    </tr>\n",
              "    <tr>\n",
              "      <th>130</th>\n",
              "      <td>16</td>\n",
              "      <td>Present</td>\n",
              "      <td>Static</td>\n",
              "      <td>10</td>\n",
              "      <td>0.866280</td>\n",
              "      <td>0.055461</td>\n",
              "    </tr>\n",
              "    <tr>\n",
              "      <th>131</th>\n",
              "      <td>16</td>\n",
              "      <td>Present</td>\n",
              "      <td>Static</td>\n",
              "      <td>11</td>\n",
              "      <td>0.795092</td>\n",
              "      <td>0.045105</td>\n",
              "    </tr>\n",
              "  </tbody>\n",
              "</table>\n",
              "<p>132 rows × 6 columns</p>\n",
              "</div>"
            ],
            "text/plain": [
              "     setsize   target      dyn  sub   rt_mean    rt_sem\n",
              "0          8   Absent  Dynamic    1  2.566563  0.152087\n",
              "1          8   Absent  Dynamic    2  2.515756  0.144914\n",
              "2          8   Absent  Dynamic    3  2.401525  0.125244\n",
              "3          8   Absent  Dynamic    4  2.118680  0.104073\n",
              "4          8   Absent  Dynamic    5  1.744670  0.190036\n",
              "..       ...      ...      ...  ...       ...       ...\n",
              "127       16  Present   Static    7  0.899330  0.064893\n",
              "128       16  Present   Static    8  0.832591  0.041576\n",
              "129       16  Present   Static    9  1.089745  0.061440\n",
              "130       16  Present   Static   10  0.866280  0.055461\n",
              "131       16  Present   Static   11  0.795092  0.045105\n",
              "\n",
              "[132 rows x 6 columns]"
            ]
          },
          "metadata": {
            "tags": []
          },
          "execution_count": 36
        }
      ]
    },
    {
      "cell_type": "code",
      "metadata": {
        "colab": {
          "base_uri": "https://localhost:8080/"
        },
        "id": "01BMAeRWLAyE",
        "outputId": "828b21af-cf2d-47c9-cddf-fa4c2fa25cc1"
      },
      "source": [
        "aovrm = AnovaRM(mrt0, 'rt_mean','sub',within = ['setsize','target','dyn'])\n",
        "res = aovrm.fit()\n",
        "print(res)"
      ],
      "execution_count": null,
      "outputs": [
        {
          "output_type": "stream",
          "text": [
            "                     Anova\n",
            "================================================\n",
            "                   F Value Num DF  Den DF Pr > F\n",
            "------------------------------------------------\n",
            "setsize            52.6811 2.0000 20.0000 0.0000\n",
            "target             45.5424 1.0000 10.0000 0.0001\n",
            "dyn                19.0085 1.0000 10.0000 0.0014\n",
            "setsize:target     12.9475 2.0000 20.0000 0.0002\n",
            "setsize:dyn         3.3114 2.0000 20.0000 0.0572\n",
            "target:dyn          9.8088 1.0000 10.0000 0.0107\n",
            "setsize:target:dyn  6.4267 2.0000 20.0000 0.0070\n",
            "================================================\n",
            "\n"
          ],
          "name": "stdout"
        }
      ]
    }
  ]
}