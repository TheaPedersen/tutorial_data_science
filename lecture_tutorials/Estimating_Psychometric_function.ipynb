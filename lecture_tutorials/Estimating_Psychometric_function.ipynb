{
  "nbformat": 4,
  "nbformat_minor": 0,
  "metadata": {
    "colab": {
      "name": "Estimating_Psychometric_function.ipynb",
      "provenance": [],
      "collapsed_sections": []
    },
    "kernelspec": {
      "name": "python3",
      "display_name": "Python 3"
    }
  },
  "cells": [
    {
      "cell_type": "markdown",
      "metadata": {
        "id": "BqxRUDEbXJ6m"
      },
      "source": [
        "# Psychometric function (PF)\n",
        "\n",
        "The psychometric function (PF) is about relation between human performance (e.g., classification) on a psychophysical task and sensory inputs (e.g., stimulus intensity). Recall that a general psychometric function:\n",
        "\n",
        "$$\\Psi(x,\\alpha, \\beta, \\gamma, \\lambda) = \\gamma + (1-\\gamma -\\lambda) F(x, \\alpha, \\beta)$$\n",
        "where $\\alpha$ is the threshold, $\\beta$ sensitivity, $\\gamma$ chance level, and $\\lambda$ lapse rate. \n",
        "Several candidate functions can be used for psychometric functions $F(x,\\alpha, \\beta)$:\n",
        "\n",
        "* logit function\n",
        "* cumulative Gaussian function\n",
        "* Weibull\n",
        "\n",
        "The Logit function is relative simple:\n",
        "\n",
        "$$ \\log \\frac{P}{1-P} = \\beta(x-\\alpha), $$\n",
        "where $P$ is the prop. of the positive responses, and $1-P$ is the prop. of the negative response. $\\log \\frac{P}{1-P}$ is log-likelihood of two alternative responses (sometimes it is called decision variable), which is assumed to be a linear function of the stimulus intensity $X$. The above equation can be transformed to \n",
        "\n",
        "$$ P = \\frac{1}{1+ e^{-\\beta(x-\\alpha)}}$$\n",
        "\n",
        "From the equation, we can easily obtained the point of subjective equality (PSE, $\\alpha$) and just noticeable difference (JND). Notice, the JND is defined by the difference between thresholds $P=0.5$ and $P=0.75$ (for 1AFC), so \n",
        "\n",
        "$$JND = \\log3/\\beta$$\n",
        "That is, when the slope $\\beta$ becomes steeper, the JND becomes smaller. "
      ]
    },
    {
      "cell_type": "markdown",
      "metadata": {
        "id": "gwWgLlmaXXtF"
      },
      "source": [
        "# Usage of Bayesfit module\n",
        "\n",
        "## 1. Installation\n",
        "\n",
        "Use the github version, instead of directly installation (has a minor bug). "
      ]
    },
    {
      "cell_type": "code",
      "metadata": {
        "colab": {
          "base_uri": "https://localhost:8080/"
        },
        "id": "xw81qUsx0HBW",
        "outputId": "3f90e657-7a2a-4ec6-f8df-a799852ba805"
      },
      "source": [
        "pip install https://github.com/SlugocM/bayesfit/zipball/master"
      ],
      "execution_count": null,
      "outputs": [
        {
          "output_type": "stream",
          "text": [
            "Collecting https://github.com/SlugocM/bayesfit/zipball/master\n",
            "\u001b[?25l  Downloading https://github.com/SlugocM/bayesfit/zipball/master\n",
            "\u001b[K     - 6.2MB 8.9MB/s\n",
            "\u001b[?25hRequirement already satisfied: numpy in /usr/local/lib/python3.6/dist-packages (from bayesfit==2.3) (1.19.4)\n",
            "Requirement already satisfied: scipy in /usr/local/lib/python3.6/dist-packages (from bayesfit==2.3) (1.4.1)\n",
            "Requirement already satisfied: matplotlib in /usr/local/lib/python3.6/dist-packages (from bayesfit==2.3) (3.2.2)\n",
            "Requirement already satisfied: python-dateutil>=2.1 in /usr/local/lib/python3.6/dist-packages (from matplotlib->bayesfit==2.3) (2.8.1)\n",
            "Requirement already satisfied: kiwisolver>=1.0.1 in /usr/local/lib/python3.6/dist-packages (from matplotlib->bayesfit==2.3) (1.3.1)\n",
            "Requirement already satisfied: cycler>=0.10 in /usr/local/lib/python3.6/dist-packages (from matplotlib->bayesfit==2.3) (0.10.0)\n",
            "Requirement already satisfied: pyparsing!=2.0.4,!=2.1.2,!=2.1.6,>=2.0.1 in /usr/local/lib/python3.6/dist-packages (from matplotlib->bayesfit==2.3) (2.4.7)\n",
            "Requirement already satisfied: six>=1.5 in /usr/local/lib/python3.6/dist-packages (from python-dateutil>=2.1->matplotlib->bayesfit==2.3) (1.15.0)\n",
            "Building wheels for collected packages: bayesfit\n",
            "  Building wheel for bayesfit (setup.py) ... \u001b[?25l\u001b[?25hdone\n",
            "  Created wheel for bayesfit: filename=bayesfit-2.3-cp36-none-any.whl size=38822 sha256=95676cd9182238a61b35db38bda891d0ac89d15a15e7d1f377af5da6523f7cdb\n",
            "  Stored in directory: /tmp/pip-ephem-wheel-cache-9_u9ibwg/wheels/3e/13/07/47215414b704877badb3c2cb9bb00aec8b71c26d014518bfe0\n",
            "Successfully built bayesfit\n",
            "Installing collected packages: bayesfit\n",
            "Successfully installed bayesfit-2.3\n"
          ],
          "name": "stdout"
        }
      ]
    },
    {
      "cell_type": "markdown",
      "metadata": {
        "id": "Jyor6yVQXsFl"
      },
      "source": [
        "The basic usage of Bayesfit is to apply `bayesfit.fitmodel()` to your data. You need to provide the data in a Numpy array, whereby columns are organized according: Intensity, N-trials Correct, N-trials Total. \n",
        "\n",
        "See details [here](http://www.slugocm.ca/bayesfit/fitmodel.html). \n",
        "\n",
        "Let's try one example first:"
      ]
    },
    {
      "cell_type": "code",
      "metadata": {
        "id": "vcPCr5Xq0P32"
      },
      "source": [
        "%matplotlib inline\n",
        "import bayesfit as bf\n",
        "import numpy as np\n",
        "import pandas as pd\n",
        "import statsmodels.api as sm\n",
        "\n",
        "import matplotlib.pyplot as plt\n",
        "\n",
        "# we creat one hypothetical data, first column (intensity), second column (number of correct trials), third column (number of total trials)\n",
        "data = np.array([[0.0010,   45,   90],\n",
        "                 [0.0015,   50,   90],\n",
        "                 [0.0020,   44,   90],\n",
        "                 [0.0025,   44,   90],\n",
        "                 [0.0030,   52,   90],\n",
        "                 [0.0035,   53,   90],\n",
        "                 [0.0040,   62,   90],\n",
        "                 [0.0045,   64,   90],\n",
        "                 [0.0050,   76,   90],\n",
        "                 [0.0060,   79,   90],\n",
        "                 [0.0070,   88,   90],\n",
        "                 [0.0080,   90,   90],\n",
        "                 [0.0100,   90,   90]])\n",
        "\n"
      ],
      "execution_count": null,
      "outputs": []
    },
    {
      "cell_type": "markdown",
      "metadata": {
        "id": "V1PqHw5PYp_7"
      },
      "source": [
        "Now you can apply `fitmodel()` to the data, and plot the fitted function using `plot_psyfcn()`. "
      ]
    },
    {
      "cell_type": "code",
      "metadata": {
        "colab": {
          "base_uri": "https://localhost:8080/",
          "height": 370
        },
        "id": "THB0188I4mAn",
        "outputId": "54755d27-6ae9-4eb5-ae2f-ec3b1d37e47e"
      },
      "source": [
        "metrics, options = bf.fitmodel(data, nafc = 2)\n",
        "bf.plot_psyfcn(data, options, metrics)"
      ],
      "execution_count": null,
      "outputs": [
        {
          "output_type": "display_data",
          "data": {
            "image/png": "[encoded data removed]",
            "text/plain": [
              "<Figure size 360x360 with 1 Axes>"
            ]
          },
          "metadata": {
            "tags": [],
            "needs_background": "light"
          }
        }
      ]
    },
    {
      "cell_type": "code",
      "metadata": {
        "colab": {
          "base_uri": "https://localhost:8080/"
        },
        "id": "EHpRp3LIzyej",
        "outputId": "ba0d36c7-1183-4111-8d07-ff2e6be9c98d"
      },
      "source": [
        "metrics['MAP']"
      ],
      "execution_count": null,
      "outputs": [
        {
          "output_type": "execute_result",
          "data": {
            "text/plain": [
              "array([4.63636364e-03, 1.25943237e+03,            nan,            nan])"
            ]
          },
          "metadata": {
            "tags": []
          },
          "execution_count": 9
        }
      ]
    },
    {
      "cell_type": "code",
      "metadata": {
        "colab": {
          "base_uri": "https://localhost:8080/"
        },
        "id": "O-Msz8U1HTZV",
        "outputId": "89b34d1c-b284-4ef4-842a-cf51edc88675"
      },
      "source": [
        "# the estimated parameters is stored in metrics. \n",
        "print(metrics['MAP']) # estimation of alpha, beta, gamma, lambda\n",
        "print(metrics['SD']) # related SD of the parameters\n",
        "print(metrics['threshold']) # threshold"
      ],
      "execution_count": null,
      "outputs": [
        {
          "output_type": "stream",
          "text": [
            "[4.63636364e-03 1.25943237e+03            nan            nan]\n",
            "[1.23345445e-03 2.02180031e+01            nan            nan]\n",
            "0.00463996399639964\n"
          ],
          "name": "stdout"
        }
      ]
    },
    {
      "cell_type": "markdown",
      "metadata": {
        "id": "QbjiHdSAbYKR"
      },
      "source": [
        "# A case study: Influence of music tempo on the duration judgment\n",
        "\n",
        "In the study, same classic music pieces were manipulated and played in three different tempo: slow, medium, and faster. The length of the music piece was randomly select from 2 to 8 seconds. Participants had to judge if the music piece was a 'short' or a 'long' one. Participants had to estimate the 'short' or 'long' based on the past trials they received. The research question is if the music tempo alters the time judgment.  \n",
        "\n",
        "A sample experimental data that contains three participants' responses can be found [here](https://raw.githubusercontent.com/strongway/r-statistics/master/data/music_bisection.csv).\n",
        "\n",
        "\n",
        "Recall our previous session on logistic regression with the same dataset. "
      ]
    },
    {
      "cell_type": "code",
      "metadata": {
        "colab": {
          "base_uri": "https://localhost:8080/",
          "height": 206
        },
        "id": "8_Soz22ucTbV",
        "outputId": "09bac6e4-6994-4530-e484-28726d600995"
      },
      "source": [
        "dat = pd.read_csv('https://raw.githubusercontent.com/strongway/r-statistics/master/data/music_bisection.csv', sep = ';')\n",
        "dat.head()\n"
      ],
      "execution_count": null,
      "outputs": [
        {
          "output_type": "execute_result",
          "data": {
            "text/html": [
              "<div>\n",
              "<style scoped>\n",
              "    .dataframe tbody tr th:only-of-type {\n",
              "        vertical-align: middle;\n",
              "    }\n",
              "\n",
              "    .dataframe tbody tr th {\n",
              "        vertical-align: top;\n",
              "    }\n",
              "\n",
              "    .dataframe thead th {\n",
              "        text-align: right;\n",
              "    }\n",
              "</style>\n",
              "<table border=\"1\" class=\"dataframe\">\n",
              "  <thead>\n",
              "    <tr style=\"text-align: right;\">\n",
              "      <th></th>\n",
              "      <th>Participant</th>\n",
              "      <th>Duration</th>\n",
              "      <th>Tempo</th>\n",
              "      <th>Stimuli_Nu</th>\n",
              "      <th>Decision</th>\n",
              "      <th>Music_Duration</th>\n",
              "    </tr>\n",
              "  </thead>\n",
              "  <tbody>\n",
              "    <tr>\n",
              "      <th>0</th>\n",
              "      <td>Sub101</td>\n",
              "      <td>2</td>\n",
              "      <td>1</td>\n",
              "      <td>10</td>\n",
              "      <td>1</td>\n",
              "      <td>2.001604</td>\n",
              "    </tr>\n",
              "    <tr>\n",
              "      <th>1</th>\n",
              "      <td>Sub101</td>\n",
              "      <td>6</td>\n",
              "      <td>3</td>\n",
              "      <td>10</td>\n",
              "      <td>2</td>\n",
              "      <td>6.000169</td>\n",
              "    </tr>\n",
              "    <tr>\n",
              "      <th>2</th>\n",
              "      <td>Sub101</td>\n",
              "      <td>5</td>\n",
              "      <td>1</td>\n",
              "      <td>4</td>\n",
              "      <td>2</td>\n",
              "      <td>5.000097</td>\n",
              "    </tr>\n",
              "    <tr>\n",
              "      <th>3</th>\n",
              "      <td>Sub101</td>\n",
              "      <td>7</td>\n",
              "      <td>1</td>\n",
              "      <td>8</td>\n",
              "      <td>2</td>\n",
              "      <td>7.000105</td>\n",
              "    </tr>\n",
              "    <tr>\n",
              "      <th>4</th>\n",
              "      <td>Sub101</td>\n",
              "      <td>2</td>\n",
              "      <td>3</td>\n",
              "      <td>1</td>\n",
              "      <td>1</td>\n",
              "      <td>2.000080</td>\n",
              "    </tr>\n",
              "  </tbody>\n",
              "</table>\n",
              "</div>"
            ],
            "text/plain": [
              "  Participant  Duration  Tempo  Stimuli_Nu  Decision  Music_Duration\n",
              "0      Sub101         2      1          10         1        2.001604\n",
              "1      Sub101         6      3          10         2        6.000169\n",
              "2      Sub101         5      1           4         2        5.000097\n",
              "3      Sub101         7      1           8         2        7.000105\n",
              "4      Sub101         2      3           1         1        2.000080"
            ]
          },
          "metadata": {
            "tags": []
          },
          "execution_count": 11
        }
      ]
    },
    {
      "cell_type": "code",
      "metadata": {
        "colab": {
          "base_uri": "https://localhost:8080/"
        },
        "id": "FJGi7L3ycY9w",
        "outputId": "089f2d86-5659-466c-8ebd-4baa51398ca2"
      },
      "source": [
        "#let's check how many subjects in the dataset\n",
        "dat.Participant.unique()"
      ],
      "execution_count": null,
      "outputs": [
        {
          "output_type": "execute_result",
          "data": {
            "text/plain": [
              "array(['Sub101', 'Sub102', 'Sub103'], dtype=object)"
            ]
          },
          "metadata": {
            "tags": []
          },
          "execution_count": 12
        }
      ]
    },
    {
      "cell_type": "code",
      "metadata": {
        "colab": {
          "base_uri": "https://localhost:8080/",
          "height": 297
        },
        "id": "ZFRXWlf5ccQr",
        "outputId": "3636adf4-f357-49d5-81b2-b0a6c01e0c67"
      },
      "source": [
        "# quickly visualize responses for three participants\n",
        "dat.pivot_table( 'Decision', 'Duration','Tempo' ).plot()"
      ],
      "execution_count": null,
      "outputs": [
        {
          "output_type": "execute_result",
          "data": {
            "text/plain": [
              "<matplotlib.axes._subplots.AxesSubplot at 0x7f985a2b3710>"
            ]
          },
          "metadata": {
            "tags": []
          },
          "execution_count": 13
        },
        {
          "output_type": "display_data",
          "data": {
            "image/png": "[encoded data removed]",
            "text/plain": [
              "<Figure size 432x288 with 1 Axes>"
            ]
          },
          "metadata": {
            "tags": [],
            "needs_background": "light"
          }
        }
      ]
    },
    {
      "cell_type": "markdown",
      "metadata": {
        "id": "pBwfUJRIcuEe"
      },
      "source": [
        "$$ \\log\\frac{P}{1-P} = bX$$\n",
        "\n",
        "let $p = 0.5$, then we have\n",
        "$$0 = b0 + b1X_{threshold}$$\n",
        "\n",
        "$$X_t = -\\frac{b_0}{b_1}$$"
      ]
    },
    {
      "cell_type": "code",
      "metadata": {
        "colab": {
          "base_uri": "https://localhost:8080/"
        },
        "id": "R3AUwywEc28V",
        "outputId": "0b195e47-cf6a-4c45-b128-7aeeb9112f15"
      },
      "source": [
        "# 3. we want to estimate individual conditions for individual participant, so we first get out unique subjects and unique tempi. \n",
        "\n",
        "Subjects = dat.Participant.unique()\n",
        "Tempi = dat.Tempo.unique()\n",
        "dat = dat.assign(resp = dat.Decision -1)\n",
        "#store thresholds \n",
        "thresholds = pd.DataFrame(np.zeros((3,3)),index = Subjects,columns = Tempi)\n",
        "\n",
        "for sub in Subjects:\n",
        "  for Tempo in Tempi:\n",
        "    curDat = dat.query(f\"Participant == '{sub}' & Tempo == {Tempo}\")\n",
        "    X = sm.add_constant(curDat.Duration) # we need the intercept, so add a contant column 1 here\n",
        "    log_reg = sm.Logit(curDat.resp,X).fit()\n",
        "    # below is calcualte the threshold p=0.5, x = - a/b (details in another session in Psychophysics)\n",
        "    thresholds.loc[sub, Tempo] = - log_reg.params.const/log_reg.params.Duration \n",
        "    #print([sub, Tempo])\n",
        "    #print(log_reg.summary())\n",
        "print(thresholds)"
      ],
      "execution_count": null,
      "outputs": [
        {
          "output_type": "stream",
          "text": [
            "Optimization terminated successfully.\n",
            "         Current function value: 0.263577\n",
            "         Iterations 8\n",
            "Optimization terminated successfully.\n",
            "         Current function value: 0.375010\n",
            "         Iterations 7\n",
            "Optimization terminated successfully.\n",
            "         Current function value: 0.339025\n",
            "         Iterations 7\n",
            "Optimization terminated successfully.\n",
            "         Current function value: 0.251414\n",
            "         Iterations 8\n",
            "Optimization terminated successfully.\n",
            "         Current function value: 0.413735\n",
            "         Iterations 7\n",
            "Optimization terminated successfully.\n",
            "         Current function value: 0.355169\n",
            "         Iterations 7\n",
            "Optimization terminated successfully.\n",
            "         Current function value: 0.349591\n",
            "         Iterations 7\n",
            "Optimization terminated successfully.\n",
            "         Current function value: 0.272002\n",
            "         Iterations 8\n",
            "Optimization terminated successfully.\n",
            "         Current function value: 0.381504\n",
            "         Iterations 7\n",
            "               1         3         2\n",
            "Sub101  6.158646  5.673695  6.132493\n",
            "Sub102  4.347650  4.309980  4.744174\n",
            "Sub103  4.642341  4.396651  4.481357\n"
          ],
          "name": "stdout"
        }
      ]
    },
    {
      "cell_type": "markdown",
      "metadata": {
        "id": "zVmgO79QdhsI"
      },
      "source": [
        "__Note:__ The above logistic analysis only assume the response curve is logistic curve without restrictions. That is, the logistic function doesn't have any guess rate $\\gamma$ or lapse rate $\\lambda$. In addition, if you want to plot the fitted curve, you need to do it yourself. `Bayesfit` or `Psignifit` provide additional functionality. For example, `Bayesfit` provide Bayes approach, you can specify the prior of the parameters. "
      ]
    },
    {
      "cell_type": "markdown",
      "metadata": {
        "id": "GBZ4Mysjeg2O"
      },
      "source": [
        "## Using Bayesfit approach\n",
        "\n",
        "Let's first try one condition from one participant. "
      ]
    },
    {
      "cell_type": "code",
      "metadata": {
        "colab": {
          "base_uri": "https://localhost:8080/",
          "height": 206
        },
        "id": "WO10Mni21Js6",
        "outputId": "bc1e66d5-cafe-489f-a537-590a4eb11e08"
      },
      "source": [
        "dat.head()"
      ],
      "execution_count": null,
      "outputs": [
        {
          "output_type": "execute_result",
          "data": {
            "text/html": [
              "<div>\n",
              "<style scoped>\n",
              "    .dataframe tbody tr th:only-of-type {\n",
              "        vertical-align: middle;\n",
              "    }\n",
              "\n",
              "    .dataframe tbody tr th {\n",
              "        vertical-align: top;\n",
              "    }\n",
              "\n",
              "    .dataframe thead th {\n",
              "        text-align: right;\n",
              "    }\n",
              "</style>\n",
              "<table border=\"1\" class=\"dataframe\">\n",
              "  <thead>\n",
              "    <tr style=\"text-align: right;\">\n",
              "      <th></th>\n",
              "      <th>Participant</th>\n",
              "      <th>Duration</th>\n",
              "      <th>Tempo</th>\n",
              "      <th>Stimuli_Nu</th>\n",
              "      <th>Decision</th>\n",
              "      <th>Music_Duration</th>\n",
              "      <th>resp</th>\n",
              "    </tr>\n",
              "  </thead>\n",
              "  <tbody>\n",
              "    <tr>\n",
              "      <th>0</th>\n",
              "      <td>Sub101</td>\n",
              "      <td>2</td>\n",
              "      <td>1</td>\n",
              "      <td>10</td>\n",
              "      <td>1</td>\n",
              "      <td>2.001604</td>\n",
              "      <td>0</td>\n",
              "    </tr>\n",
              "    <tr>\n",
              "      <th>1</th>\n",
              "      <td>Sub101</td>\n",
              "      <td>6</td>\n",
              "      <td>3</td>\n",
              "      <td>10</td>\n",
              "      <td>2</td>\n",
              "      <td>6.000169</td>\n",
              "      <td>1</td>\n",
              "    </tr>\n",
              "    <tr>\n",
              "      <th>2</th>\n",
              "      <td>Sub101</td>\n",
              "      <td>5</td>\n",
              "      <td>1</td>\n",
              "      <td>4</td>\n",
              "      <td>2</td>\n",
              "      <td>5.000097</td>\n",
              "      <td>1</td>\n",
              "    </tr>\n",
              "    <tr>\n",
              "      <th>3</th>\n",
              "      <td>Sub101</td>\n",
              "      <td>7</td>\n",
              "      <td>1</td>\n",
              "      <td>8</td>\n",
              "      <td>2</td>\n",
              "      <td>7.000105</td>\n",
              "      <td>1</td>\n",
              "    </tr>\n",
              "    <tr>\n",
              "      <th>4</th>\n",
              "      <td>Sub101</td>\n",
              "      <td>2</td>\n",
              "      <td>3</td>\n",
              "      <td>1</td>\n",
              "      <td>1</td>\n",
              "      <td>2.000080</td>\n",
              "      <td>0</td>\n",
              "    </tr>\n",
              "  </tbody>\n",
              "</table>\n",
              "</div>"
            ],
            "text/plain": [
              "  Participant  Duration  Tempo  Stimuli_Nu  Decision  Music_Duration  resp\n",
              "0      Sub101         2      1          10         1        2.001604     0\n",
              "1      Sub101         6      3          10         2        6.000169     1\n",
              "2      Sub101         5      1           4         2        5.000097     1\n",
              "3      Sub101         7      1           8         2        7.000105     1\n",
              "4      Sub101         2      3           1         1        2.000080     0"
            ]
          },
          "metadata": {
            "tags": []
          },
          "execution_count": 15
        }
      ]
    },
    {
      "cell_type": "code",
      "metadata": {
        "colab": {
          "base_uri": "https://localhost:8080/"
        },
        "id": "BFL0ZfvNeWrQ",
        "outputId": "4786600e-1ca4-457a-9052-ad0f81492279"
      },
      "source": [
        "sub = Subjects[1]\n",
        "Tempo = Tempi[1] \n",
        "\n",
        "# select one condition\n",
        "curDat = dat.query(f\"Participant == '{sub}' & Tempo == {Tempo}\")\n",
        "\n",
        "# aggregate the positive responses and total responses\n",
        "c = curDat.groupby('Duration').agg({'resp':'sum', 'Tempo':'count'}).reset_index().to_numpy()\n",
        "\n",
        "c\n"
      ],
      "execution_count": null,
      "outputs": [
        {
          "output_type": "execute_result",
          "data": {
            "text/plain": [
              "array([[ 2,  2, 20],\n",
              "       [ 3,  3, 20],\n",
              "       [ 4,  8, 20],\n",
              "       [ 5, 14, 20],\n",
              "       [ 6, 19, 20],\n",
              "       [ 7, 19, 20],\n",
              "       [ 8, 18, 20]])"
            ]
          },
          "metadata": {
            "tags": []
          },
          "execution_count": 27
        }
      ]
    },
    {
      "cell_type": "markdown",
      "metadata": {
        "id": "fTDo3SyvhECR"
      },
      "source": [
        "Note the task is to judge the tempo is close to 'fast' or 'slow' with single stimulus. So it is 1IFC with two alterative responses. We need to set the guess rate and lapse rate in the estimation. "
      ]
    },
    {
      "cell_type": "code",
      "metadata": {
        "colab": {
          "base_uri": "https://localhost:8080/",
          "height": 491
        },
        "id": "91c7A5LKg7DW",
        "outputId": "51d89f07-f118-4152-c41f-1818b201fee4"
      },
      "source": [
        "metrics, options = bf.fitmodel(c, nafc = 2, param_free=[True, True, False, True], param_ests=[5, 1, 0, .2], threshold = 0.5) # we fix the guess and lapse rate to 0\n",
        "bf.plot_psyfcn(c, options, metrics)\n",
        "print(metrics['threshold'])"
      ],
      "execution_count": null,
      "outputs": [
        {
          "output_type": "stream",
          "text": [
            "/usr/local/lib/python3.6/dist-packages/scipy/optimize/minpack.py:808: OptimizeWarning: Covariance of the parameters could not be estimated\n",
            "  category=OptimizeWarning)\n",
            "/usr/local/lib/python3.6/dist-packages/bayesfit/extractMetrics.py:92: RuntimeWarning: divide by zero encountered in true_divide\n",
            "  Deviance = 2*np.sum(n*y*np.log(y/p) + n*(1-y)*np.log((1-y)/(1-p)))\n",
            "/usr/local/lib/python3.6/dist-packages/bayesfit/extractMetrics.py:92: RuntimeWarning: invalid value encountered in log\n",
            "  Deviance = 2*np.sum(n*y*np.log(y/p) + n*(1-y)*np.log((1-y)/(1-p)))\n"
          ],
          "name": "stderr"
        },
        {
          "output_type": "display_data",
          "data": {
            "image/png": "[encoded data removed]",
            "text/plain": [
              "<Figure size 360x360 with 1 Axes>"
            ]
          },
          "metadata": {
            "tags": [],
            "needs_background": "light"
          }
        },
        {
          "output_type": "stream",
          "text": [
            "4.199219921992199\n"
          ],
          "name": "stdout"
        }
      ]
    },
    {
      "cell_type": "code",
      "metadata": {
        "colab": {
          "base_uri": "https://localhost:8080/"
        },
        "id": "p24z05Dk2w3R",
        "outputId": "c15e639d-0049-4d50-f0b7-c0e964e3be78"
      },
      "source": [
        "metrics['MAP']"
      ],
      "execution_count": null,
      "outputs": [
        {
          "output_type": "execute_result",
          "data": {
            "text/plain": [
              "array([4.12121212, 1.36868687,        nan, 0.05059495])"
            ]
          },
          "metadata": {
            "tags": []
          },
          "execution_count": 29
        }
      ]
    },
    {
      "cell_type": "code",
      "metadata": {
        "colab": {
          "base_uri": "https://localhost:8080/"
        },
        "id": "-aniXdjrjoc5",
        "outputId": "a62f3390-33ba-4853-fa18-ce2523ba17e5"
      },
      "source": [
        "#store thresholds \n",
        "thresholds = pd.DataFrame(np.zeros((3,3)),index = Subjects,columns = Tempi)\n",
        "\n",
        "# now we estimate all of them\n",
        "for sub in Subjects:\n",
        "  for Tempo in Tempi:\n",
        "    curDat = dat.query(f\"Participant == '{sub}' & Tempo == {Tempo}\")\\\n",
        "      .groupby('Duration').agg({'resp':'sum', 'Tempo':'count'})\\\n",
        "      .reset_index().to_numpy()\n",
        "    metrics, options = bf.fitmodel(curDat, nafc = 2, param_ests=[5, 1, 0, 0], threshold = 0.5) # we fix the guess and lapse rate to 0\n",
        "    #bf.plot_psyfcn(c, options, metrics)\n",
        "    thresholds.loc[sub, Tempo] = metrics['threshold']\n",
        "\n",
        "# alternative, you can use batch option (see offical website example)\n",
        "# metrics, options = bf.fitmodel(ddat, batch = True,  nafc = 2, param_free = [True, True, False, False], threshold = 0.5) # we fix the guess and lapse rate to 0\n"
      ],
      "execution_count": null,
      "outputs": [
        {
          "output_type": "stream",
          "text": [
            "/usr/local/lib/python3.6/dist-packages/scipy/optimize/minpack.py:808: OptimizeWarning: Covariance of the parameters could not be estimated\n",
            "  category=OptimizeWarning)\n",
            "/usr/local/lib/python3.6/dist-packages/bayesfit/extractMetrics.py:92: RuntimeWarning: invalid value encountered in true_divide\n",
            "  Deviance = 2*np.sum(n*y*np.log(y/p) + n*(1-y)*np.log((1-y)/(1-p)))\n",
            "/usr/local/lib/python3.6/dist-packages/bayesfit/extractMetrics.py:92: RuntimeWarning: divide by zero encountered in log\n",
            "  Deviance = 2*np.sum(n*y*np.log(y/p) + n*(1-y)*np.log((1-y)/(1-p)))\n",
            "/usr/local/lib/python3.6/dist-packages/bayesfit/extractMetrics.py:92: RuntimeWarning: invalid value encountered in multiply\n",
            "  Deviance = 2*np.sum(n*y*np.log(y/p) + n*(1-y)*np.log((1-y)/(1-p)))\n",
            "/usr/local/lib/python3.6/dist-packages/bayesfit/extractMetrics.py:92: RuntimeWarning: divide by zero encountered in true_divide\n",
            "  Deviance = 2*np.sum(n*y*np.log(y/p) + n*(1-y)*np.log((1-y)/(1-p)))\n",
            "/usr/local/lib/python3.6/dist-packages/bayesfit/extractMetrics.py:137: RuntimeWarning: invalid value encountered in true_divide\n",
            "  p_chisqr = np.sum(((y-p)**2)/p)\n",
            "/usr/local/lib/python3.6/dist-packages/bayesfit/extractMetrics.py:92: RuntimeWarning: invalid value encountered in log\n",
            "  Deviance = 2*np.sum(n*y*np.log(y/p) + n*(1-y)*np.log((1-y)/(1-p)))\n"
          ],
          "name": "stderr"
        }
      ]
    },
    {
      "cell_type": "code",
      "metadata": {
        "colab": {
          "base_uri": "https://localhost:8080/",
          "height": 144
        },
        "id": "gsBsZyB3lHwE",
        "outputId": "1d7df884-953a-46ca-8be7-2972ec32846f"
      },
      "source": [
        "thresholds"
      ],
      "execution_count": null,
      "outputs": [
        {
          "output_type": "execute_result",
          "data": {
            "text/html": [
              "<div>\n",
              "<style scoped>\n",
              "    .dataframe tbody tr th:only-of-type {\n",
              "        vertical-align: middle;\n",
              "    }\n",
              "\n",
              "    .dataframe tbody tr th {\n",
              "        vertical-align: top;\n",
              "    }\n",
              "\n",
              "    .dataframe thead th {\n",
              "        text-align: right;\n",
              "    }\n",
              "</style>\n",
              "<table border=\"1\" class=\"dataframe\">\n",
              "  <thead>\n",
              "    <tr style=\"text-align: right;\">\n",
              "      <th></th>\n",
              "      <th>1</th>\n",
              "      <th>3</th>\n",
              "      <th>2</th>\n",
              "    </tr>\n",
              "  </thead>\n",
              "  <tbody>\n",
              "    <tr>\n",
              "      <th>Sub101</th>\n",
              "      <td>6.181818</td>\n",
              "      <td>5.636364</td>\n",
              "      <td>6.121212</td>\n",
              "    </tr>\n",
              "    <tr>\n",
              "      <th>Sub102</th>\n",
              "      <td>4.363636</td>\n",
              "      <td>4.303030</td>\n",
              "      <td>4.727273</td>\n",
              "    </tr>\n",
              "    <tr>\n",
              "      <th>Sub103</th>\n",
              "      <td>4.606061</td>\n",
              "      <td>4.363636</td>\n",
              "      <td>4.424242</td>\n",
              "    </tr>\n",
              "  </tbody>\n",
              "</table>\n",
              "</div>"
            ],
            "text/plain": [
              "               1         3         2\n",
              "Sub101  6.181818  5.636364  6.121212\n",
              "Sub102  4.363636  4.303030  4.727273\n",
              "Sub103  4.606061  4.363636  4.424242"
            ]
          },
          "metadata": {
            "tags": []
          },
          "execution_count": 25
        }
      ]
    }
  ]
}