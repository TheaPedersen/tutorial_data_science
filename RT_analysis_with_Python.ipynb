{
  "nbformat": 4,
  "nbformat_minor": 0,
  "metadata": {
    "colab": {
      "name": "RT_analysis_with_Python.ipynb",
      "provenance": [],
      "collapsed_sections": [
        "ecnxBD6Wv20l",
        "KPAnYiGNw_gu",
        "lqSgjn6Qxilk",
        "V-XKZ4F00Equ",
        "FDH_7fk7teH7",
        "4TPCKI_V2TbM",
        "XKnsSNwu29SZ",
        "bSQpqAWY4Gv-",
        "8-XbxlA744c2",
        "pCshLLNmteI-",
        "VKkDy9vrteJD",
        "QZygXzL1teJQ",
        "uznj_NJmteJZ",
        "uT2lRhswteJo"
      ],
      "include_colab_link": true
    },
    "kernelspec": {
      "display_name": "Python 3",
      "language": "python",
      "name": "python3"
    }
  },
  "cells": [
    {
      "cell_type": "markdown",
      "metadata": {
        "id": "view-in-github",
        "colab_type": "text"
      },
      "source": [
        "<a href=\"https://colab.research.google.com/github/strongway/tutorial_data_science/blob/master/RT_analysis_with_Python.ipynb\" target=\"_parent\"><img src=\"https://colab.research.google.com/assets/colab-badge.svg\" alt=\"Open In Colab\"/></a>"
      ]
    },
    {
      "cell_type": "markdown",
      "metadata": {
        "id": "sVs6HrkkteH1"
      },
      "source": [
        "# Reaction time (RT) analyses with Python\n",
        "\n",
        "**Dr. Zhuanghua Shi, 2021**\n",
        "\n",
        "This tutorial serves as hands-on for the lecture \"Psychophysics\" on how to do basic analysis on RTs. \n"
      ]
    },
    {
      "cell_type": "code",
      "metadata": {
        "id": "j0iEZoz0f_lG"
      },
      "source": [
        "# install satistical package pingouin\n",
        "!pip install pingouin"
      ],
      "execution_count": null,
      "outputs": []
    },
    {
      "cell_type": "code",
      "metadata": {
        "id": "f3fd3GgHteH3"
      },
      "source": [
        "# Some prep work to get the data from R and into pandas\n",
        "%matplotlib inline\n",
        "\n",
        "# pandas for data process, seaborn for plotting, in addition, matplotlib\n",
        "import pandas as pd\n",
        "import numpy as np\n",
        "import seaborn as sns\n",
        "import matplotlib.pyplot as plt\n",
        "import pingouin as pg\n",
        "\n",
        "pd.set_option(\"display.max_rows\", 15)"
      ],
      "execution_count": 2,
      "outputs": []
    },
    {
      "cell_type": "markdown",
      "metadata": {
        "id": "ecnxBD6Wv20l"
      },
      "source": [
        "## 1. Import data to Colab Cloud (Optional)\n",
        "\n",
        "Colab provides cloud computing and collaboration with python notebook, but not natively for data sharing. Fortunately, there are several ways for sharing data. \n",
        "\n"
      ]
    },
    {
      "cell_type": "markdown",
      "metadata": {
        "id": "02uvXT7cxeMe"
      },
      "source": [
        "### Uploading files from your local file system\n",
        "\n",
        "You share the data using other cloud methods, and then upload files locally. `files.upload` returns a dictionary of the files which were uploaded.\n",
        "The dictionary is keyed by the file name, the value is the data which was uploaded."
      ]
    },
    {
      "cell_type": "code",
      "metadata": {
        "colab": {
          "resources": {
            "http://localhost:8080/nbextensions/google.colab/files.js": {
              "data": "Ly8gQ29weXJpZ2h0IDIwMTcgR29vZ2xlIExMQwovLwovLyBMaWNlbnNlZCB1bmRlciB0aGUgQXBhY2hlIExpY2Vuc2UsIFZlcnNpb24gMi4wICh0aGUgIkxpY2Vuc2UiKTsKLy8geW91IG1heSBub3QgdXNlIHRoaXMgZmlsZSBleGNlcHQgaW4gY29tcGxpYW5jZSB3aXRoIHRoZSBMaWNlbnNlLgovLyBZb3UgbWF5IG9idGFpbiBhIGNvcHkgb2YgdGhlIExpY2Vuc2UgYXQKLy8KLy8gICAgICBodHRwOi8vd3d3LmFwYWNoZS5vcmcvbGljZW5zZXMvTElDRU5TRS0yLjAKLy8KLy8gVW5sZXNzIHJlcXVpcmVkIGJ5IGFwcGxpY2FibGUgbGF3IG9yIGFncmVlZCB0byBpbiB3cml0aW5nLCBzb2Z0d2FyZQovLyBkaXN0cmlidXRlZCB1bmRlciB0aGUgTGljZW5zZSBpcyBkaXN0cmlidXRlZCBvbiBhbiAiQVMgSVMiIEJBU0lTLAovLyBXSVRIT1VUIFdBUlJBTlRJRVMgT1IgQ09ORElUSU9OUyBPRiBBTlkgS0lORCwgZWl0aGVyIGV4cHJlc3Mgb3IgaW1wbGllZC4KLy8gU2VlIHRoZSBMaWNlbnNlIGZvciB0aGUgc3BlY2lmaWMgbGFuZ3VhZ2UgZ292ZXJuaW5nIHBlcm1pc3Npb25zIGFuZAovLyBsaW1pdGF0aW9ucyB1bmRlciB0aGUgTGljZW5zZS4KCi8qKgogKiBAZmlsZW92ZXJ2aWV3IEhlbHBlcnMgZm9yIGdvb2dsZS5jb2xhYiBQeXRob24gbW9kdWxlLgogKi8KKGZ1bmN0aW9uKHNjb3BlKSB7CmZ1bmN0aW9uIHNwYW4odGV4dCwgc3R5bGVBdHRyaWJ1dGVzID0ge30pIHsKICBjb25zdCBlbGVtZW50ID0gZG9jdW1lbnQuY3JlYXRlRWxlbWVudCgnc3BhbicpOwogIGVsZW1lbnQudGV4dENvbnRlbnQgPSB0ZXh0OwogIGZvciAoY29uc3Qga2V5IG9mIE9iamVjdC5rZXlzKHN0eWxlQXR0cmlidXRlcykpIHsKICAgIGVsZW1lbnQuc3R5bGVba2V5XSA9IHN0eWxlQXR0cmlidXRlc1trZXldOwogIH0KICByZXR1cm4gZWxlbWVudDsKfQoKLy8gTWF4IG51bWJlciBvZiBieXRlcyB3aGljaCB3aWxsIGJlIHVwbG9hZGVkIGF0IGEgdGltZS4KY29uc3QgTUFYX1BBWUxPQURfU0laRSA9IDEwMCAqIDEwMjQ7CgpmdW5jdGlvbiBfdXBsb2FkRmlsZXMoaW5wdXRJZCwgb3V0cHV0SWQpIHsKICBjb25zdCBzdGVwcyA9IHVwbG9hZEZpbGVzU3RlcChpbnB1dElkLCBvdXRwdXRJZCk7CiAgY29uc3Qgb3V0cHV0RWxlbWVudCA9IGRvY3VtZW50LmdldEVsZW1lbnRCeUlkKG91dHB1dElkKTsKICAvLyBDYWNoZSBzdGVwcyBvbiB0aGUgb3V0cHV0RWxlbWVudCB0byBtYWtlIGl0IGF2YWlsYWJsZSBmb3IgdGhlIG5leHQgY2FsbAogIC8vIHRvIHVwbG9hZEZpbGVzQ29udGludWUgZnJvbSBQeXRob24uCiAgb3V0cHV0RWxlbWVudC5zdGVwcyA9IHN0ZXBzOwoKICByZXR1cm4gX3VwbG9hZEZpbGVzQ29udGludWUob3V0cHV0SWQpOwp9CgovLyBUaGlzIGlzIHJvdWdobHkgYW4gYXN5bmMgZ2VuZXJhdG9yIChub3Qgc3VwcG9ydGVkIGluIHRoZSBicm93c2VyIHlldCksCi8vIHdoZXJlIHRoZXJlIGFyZSBtdWx0aXBsZSBhc3luY2hyb25vdXMgc3RlcHMgYW5kIHRoZSBQeXRob24gc2lkZSBpcyBnb2luZwovLyB0byBwb2xsIGZvciBjb21wbGV0aW9uIG9mIGVhY2ggc3RlcC4KLy8gVGhpcyB1c2VzIGEgUHJvbWlzZSB0byBibG9jayB0aGUgcHl0aG9uIHNpZGUgb24gY29tcGxldGlvbiBvZiBlYWNoIHN0ZXAsCi8vIHRoZW4gcGFzc2VzIHRoZSByZXN1bHQgb2YgdGhlIHByZXZpb3VzIHN0ZXAgYXMgdGhlIGlucHV0IHRvIHRoZSBuZXh0IHN0ZXAuCmZ1bmN0aW9uIF91cGxvYWRGaWxlc0NvbnRpbnVlKG91dHB1dElkKSB7CiAgY29uc3Qgb3V0cHV0RWxlbWVudCA9IGRvY3VtZW50LmdldEVsZW1lbnRCeUlkKG91dHB1dElkKTsKICBjb25zdCBzdGVwcyA9IG91dHB1dEVsZW1lbnQuc3RlcHM7CgogIGNvbnN0IG5leHQgPSBzdGVwcy5uZXh0KG91dHB1dEVsZW1lbnQubGFzdFByb21pc2VWYWx1ZSk7CiAgcmV0dXJuIFByb21pc2UucmVzb2x2ZShuZXh0LnZhbHVlLnByb21pc2UpLnRoZW4oKHZhbHVlKSA9PiB7CiAgICAvLyBDYWNoZSB0aGUgbGFzdCBwcm9taXNlIHZhbHVlIHRvIG1ha2UgaXQgYXZhaWxhYmxlIHRvIHRoZSBuZXh0CiAgICAvLyBzdGVwIG9mIHRoZSBnZW5lcmF0b3IuCiAgICBvdXRwdXRFbGVtZW50Lmxhc3RQcm9taXNlVmFsdWUgPSB2YWx1ZTsKICAgIHJldHVybiBuZXh0LnZhbHVlLnJlc3BvbnNlOwogIH0pOwp9CgovKioKICogR2VuZXJhdG9yIGZ1bmN0aW9uIHdoaWNoIGlzIGNhbGxlZCBiZXR3ZWVuIGVhY2ggYXN5bmMgc3RlcCBvZiB0aGUgdXBsb2FkCiAqIHByb2Nlc3MuCiAqIEBwYXJhbSB7c3RyaW5nfSBpbnB1dElkIEVsZW1lbnQgSUQgb2YgdGhlIGlucHV0IGZpbGUgcGlja2VyIGVsZW1lbnQuCiAqIEBwYXJhbSB7c3RyaW5nfSBvdXRwdXRJZCBFbGVtZW50IElEIG9mIHRoZSBvdXRwdXQgZGlzcGxheS4KICogQHJldHVybiB7IUl0ZXJhYmxlPCFPYmplY3Q+fSBJdGVyYWJsZSBvZiBuZXh0IHN0ZXBzLgogKi8KZnVuY3Rpb24qIHVwbG9hZEZpbGVzU3RlcChpbnB1dElkLCBvdXRwdXRJZCkgewogIGNvbnN0IGlucHV0RWxlbWVudCA9IGRvY3VtZW50LmdldEVsZW1lbnRCeUlkKGlucHV0SWQpOwogIGlucHV0RWxlbWVudC5kaXNhYmxlZCA9IGZhbHNlOwoKICBjb25zdCBvdXRwdXRFbGVtZW50ID0gZG9jdW1lbnQuZ2V0RWxlbWVudEJ5SWQob3V0cHV0SWQpOwogIG91dHB1dEVsZW1lbnQuaW5uZXJIVE1MID0gJyc7CgogIGNvbnN0IHBpY2tlZFByb21pc2UgPSBuZXcgUHJvbWlzZSgocmVzb2x2ZSkgPT4gewogICAgaW5wdXRFbGVtZW50LmFkZEV2ZW50TGlzdGVuZXIoJ2NoYW5nZScsIChlKSA9PiB7CiAgICAgIHJlc29sdmUoZS50YXJnZXQuZmlsZXMpOwogICAgfSk7CiAgfSk7CgogIGNvbnN0IGNhbmNlbCA9IGRvY3VtZW50LmNyZWF0ZUVsZW1lbnQoJ2J1dHRvbicpOwogIGlucHV0RWxlbWVudC5wYXJlbnRFbGVtZW50LmFwcGVuZENoaWxkKGNhbmNlbCk7CiAgY2FuY2VsLnRleHRDb250ZW50ID0gJ0NhbmNlbCB1cGxvYWQnOwogIGNvbnN0IGNhbmNlbFByb21pc2UgPSBuZXcgUHJvbWlzZSgocmVzb2x2ZSkgPT4gewogICAgY2FuY2VsLm9uY2xpY2sgPSAoKSA9PiB7CiAgICAgIHJlc29sdmUobnVsbCk7CiAgICB9OwogIH0pOwoKICAvLyBXYWl0IGZvciB0aGUgdXNlciB0byBwaWNrIHRoZSBmaWxlcy4KICBjb25zdCBmaWxlcyA9IHlpZWxkIHsKICAgIHByb21pc2U6IFByb21pc2UucmFjZShbcGlja2VkUHJvbWlzZSwgY2FuY2VsUHJvbWlzZV0pLAogICAgcmVzcG9uc2U6IHsKICAgICAgYWN0aW9uOiAnc3RhcnRpbmcnLAogICAgfQogIH07CgogIGNhbmNlbC5yZW1vdmUoKTsKCiAgLy8gRGlzYWJsZSB0aGUgaW5wdXQgZWxlbWVudCBzaW5jZSBmdXJ0aGVyIHBpY2tzIGFyZSBub3QgYWxsb3dlZC4KICBpbnB1dEVsZW1lbnQuZGlzYWJsZWQgPSB0cnVlOwoKICBpZiAoIWZpbGVzKSB7CiAgICByZXR1cm4gewogICAgICByZXNwb25zZTogewogICAgICAgIGFjdGlvbjogJ2NvbXBsZXRlJywKICAgICAgfQogICAgfTsKICB9CgogIGZvciAoY29uc3QgZmlsZSBvZiBmaWxlcykgewogICAgY29uc3QgbGkgPSBkb2N1bWVudC5jcmVhdGVFbGVtZW50KCdsaScpOwogICAgbGkuYXBwZW5kKHNwYW4oZmlsZS5uYW1lLCB7Zm9udFdlaWdodDogJ2JvbGQnfSkpOwogICAgbGkuYXBwZW5kKHNwYW4oCiAgICAgICAgYCgke2ZpbGUudHlwZSB8fCAnbi9hJ30pIC0gJHtmaWxlLnNpemV9IGJ5dGVzLCBgICsKICAgICAgICBgbGFzdCBtb2RpZmllZDogJHsKICAgICAgICAgICAgZmlsZS5sYXN0TW9kaWZpZWREYXRlID8gZmlsZS5sYXN0TW9kaWZpZWREYXRlLnRvTG9jYWxlRGF0ZVN0cmluZygpIDoKICAgICAgICAgICAgICAgICAgICAgICAgICAgICAgICAgICAgJ24vYSd9IC0gYCkpOwogICAgY29uc3QgcGVyY2VudCA9IHNwYW4oJzAlIGRvbmUnKTsKICAgIGxpLmFwcGVuZENoaWxkKHBlcmNlbnQpOwoKICAgIG91dHB1dEVsZW1lbnQuYXBwZW5kQ2hpbGQobGkpOwoKICAgIGNvbnN0IGZpbGVEYXRhUHJvbWlzZSA9IG5ldyBQcm9taXNlKChyZXNvbHZlKSA9PiB7CiAgICAgIGNvbnN0IHJlYWRlciA9IG5ldyBGaWxlUmVhZGVyKCk7CiAgICAgIHJlYWRlci5vbmxvYWQgPSAoZSkgPT4gewogICAgICAgIHJlc29sdmUoZS50YXJnZXQucmVzdWx0KTsKICAgICAgfTsKICAgICAgcmVhZGVyLnJlYWRBc0FycmF5QnVmZmVyKGZpbGUpOwogICAgfSk7CiAgICAvLyBXYWl0IGZvciB0aGUgZGF0YSB0byBiZSByZWFkeS4KICAgIGxldCBmaWxlRGF0YSA9IHlpZWxkIHsKICAgICAgcHJvbWlzZTogZmlsZURhdGFQcm9taXNlLAogICAgICByZXNwb25zZTogewogICAgICAgIGFjdGlvbjogJ2NvbnRpbnVlJywKICAgICAgfQogICAgfTsKCiAgICAvLyBVc2UgYSBjaHVua2VkIHNlbmRpbmcgdG8gYXZvaWQgbWVzc2FnZSBzaXplIGxpbWl0cy4gU2VlIGIvNjIxMTU2NjAuCiAgICBsZXQgcG9zaXRpb24gPSAwOwogICAgZG8gewogICAgICBjb25zdCBsZW5ndGggPSBNYXRoLm1pbihmaWxlRGF0YS5ieXRlTGVuZ3RoIC0gcG9zaXRpb24sIE1BWF9QQVlMT0FEX1NJWkUpOwogICAgICBjb25zdCBjaHVuayA9IG5ldyBVaW50OEFycmF5KGZpbGVEYXRhLCBwb3NpdGlvbiwgbGVuZ3RoKTsKICAgICAgcG9zaXRpb24gKz0gbGVuZ3RoOwoKICAgICAgY29uc3QgYmFzZTY0ID0gYnRvYShTdHJpbmcuZnJvbUNoYXJDb2RlLmFwcGx5KG51bGwsIGNodW5rKSk7CiAgICAgIHlpZWxkIHsKICAgICAgICByZXNwb25zZTogewogICAgICAgICAgYWN0aW9uOiAnYXBwZW5kJywKICAgICAgICAgIGZpbGU6IGZpbGUubmFtZSwKICAgICAgICAgIGRhdGE6IGJhc2U2NCwKICAgICAgICB9LAogICAgICB9OwoKICAgICAgbGV0IHBlcmNlbnREb25lID0gZmlsZURhdGEuYnl0ZUxlbmd0aCA9PT0gMCA/CiAgICAgICAgICAxMDAgOgogICAgICAgICAgTWF0aC5yb3VuZCgocG9zaXRpb24gLyBmaWxlRGF0YS5ieXRlTGVuZ3RoKSAqIDEwMCk7CiAgICAgIHBlcmNlbnQudGV4dENvbnRlbnQgPSBgJHtwZXJjZW50RG9uZX0lIGRvbmVgOwoKICAgIH0gd2hpbGUgKHBvc2l0aW9uIDwgZmlsZURhdGEuYnl0ZUxlbmd0aCk7CiAgfQoKICAvLyBBbGwgZG9uZS4KICB5aWVsZCB7CiAgICByZXNwb25zZTogewogICAgICBhY3Rpb246ICdjb21wbGV0ZScsCiAgICB9CiAgfTsKfQoKc2NvcGUuZ29vZ2xlID0gc2NvcGUuZ29vZ2xlIHx8IHt9OwpzY29wZS5nb29nbGUuY29sYWIgPSBzY29wZS5nb29nbGUuY29sYWIgfHwge307CnNjb3BlLmdvb2dsZS5jb2xhYi5fZmlsZXMgPSB7CiAgX3VwbG9hZEZpbGVzLAogIF91cGxvYWRGaWxlc0NvbnRpbnVlLAp9Owp9KShzZWxmKTsK",
              "ok": true,
              "headers": [
                [
                  "content-type",
                  "application/javascript"
                ]
              ],
              "status": 200,
              "status_text": ""
            }
          },
          "base_uri": "https://localhost:8080/",
          "height": 38
        },
        "id": "igjf0uUKvHnV",
        "outputId": "285d1bd0-6a36-463c-a6aa-4081bf674fda"
      },
      "source": [
        "from google.colab import files\n",
        "\n",
        "uploaded = files.upload()\n",
        "\n",
        "for fn in uploaded.keys():\n",
        "  print('User uploaded file \"{name}\" with length {length} bytes'.format(\n",
        "      name=fn, length=len(uploaded[fn])))"
      ],
      "execution_count": 3,
      "outputs": [
        {
          "output_type": "display_data",
          "data": {
            "text/html": [
              "\n",
              "     <input type=\"file\" id=\"files-fbffea1c-4dfa-4a39-922f-2b680f7366e7\" name=\"files[]\" multiple disabled\n",
              "        style=\"border:none\" />\n",
              "     <output id=\"result-fbffea1c-4dfa-4a39-922f-2b680f7366e7\">\n",
              "      Upload widget is only available when the cell has been executed in the\n",
              "      current browser session. Please rerun this cell to enable.\n",
              "      </output>\n",
              "      <script src=\"/nbextensions/google.colab/files.js\"></script> "
            ],
            "text/plain": [
              "<IPython.core.display.HTML object>"
            ]
          },
          "metadata": {}
        }
      ]
    },
    {
      "cell_type": "markdown",
      "metadata": {
        "id": "MiNXo2gwx175"
      },
      "source": [
        "Another example, upload a csv file and import as pandas table.\n",
        "\n"
      ]
    },
    {
      "cell_type": "code",
      "metadata": {
        "colab": {
          "background_save": true
        },
        "id": "w_6HLddex9mg"
      },
      "source": [
        "import io\n",
        "from google.colab import files\n",
        "\n",
        "uploaded = files.upload()\n",
        "key, value = uploaded.popitem()\n",
        "df = pd.read_csv(io.BytesIO(value))\n",
        "df.head()"
      ],
      "execution_count": null,
      "outputs": []
    },
    {
      "cell_type": "markdown",
      "metadata": {
        "id": "KPAnYiGNw_gu"
      },
      "source": [
        "### Downloading files to your local file system\n",
        "\n",
        "`files.download` will invoke a browser download of the file to the user's local computer.\n"
      ]
    },
    {
      "cell_type": "code",
      "metadata": {
        "colab": {
          "background_save": true
        },
        "id": "sTN6VMlCxP8o"
      },
      "source": [
        "from google.colab import files\n",
        "\n",
        "with open('example.txt', 'w') as f:\n",
        "  f.write('some content')\n",
        "\n",
        "files.download('example.txt')"
      ],
      "execution_count": null,
      "outputs": []
    },
    {
      "cell_type": "markdown",
      "metadata": {
        "id": "lqSgjn6Qxilk"
      },
      "source": [
        "### Mounting Google Drive locally\n",
        "\n",
        "The example below shows how to mount your Google Drive in your virtual machine using an authorization code, and shows a couple of ways to write & read files there. Once executed, observe the new file (`foo.txt`) is visible in https://drive.google.com/\n",
        "\n",
        "Note this only supports reading and writing files; to programmatically change sharing settings etc use one of the other options below."
      ]
    },
    {
      "cell_type": "code",
      "metadata": {
        "colab": {
          "background_save": true
        },
        "id": "fLvPAL64xwIQ"
      },
      "source": [
        "from google.colab import drive\n",
        "drive.mount('/content/gdrive')"
      ],
      "execution_count": null,
      "outputs": []
    },
    {
      "cell_type": "markdown",
      "metadata": {
        "id": "V-XKZ4F00Equ"
      },
      "source": [
        "### Using internet URL\n",
        "\n",
        "If you store your data in some public available address, you can simply use URL to read in. "
      ]
    },
    {
      "cell_type": "code",
      "metadata": {
        "colab": {
          "background_save": true
        },
        "id": "7QIyF8xZ0Tz5"
      },
      "source": [
        "url = 'https://raw.githubusercontent.com/msenselab/dynamic_search/master/data/exp1.csv'\n",
        "dat = pd.read_csv(url)\n",
        "dat.head()"
      ],
      "execution_count": null,
      "outputs": []
    },
    {
      "cell_type": "markdown",
      "metadata": {
        "id": "FDH_7fk7teH7"
      },
      "source": [
        "## 2. Pandas Data Table Basic\n",
        "\n",
        "read and explore pandas data table. \n",
        "\n",
        "### Shape, list rows"
      ]
    },
    {
      "cell_type": "code",
      "metadata": {
        "colab": {
          "background_save": true
        },
        "id": "ciJS1CeAteIA"
      },
      "source": [
        "dat.shape  # <--- The python code"
      ],
      "execution_count": null,
      "outputs": []
    },
    {
      "cell_type": "markdown",
      "metadata": {
        "id": "wr3fb1zgteIF"
      },
      "source": [
        "To view the data, use `.head()` or `.tail()` function"
      ]
    },
    {
      "cell_type": "code",
      "metadata": {
        "colab": {
          "background_save": true
        },
        "id": "4ULGK6q0teIG"
      },
      "source": [
        "dat.tail()"
      ],
      "execution_count": null,
      "outputs": []
    },
    {
      "cell_type": "markdown",
      "metadata": {
        "id": "1v-YD7To1wI_"
      },
      "source": [
        "__Your task:__ Please list the first 10 rows of the data. "
      ]
    },
    {
      "cell_type": "code",
      "metadata": {
        "colab": {
          "background_save": true
        },
        "id": "WzjwKafT2UwB"
      },
      "source": [
        "# your code here:"
      ],
      "execution_count": null,
      "outputs": []
    },
    {
      "cell_type": "markdown",
      "metadata": {
        "id": "4TPCKI_V2TbM"
      },
      "source": [
        "### __Solution__:"
      ]
    },
    {
      "cell_type": "code",
      "metadata": {
        "colab": {
          "background_save": true
        },
        "id": "NzPeJUFL2grz"
      },
      "source": [
        "dat.head(10)"
      ],
      "execution_count": null,
      "outputs": []
    },
    {
      "cell_type": "markdown",
      "metadata": {
        "id": "XKnsSNwu29SZ"
      },
      "source": [
        "### Statistical summary"
      ]
    },
    {
      "cell_type": "code",
      "metadata": {
        "colab": {
          "background_save": true
        },
        "id": "_EOUJHXbteIK"
      },
      "source": [
        "# show some descriptive summary\n",
        "# summary(dat)\n",
        "dat.describe()"
      ],
      "execution_count": null,
      "outputs": []
    },
    {
      "cell_type": "code",
      "metadata": {
        "colab": {
          "background_save": true
        },
        "id": "PQJY9EtHteIO"
      },
      "source": [
        "# show unique of one column\n",
        "dat.setsize.unique()"
      ],
      "execution_count": null,
      "outputs": []
    },
    {
      "cell_type": "code",
      "metadata": {
        "colab": {
          "background_save": true
        },
        "id": "_G_i7h6ZteIR"
      },
      "source": [
        "dat['sub'].unique()"
      ],
      "execution_count": null,
      "outputs": []
    },
    {
      "cell_type": "code",
      "metadata": {
        "colab": {
          "background_save": true
        },
        "id": "7mCMA_sQteIU"
      },
      "source": [
        "type(dat.resp)"
      ],
      "execution_count": null,
      "outputs": []
    },
    {
      "cell_type": "markdown",
      "metadata": {
        "id": "bSQpqAWY4Gv-"
      },
      "source": [
        "### Indexing, slicing and subsetting in Pandas\n",
        "\n",
        "Indexing, slicing and subsettings are basic data manipulation. For example, we need to select specific subject for further data exploring, or we need to exclude error trials etc. \n",
        "\n",
        "\n"
      ]
    },
    {
      "cell_type": "markdown",
      "metadata": {
        "id": "FiHWiD53x23B"
      },
      "source": [
        "#### Doing in matlab way\n",
        "\n",
        "Pandas is a matrix, so you can index using standard matlab way. "
      ]
    },
    {
      "cell_type": "code",
      "metadata": {
        "colab": {
          "background_save": true
        },
        "id": "ZnWzo80Y46JY"
      },
      "source": [
        "# show the first 5 rows\n",
        "dat[:5]"
      ],
      "execution_count": null,
      "outputs": []
    },
    {
      "cell_type": "code",
      "metadata": {
        "colab": {
          "background_save": true
        },
        "id": "8YVUGThg5BNj"
      },
      "source": [
        "# select first 3 rows, first 3 columns\n",
        "dat.iloc[:3,:3]"
      ],
      "execution_count": null,
      "outputs": []
    },
    {
      "cell_type": "code",
      "metadata": {
        "colab": {
          "background_save": true
        },
        "id": "HooznWEr5sya"
      },
      "source": [
        "# select target, setsize, and rt\n",
        "dat.loc[:,['target','setsize','rt']].head()"
      ],
      "execution_count": null,
      "outputs": []
    },
    {
      "cell_type": "markdown",
      "metadata": {
        "id": "8-XbxlA744c2"
      },
      "source": [
        "#### Using query() to filter rows\n",
        "\n",
        "Pandas `query()` function is powerful for subsecting the data. "
      ]
    },
    {
      "cell_type": "code",
      "metadata": {
        "colab": {
          "background_save": true
        },
        "id": "zPMFsXux6EEy"
      },
      "source": [
        "# select subject 1\n",
        "dat.query('sub == 1 & correct == 1 & dyn == \"Static\"')"
      ],
      "execution_count": null,
      "outputs": []
    },
    {
      "cell_type": "markdown",
      "metadata": {
        "id": "pCshLLNmteI-"
      },
      "source": [
        "### Selecting columns using []"
      ]
    },
    {
      "cell_type": "code",
      "metadata": {
        "colab": {
          "background_save": true
        },
        "id": "1N12sNpQteI_"
      },
      "source": [
        "dat[['sub', 'setsize', 'rt']]"
      ],
      "execution_count": null,
      "outputs": []
    },
    {
      "cell_type": "code",
      "metadata": {
        "colab": {
          "background_save": true
        },
        "id": "tQXLOP87yQ4u"
      },
      "source": [
        "# using columns\n",
        "dat[dat.columns[1:4]]"
      ],
      "execution_count": null,
      "outputs": []
    },
    {
      "cell_type": "markdown",
      "metadata": {
        "id": "VKkDy9vrteJD"
      },
      "source": [
        "### Rename\n",
        "\n",
        "Similar to `.replace()`, `.rename()` function also copies the data and return a new object. So you need to store it in a new object. "
      ]
    },
    {
      "cell_type": "code",
      "metadata": {
        "colab": {
          "background_save": true
        },
        "id": "NqfRyoS2teJD"
      },
      "source": [
        "ndata = dat.rename(columns={'dyn': 'Display'})\n",
        "ndata.head()"
      ],
      "execution_count": null,
      "outputs": []
    },
    {
      "cell_type": "markdown",
      "metadata": {
        "id": "-V5uJvjateJH"
      },
      "source": [
        "Pandas is more verbose, but the the argument to `columns` can be any mapping. So it's often used with a function to perform a common task, say `df.rename(columns=lambda x: x.replace('-', '_'))` to replace any dashes with underscores. Also, ``rename`` (the pandas version) can be applied to the Index."
      ]
    },
    {
      "cell_type": "markdown",
      "metadata": {
        "id": "QZygXzL1teJQ"
      },
      "source": [
        "### Add new columns with assign() "
      ]
    },
    {
      "cell_type": "markdown",
      "metadata": {
        "id": "XjKwRYBP7mJS"
      },
      "source": [
        ""
      ]
    },
    {
      "cell_type": "code",
      "metadata": {
        "colab": {
          "background_save": true
        },
        "id": "rv-VVi94teJR"
      },
      "source": [
        "ndata.assign(rtms=ndata.rt*1000)"
      ],
      "execution_count": null,
      "outputs": []
    },
    {
      "cell_type": "code",
      "metadata": {
        "colab": {
          "background_save": true
        },
        "id": "DKVvoRuYteJV"
      },
      "source": [
        "# if you have multiple assign in a chain, you need to explicit to say the dataframe.\n",
        "\n",
        "ndata.assign(rtms=ndata.rt*1000).assign(inv_rt = lambda df: 1/df.rtms)"
      ],
      "execution_count": null,
      "outputs": []
    },
    {
      "cell_type": "markdown",
      "metadata": {
        "id": "uznj_NJmteJZ"
      },
      "source": [
        "### Summarise values with summarise()"
      ]
    },
    {
      "cell_type": "code",
      "metadata": {
        "colab": {
          "background_save": true
        },
        "id": "sv4P3f5MteJa"
      },
      "source": [
        "# summarise(ndata,\n",
        "#   rt = mean(rt, na.rm = TRUE))\n",
        "ndata.rt.mean()"
      ],
      "execution_count": null,
      "outputs": []
    },
    {
      "cell_type": "markdown",
      "metadata": {
        "id": "0uuLgEhkteJe"
      },
      "source": [
        "This is only roughly equivalent.\n",
        "`summarise` takes a callable (e.g. `mean`, `sum`) and evaluates that on the DataFrame. In pandas these are spread across `pd.DataFrame.mean`, `pd.DataFrame.sum`. This will come up again when we look at `groupby`."
      ]
    },
    {
      "cell_type": "markdown",
      "metadata": {
        "id": "uT2lRhswteJo"
      },
      "source": [
        "### Grouping, aggregating, and Chaining\n",
        "\n",
        "Note: Pandas uses `.groupby()` function, but you need to aware that pandas `.groupby()` will **<font color = 'red'>put grouped variables into multi-index</font>**, so the columns after grouping will not include those grouped variables. If you want to put them back **as columns** for later usage, you need to add **`.reset_index()`**. \n",
        "\n",
        "Often, we want to calculate simple statistics across different conditions, such as `mean`, `sem`,`std` etc. We can use Pandas `agg()` function to do this. `agg()` accepts 'column_name: stat_function` format for aggregation. You can use multiple dictionary to aggregate multiple functions / columns. \n",
        "\n",
        "Using Python class function '.' to chain all operations together. "
      ]
    },
    {
      "cell_type": "code",
      "metadata": {
        "colab": {
          "background_save": true
        },
        "id": "J_1rbSnq1Mvg"
      },
      "source": [
        "# let's average correct rate for each participants, and visualize it\n",
        "#ndata.groupby('sub').agg({'correct':np.mean}).plot.bar()\n",
        "\n",
        "#if you have only one column to aggregate. the following code will do the same\n",
        "macc = ndata.groupby('sub').correct.mean()#.plot.bar()\n",
        "print(macc)\n",
        "macc.plot.bar()"
      ],
      "execution_count": null,
      "outputs": []
    },
    {
      "cell_type": "code",
      "metadata": {
        "colab": {
          "background_save": true
        },
        "id": "xpK65RiTteJo"
      },
      "source": [
        "# now we want to average RTs for correct trials, separate for sub, target, setsize, and display\n",
        "mrt = ndata.query('correct == 1')\\\n",
        "  .groupby(  ['sub','target','setsize','Display'])\\\n",
        "    .agg({\"resp\":\"count\",\n",
        "         \"rt\":[\"mean\",\"sem\"]})\\\n",
        "    .rename(columns={\"resp\":\"count\"})\\\n",
        "    .reset_index()\n",
        "mrt.head()"
      ],
      "execution_count": null,
      "outputs": []
    },
    {
      "cell_type": "markdown",
      "metadata": {
        "id": "JIzuXIx6teJt"
      },
      "source": [
        "Note, when python chains span over multiple lines, take care the indentation and add one '\\' at the previous line. \n",
        "\n",
        "I think pandas is more difficult for this particular example.\n",
        "There isn't as natural a way to mix column-agnostic aggregations (like ``count``) with column-specific aggregations like the other two. You end up writing could like `.agg{'resp': 'count'}` which reads, \"I want the count of `resp`\", even though you don't care about `resp` specifically. You could just as easily have said `.agg('Cond': 'count')`.\n",
        "Additionally assigning names can't be done as cleanly in pandas; you have to just follow it up with a ``rename`` like before."
      ]
    },
    {
      "cell_type": "markdown",
      "metadata": {
        "id": "RxFiDz1KteJt"
      },
      "source": [
        "The result is a `MultiIndex` in the columns which can be a bit awkard to work with (you can drop a level with `r.columns.droplevel()`). But `MultiIndex` has its own purpose, such as subsecting data (We will see later on). \n",
        "\n",
        "In the above example, if you want to read mean RT, you need to use mrt.rt['mean'], because it is muli-level columns. "
      ]
    },
    {
      "cell_type": "code",
      "metadata": {
        "colab": {
          "background_save": true
        },
        "id": "m2JmdGEw2sde"
      },
      "source": [
        "mrt.rt['mean']"
      ],
      "execution_count": null,
      "outputs": []
    },
    {
      "cell_type": "markdown",
      "metadata": {
        "id": "YO-Edm4kteJ_"
      },
      "source": [
        "# RT analyses - an example\n",
        "\n",
        "\n",
        "The example we use is from a visual search study published in 2019:\n",
        "\n",
        "* Shi, Z., Allenmark, F., Zhu, X., Elliott, M. A., & Müller, H. J. (2019). To quit or not to quit in dynamic search. Attention, Perception & Psychophysics. https://doi.org/10.3758/s13414-019-01857-7\n",
        "\n",
        "The original data analysis and modelling were done in R. Here we use Python to do similar analysis. \n",
        "\n",
        "Explorative data analysis (EDA) often requires you to get familiar with data by various analysis. For RT analyses, usually we do followings:\n",
        "\n",
        "1. Examining RT distributions (outliers)\n",
        "2. Estiamte Error rates\n",
        "3. Mean RTs and relative statistics. \n",
        "4. Using SAT transformation"
      ]
    },
    {
      "cell_type": "markdown",
      "metadata": {
        "id": "aVcucTFS-1Ph"
      },
      "source": [
        "## Read raw data and RT distributions\n",
        "\n",
        "Import data as we have shown above. "
      ]
    },
    {
      "cell_type": "code",
      "metadata": {
        "colab": {
          "base_uri": "https://localhost:8080/",
          "height": 204
        },
        "id": "35g1aatz_ABF",
        "outputId": "79cacd60-0b16-4814-c301-a33d021bbcbf"
      },
      "source": [
        "url = 'https://raw.githubusercontent.com/msenselab/dynamic_search/master/data/exp1.csv'\n",
        "dat = pd.read_csv(url)\n",
        "dat.head()"
      ],
      "execution_count": 4,
      "outputs": [
        {
          "output_type": "execute_result",
          "data": {
            "text/html": [
              "<div>\n",
              "<style scoped>\n",
              "    .dataframe tbody tr th:only-of-type {\n",
              "        vertical-align: middle;\n",
              "    }\n",
              "\n",
              "    .dataframe tbody tr th {\n",
              "        vertical-align: top;\n",
              "    }\n",
              "\n",
              "    .dataframe thead th {\n",
              "        text-align: right;\n",
              "    }\n",
              "</style>\n",
              "<table border=\"1\" class=\"dataframe\">\n",
              "  <thead>\n",
              "    <tr style=\"text-align: right;\">\n",
              "      <th></th>\n",
              "      <th>target</th>\n",
              "      <th>setsize</th>\n",
              "      <th>dyn</th>\n",
              "      <th>resp</th>\n",
              "      <th>rt</th>\n",
              "      <th>sub</th>\n",
              "      <th>exp</th>\n",
              "      <th>correct</th>\n",
              "    </tr>\n",
              "  </thead>\n",
              "  <tbody>\n",
              "    <tr>\n",
              "      <th>0</th>\n",
              "      <td>Absent</td>\n",
              "      <td>12</td>\n",
              "      <td>Static</td>\n",
              "      <td>2</td>\n",
              "      <td>2.583007</td>\n",
              "      <td>1</td>\n",
              "      <td>1</td>\n",
              "      <td>1</td>\n",
              "    </tr>\n",
              "    <tr>\n",
              "      <th>1</th>\n",
              "      <td>Absent</td>\n",
              "      <td>8</td>\n",
              "      <td>Static</td>\n",
              "      <td>2</td>\n",
              "      <td>0.935967</td>\n",
              "      <td>1</td>\n",
              "      <td>1</td>\n",
              "      <td>1</td>\n",
              "    </tr>\n",
              "    <tr>\n",
              "      <th>2</th>\n",
              "      <td>Present</td>\n",
              "      <td>16</td>\n",
              "      <td>Static</td>\n",
              "      <td>1</td>\n",
              "      <td>0.794771</td>\n",
              "      <td>1</td>\n",
              "      <td>1</td>\n",
              "      <td>1</td>\n",
              "    </tr>\n",
              "    <tr>\n",
              "      <th>3</th>\n",
              "      <td>Present</td>\n",
              "      <td>8</td>\n",
              "      <td>Static</td>\n",
              "      <td>1</td>\n",
              "      <td>1.241838</td>\n",
              "      <td>1</td>\n",
              "      <td>1</td>\n",
              "      <td>1</td>\n",
              "    </tr>\n",
              "    <tr>\n",
              "      <th>4</th>\n",
              "      <td>Absent</td>\n",
              "      <td>12</td>\n",
              "      <td>Static</td>\n",
              "      <td>2</td>\n",
              "      <td>1.759485</td>\n",
              "      <td>1</td>\n",
              "      <td>1</td>\n",
              "      <td>1</td>\n",
              "    </tr>\n",
              "  </tbody>\n",
              "</table>\n",
              "</div>"
            ],
            "text/plain": [
              "    target  setsize     dyn  resp        rt  sub  exp  correct\n",
              "0   Absent       12  Static     2  2.583007    1    1        1\n",
              "1   Absent        8  Static     2  0.935967    1    1        1\n",
              "2  Present       16  Static     1  0.794771    1    1        1\n",
              "3  Present        8  Static     1  1.241838    1    1        1\n",
              "4   Absent       12  Static     2  1.759485    1    1        1"
            ]
          },
          "metadata": {},
          "execution_count": 4
        }
      ]
    },
    {
      "cell_type": "markdown",
      "metadata": {
        "id": "cmS7onLijpqu"
      },
      "source": [
        "## Explorative data analysis\n",
        "\n",
        "The first step is to check individual participants' RTs and see if there are any outliers. "
      ]
    },
    {
      "cell_type": "code",
      "metadata": {
        "colab": {
          "base_uri": "https://localhost:8080/",
          "height": 406
        },
        "id": "v5hXFejI_C_5",
        "outputId": "f81b7f9f-2ddf-44f1-fd89-d7a67775767b"
      },
      "source": [
        "# inpsect individual histogram of RT distribution\n",
        "sns.displot(data = dat, x = 'rt', col = 'sub')"
      ],
      "execution_count": 12,
      "outputs": [
        {
          "output_type": "execute_result",
          "data": {
            "text/plain": [
              "<seaborn.axisgrid.FacetGrid at 0x7f29fea9bb50>"
            ]
          },
          "metadata": {},
          "execution_count": 12
        },
        {
          "output_type": "display_data",
          "data": {
            "image/png": "[encoded data removed]",
            "text/plain": [
              "<Figure size 3960x360 with 11 Axes>"
            ]
          },
          "metadata": {
            "needs_background": "light"
          }
        }
      ]
    },
    {
      "cell_type": "markdown",
      "metadata": {
        "id": "5WZl86KGkRMy"
      },
      "source": [
        "### Outlier detection\n",
        "As we can see from the above figures, most of RT distribitions are left skewed. Some may have high peak (e.g., Sub 10.), and suome are relative flat (e.g., Sub 6). One distribution is quite different form the others, that is Sub. 9. This subject has an additional peak at 5 seconds, which in the experiment was 'no response trials. \n",
        "\n",
        "There are two ways to treat those 'bad' data:\n",
        "1. filter out those incorrect and no-response trials, and treat the data as 'normal' data. \n",
        "2. If you think this dataset is deviated a lot from the sampled datasets (e.g., using SD as measure), you can mark this as outliers. \n",
        "\n",
        "Here this dataset has standard RT distribition, we only need to filter out those error and no response trials. We can use $\\bar {RT} \\pm n\\cdot \\sigma $ rule, or use quantile ranges. \n",
        "\n",
        "Steps:\n",
        "1. calculate mean and sigma, quantiles for individual dataset\n",
        "2. Merge the means to the raw data\n",
        "3. Filter out the outliers"
      ]
    },
    {
      "cell_type": "code",
      "metadata": {
        "colab": {
          "base_uri": "https://localhost:8080/",
          "height": 204
        },
        "id": "8tEAxFo8B5nm",
        "outputId": "547beb29-91ee-42de-fc24-ca0e77ea5615"
      },
      "source": [
        "# Filter the outliers\n",
        "# we use quantiles to filter out outliers\n",
        "# 1. create a table with quantiles\n",
        "subm = dat.query('rt<5 & correct == 1').groupby('sub').rt.agg(\n",
        "    ['mean','std', \n",
        "    ('q01' ,lambda x: np.quantile(a=x, q = 0.01)),\n",
        "    ('q99' ,lambda x: np.quantile(a=x, q = 0.99)) \n",
        "    ]).reset_index()\n",
        "subm.head(5)"
      ],
      "execution_count": 49,
      "outputs": [
        {
          "output_type": "execute_result",
          "data": {
            "text/html": [
              "<div>\n",
              "<style scoped>\n",
              "    .dataframe tbody tr th:only-of-type {\n",
              "        vertical-align: middle;\n",
              "    }\n",
              "\n",
              "    .dataframe tbody tr th {\n",
              "        vertical-align: top;\n",
              "    }\n",
              "\n",
              "    .dataframe thead th {\n",
              "        text-align: right;\n",
              "    }\n",
              "</style>\n",
              "<table border=\"1\" class=\"dataframe\">\n",
              "  <thead>\n",
              "    <tr style=\"text-align: right;\">\n",
              "      <th></th>\n",
              "      <th>sub</th>\n",
              "      <th>mean</th>\n",
              "      <th>std</th>\n",
              "      <th>q01</th>\n",
              "      <th>q99</th>\n",
              "    </tr>\n",
              "  </thead>\n",
              "  <tbody>\n",
              "    <tr>\n",
              "      <th>0</th>\n",
              "      <td>1</td>\n",
              "      <td>1.810085</td>\n",
              "      <td>0.918304</td>\n",
              "      <td>0.606547</td>\n",
              "      <td>4.435528</td>\n",
              "    </tr>\n",
              "    <tr>\n",
              "      <th>1</th>\n",
              "      <td>2</td>\n",
              "      <td>1.461401</td>\n",
              "      <td>0.832538</td>\n",
              "      <td>0.524191</td>\n",
              "      <td>3.982744</td>\n",
              "    </tr>\n",
              "    <tr>\n",
              "      <th>2</th>\n",
              "      <td>3</td>\n",
              "      <td>1.730457</td>\n",
              "      <td>0.896048</td>\n",
              "      <td>0.616167</td>\n",
              "      <td>4.147761</td>\n",
              "    </tr>\n",
              "    <tr>\n",
              "      <th>3</th>\n",
              "      <td>4</td>\n",
              "      <td>1.658965</td>\n",
              "      <td>0.807540</td>\n",
              "      <td>0.547726</td>\n",
              "      <td>3.781277</td>\n",
              "    </tr>\n",
              "    <tr>\n",
              "      <th>4</th>\n",
              "      <td>5</td>\n",
              "      <td>1.296664</td>\n",
              "      <td>0.713038</td>\n",
              "      <td>0.382460</td>\n",
              "      <td>3.378438</td>\n",
              "    </tr>\n",
              "  </tbody>\n",
              "</table>\n",
              "</div>"
            ],
            "text/plain": [
              "   sub      mean       std       q01       q99\n",
              "0    1  1.810085  0.918304  0.606547  4.435528\n",
              "1    2  1.461401  0.832538  0.524191  3.982744\n",
              "2    3  1.730457  0.896048  0.616167  4.147761\n",
              "3    4  1.658965  0.807540  0.547726  3.781277\n",
              "4    5  1.296664  0.713038  0.382460  3.378438"
            ]
          },
          "metadata": {},
          "execution_count": 49
        }
      ]
    },
    {
      "cell_type": "code",
      "metadata": {
        "colab": {
          "base_uri": "https://localhost:8080/",
          "height": 204
        },
        "id": "6jQcr7z_6_bb",
        "outputId": "6715c7b9-9cad-4076-e9cc-d072b1d98a5b"
      },
      "source": [
        "# Step 2. merge the quantiles to the raw data\n",
        "dat_f = pd.merge(dat, subm, on = 'sub')\n",
        "dat_f.head()\n"
      ],
      "execution_count": 50,
      "outputs": [
        {
          "output_type": "execute_result",
          "data": {
            "text/html": [
              "<div>\n",
              "<style scoped>\n",
              "    .dataframe tbody tr th:only-of-type {\n",
              "        vertical-align: middle;\n",
              "    }\n",
              "\n",
              "    .dataframe tbody tr th {\n",
              "        vertical-align: top;\n",
              "    }\n",
              "\n",
              "    .dataframe thead th {\n",
              "        text-align: right;\n",
              "    }\n",
              "</style>\n",
              "<table border=\"1\" class=\"dataframe\">\n",
              "  <thead>\n",
              "    <tr style=\"text-align: right;\">\n",
              "      <th></th>\n",
              "      <th>target</th>\n",
              "      <th>setsize</th>\n",
              "      <th>dyn</th>\n",
              "      <th>resp</th>\n",
              "      <th>rt</th>\n",
              "      <th>sub</th>\n",
              "      <th>exp</th>\n",
              "      <th>correct</th>\n",
              "      <th>mean</th>\n",
              "      <th>std</th>\n",
              "      <th>q01</th>\n",
              "      <th>q99</th>\n",
              "    </tr>\n",
              "  </thead>\n",
              "  <tbody>\n",
              "    <tr>\n",
              "      <th>0</th>\n",
              "      <td>Absent</td>\n",
              "      <td>12</td>\n",
              "      <td>Static</td>\n",
              "      <td>2</td>\n",
              "      <td>2.583007</td>\n",
              "      <td>1</td>\n",
              "      <td>1</td>\n",
              "      <td>1</td>\n",
              "      <td>1.810085</td>\n",
              "      <td>0.918304</td>\n",
              "      <td>0.606547</td>\n",
              "      <td>4.435528</td>\n",
              "    </tr>\n",
              "    <tr>\n",
              "      <th>1</th>\n",
              "      <td>Absent</td>\n",
              "      <td>8</td>\n",
              "      <td>Static</td>\n",
              "      <td>2</td>\n",
              "      <td>0.935967</td>\n",
              "      <td>1</td>\n",
              "      <td>1</td>\n",
              "      <td>1</td>\n",
              "      <td>1.810085</td>\n",
              "      <td>0.918304</td>\n",
              "      <td>0.606547</td>\n",
              "      <td>4.435528</td>\n",
              "    </tr>\n",
              "    <tr>\n",
              "      <th>2</th>\n",
              "      <td>Present</td>\n",
              "      <td>16</td>\n",
              "      <td>Static</td>\n",
              "      <td>1</td>\n",
              "      <td>0.794771</td>\n",
              "      <td>1</td>\n",
              "      <td>1</td>\n",
              "      <td>1</td>\n",
              "      <td>1.810085</td>\n",
              "      <td>0.918304</td>\n",
              "      <td>0.606547</td>\n",
              "      <td>4.435528</td>\n",
              "    </tr>\n",
              "    <tr>\n",
              "      <th>3</th>\n",
              "      <td>Present</td>\n",
              "      <td>8</td>\n",
              "      <td>Static</td>\n",
              "      <td>1</td>\n",
              "      <td>1.241838</td>\n",
              "      <td>1</td>\n",
              "      <td>1</td>\n",
              "      <td>1</td>\n",
              "      <td>1.810085</td>\n",
              "      <td>0.918304</td>\n",
              "      <td>0.606547</td>\n",
              "      <td>4.435528</td>\n",
              "    </tr>\n",
              "    <tr>\n",
              "      <th>4</th>\n",
              "      <td>Absent</td>\n",
              "      <td>12</td>\n",
              "      <td>Static</td>\n",
              "      <td>2</td>\n",
              "      <td>1.759485</td>\n",
              "      <td>1</td>\n",
              "      <td>1</td>\n",
              "      <td>1</td>\n",
              "      <td>1.810085</td>\n",
              "      <td>0.918304</td>\n",
              "      <td>0.606547</td>\n",
              "      <td>4.435528</td>\n",
              "    </tr>\n",
              "  </tbody>\n",
              "</table>\n",
              "</div>"
            ],
            "text/plain": [
              "    target  setsize     dyn  resp  ...      mean       std       q01       q99\n",
              "0   Absent       12  Static     2  ...  1.810085  0.918304  0.606547  4.435528\n",
              "1   Absent        8  Static     2  ...  1.810085  0.918304  0.606547  4.435528\n",
              "2  Present       16  Static     1  ...  1.810085  0.918304  0.606547  4.435528\n",
              "3  Present        8  Static     1  ...  1.810085  0.918304  0.606547  4.435528\n",
              "4   Absent       12  Static     2  ...  1.810085  0.918304  0.606547  4.435528\n",
              "\n",
              "[5 rows x 12 columns]"
            ]
          },
          "metadata": {},
          "execution_count": 50
        }
      ]
    },
    {
      "cell_type": "code",
      "metadata": {
        "colab": {
          "base_uri": "https://localhost:8080/"
        },
        "id": "kItTp20P_V0K",
        "outputId": "6d39e92f-1f6d-4c7b-f86e-a82a75c720c6"
      },
      "source": [
        "# Step 3. filter out outliers and drop unnecessary columns\n",
        "dat_v = dat_f.query('q01 < rt < q99').drop(['mean','std','q01','q99'], axis = 1)\n",
        "# show the percentage of dropped outliers\n",
        "print(1-len(dat_v)/len(dat_f))"
      ],
      "execution_count": 55,
      "outputs": [
        {
          "output_type": "stream",
          "name": "stdout",
          "text": [
            "0.03463203463203468\n"
          ]
        }
      ]
    },
    {
      "cell_type": "markdown",
      "metadata": {
        "id": "KCRFLlpdAv33"
      },
      "source": [
        "\n",
        "Now we have valid trials, but still contain those error trials. Let's first check the distribution for experimental conditions. "
      ]
    },
    {
      "cell_type": "code",
      "metadata": {
        "colab": {
          "base_uri": "https://localhost:8080/",
          "height": 1000
        },
        "id": "eo8yLpqHCtKQ",
        "outputId": "b78f538a-d9fd-4141-f0b3-fbac8e5d499d"
      },
      "source": [
        "sns.displot(data = dat_v, x='rt', hue = 'target', col = 'dyn',row = 'setsize')"
      ],
      "execution_count": 59,
      "outputs": [
        {
          "output_type": "execute_result",
          "data": {
            "text/plain": [
              "<seaborn.axisgrid.FacetGrid at 0x7f29e23ea6d0>"
            ]
          },
          "metadata": {},
          "execution_count": 59
        },
        {
          "output_type": "display_data",
          "data": {
            "image/png": "[encoded data removed]",
            "text/plain": [
              "<Figure size 793.5x1080 with 6 Axes>"
            ]
          },
          "metadata": {
            "needs_background": "light"
          }
        }
      ]
    },
    {
      "cell_type": "markdown",
      "metadata": {
        "id": "C93jHeZqBm36"
      },
      "source": [
        "The above histograms showed that the dynamic displays had relative slow and flat RT distributions. Consistently across all displays (set size, display type), the target absent conditions were slower. "
      ]
    },
    {
      "cell_type": "markdown",
      "metadata": {
        "id": "aCiDwRrqB_eT"
      },
      "source": [
        "## Error rates\n",
        "\n",
        "Let's now check the error vs. correct trials. "
      ]
    },
    {
      "cell_type": "code",
      "metadata": {
        "colab": {
          "base_uri": "https://localhost:8080/",
          "height": 746
        },
        "id": "Q73GxjUrCDZQ",
        "outputId": "5d160734-693c-4a6e-d859-d271a4370d36"
      },
      "source": [
        "sns.displot(data = dat_v, x = 'rt', hue = 'correct', col = 'target',row = 'dyn')"
      ],
      "execution_count": 60,
      "outputs": [
        {
          "output_type": "execute_result",
          "data": {
            "text/plain": [
              "<seaborn.axisgrid.FacetGrid at 0x7f29e232d650>"
            ]
          },
          "metadata": {},
          "execution_count": 60
        },
        {
          "output_type": "display_data",
          "data": {
            "image/png": "[encoded data removed]",
            "text/plain": [
              "<Figure size 762.875x720 with 4 Axes>"
            ]
          },
          "metadata": {
            "needs_background": "light"
          }
        }
      ]
    },
    {
      "cell_type": "markdown",
      "metadata": {
        "id": "59vv7TUxCbl3"
      },
      "source": [
        "Note: Error trials did not always slower, rather occurred earlier! The patterns suggest that participants often responded too fast to make blunt errors. \n",
        "\n",
        "Having those insightful explorations, we now go for mean RTs and error rates. "
      ]
    },
    {
      "cell_type": "code",
      "metadata": {
        "colab": {
          "base_uri": "https://localhost:8080/",
          "height": 204
        },
        "id": "BrE-VAXoC-xj",
        "outputId": "541fbf72-f155-4240-a618-07abf3007ce7"
      },
      "source": [
        "er_rates = dat_v.groupby(['sub','dyn','setsize','target']).correct.agg(\n",
        "    [('error rate', lambda x: 1 - np.mean(x))]\n",
        "    ).reset_index()\n",
        "er_rates.head()"
      ],
      "execution_count": 65,
      "outputs": [
        {
          "output_type": "execute_result",
          "data": {
            "text/html": [
              "<div>\n",
              "<style scoped>\n",
              "    .dataframe tbody tr th:only-of-type {\n",
              "        vertical-align: middle;\n",
              "    }\n",
              "\n",
              "    .dataframe tbody tr th {\n",
              "        vertical-align: top;\n",
              "    }\n",
              "\n",
              "    .dataframe thead th {\n",
              "        text-align: right;\n",
              "    }\n",
              "</style>\n",
              "<table border=\"1\" class=\"dataframe\">\n",
              "  <thead>\n",
              "    <tr style=\"text-align: right;\">\n",
              "      <th></th>\n",
              "      <th>sub</th>\n",
              "      <th>dyn</th>\n",
              "      <th>setsize</th>\n",
              "      <th>target</th>\n",
              "      <th>error rate</th>\n",
              "    </tr>\n",
              "  </thead>\n",
              "  <tbody>\n",
              "    <tr>\n",
              "      <th>0</th>\n",
              "      <td>1</td>\n",
              "      <td>Dynamic</td>\n",
              "      <td>8</td>\n",
              "      <td>Absent</td>\n",
              "      <td>0.000000</td>\n",
              "    </tr>\n",
              "    <tr>\n",
              "      <th>1</th>\n",
              "      <td>1</td>\n",
              "      <td>Dynamic</td>\n",
              "      <td>8</td>\n",
              "      <td>Present</td>\n",
              "      <td>0.030303</td>\n",
              "    </tr>\n",
              "    <tr>\n",
              "      <th>2</th>\n",
              "      <td>1</td>\n",
              "      <td>Dynamic</td>\n",
              "      <td>12</td>\n",
              "      <td>Absent</td>\n",
              "      <td>0.031250</td>\n",
              "    </tr>\n",
              "    <tr>\n",
              "      <th>3</th>\n",
              "      <td>1</td>\n",
              "      <td>Dynamic</td>\n",
              "      <td>12</td>\n",
              "      <td>Present</td>\n",
              "      <td>0.000000</td>\n",
              "    </tr>\n",
              "    <tr>\n",
              "      <th>4</th>\n",
              "      <td>1</td>\n",
              "      <td>Dynamic</td>\n",
              "      <td>16</td>\n",
              "      <td>Absent</td>\n",
              "      <td>0.085714</td>\n",
              "    </tr>\n",
              "  </tbody>\n",
              "</table>\n",
              "</div>"
            ],
            "text/plain": [
              "   sub      dyn  setsize   target  error rate\n",
              "0    1  Dynamic        8   Absent    0.000000\n",
              "1    1  Dynamic        8  Present    0.030303\n",
              "2    1  Dynamic       12   Absent    0.031250\n",
              "3    1  Dynamic       12  Present    0.000000\n",
              "4    1  Dynamic       16   Absent    0.085714"
            ]
          },
          "metadata": {},
          "execution_count": 65
        }
      ]
    },
    {
      "cell_type": "code",
      "metadata": {
        "colab": {
          "base_uri": "https://localhost:8080/",
          "height": 386
        },
        "id": "esrTyHEZE6J1",
        "outputId": "f36fd130-5b96-418b-fb8f-0bb23358def9"
      },
      "source": [
        "# visualize the error rate\n",
        "sns.catplot(data = er_rates, x = 'setsize', \n",
        "            y = 'error rate',\n",
        "            hue = 'target', col = 'dyn', kind = 'point', capsize = .1)"
      ],
      "execution_count": 71,
      "outputs": [
        {
          "output_type": "execute_result",
          "data": {
            "text/plain": [
              "<seaborn.axisgrid.FacetGrid at 0x7f29e0e3ae10>"
            ]
          },
          "metadata": {},
          "execution_count": 71
        },
        {
          "output_type": "display_data",
          "data": {
            "image/png": "[encoded data removed]",
            "text/plain": [
              "<Figure size 793.5x360 with 2 Axes>"
            ]
          },
          "metadata": {
            "needs_background": "light"
          }
        }
      ]
    },
    {
      "cell_type": "markdown",
      "metadata": {
        "id": "nyHIRTv1F8gC"
      },
      "source": [
        "Your task:\n",
        "\n",
        "* Please use `pingouin` to do a repeated measures ANOVA on error rates, separated for the 'static' and 'dynamic' displays.  \n"
      ]
    },
    {
      "cell_type": "code",
      "metadata": {
        "id": "yHkVEPrIGMwV"
      },
      "source": [
        "# your code here. \n"
      ],
      "execution_count": 75,
      "outputs": []
    },
    {
      "cell_type": "markdown",
      "metadata": {
        "id": "80PzeSzJGz7p"
      },
      "source": [
        "### answer"
      ]
    },
    {
      "cell_type": "code",
      "metadata": {
        "colab": {
          "base_uri": "https://localhost:8080/",
          "height": 142
        },
        "id": "xb1aKazdG4j8",
        "outputId": "720e5a9f-6dba-4a47-e0e4-808108370444"
      },
      "source": [
        "pg.rm_anova(data = er_rates.query('dyn == \"Dynamic\"'), \n",
        "            dv = 'error rate', within = ['target','setsize'], subject = 'sub')"
      ],
      "execution_count": 76,
      "outputs": [
        {
          "output_type": "execute_result",
          "data": {
            "text/html": [
              "<div>\n",
              "<style scoped>\n",
              "    .dataframe tbody tr th:only-of-type {\n",
              "        vertical-align: middle;\n",
              "    }\n",
              "\n",
              "    .dataframe tbody tr th {\n",
              "        vertical-align: top;\n",
              "    }\n",
              "\n",
              "    .dataframe thead th {\n",
              "        text-align: right;\n",
              "    }\n",
              "</style>\n",
              "<table border=\"1\" class=\"dataframe\">\n",
              "  <thead>\n",
              "    <tr style=\"text-align: right;\">\n",
              "      <th></th>\n",
              "      <th>Source</th>\n",
              "      <th>SS</th>\n",
              "      <th>ddof1</th>\n",
              "      <th>ddof2</th>\n",
              "      <th>MS</th>\n",
              "      <th>F</th>\n",
              "      <th>p-unc</th>\n",
              "      <th>p-GG-corr</th>\n",
              "      <th>np2</th>\n",
              "      <th>eps</th>\n",
              "    </tr>\n",
              "  </thead>\n",
              "  <tbody>\n",
              "    <tr>\n",
              "      <th>0</th>\n",
              "      <td>target</td>\n",
              "      <td>0.042356</td>\n",
              "      <td>1</td>\n",
              "      <td>10</td>\n",
              "      <td>0.042356</td>\n",
              "      <td>3.226369</td>\n",
              "      <td>0.102684</td>\n",
              "      <td>0.102684</td>\n",
              "      <td>0.243935</td>\n",
              "      <td>1.000000</td>\n",
              "    </tr>\n",
              "    <tr>\n",
              "      <th>1</th>\n",
              "      <td>setsize</td>\n",
              "      <td>0.030612</td>\n",
              "      <td>2</td>\n",
              "      <td>20</td>\n",
              "      <td>0.015306</td>\n",
              "      <td>4.297656</td>\n",
              "      <td>0.028012</td>\n",
              "      <td>0.038210</td>\n",
              "      <td>0.300585</td>\n",
              "      <td>0.814697</td>\n",
              "    </tr>\n",
              "    <tr>\n",
              "      <th>2</th>\n",
              "      <td>target * setsize</td>\n",
              "      <td>0.004866</td>\n",
              "      <td>2</td>\n",
              "      <td>20</td>\n",
              "      <td>0.002433</td>\n",
              "      <td>0.536065</td>\n",
              "      <td>0.593220</td>\n",
              "      <td>0.567841</td>\n",
              "      <td>0.050879</td>\n",
              "      <td>0.857452</td>\n",
              "    </tr>\n",
              "  </tbody>\n",
              "</table>\n",
              "</div>"
            ],
            "text/plain": [
              "             Source        SS  ddof1  ...  p-GG-corr       np2       eps\n",
              "0            target  0.042356      1  ...   0.102684  0.243935  1.000000\n",
              "1           setsize  0.030612      2  ...   0.038210  0.300585  0.814697\n",
              "2  target * setsize  0.004866      2  ...   0.567841  0.050879  0.857452\n",
              "\n",
              "[3 rows x 10 columns]"
            ]
          },
          "metadata": {},
          "execution_count": 76
        }
      ]
    },
    {
      "cell_type": "code",
      "metadata": {
        "colab": {
          "base_uri": "https://localhost:8080/",
          "height": 142
        },
        "id": "MZdeCnD-G9P5",
        "outputId": "84b84143-5633-4a5e-837b-b56579bfa18b"
      },
      "source": [
        "pg.rm_anova(data = er_rates.query('dyn == \"Static\"'), \n",
        "            dv = 'error rate', within = ['target','setsize'], subject = 'sub')"
      ],
      "execution_count": 77,
      "outputs": [
        {
          "output_type": "execute_result",
          "data": {
            "text/html": [
              "<div>\n",
              "<style scoped>\n",
              "    .dataframe tbody tr th:only-of-type {\n",
              "        vertical-align: middle;\n",
              "    }\n",
              "\n",
              "    .dataframe tbody tr th {\n",
              "        vertical-align: top;\n",
              "    }\n",
              "\n",
              "    .dataframe thead th {\n",
              "        text-align: right;\n",
              "    }\n",
              "</style>\n",
              "<table border=\"1\" class=\"dataframe\">\n",
              "  <thead>\n",
              "    <tr style=\"text-align: right;\">\n",
              "      <th></th>\n",
              "      <th>Source</th>\n",
              "      <th>SS</th>\n",
              "      <th>ddof1</th>\n",
              "      <th>ddof2</th>\n",
              "      <th>MS</th>\n",
              "      <th>F</th>\n",
              "      <th>p-unc</th>\n",
              "      <th>p-GG-corr</th>\n",
              "      <th>np2</th>\n",
              "      <th>eps</th>\n",
              "    </tr>\n",
              "  </thead>\n",
              "  <tbody>\n",
              "    <tr>\n",
              "      <th>0</th>\n",
              "      <td>target</td>\n",
              "      <td>0.009679</td>\n",
              "      <td>1</td>\n",
              "      <td>10</td>\n",
              "      <td>0.009679</td>\n",
              "      <td>4.303035</td>\n",
              "      <td>0.064806</td>\n",
              "      <td>0.064806</td>\n",
              "      <td>0.300848</td>\n",
              "      <td>1.000000</td>\n",
              "    </tr>\n",
              "    <tr>\n",
              "      <th>1</th>\n",
              "      <td>setsize</td>\n",
              "      <td>0.003671</td>\n",
              "      <td>2</td>\n",
              "      <td>20</td>\n",
              "      <td>0.001835</td>\n",
              "      <td>2.332876</td>\n",
              "      <td>0.122845</td>\n",
              "      <td>0.134766</td>\n",
              "      <td>0.189159</td>\n",
              "      <td>0.824210</td>\n",
              "    </tr>\n",
              "    <tr>\n",
              "      <th>2</th>\n",
              "      <td>target * setsize</td>\n",
              "      <td>0.000278</td>\n",
              "      <td>2</td>\n",
              "      <td>20</td>\n",
              "      <td>0.000139</td>\n",
              "      <td>0.169890</td>\n",
              "      <td>0.844963</td>\n",
              "      <td>0.741252</td>\n",
              "      <td>0.016705</td>\n",
              "      <td>0.622764</td>\n",
              "    </tr>\n",
              "  </tbody>\n",
              "</table>\n",
              "</div>"
            ],
            "text/plain": [
              "             Source        SS  ddof1  ...  p-GG-corr       np2       eps\n",
              "0            target  0.009679      1  ...   0.064806  0.300848  1.000000\n",
              "1           setsize  0.003671      2  ...   0.134766  0.189159  0.824210\n",
              "2  target * setsize  0.000278      2  ...   0.741252  0.016705  0.622764\n",
              "\n",
              "[3 rows x 10 columns]"
            ]
          },
          "metadata": {},
          "execution_count": 77
        }
      ]
    },
    {
      "cell_type": "markdown",
      "metadata": {
        "id": "uOXGx4I2HykG"
      },
      "source": [
        "## Mean RTs\n",
        "\n",
        "After we analyzed the error rates, we can now filter out those error trials, and move to mean RT analysis. \n",
        "\n",
        "__Note__, if you want to analyze inter-trial effect, you need to keep the whole raw data, and first identify what conditions of the previous trial before you remove those outliers and incorrect trials. "
      ]
    },
    {
      "cell_type": "code",
      "metadata": {
        "colab": {
          "base_uri": "https://localhost:8080/",
          "height": 204
        },
        "id": "H90QUyS9_uFn",
        "outputId": "b2b7e9f2-6a56-4c13-b4f3-ff6937b74e8d"
      },
      "source": [
        "# use the chain rule to quickly get the mean RTs\n",
        "mrt = (dat_v.query('correct == 1')\n",
        "      .groupby(['setsize','target','dyn','sub'])\n",
        "      .rt.agg(['mean','sem'])\n",
        "    ).reset_index()\n",
        "\n",
        "mrt.head(5)"
      ],
      "execution_count": 80,
      "outputs": [
        {
          "output_type": "execute_result",
          "data": {
            "text/html": [
              "<div>\n",
              "<style scoped>\n",
              "    .dataframe tbody tr th:only-of-type {\n",
              "        vertical-align: middle;\n",
              "    }\n",
              "\n",
              "    .dataframe tbody tr th {\n",
              "        vertical-align: top;\n",
              "    }\n",
              "\n",
              "    .dataframe thead th {\n",
              "        text-align: right;\n",
              "    }\n",
              "</style>\n",
              "<table border=\"1\" class=\"dataframe\">\n",
              "  <thead>\n",
              "    <tr style=\"text-align: right;\">\n",
              "      <th></th>\n",
              "      <th>setsize</th>\n",
              "      <th>target</th>\n",
              "      <th>dyn</th>\n",
              "      <th>sub</th>\n",
              "      <th>mean</th>\n",
              "      <th>sem</th>\n",
              "    </tr>\n",
              "  </thead>\n",
              "  <tbody>\n",
              "    <tr>\n",
              "      <th>0</th>\n",
              "      <td>8</td>\n",
              "      <td>Absent</td>\n",
              "      <td>Dynamic</td>\n",
              "      <td>1</td>\n",
              "      <td>2.439717</td>\n",
              "      <td>0.131130</td>\n",
              "    </tr>\n",
              "    <tr>\n",
              "      <th>1</th>\n",
              "      <td>8</td>\n",
              "      <td>Absent</td>\n",
              "      <td>Dynamic</td>\n",
              "      <td>2</td>\n",
              "      <td>2.455142</td>\n",
              "      <td>0.135945</td>\n",
              "    </tr>\n",
              "    <tr>\n",
              "      <th>2</th>\n",
              "      <td>8</td>\n",
              "      <td>Absent</td>\n",
              "      <td>Dynamic</td>\n",
              "      <td>3</td>\n",
              "      <td>2.401525</td>\n",
              "      <td>0.125244</td>\n",
              "    </tr>\n",
              "    <tr>\n",
              "      <th>3</th>\n",
              "      <td>8</td>\n",
              "      <td>Absent</td>\n",
              "      <td>Dynamic</td>\n",
              "      <td>4</td>\n",
              "      <td>2.118680</td>\n",
              "      <td>0.104073</td>\n",
              "    </tr>\n",
              "    <tr>\n",
              "      <th>4</th>\n",
              "      <td>8</td>\n",
              "      <td>Absent</td>\n",
              "      <td>Dynamic</td>\n",
              "      <td>5</td>\n",
              "      <td>1.744670</td>\n",
              "      <td>0.190036</td>\n",
              "    </tr>\n",
              "  </tbody>\n",
              "</table>\n",
              "</div>"
            ],
            "text/plain": [
              "   setsize  target      dyn  sub      mean       sem\n",
              "0        8  Absent  Dynamic    1  2.439717  0.131130\n",
              "1        8  Absent  Dynamic    2  2.455142  0.135945\n",
              "2        8  Absent  Dynamic    3  2.401525  0.125244\n",
              "3        8  Absent  Dynamic    4  2.118680  0.104073\n",
              "4        8  Absent  Dynamic    5  1.744670  0.190036"
            ]
          },
          "metadata": {},
          "execution_count": 80
        }
      ]
    },
    {
      "cell_type": "code",
      "metadata": {
        "colab": {
          "base_uri": "https://localhost:8080/",
          "height": 386
        },
        "id": "p0usLyA4JF94",
        "outputId": "1041490f-e397-4746-a018-5765980bcf66"
      },
      "source": [
        "sns.catplot(data = mrt, x = 'setsize', y = 'mean',\n",
        "            hue = 'target', col = 'dyn', kind = 'point', capsize = 0.1)"
      ],
      "execution_count": 89,
      "outputs": [
        {
          "output_type": "execute_result",
          "data": {
            "text/plain": [
              "<seaborn.axisgrid.FacetGrid at 0x7f29e057bfd0>"
            ]
          },
          "metadata": {},
          "execution_count": 89
        },
        {
          "output_type": "display_data",
          "data": {
            "image/png": "[encoded data removed]",
            "text/plain": [
              "<Figure size 793.5x360 with 2 Axes>"
            ]
          },
          "metadata": {
            "needs_background": "light"
          }
        }
      ]
    },
    {
      "cell_type": "code",
      "metadata": {
        "colab": {
          "base_uri": "https://localhost:8080/",
          "height": 142
        },
        "id": "pf1_7nNkKFkf",
        "outputId": "94804b98-460a-4d5f-df92-f5b70585c50a"
      },
      "source": [
        "# let's test if the slopes were significant \n",
        "# between target absent and present, in two separate display types\n",
        "\n",
        "pg.rm_anova(data = mrt.query(\"dyn == 'Static'\"), \n",
        "            dv = 'mean',within = ['setsize', 'target'],\n",
        "            subject = 'sub')"
      ],
      "execution_count": 90,
      "outputs": [
        {
          "output_type": "execute_result",
          "data": {
            "text/html": [
              "<div>\n",
              "<style scoped>\n",
              "    .dataframe tbody tr th:only-of-type {\n",
              "        vertical-align: middle;\n",
              "    }\n",
              "\n",
              "    .dataframe tbody tr th {\n",
              "        vertical-align: top;\n",
              "    }\n",
              "\n",
              "    .dataframe thead th {\n",
              "        text-align: right;\n",
              "    }\n",
              "</style>\n",
              "<table border=\"1\" class=\"dataframe\">\n",
              "  <thead>\n",
              "    <tr style=\"text-align: right;\">\n",
              "      <th></th>\n",
              "      <th>Source</th>\n",
              "      <th>SS</th>\n",
              "      <th>ddof1</th>\n",
              "      <th>ddof2</th>\n",
              "      <th>MS</th>\n",
              "      <th>F</th>\n",
              "      <th>p-unc</th>\n",
              "      <th>p-GG-corr</th>\n",
              "      <th>np2</th>\n",
              "      <th>eps</th>\n",
              "    </tr>\n",
              "  </thead>\n",
              "  <tbody>\n",
              "    <tr>\n",
              "      <th>0</th>\n",
              "      <td>setsize</td>\n",
              "      <td>1.675014</td>\n",
              "      <td>2</td>\n",
              "      <td>20</td>\n",
              "      <td>0.837507</td>\n",
              "      <td>53.411934</td>\n",
              "      <td>9.512398e-09</td>\n",
              "      <td>0.000002</td>\n",
              "      <td>0.842301</td>\n",
              "      <td>0.647841</td>\n",
              "    </tr>\n",
              "    <tr>\n",
              "      <th>1</th>\n",
              "      <td>target</td>\n",
              "      <td>6.382973</td>\n",
              "      <td>1</td>\n",
              "      <td>10</td>\n",
              "      <td>6.382973</td>\n",
              "      <td>45.130712</td>\n",
              "      <td>5.246409e-05</td>\n",
              "      <td>0.000052</td>\n",
              "      <td>0.818613</td>\n",
              "      <td>1.000000</td>\n",
              "    </tr>\n",
              "    <tr>\n",
              "      <th>2</th>\n",
              "      <td>setsize * target</td>\n",
              "      <td>0.527373</td>\n",
              "      <td>2</td>\n",
              "      <td>20</td>\n",
              "      <td>0.263686</td>\n",
              "      <td>22.691232</td>\n",
              "      <td>7.172774e-06</td>\n",
              "      <td>0.000238</td>\n",
              "      <td>0.694108</td>\n",
              "      <td>0.623721</td>\n",
              "    </tr>\n",
              "  </tbody>\n",
              "</table>\n",
              "</div>"
            ],
            "text/plain": [
              "             Source        SS  ddof1  ...  p-GG-corr       np2       eps\n",
              "0           setsize  1.675014      2  ...   0.000002  0.842301  0.647841\n",
              "1            target  6.382973      1  ...   0.000052  0.818613  1.000000\n",
              "2  setsize * target  0.527373      2  ...   0.000238  0.694108  0.623721\n",
              "\n",
              "[3 rows x 10 columns]"
            ]
          },
          "metadata": {},
          "execution_count": 90
        }
      ]
    },
    {
      "cell_type": "markdown",
      "metadata": {
        "id": "5dEkuI5VKioO"
      },
      "source": [
        "There was a significant interaction, indicating the slopes were different for the target absent and present!\n",
        "\n",
        "Let's take a look in the dynamic displays:"
      ]
    },
    {
      "cell_type": "code",
      "metadata": {
        "colab": {
          "base_uri": "https://localhost:8080/",
          "height": 142
        },
        "id": "i_IWhM0IKv58",
        "outputId": "bdaeb5eb-61bd-48da-ba24-e2464ddcafd5"
      },
      "source": [
        "pg.rm_anova(data = mrt.query(\"dyn == 'Dynamic'\"), \n",
        "            dv = 'mean',within = ['setsize', 'target'],\n",
        "            subject = 'sub')"
      ],
      "execution_count": 91,
      "outputs": [
        {
          "output_type": "execute_result",
          "data": {
            "text/html": [
              "<div>\n",
              "<style scoped>\n",
              "    .dataframe tbody tr th:only-of-type {\n",
              "        vertical-align: middle;\n",
              "    }\n",
              "\n",
              "    .dataframe tbody tr th {\n",
              "        vertical-align: top;\n",
              "    }\n",
              "\n",
              "    .dataframe thead th {\n",
              "        text-align: right;\n",
              "    }\n",
              "</style>\n",
              "<table border=\"1\" class=\"dataframe\">\n",
              "  <thead>\n",
              "    <tr style=\"text-align: right;\">\n",
              "      <th></th>\n",
              "      <th>Source</th>\n",
              "      <th>SS</th>\n",
              "      <th>ddof1</th>\n",
              "      <th>ddof2</th>\n",
              "      <th>MS</th>\n",
              "      <th>F</th>\n",
              "      <th>p-unc</th>\n",
              "      <th>p-GG-corr</th>\n",
              "      <th>np2</th>\n",
              "      <th>eps</th>\n",
              "    </tr>\n",
              "  </thead>\n",
              "  <tbody>\n",
              "    <tr>\n",
              "      <th>0</th>\n",
              "      <td>setsize</td>\n",
              "      <td>0.653779</td>\n",
              "      <td>2</td>\n",
              "      <td>20</td>\n",
              "      <td>0.326890</td>\n",
              "      <td>15.266935</td>\n",
              "      <td>0.000094</td>\n",
              "      <td>0.000269</td>\n",
              "      <td>0.604226</td>\n",
              "      <td>0.846091</td>\n",
              "    </tr>\n",
              "    <tr>\n",
              "      <th>1</th>\n",
              "      <td>target</td>\n",
              "      <td>16.748926</td>\n",
              "      <td>1</td>\n",
              "      <td>10</td>\n",
              "      <td>16.748926</td>\n",
              "      <td>31.359654</td>\n",
              "      <td>0.000228</td>\n",
              "      <td>0.000228</td>\n",
              "      <td>0.758218</td>\n",
              "      <td>1.000000</td>\n",
              "    </tr>\n",
              "    <tr>\n",
              "      <th>2</th>\n",
              "      <td>setsize * target</td>\n",
              "      <td>0.010084</td>\n",
              "      <td>2</td>\n",
              "      <td>20</td>\n",
              "      <td>0.005042</td>\n",
              "      <td>0.546415</td>\n",
              "      <td>0.587424</td>\n",
              "      <td>0.586880</td>\n",
              "      <td>0.051810</td>\n",
              "      <td>0.996677</td>\n",
              "    </tr>\n",
              "  </tbody>\n",
              "</table>\n",
              "</div>"
            ],
            "text/plain": [
              "             Source         SS  ddof1  ...  p-GG-corr       np2       eps\n",
              "0           setsize   0.653779      2  ...   0.000269  0.604226  0.846091\n",
              "1            target  16.748926      1  ...   0.000228  0.758218  1.000000\n",
              "2  setsize * target   0.010084      2  ...   0.586880  0.051810  0.996677\n",
              "\n",
              "[3 rows x 10 columns]"
            ]
          },
          "metadata": {},
          "execution_count": 91
        }
      ]
    },
    {
      "cell_type": "markdown",
      "metadata": {
        "id": "7UiVzd_tK2To"
      },
      "source": [
        "By contrast, the interaction in the dynamic display condition was not significant! In the paper, we did additional modeling and suggested that the 'flattened' slope in the target-absent condition was due to the early quiting process for the dynamic display. "
      ]
    },
    {
      "cell_type": "markdown",
      "metadata": {
        "id": "2QUj6dMFGOpW"
      },
      "source": [
        "### RM-ANOVA via Statmodels\n",
        "\n",
        "[statsmodels](https://www.statsmodels.org/stable/index.html) is a Python module that provides classes and functions for the estimation of many different statistical models, as well as for conducting statistical tests, and statistical data exploration. An extensive list of result statistics are available for each estimator. The results are tested against existing statistical packages to ensure that they are correct. The package is released under the open source Modified BSD (3-clause) license. The online documentation is hosted at statsmodels.org.\n",
        "\n",
        "Here we only mention one function `AnovaRM()`, which is very often used in within-subject design experiments. Currently, only fully balanced within-subject designs are supported. Calculation of between-subject effects and corrections for violation of sphericity are not yet implemented.\n",
        "\n",
        "**Input Parameters**\n",
        "\n",
        "* data: DataFrame\n",
        "* depvar: The dependent variable in data\n",
        "* subject: Specify the subject id\n",
        "* within: The within-subject factors\n",
        "* between: The between-subject factors, this is not yet implemented\n",
        "* aggregate_func: {None, ‘mean’, callable}\n",
        "If the data set contains more than a single observation per subject and cell of the specified model, this function will be used to aggregate the data before running the Anova. None (the default) will not perform any aggregation; ‘mean’ is s shortcut to numpy.mean. An exception will be raised if aggregation is required, but no aggregation function was specified.\n"
      ]
    },
    {
      "cell_type": "code",
      "metadata": {
        "id": "YPweLuPyGOK4"
      },
      "source": [
        "# import the repeated measures ANOVA\n",
        "from statsmodels.stats.anova import AnovaRM\n"
      ],
      "execution_count": 92,
      "outputs": []
    },
    {
      "cell_type": "code",
      "metadata": {
        "colab": {
          "base_uri": "https://localhost:8080/"
        },
        "id": "01BMAeRWLAyE",
        "outputId": "b94e5eda-5dd2-4ccc-a527-595a8953de07"
      },
      "source": [
        "aovrm = AnovaRM(mrt, 'mean','sub',within = ['setsize','target','dyn'])\n",
        "res = aovrm.fit()\n",
        "print(res)"
      ],
      "execution_count": 93,
      "outputs": [
        {
          "output_type": "stream",
          "name": "stdout",
          "text": [
            "                     Anova\n",
            "================================================\n",
            "                   F Value Num DF  Den DF Pr > F\n",
            "------------------------------------------------\n",
            "setsize            49.5463 2.0000 20.0000 0.0000\n",
            "target             41.6282 1.0000 10.0000 0.0001\n",
            "dyn                17.4956 1.0000 10.0000 0.0019\n",
            "setsize:target     13.8575 2.0000 20.0000 0.0002\n",
            "setsize:dyn         4.0524 2.0000 20.0000 0.0333\n",
            "target:dyn          8.2135 1.0000 10.0000 0.0168\n",
            "setsize:target:dyn 12.0286 2.0000 20.0000 0.0004\n",
            "================================================\n",
            "\n"
          ]
        }
      ]
    },
    {
      "cell_type": "markdown",
      "metadata": {
        "id": "l45gmDSGLr6I"
      },
      "source": [
        "## Speed-accuracy trade-off\n",
        "\n",
        "So far we conduct analyses on error rates and RTs separated. In the course, we reviewed several methods to combine error rates and RTs together. One common method is the inverse efficiency score (IES):\n",
        "\n",
        "$$IES = \\frac {RT}{1-PC}$$\n",
        "\n",
        "There are other methods. One important feature of IES is that it remains the same unit as the RT (in ms or secs). \n",
        "\n",
        "Let's practice on this with the above example. We have already calcualted error rates (`er_rates`) and mean RTs (`mrt`). \n",
        "\n",
        "Steps:\n",
        "1. merge two tables\n",
        "2. calculate IES\n",
        "3. do further visualization and statistics"
      ]
    },
    {
      "cell_type": "code",
      "metadata": {
        "colab": {
          "base_uri": "https://localhost:8080/",
          "height": 142
        },
        "id": "EwJI1A_LNGLu",
        "outputId": "fb20d784-2384-431f-c396-ee0665c0e8c0"
      },
      "source": [
        "#lets first check the two tables. \n",
        "er_rates.head(3)"
      ],
      "execution_count": 94,
      "outputs": [
        {
          "output_type": "execute_result",
          "data": {
            "text/html": [
              "<div>\n",
              "<style scoped>\n",
              "    .dataframe tbody tr th:only-of-type {\n",
              "        vertical-align: middle;\n",
              "    }\n",
              "\n",
              "    .dataframe tbody tr th {\n",
              "        vertical-align: top;\n",
              "    }\n",
              "\n",
              "    .dataframe thead th {\n",
              "        text-align: right;\n",
              "    }\n",
              "</style>\n",
              "<table border=\"1\" class=\"dataframe\">\n",
              "  <thead>\n",
              "    <tr style=\"text-align: right;\">\n",
              "      <th></th>\n",
              "      <th>sub</th>\n",
              "      <th>dyn</th>\n",
              "      <th>setsize</th>\n",
              "      <th>target</th>\n",
              "      <th>error rate</th>\n",
              "    </tr>\n",
              "  </thead>\n",
              "  <tbody>\n",
              "    <tr>\n",
              "      <th>0</th>\n",
              "      <td>1</td>\n",
              "      <td>Dynamic</td>\n",
              "      <td>8</td>\n",
              "      <td>Absent</td>\n",
              "      <td>0.000000</td>\n",
              "    </tr>\n",
              "    <tr>\n",
              "      <th>1</th>\n",
              "      <td>1</td>\n",
              "      <td>Dynamic</td>\n",
              "      <td>8</td>\n",
              "      <td>Present</td>\n",
              "      <td>0.030303</td>\n",
              "    </tr>\n",
              "    <tr>\n",
              "      <th>2</th>\n",
              "      <td>1</td>\n",
              "      <td>Dynamic</td>\n",
              "      <td>12</td>\n",
              "      <td>Absent</td>\n",
              "      <td>0.031250</td>\n",
              "    </tr>\n",
              "  </tbody>\n",
              "</table>\n",
              "</div>"
            ],
            "text/plain": [
              "   sub      dyn  setsize   target  error rate\n",
              "0    1  Dynamic        8   Absent    0.000000\n",
              "1    1  Dynamic        8  Present    0.030303\n",
              "2    1  Dynamic       12   Absent    0.031250"
            ]
          },
          "metadata": {},
          "execution_count": 94
        }
      ]
    },
    {
      "cell_type": "code",
      "metadata": {
        "colab": {
          "base_uri": "https://localhost:8080/",
          "height": 142
        },
        "id": "tzNVEV1QNNQD",
        "outputId": "8eb0a768-c390-410e-8f22-3f6d1314d1ad"
      },
      "source": [
        "mrt.head(3)"
      ],
      "execution_count": 95,
      "outputs": [
        {
          "output_type": "execute_result",
          "data": {
            "text/html": [
              "<div>\n",
              "<style scoped>\n",
              "    .dataframe tbody tr th:only-of-type {\n",
              "        vertical-align: middle;\n",
              "    }\n",
              "\n",
              "    .dataframe tbody tr th {\n",
              "        vertical-align: top;\n",
              "    }\n",
              "\n",
              "    .dataframe thead th {\n",
              "        text-align: right;\n",
              "    }\n",
              "</style>\n",
              "<table border=\"1\" class=\"dataframe\">\n",
              "  <thead>\n",
              "    <tr style=\"text-align: right;\">\n",
              "      <th></th>\n",
              "      <th>setsize</th>\n",
              "      <th>target</th>\n",
              "      <th>dyn</th>\n",
              "      <th>sub</th>\n",
              "      <th>mean</th>\n",
              "      <th>sem</th>\n",
              "    </tr>\n",
              "  </thead>\n",
              "  <tbody>\n",
              "    <tr>\n",
              "      <th>0</th>\n",
              "      <td>8</td>\n",
              "      <td>Absent</td>\n",
              "      <td>Dynamic</td>\n",
              "      <td>1</td>\n",
              "      <td>2.439717</td>\n",
              "      <td>0.131130</td>\n",
              "    </tr>\n",
              "    <tr>\n",
              "      <th>1</th>\n",
              "      <td>8</td>\n",
              "      <td>Absent</td>\n",
              "      <td>Dynamic</td>\n",
              "      <td>2</td>\n",
              "      <td>2.455142</td>\n",
              "      <td>0.135945</td>\n",
              "    </tr>\n",
              "    <tr>\n",
              "      <th>2</th>\n",
              "      <td>8</td>\n",
              "      <td>Absent</td>\n",
              "      <td>Dynamic</td>\n",
              "      <td>3</td>\n",
              "      <td>2.401525</td>\n",
              "      <td>0.125244</td>\n",
              "    </tr>\n",
              "  </tbody>\n",
              "</table>\n",
              "</div>"
            ],
            "text/plain": [
              "   setsize  target      dyn  sub      mean       sem\n",
              "0        8  Absent  Dynamic    1  2.439717  0.131130\n",
              "1        8  Absent  Dynamic    2  2.455142  0.135945\n",
              "2        8  Absent  Dynamic    3  2.401525  0.125244"
            ]
          },
          "metadata": {},
          "execution_count": 95
        }
      ]
    },
    {
      "cell_type": "code",
      "metadata": {
        "colab": {
          "base_uri": "https://localhost:8080/",
          "height": 204
        },
        "id": "_93tyBQXNTp5",
        "outputId": "60abba49-242f-4738-c1d0-cc8a5c52b4f6"
      },
      "source": [
        "# merge two tables\n",
        "comb_means = pd.merge(mrt, er_rates, on = ['sub','dyn','setsize','target'])\n",
        "comb_means['ies'] = comb_means['mean']/(1-comb_means['error rate'])\n",
        "comb_means.head()"
      ],
      "execution_count": 99,
      "outputs": [
        {
          "output_type": "execute_result",
          "data": {
            "text/html": [
              "<div>\n",
              "<style scoped>\n",
              "    .dataframe tbody tr th:only-of-type {\n",
              "        vertical-align: middle;\n",
              "    }\n",
              "\n",
              "    .dataframe tbody tr th {\n",
              "        vertical-align: top;\n",
              "    }\n",
              "\n",
              "    .dataframe thead th {\n",
              "        text-align: right;\n",
              "    }\n",
              "</style>\n",
              "<table border=\"1\" class=\"dataframe\">\n",
              "  <thead>\n",
              "    <tr style=\"text-align: right;\">\n",
              "      <th></th>\n",
              "      <th>setsize</th>\n",
              "      <th>target</th>\n",
              "      <th>dyn</th>\n",
              "      <th>sub</th>\n",
              "      <th>mean</th>\n",
              "      <th>sem</th>\n",
              "      <th>error rate</th>\n",
              "      <th>ies</th>\n",
              "    </tr>\n",
              "  </thead>\n",
              "  <tbody>\n",
              "    <tr>\n",
              "      <th>0</th>\n",
              "      <td>8</td>\n",
              "      <td>Absent</td>\n",
              "      <td>Dynamic</td>\n",
              "      <td>1</td>\n",
              "      <td>2.439717</td>\n",
              "      <td>0.131130</td>\n",
              "      <td>0.000000</td>\n",
              "      <td>2.439717</td>\n",
              "    </tr>\n",
              "    <tr>\n",
              "      <th>1</th>\n",
              "      <td>8</td>\n",
              "      <td>Absent</td>\n",
              "      <td>Dynamic</td>\n",
              "      <td>2</td>\n",
              "      <td>2.455142</td>\n",
              "      <td>0.135945</td>\n",
              "      <td>0.088235</td>\n",
              "      <td>2.692736</td>\n",
              "    </tr>\n",
              "    <tr>\n",
              "      <th>2</th>\n",
              "      <td>8</td>\n",
              "      <td>Absent</td>\n",
              "      <td>Dynamic</td>\n",
              "      <td>3</td>\n",
              "      <td>2.401525</td>\n",
              "      <td>0.125244</td>\n",
              "      <td>0.000000</td>\n",
              "      <td>2.401525</td>\n",
              "    </tr>\n",
              "    <tr>\n",
              "      <th>3</th>\n",
              "      <td>8</td>\n",
              "      <td>Absent</td>\n",
              "      <td>Dynamic</td>\n",
              "      <td>4</td>\n",
              "      <td>2.118680</td>\n",
              "      <td>0.104073</td>\n",
              "      <td>0.028571</td>\n",
              "      <td>2.180994</td>\n",
              "    </tr>\n",
              "    <tr>\n",
              "      <th>4</th>\n",
              "      <td>8</td>\n",
              "      <td>Absent</td>\n",
              "      <td>Dynamic</td>\n",
              "      <td>5</td>\n",
              "      <td>1.744670</td>\n",
              "      <td>0.190036</td>\n",
              "      <td>0.281250</td>\n",
              "      <td>2.427367</td>\n",
              "    </tr>\n",
              "  </tbody>\n",
              "</table>\n",
              "</div>"
            ],
            "text/plain": [
              "   setsize  target      dyn  sub      mean       sem  error rate       ies\n",
              "0        8  Absent  Dynamic    1  2.439717  0.131130    0.000000  2.439717\n",
              "1        8  Absent  Dynamic    2  2.455142  0.135945    0.088235  2.692736\n",
              "2        8  Absent  Dynamic    3  2.401525  0.125244    0.000000  2.401525\n",
              "3        8  Absent  Dynamic    4  2.118680  0.104073    0.028571  2.180994\n",
              "4        8  Absent  Dynamic    5  1.744670  0.190036    0.281250  2.427367"
            ]
          },
          "metadata": {},
          "execution_count": 99
        }
      ]
    },
    {
      "cell_type": "markdown",
      "metadata": {
        "id": "Gw9bP4pZOXvX"
      },
      "source": [
        "Pleas compare the original mean rt and ies in the rows 0 and 4!\n",
        "\n",
        "__Warning__:\n",
        "\n",
        "Note, IES transformation should be use cautiously and make sure the error rates are within 10%. In this case, the error rate for subject '5' was 28.1%. So basically you shouldn't use this tranform. As we can see from the above, due to high error rates, the transformed IES was changed from original RT about 30% (from 1.74 secs to 2.43 secs, 700 ms more!). \n"
      ]
    },
    {
      "cell_type": "markdown",
      "metadata": {
        "id": "YGiGuv_8PcY4"
      },
      "source": [
        "### Your homework\n",
        "\n",
        "Please do other SAT transforms using similar codes that I illustrated above. \n"
      ]
    }
  ]
}