{
  "cells": [
    {
      "attachments": {},
      "cell_type": "markdown",
      "metadata": {},
      "source": [
        "<a href=\"https://colab.research.google.com/github/strongway/tutorial_data_science/blob/master/lecture_2022/p4-signal-detection_with_R.ipynb\" target=\"_parent\"><img src=\"https://colab.research.google.com/assets/colab-badge.svg\" alt=\"Open In Colab\"/></a>"
      ]
    },
    {
      "attachments": {},
      "cell_type": "markdown",
      "metadata": {
        "id": "4oCWPA4WBwH-"
      },
      "source": [
        "# Signal Detection Theory (SDT): Tutorial (R version)\n",
        "\n",
        "__Zhuanghua Shi__ (shi@lmu.de)\n",
        "\n",
        "Last update: Jan. 16, 2023\n",
        "\n",
        "## 1. Psychometric function (PF) and Signal Detection Theory (SDT)\n",
        "\n",
        "A psychometric function (PF) shows how human performance a certain psychophysical task (e.g., classification) at different levels of a physical stimulus (e.g., velocity, duration, brightness, etc.). Recall a typical response is binary categorical choice. When the sensory input increases continuously from undetectable (or chance level) to surely detectable range, the probability of response follows a sigmoid curve. A general psychometric function also takes into account  chance level and attentional lapses:\n",
        "\n",
        "$$\\Psi(x,\\alpha, \\beta, \\gamma, \\lambda) = \\gamma + (1-\\gamma -\\lambda) F(x, \\alpha, \\beta)$$\n",
        "where $\\alpha$ is the threshold, $\\beta$ the sensitivity, $\\gamma$ the chance level, and $\\lambda$ the lapse rate. $F(.)$ is a sigmoid function, such as logistic function:\n",
        "\n",
        "$$F(x,\\alpha, \\beta) = \\frac{1}{1 + e^{-\\beta(x-\\alpha)}}$$ \n",
        "\n",
        "## High-threshold theory\n",
        "\n",
        "Imagine a simple two-interval force-choice (2IFC) task in which observers had to determine which of two intervals contains a target. This type of 2IFC task can be thought of as a signal detection task. Let's denote the interval containing the stimulus as $S$ (signal), and the empty interval as $N$ (noise). The figure below (Kingdom & Prins, 2016) illustrates a probability distribution of two signals. \n",
        "\n",
        "![High Threshold](https://github.com/strongway/tutorial_data_science/raw/master/figures/high_threshold.png)\n",
        "_Figure from Kingdom and Prins (2016), Figure 4.6_\n",
        "\n",
        "The ability of a sensory system to detect a sitmulus on any given trial depends on the amount of sensory evidence that has been accumulated. Let's assume that the average amount of accumulated evidence increases linearly as the stimulus intensity increases $x$:\n",
        "\n",
        "$$\\mu(x)=\\pi + \\rho x$$\n",
        "\n",
        "Recall theh high-threshold theory assumes that the detection of a stimulus is determined by a threshold, which is the minimum amount of stimulus energy required for a person to be able to detect it. According to the theory, when the energy of a stimulus exceeds the threshold, it will be detected, and when it falls below the threshold, it will not be detected. The threshold is assumed to be high enough such that the probability that the threshold is exceeded when $x=0$ (i.e., noise) is effective zero. \n",
        "The theory also assumes that the threshold is not fixed, but can change depending on various factors such as the background noise level, the attention of observer, and the characteristics of the stimulus itself. \n",
        "With such asummption, function $F(x)$, which describes the probability that the threshold will be exceeded by a stimulus of intensity $x$, will be the cumulative normal distribution (see the inset in the above Figure).\n",
        "\n",
        "In contrast to high-threshold theory, SDT proposes that there is no fixed internal threshold for detecting a stimulus. Instead, SDT assumes that the sensory system generate a continuous signal based on the amount of sensory evidence that has been accumulated. The decision-making process has access  to the degree of sensory evidence for both Signal and Noise. A stimulus can be thought of as a sample from the probability density function (PDF) associated with the stimulus. Even in the absence of a stimulus, varying degrees of sensory evidence can be generated, and the noise interval can be thought of as a sample from the PDF associated with the noise stimulus. Thus, the decision is based on the relative amplitude of two samples: Signal $N(\\pi + \\rho x), \\sigma^2$, and Noise $N(\\pi, \\sigma^2)$. \n",
        "\n",
        "In an unbiased 2AFC task, a simple decision rule is that if the sample taken during the sitmulus interval is greater than the sample taken during the noise interval. This means that if the difference between the sample value from the signal interval and the sample value from the noise interval is greater than zero, the response will be considered correct. The difference in sensory evidence will be distributed as $N(\\rho x, 2 \\sigma^2)$. \n",
        "\n",
        "Reference:\n",
        "\n",
        "Kingdom, F. A. A., & Prins, N. (2016). Psychophysics: A Practical Introduction. Academic Press. "
      ]
    },
    {
      "cell_type": "markdown",
      "metadata": {
        "id": "FwmGo7WjDwlM"
      },
      "source": [
        "## 2. Calculation of d' and bias C for M-AFC"
      ]
    },
    {
      "cell_type": "markdown",
      "metadata": {
        "id": "mzMLqtN6D3Mu"
      },
      "source": [
        "### 2.1 Yes/No 1AFC\n",
        "\n",
        "Yes/No paradigm, known as 1AFC, is particularly prone to bias. Suppose two observers have the same internal sensitivity, but use different response criteria. Observed psychometric functions would differ a lot between two observers. The SDT can distinguish the response bias from the sensitivity with the following estimates:\n",
        "\n",
        "$$d' = z(Hit) - z(FA)$$\n",
        "\n",
        "$$c =-[z(Hit)+z(FA)]/2$$\n"
      ]
    },
    {
      "cell_type": "markdown",
      "metadata": {
        "id": "MicXBomzEDVr"
      },
      "source": [
        "### 2.2 Unbiased 2IFC\n",
        "\n",
        "With the standard 2IFC procedure, the N and S+N stimuli are presented together in a trial as two alternatives. Remember that the decision rule is to choose the alternative in which the internal signal is biggest. If the observer adopts this rule, trials in which the _difference_ between the S+N and N samples are positive will result in a correct decision. The variance of the _difference_ is the summation of the variances of the S+N and N. The proportion correct for 2AFC is thus given by the grey area in the lower panel to the right of zero. This is:\n",
        "\n",
        "$$ P_c = \\Phi(d'/\\sqrt{2})$$\n",
        "\n",
        "and \n",
        "\n",
        "$$ d' = z(P_c) \\sqrt2$$\n",
        "\n",
        "![2AFC](https://github.com/strongway/tutorial_data_science/raw/master/figures/2afc.jpg)\n",
        "_Graphical illustration of how d' is calculated from an unbiased 2AFC task. Figure from Kingdom and Prins (2016)_\n",
        "\n",
        "\n",
        "For the __biased 2IFC__, the calculation is the same as shown in 1AFC. \n"
      ]
    },
    {
      "cell_type": "markdown",
      "metadata": {
        "id": "uQMmNALKEKjH"
      },
      "source": [
        "## 3. Confusion Matrix and ROC curve\n",
        "\n",
        "1AFC or 2AFC are essential binary classification. The probabilities of outcomes from S and N define the confusion matrix. \n",
        "\n",
        "Response | Signal  |  Noise\n",
        "-------- | -------  | -------\n",
        "Yes      | Hit      | FA\n",
        "No       | Miss     | CR\n",
        "\n",
        "ROC curve plots with the horizontal axis (FA) and the vertical axis (Hit). On the same ROC curve, Hit/FA with liberal criteria locate at the right-up corner, whereas Hit/FA with conservative criteria locate at the lower-left corner. A ROC curve with high d' relative to low d' has __a larger area under the curve__. Sometimes we also use the Area under the curve (AUC) to measure the sensitity. \n",
        "\n",
        "Assuming Gaussian distribution, we have the folling relation between d' and AUX ($A_z$):\n",
        "\n",
        "$$A_z = \\Phi(\\frac{d'}{\\sqrt 2})$$\n",
        "\n",
        "Note, sometimes we also use ROC curves and AUCs to select the best logistic regression models. "
      ]
    },
    {
      "cell_type": "markdown",
      "metadata": {
        "id": "b1Lj2e4_EQle"
      },
      "source": [
        "## 4. Example: Neural decoding (Britten et al. 1992)\n",
        "\n",
        "[Britten and collegues (1992)](https://doi.org/10.1523/JNEUROSCI.12-12-04745.1992) compared the ability of psychophysical observers and single cortical neurons to discriminate weak motion signals in a stochastic visual display. \n",
        "\n",
        "![RDM](https://github.com/strongway/tutorial_data_science/raw/master/figures/random_dot_motion.jpg)\n",
        "\n",
        "They recorded money's behavioral responses as well as responses from MT neurons. The following Figure shows frequency histogram of reponses obtained from a single MT neuron at five different correlation levels. The black bars illustrate reponses for null direction motion, while the white bars represent responses for motion in the neuron's preferred direction. We can see clearly the distance between the _signal_ and the _noise_ depends on the motion coherence.  \n",
        "\n",
        "![MT Neurons responses](https://github.com/strongway/tutorial_data_science/raw/master/figures/britten_frequencies.jpg)\n",
        "\n",
        "Given that one sees a firing rate from that neuron in one trial, how should one decode whether the RDM was moving upward or downward? It depends on the decision criterion! The unbias decision should set the criterion in the middle. \n",
        "\n",
        "The below figure plots the ROC curves for the five pairs. Each ROC was generated by increasing the criterion level from 0 to 120 spikes in one-spike increments. Recall the area under the ROC is an alternative measure of the sensitivity, which is shown on the right side of the curve. \n",
        "\n",
        "![ROC](https://github.com/strongway/tutorial_data_science/raw/master/figures/britten_rocs.jpg)\n",
        "\n",
        "\n",
        "And you can see from Figure below, the neuron's senstivity curve is very close to the behavioral responses. \n",
        "\n",
        "![comparison](https://github.com/strongway/tutorial_data_science/raw/master/figures/britten_comparisons.jpg)\n",
        "\n"
      ]
    },
    {
      "cell_type": "markdown",
      "metadata": {
        "id": "7C8Ngsz8EdHO"
      },
      "source": [
        "## 5. Practice\n",
        "\n",
        "The practice data come from the following study:\n",
        "\n",
        "Shi, Z., Allenmark, F., Zhu, X., Elliott, M. A., & Müller, H. J. (2019). To quit or not to quit in dynamic search. Attention, Perception & Psychophysics. https://doi.org/10.3758/s13414-019-01857-7\n",
        "\n",
        "In this study, we examined the search performance between the static and dynamic displays. One striking finding from dynamic search (Horowitz & Wolfe, 1998) is that the search slope, measured by search time per item, is similar to static search. In this study, we examined how decision crtieria that related to the quiting process influence the search performance. \n",
        "\n",
        "In the following practice, we estimate the target detection sensitivity and decision criteria for both the static and dynamic search displays. \n",
        "\n",
        "The data are availabe in the following github repository:\n",
        "\n",
        "https://github.com/msenselab/dynamic_search\n"
      ]
    },
    {
      "cell_type": "markdown",
      "metadata": {
        "id": "Op23rZOXxo8p"
      },
      "source": []
    },
    {
      "cell_type": "markdown",
      "metadata": {
        "id": "yB7t1hVlExMX"
      },
      "source": [
        "### Step 1. Load data\n",
        "\n",
        "Let us first load the first experimental data: "
      ]
    },
    {
      "cell_type": "code",
      "execution_count": 30,
      "metadata": {
        "colab": {
          "base_uri": "https://localhost:8080/",
          "height": 522
        },
        "id": "32N5dOMhDv6V",
        "outputId": "f90aa997-c668-4987-c19e-556b2bc4bcae",
        "vscode": {
          "languageId": "r"
        }
      },
      "outputs": [
        {
          "data": {
            "text/html": [
              "<table class=\"dataframe\">\n",
              "<caption>A data.frame: 6 × 8</caption>\n",
              "<thead>\n",
              "\t<tr><th></th><th scope=col>target</th><th scope=col>setsize</th><th scope=col>dyn</th><th scope=col>resp</th><th scope=col>rt</th><th scope=col>sub</th><th scope=col>exp</th><th scope=col>correct</th></tr>\n",
              "\t<tr><th></th><th scope=col>&lt;chr&gt;</th><th scope=col>&lt;int&gt;</th><th scope=col>&lt;chr&gt;</th><th scope=col>&lt;dbl&gt;</th><th scope=col>&lt;dbl&gt;</th><th scope=col>&lt;int&gt;</th><th scope=col>&lt;int&gt;</th><th scope=col>&lt;int&gt;</th></tr>\n",
              "</thead>\n",
              "<tbody>\n",
              "\t<tr><th scope=row>1</th><td>Absent </td><td>12</td><td>Static</td><td>0</td><td>2.5830068</td><td>1</td><td>1</td><td>1</td></tr>\n",
              "\t<tr><th scope=row>2</th><td>Absent </td><td> 8</td><td>Static</td><td>0</td><td>0.9359671</td><td>1</td><td>1</td><td>1</td></tr>\n",
              "\t<tr><th scope=row>3</th><td>Present</td><td>16</td><td>Static</td><td>1</td><td>0.7947714</td><td>1</td><td>1</td><td>1</td></tr>\n",
              "\t<tr><th scope=row>4</th><td>Present</td><td> 8</td><td>Static</td><td>1</td><td>1.2418375</td><td>1</td><td>1</td><td>1</td></tr>\n",
              "\t<tr><th scope=row>5</th><td>Absent </td><td>12</td><td>Static</td><td>0</td><td>1.7594853</td><td>1</td><td>1</td><td>1</td></tr>\n",
              "\t<tr><th scope=row>6</th><td>Present</td><td>16</td><td>Static</td><td>1</td><td>2.1242149</td><td>1</td><td>1</td><td>1</td></tr>\n",
              "</tbody>\n",
              "</table>\n"
            ],
            "text/latex": [
              "A data.frame: 6 × 8\n",
              "\\begin{tabular}{r|llllllll}\n",
              "  & target & setsize & dyn & resp & rt & sub & exp & correct\\\\\n",
              "  & <chr> & <int> & <chr> & <dbl> & <dbl> & <int> & <int> & <int>\\\\\n",
              "\\hline\n",
              "\t1 & Absent  & 12 & Static & 0 & 2.5830068 & 1 & 1 & 1\\\\\n",
              "\t2 & Absent  &  8 & Static & 0 & 0.9359671 & 1 & 1 & 1\\\\\n",
              "\t3 & Present & 16 & Static & 1 & 0.7947714 & 1 & 1 & 1\\\\\n",
              "\t4 & Present &  8 & Static & 1 & 1.2418375 & 1 & 1 & 1\\\\\n",
              "\t5 & Absent  & 12 & Static & 0 & 1.7594853 & 1 & 1 & 1\\\\\n",
              "\t6 & Present & 16 & Static & 1 & 2.1242149 & 1 & 1 & 1\\\\\n",
              "\\end{tabular}\n"
            ],
            "text/markdown": [
              "\n",
              "A data.frame: 6 × 8\n",
              "\n",
              "| <!--/--> | target &lt;chr&gt; | setsize &lt;int&gt; | dyn &lt;chr&gt; | resp &lt;dbl&gt; | rt &lt;dbl&gt; | sub &lt;int&gt; | exp &lt;int&gt; | correct &lt;int&gt; |\n",
              "|---|---|---|---|---|---|---|---|---|\n",
              "| 1 | Absent  | 12 | Static | 0 | 2.5830068 | 1 | 1 | 1 |\n",
              "| 2 | Absent  |  8 | Static | 0 | 0.9359671 | 1 | 1 | 1 |\n",
              "| 3 | Present | 16 | Static | 1 | 0.7947714 | 1 | 1 | 1 |\n",
              "| 4 | Present |  8 | Static | 1 | 1.2418375 | 1 | 1 | 1 |\n",
              "| 5 | Absent  | 12 | Static | 0 | 1.7594853 | 1 | 1 | 1 |\n",
              "| 6 | Present | 16 | Static | 1 | 2.1242149 | 1 | 1 | 1 |\n",
              "\n"
            ],
            "text/plain": [
              "  target  setsize dyn    resp rt        sub exp correct\n",
              "1 Absent  12      Static 0    2.5830068 1   1   1      \n",
              "2 Absent   8      Static 0    0.9359671 1   1   1      \n",
              "3 Present 16      Static 1    0.7947714 1   1   1      \n",
              "4 Present  8      Static 1    1.2418375 1   1   1      \n",
              "5 Absent  12      Static 0    1.7594853 1   1   1      \n",
              "6 Present 16      Static 1    2.1242149 1   1   1      "
            ]
          },
          "metadata": {},
          "output_type": "display_data"
        }
      ],
      "source": [
        "library(tidyverse)\n",
        "\n",
        "#load data\n",
        "dat = read.csv('https://raw.githubusercontent.com/msenselab/dynamic_search/master/data/exp1.csv', sep = ',')\n",
        "dat = dat %>% mutate(resp = 2-resp) # 1 - present, 2 - absent -> 1 and 0\n",
        "head(dat)"
      ]
    },
    {
      "attachments": {},
      "cell_type": "markdown",
      "metadata": {},
      "source": [
        "Let's make sanity check on the data. If the response is only for categorical values. "
      ]
    },
    {
      "cell_type": "code",
      "execution_count": 32,
      "metadata": {
        "vscode": {
          "languageId": "r"
        }
      },
      "outputs": [
        {
          "name": "stdout",
          "output_type": "stream",
          "text": [
            "[1] 0 1 3\n"
          ]
        }
      ],
      "source": [
        "print(unique(dat$resp))\n",
        "# it seems there are some missing values in the data (3, which previous was -1)\n",
        "# so we filter them out\n",
        "dat = dat %>% filter(resp != 3)"
      ]
    },
    {
      "attachments": {},
      "cell_type": "markdown",
      "metadata": {},
      "source": [
        "#### 1.1 Mean reaction time analysis\n",
        "Before we start the signal detection analysis, we first take a look what reaction time looks like for the static and dynamic search displays. In the mean reaction time analysis, usually we first remove some outliers and then take the mean. Usually, we use the median absolute deviation (MAD) to remove outliers. That is, we remove the data points that are more than 3 MAD away from the median. We should do this for each subject.\n"
      ]
    },
    {
      "cell_type": "code",
      "execution_count": 73,
      "metadata": {
        "vscode": {
          "languageId": "r"
        }
      },
      "outputs": [
        {
          "data": {
            "text/html": [
              "<table class=\"dataframe\">\n",
              "<caption>A tibble: 6 × 10</caption>\n",
              "<thead>\n",
              "\t<tr><th scope=col>target</th><th scope=col>setsize</th><th scope=col>dyn</th><th scope=col>resp</th><th scope=col>rt</th><th scope=col>sub</th><th scope=col>exp</th><th scope=col>correct</th><th scope=col>mad</th><th scope=col>median</th></tr>\n",
              "\t<tr><th scope=col>&lt;chr&gt;</th><th scope=col>&lt;int&gt;</th><th scope=col>&lt;chr&gt;</th><th scope=col>&lt;dbl&gt;</th><th scope=col>&lt;dbl&gt;</th><th scope=col>&lt;int&gt;</th><th scope=col>&lt;int&gt;</th><th scope=col>&lt;int&gt;</th><th scope=col>&lt;dbl&gt;</th><th scope=col>&lt;dbl&gt;</th></tr>\n",
              "</thead>\n",
              "<tbody>\n",
              "\t<tr><td>Absent </td><td>12</td><td>Static</td><td>0</td><td>2.5830068</td><td>1</td><td>1</td><td>1</td><td>1.976476</td><td>1.677143</td></tr>\n",
              "\t<tr><td>Absent </td><td> 8</td><td>Static</td><td>0</td><td>0.9359671</td><td>1</td><td>1</td><td>1</td><td>1.976476</td><td>1.677143</td></tr>\n",
              "\t<tr><td>Present</td><td>16</td><td>Static</td><td>1</td><td>0.7947714</td><td>1</td><td>1</td><td>1</td><td>1.976476</td><td>1.677143</td></tr>\n",
              "\t<tr><td>Present</td><td> 8</td><td>Static</td><td>1</td><td>1.2418375</td><td>1</td><td>1</td><td>1</td><td>1.976476</td><td>1.677143</td></tr>\n",
              "\t<tr><td>Absent </td><td>12</td><td>Static</td><td>0</td><td>1.7594853</td><td>1</td><td>1</td><td>1</td><td>1.976476</td><td>1.677143</td></tr>\n",
              "\t<tr><td>Present</td><td>16</td><td>Static</td><td>1</td><td>2.1242149</td><td>1</td><td>1</td><td>1</td><td>1.976476</td><td>1.677143</td></tr>\n",
              "</tbody>\n",
              "</table>\n"
            ],
            "text/latex": [
              "A tibble: 6 × 10\n",
              "\\begin{tabular}{llllllllll}\n",
              " target & setsize & dyn & resp & rt & sub & exp & correct & mad & median\\\\\n",
              " <chr> & <int> & <chr> & <dbl> & <dbl> & <int> & <int> & <int> & <dbl> & <dbl>\\\\\n",
              "\\hline\n",
              "\t Absent  & 12 & Static & 0 & 2.5830068 & 1 & 1 & 1 & 1.976476 & 1.677143\\\\\n",
              "\t Absent  &  8 & Static & 0 & 0.9359671 & 1 & 1 & 1 & 1.976476 & 1.677143\\\\\n",
              "\t Present & 16 & Static & 1 & 0.7947714 & 1 & 1 & 1 & 1.976476 & 1.677143\\\\\n",
              "\t Present &  8 & Static & 1 & 1.2418375 & 1 & 1 & 1 & 1.976476 & 1.677143\\\\\n",
              "\t Absent  & 12 & Static & 0 & 1.7594853 & 1 & 1 & 1 & 1.976476 & 1.677143\\\\\n",
              "\t Present & 16 & Static & 1 & 2.1242149 & 1 & 1 & 1 & 1.976476 & 1.677143\\\\\n",
              "\\end{tabular}\n"
            ],
            "text/markdown": [
              "\n",
              "A tibble: 6 × 10\n",
              "\n",
              "| target &lt;chr&gt; | setsize &lt;int&gt; | dyn &lt;chr&gt; | resp &lt;dbl&gt; | rt &lt;dbl&gt; | sub &lt;int&gt; | exp &lt;int&gt; | correct &lt;int&gt; | mad &lt;dbl&gt; | median &lt;dbl&gt; |\n",
              "|---|---|---|---|---|---|---|---|---|---|\n",
              "| Absent  | 12 | Static | 0 | 2.5830068 | 1 | 1 | 1 | 1.976476 | 1.677143 |\n",
              "| Absent  |  8 | Static | 0 | 0.9359671 | 1 | 1 | 1 | 1.976476 | 1.677143 |\n",
              "| Present | 16 | Static | 1 | 0.7947714 | 1 | 1 | 1 | 1.976476 | 1.677143 |\n",
              "| Present |  8 | Static | 1 | 1.2418375 | 1 | 1 | 1 | 1.976476 | 1.677143 |\n",
              "| Absent  | 12 | Static | 0 | 1.7594853 | 1 | 1 | 1 | 1.976476 | 1.677143 |\n",
              "| Present | 16 | Static | 1 | 2.1242149 | 1 | 1 | 1 | 1.976476 | 1.677143 |\n",
              "\n"
            ],
            "text/plain": [
              "  target  setsize dyn    resp rt        sub exp correct mad      median  \n",
              "1 Absent  12      Static 0    2.5830068 1   1   1       1.976476 1.677143\n",
              "2 Absent   8      Static 0    0.9359671 1   1   1       1.976476 1.677143\n",
              "3 Present 16      Static 1    0.7947714 1   1   1       1.976476 1.677143\n",
              "4 Present  8      Static 1    1.2418375 1   1   1       1.976476 1.677143\n",
              "5 Absent  12      Static 0    1.7594853 1   1   1       1.976476 1.677143\n",
              "6 Present 16      Static 1    2.1242149 1   1   1       1.976476 1.677143"
            ]
          },
          "metadata": {},
          "output_type": "display_data"
        }
      ],
      "source": [
        "# add 3 MAD and median for each subject\n",
        "dat = dat %>% group_by(sub) %>% mutate(mad = mad(rt, constant = 3), median = median(rt)) %>% ungroup()\n",
        "head(dat)\n"
      ]
    },
    {
      "cell_type": "code",
      "execution_count": 74,
      "metadata": {
        "vscode": {
          "languageId": "r"
        }
      },
      "outputs": [
        {
          "data": {
            "text/html": [
              "<table class=\"dataframe\">\n",
              "<caption>A tibble: 6 × 11</caption>\n",
              "<thead>\n",
              "\t<tr><th scope=col>target</th><th scope=col>setsize</th><th scope=col>dyn</th><th scope=col>resp</th><th scope=col>rt</th><th scope=col>sub</th><th scope=col>exp</th><th scope=col>correct</th><th scope=col>mad</th><th scope=col>median</th><th scope=col>outlier</th></tr>\n",
              "\t<tr><th scope=col>&lt;chr&gt;</th><th scope=col>&lt;int&gt;</th><th scope=col>&lt;chr&gt;</th><th scope=col>&lt;dbl&gt;</th><th scope=col>&lt;dbl&gt;</th><th scope=col>&lt;int&gt;</th><th scope=col>&lt;int&gt;</th><th scope=col>&lt;int&gt;</th><th scope=col>&lt;dbl&gt;</th><th scope=col>&lt;dbl&gt;</th><th scope=col>&lt;dbl&gt;</th></tr>\n",
              "</thead>\n",
              "<tbody>\n",
              "\t<tr><td>Absent </td><td>12</td><td>Static</td><td>0</td><td>2.5830068</td><td>1</td><td>1</td><td>1</td><td>1.976476</td><td>1.677143</td><td>0</td></tr>\n",
              "\t<tr><td>Absent </td><td> 8</td><td>Static</td><td>0</td><td>0.9359671</td><td>1</td><td>1</td><td>1</td><td>1.976476</td><td>1.677143</td><td>0</td></tr>\n",
              "\t<tr><td>Present</td><td>16</td><td>Static</td><td>1</td><td>0.7947714</td><td>1</td><td>1</td><td>1</td><td>1.976476</td><td>1.677143</td><td>0</td></tr>\n",
              "\t<tr><td>Present</td><td> 8</td><td>Static</td><td>1</td><td>1.2418375</td><td>1</td><td>1</td><td>1</td><td>1.976476</td><td>1.677143</td><td>0</td></tr>\n",
              "\t<tr><td>Absent </td><td>12</td><td>Static</td><td>0</td><td>1.7594853</td><td>1</td><td>1</td><td>1</td><td>1.976476</td><td>1.677143</td><td>0</td></tr>\n",
              "\t<tr><td>Present</td><td>16</td><td>Static</td><td>1</td><td>2.1242149</td><td>1</td><td>1</td><td>1</td><td>1.976476</td><td>1.677143</td><td>0</td></tr>\n",
              "</tbody>\n",
              "</table>\n"
            ],
            "text/latex": [
              "A tibble: 6 × 11\n",
              "\\begin{tabular}{lllllllllll}\n",
              " target & setsize & dyn & resp & rt & sub & exp & correct & mad & median & outlier\\\\\n",
              " <chr> & <int> & <chr> & <dbl> & <dbl> & <int> & <int> & <int> & <dbl> & <dbl> & <dbl>\\\\\n",
              "\\hline\n",
              "\t Absent  & 12 & Static & 0 & 2.5830068 & 1 & 1 & 1 & 1.976476 & 1.677143 & 0\\\\\n",
              "\t Absent  &  8 & Static & 0 & 0.9359671 & 1 & 1 & 1 & 1.976476 & 1.677143 & 0\\\\\n",
              "\t Present & 16 & Static & 1 & 0.7947714 & 1 & 1 & 1 & 1.976476 & 1.677143 & 0\\\\\n",
              "\t Present &  8 & Static & 1 & 1.2418375 & 1 & 1 & 1 & 1.976476 & 1.677143 & 0\\\\\n",
              "\t Absent  & 12 & Static & 0 & 1.7594853 & 1 & 1 & 1 & 1.976476 & 1.677143 & 0\\\\\n",
              "\t Present & 16 & Static & 1 & 2.1242149 & 1 & 1 & 1 & 1.976476 & 1.677143 & 0\\\\\n",
              "\\end{tabular}\n"
            ],
            "text/markdown": [
              "\n",
              "A tibble: 6 × 11\n",
              "\n",
              "| target &lt;chr&gt; | setsize &lt;int&gt; | dyn &lt;chr&gt; | resp &lt;dbl&gt; | rt &lt;dbl&gt; | sub &lt;int&gt; | exp &lt;int&gt; | correct &lt;int&gt; | mad &lt;dbl&gt; | median &lt;dbl&gt; | outlier &lt;dbl&gt; |\n",
              "|---|---|---|---|---|---|---|---|---|---|---|\n",
              "| Absent  | 12 | Static | 0 | 2.5830068 | 1 | 1 | 1 | 1.976476 | 1.677143 | 0 |\n",
              "| Absent  |  8 | Static | 0 | 0.9359671 | 1 | 1 | 1 | 1.976476 | 1.677143 | 0 |\n",
              "| Present | 16 | Static | 1 | 0.7947714 | 1 | 1 | 1 | 1.976476 | 1.677143 | 0 |\n",
              "| Present |  8 | Static | 1 | 1.2418375 | 1 | 1 | 1 | 1.976476 | 1.677143 | 0 |\n",
              "| Absent  | 12 | Static | 0 | 1.7594853 | 1 | 1 | 1 | 1.976476 | 1.677143 | 0 |\n",
              "| Present | 16 | Static | 1 | 2.1242149 | 1 | 1 | 1 | 1.976476 | 1.677143 | 0 |\n",
              "\n"
            ],
            "text/plain": [
              "  target  setsize dyn    resp rt        sub exp correct mad      median  \n",
              "1 Absent  12      Static 0    2.5830068 1   1   1       1.976476 1.677143\n",
              "2 Absent   8      Static 0    0.9359671 1   1   1       1.976476 1.677143\n",
              "3 Present 16      Static 1    0.7947714 1   1   1       1.976476 1.677143\n",
              "4 Present  8      Static 1    1.2418375 1   1   1       1.976476 1.677143\n",
              "5 Absent  12      Static 0    1.7594853 1   1   1       1.976476 1.677143\n",
              "6 Present 16      Static 1    2.1242149 1   1   1       1.976476 1.677143\n",
              "  outlier\n",
              "1 0      \n",
              "2 0      \n",
              "3 0      \n",
              "4 0      \n",
              "5 0      \n",
              "6 0      "
            ]
          },
          "metadata": {},
          "output_type": "display_data"
        }
      ],
      "source": [
        "# add a flag for outliers\n",
        "dat = dat %>% mutate(outlier = ifelse(rt > median + mad | rt < 0.1, 1, 0))  # 0.1 is the minimum RT\n",
        "head(dat)"
      ]
    },
    {
      "cell_type": "code",
      "execution_count": 75,
      "metadata": {
        "vscode": {
          "languageId": "r"
        }
      },
      "outputs": [
        {
          "name": "stderr",
          "output_type": "stream",
          "text": [
            "\u001b[1m\u001b[22m`summarise()` has grouped output by 'sub', 'target', 'dyn'. You can override\n",
            "using the `.groups` argument.\n"
          ]
        },
        {
          "data": {
            "text/html": [
              "<table class=\"dataframe\">\n",
              "<caption>A tibble: 6 × 5</caption>\n",
              "<thead>\n",
              "\t<tr><th scope=col>sub</th><th scope=col>target</th><th scope=col>dyn</th><th scope=col>setsize</th><th scope=col>rt</th></tr>\n",
              "\t<tr><th scope=col>&lt;int&gt;</th><th scope=col>&lt;chr&gt;</th><th scope=col>&lt;chr&gt;</th><th scope=col>&lt;int&gt;</th><th scope=col>&lt;dbl&gt;</th></tr>\n",
              "</thead>\n",
              "<tbody>\n",
              "\t<tr><td>1</td><td>Absent</td><td>Dynamic</td><td> 8</td><td>2.344703</td></tr>\n",
              "\t<tr><td>1</td><td>Absent</td><td>Dynamic</td><td>12</td><td>2.796481</td></tr>\n",
              "\t<tr><td>1</td><td>Absent</td><td>Dynamic</td><td>16</td><td>2.699945</td></tr>\n",
              "\t<tr><td>1</td><td>Absent</td><td>Static </td><td> 8</td><td>1.622023</td></tr>\n",
              "\t<tr><td>1</td><td>Absent</td><td>Static </td><td>12</td><td>2.053618</td></tr>\n",
              "\t<tr><td>1</td><td>Absent</td><td>Static </td><td>16</td><td>2.266395</td></tr>\n",
              "</tbody>\n",
              "</table>\n"
            ],
            "text/latex": [
              "A tibble: 6 × 5\n",
              "\\begin{tabular}{lllll}\n",
              " sub & target & dyn & setsize & rt\\\\\n",
              " <int> & <chr> & <chr> & <int> & <dbl>\\\\\n",
              "\\hline\n",
              "\t 1 & Absent & Dynamic &  8 & 2.344703\\\\\n",
              "\t 1 & Absent & Dynamic & 12 & 2.796481\\\\\n",
              "\t 1 & Absent & Dynamic & 16 & 2.699945\\\\\n",
              "\t 1 & Absent & Static  &  8 & 1.622023\\\\\n",
              "\t 1 & Absent & Static  & 12 & 2.053618\\\\\n",
              "\t 1 & Absent & Static  & 16 & 2.266395\\\\\n",
              "\\end{tabular}\n"
            ],
            "text/markdown": [
              "\n",
              "A tibble: 6 × 5\n",
              "\n",
              "| sub &lt;int&gt; | target &lt;chr&gt; | dyn &lt;chr&gt; | setsize &lt;int&gt; | rt &lt;dbl&gt; |\n",
              "|---|---|---|---|---|\n",
              "| 1 | Absent | Dynamic |  8 | 2.344703 |\n",
              "| 1 | Absent | Dynamic | 12 | 2.796481 |\n",
              "| 1 | Absent | Dynamic | 16 | 2.699945 |\n",
              "| 1 | Absent | Static  |  8 | 1.622023 |\n",
              "| 1 | Absent | Static  | 12 | 2.053618 |\n",
              "| 1 | Absent | Static  | 16 | 2.266395 |\n",
              "\n"
            ],
            "text/plain": [
              "  sub target dyn     setsize rt      \n",
              "1 1   Absent Dynamic  8      2.344703\n",
              "2 1   Absent Dynamic 12      2.796481\n",
              "3 1   Absent Dynamic 16      2.699945\n",
              "4 1   Absent Static   8      1.622023\n",
              "5 1   Absent Static  12      2.053618\n",
              "6 1   Absent Static  16      2.266395"
            ]
          },
          "metadata": {},
          "output_type": "display_data"
        }
      ],
      "source": [
        "# now we remove outliers, average rt for each subject, target, dyn, and setsize\n",
        "mrt = dat %>% filter(outlier == 0) %>% group_by(sub, target, dyn, setsize) %>% summarize(rt = mean(rt)) %>% ungroup()\n",
        "head(mrt)"
      ]
    },
    {
      "cell_type": "code",
      "execution_count": 80,
      "metadata": {
        "vscode": {
          "languageId": "r"
        }
      },
      "outputs": [
        {
          "name": "stderr",
          "output_type": "stream",
          "text": [
            "\u001b[1m\u001b[22m`summarise()` has grouped output by 'target', 'dyn'. You can override using the\n",
            "`.groups` argument.\n"
          ]
        },
        {
          "data": {
            "image/png": "[encoded data removed]",
            "text/plain": [
              "plot without title"
            ]
          },
          "metadata": {
            "image/png": {
              "height": 420,
              "width": 420
            }
          },
          "output_type": "display_data"
        }
      ],
      "source": [
        "# we calculate the grand mean and standard error of rt for each target, dyn, and setsize, and visualize it\n",
        "mmrt = mrt %>% group_by(target, dyn, setsize) %>% \n",
        "    summarize(grand_mean = mean(rt), grand_se = sd(rt)/sqrt(n())) %>% ungroup()\n",
        "# visualize with ggplot\n",
        "ggplot(mmrt, aes(x = setsize, y = grand_mean, color = target)) + \n",
        "    geom_point() + geom_line() + \n",
        "    geom_errorbar(aes(ymin = grand_mean - grand_se, ymax = grand_mean + grand_se), width = .5) + \n",
        "    facet_wrap( ~ dyn) + theme_classic() +\n",
        "    labs(x = 'Set size', y = 'Mean RT (s)', color = 'Target')\n",
        "\n"
      ]
    },
    {
      "attachments": {},
      "cell_type": "markdown",
      "metadata": {},
      "source": [
        "One pecular thing is that the 'search slopes' for the dynamic displays were similar for the target-present and target-absent conditions, which is not predicted by the standard search model. For the static search, the search slope for the target-absent condition was almost twice as steep as the target-present condition. This is because on average the number of items being searched was half in the target-present condition relative to the target-absent condition.\n",
        "\n",
        "Now let's take a look using signal detection theory, if there is any changes in the decision criteria or sensitivity.\n",
        "\n",
        "#### 1.2 Signal detection analysis"
      ]
    },
    {
      "cell_type": "code",
      "execution_count": 39,
      "metadata": {
        "vscode": {
          "languageId": "r"
        }
      },
      "outputs": [
        {
          "name": "stderr",
          "output_type": "stream",
          "text": [
            "\u001b[1m\u001b[22m`summarise()` has grouped output by 'sub', 'dyn', 'setsize'. You can override\n",
            "using the `.groups` argument.\n"
          ]
        },
        {
          "data": {
            "text/html": [
              "<table class=\"dataframe\">\n",
              "<caption>A grouped_df: 6 × 6</caption>\n",
              "<thead>\n",
              "\t<tr><th scope=col>sub</th><th scope=col>dyn</th><th scope=col>setsize</th><th scope=col>target</th><th scope=col>accuracy</th><th scope=col>n</th></tr>\n",
              "\t<tr><th scope=col>&lt;int&gt;</th><th scope=col>&lt;chr&gt;</th><th scope=col>&lt;int&gt;</th><th scope=col>&lt;chr&gt;</th><th scope=col>&lt;dbl&gt;</th><th scope=col>&lt;int&gt;</th></tr>\n",
              "</thead>\n",
              "<tbody>\n",
              "\t<tr><td>1</td><td>Dynamic</td><td> 8</td><td>Absent </td><td>0.00000000</td><td>35</td></tr>\n",
              "\t<tr><td>1</td><td>Dynamic</td><td> 8</td><td>Present</td><td>0.97142857</td><td>35</td></tr>\n",
              "\t<tr><td>1</td><td>Dynamic</td><td>12</td><td>Absent </td><td>0.02857143</td><td>35</td></tr>\n",
              "\t<tr><td>1</td><td>Dynamic</td><td>12</td><td>Present</td><td>1.00000000</td><td>35</td></tr>\n",
              "\t<tr><td>1</td><td>Dynamic</td><td>16</td><td>Absent </td><td>0.08571429</td><td>35</td></tr>\n",
              "\t<tr><td>1</td><td>Dynamic</td><td>16</td><td>Present</td><td>0.91428571</td><td>35</td></tr>\n",
              "</tbody>\n",
              "</table>\n"
            ],
            "text/latex": [
              "A grouped\\_df: 6 × 6\n",
              "\\begin{tabular}{llllll}\n",
              " sub & dyn & setsize & target & accuracy & n\\\\\n",
              " <int> & <chr> & <int> & <chr> & <dbl> & <int>\\\\\n",
              "\\hline\n",
              "\t 1 & Dynamic &  8 & Absent  & 0.00000000 & 35\\\\\n",
              "\t 1 & Dynamic &  8 & Present & 0.97142857 & 35\\\\\n",
              "\t 1 & Dynamic & 12 & Absent  & 0.02857143 & 35\\\\\n",
              "\t 1 & Dynamic & 12 & Present & 1.00000000 & 35\\\\\n",
              "\t 1 & Dynamic & 16 & Absent  & 0.08571429 & 35\\\\\n",
              "\t 1 & Dynamic & 16 & Present & 0.91428571 & 35\\\\\n",
              "\\end{tabular}\n"
            ],
            "text/markdown": [
              "\n",
              "A grouped_df: 6 × 6\n",
              "\n",
              "| sub &lt;int&gt; | dyn &lt;chr&gt; | setsize &lt;int&gt; | target &lt;chr&gt; | accuracy &lt;dbl&gt; | n &lt;int&gt; |\n",
              "|---|---|---|---|---|---|\n",
              "| 1 | Dynamic |  8 | Absent  | 0.00000000 | 35 |\n",
              "| 1 | Dynamic |  8 | Present | 0.97142857 | 35 |\n",
              "| 1 | Dynamic | 12 | Absent  | 0.02857143 | 35 |\n",
              "| 1 | Dynamic | 12 | Present | 1.00000000 | 35 |\n",
              "| 1 | Dynamic | 16 | Absent  | 0.08571429 | 35 |\n",
              "| 1 | Dynamic | 16 | Present | 0.91428571 | 35 |\n",
              "\n"
            ],
            "text/plain": [
              "  sub dyn     setsize target  accuracy   n \n",
              "1 1   Dynamic  8      Absent  0.00000000 35\n",
              "2 1   Dynamic  8      Present 0.97142857 35\n",
              "3 1   Dynamic 12      Absent  0.02857143 35\n",
              "4 1   Dynamic 12      Present 1.00000000 35\n",
              "5 1   Dynamic 16      Absent  0.08571429 35\n",
              "6 1   Dynamic 16      Present 0.91428571 35"
            ]
          },
          "metadata": {},
          "output_type": "display_data"
        }
      ],
      "source": [
        "# let's quickly obtain the confusion matrix\n",
        "confusion = dat %>% group_by(sub, dyn, setsize, target) %>%\n",
        "        summarise(accuracy = mean(resp), n = n()) \n",
        "head(confusion)"
      ]
    },
    {
      "attachments": {},
      "cell_type": "markdown",
      "metadata": {},
      "source": [
        "> question: what is the meaning of the column `accuracy`? \n",
        "\n"
      ]
    },
    {
      "cell_type": "markdown",
      "metadata": {
        "id": "SbV3Ah2-FQfD"
      },
      "source": [
        "### Step 2. Data transformation\n",
        "\n",
        "We quickly realized that in some conditions, the search is relative easy and participants can performance the task without any error. This pose a potential problem when we want to calculate the z-score. For such extreme values, usually we need to make some adjustments. A common method for  adjustments is to apply a small correction ([Macmillan & Kaplan, 1985](https://www.ncbi.nlm.nih.gov/pubmed/4034817); Stanislaw & Todorov, 1999): rates of 0 were replaced by 0.5/n, and rates of 1 by 1–0.5/n, where n is the number of trials, respectively.\n"
      ]
    },
    {
      "cell_type": "code",
      "execution_count": 40,
      "metadata": {
        "vscode": {
          "languageId": "r"
        }
      },
      "outputs": [
        {
          "data": {
            "text/html": [
              "<table class=\"dataframe\">\n",
              "<caption>A grouped_df: 6 × 6</caption>\n",
              "<thead>\n",
              "\t<tr><th scope=col>sub</th><th scope=col>dyn</th><th scope=col>setsize</th><th scope=col>target</th><th scope=col>accuracy</th><th scope=col>n</th></tr>\n",
              "\t<tr><th scope=col>&lt;int&gt;</th><th scope=col>&lt;chr&gt;</th><th scope=col>&lt;int&gt;</th><th scope=col>&lt;chr&gt;</th><th scope=col>&lt;dbl&gt;</th><th scope=col>&lt;int&gt;</th></tr>\n",
              "</thead>\n",
              "<tbody>\n",
              "\t<tr><td>1</td><td>Dynamic</td><td> 8</td><td>Absent </td><td>0.01428571</td><td>35</td></tr>\n",
              "\t<tr><td>1</td><td>Dynamic</td><td> 8</td><td>Present</td><td>0.97142857</td><td>35</td></tr>\n",
              "\t<tr><td>1</td><td>Dynamic</td><td>12</td><td>Absent </td><td>0.02857143</td><td>35</td></tr>\n",
              "\t<tr><td>1</td><td>Dynamic</td><td>12</td><td>Present</td><td>0.98571429</td><td>35</td></tr>\n",
              "\t<tr><td>1</td><td>Dynamic</td><td>16</td><td>Absent </td><td>0.08571429</td><td>35</td></tr>\n",
              "\t<tr><td>1</td><td>Dynamic</td><td>16</td><td>Present</td><td>0.91428571</td><td>35</td></tr>\n",
              "</tbody>\n",
              "</table>\n"
            ],
            "text/latex": [
              "A grouped\\_df: 6 × 6\n",
              "\\begin{tabular}{llllll}\n",
              " sub & dyn & setsize & target & accuracy & n\\\\\n",
              " <int> & <chr> & <int> & <chr> & <dbl> & <int>\\\\\n",
              "\\hline\n",
              "\t 1 & Dynamic &  8 & Absent  & 0.01428571 & 35\\\\\n",
              "\t 1 & Dynamic &  8 & Present & 0.97142857 & 35\\\\\n",
              "\t 1 & Dynamic & 12 & Absent  & 0.02857143 & 35\\\\\n",
              "\t 1 & Dynamic & 12 & Present & 0.98571429 & 35\\\\\n",
              "\t 1 & Dynamic & 16 & Absent  & 0.08571429 & 35\\\\\n",
              "\t 1 & Dynamic & 16 & Present & 0.91428571 & 35\\\\\n",
              "\\end{tabular}\n"
            ],
            "text/markdown": [
              "\n",
              "A grouped_df: 6 × 6\n",
              "\n",
              "| sub &lt;int&gt; | dyn &lt;chr&gt; | setsize &lt;int&gt; | target &lt;chr&gt; | accuracy &lt;dbl&gt; | n &lt;int&gt; |\n",
              "|---|---|---|---|---|---|\n",
              "| 1 | Dynamic |  8 | Absent  | 0.01428571 | 35 |\n",
              "| 1 | Dynamic |  8 | Present | 0.97142857 | 35 |\n",
              "| 1 | Dynamic | 12 | Absent  | 0.02857143 | 35 |\n",
              "| 1 | Dynamic | 12 | Present | 0.98571429 | 35 |\n",
              "| 1 | Dynamic | 16 | Absent  | 0.08571429 | 35 |\n",
              "| 1 | Dynamic | 16 | Present | 0.91428571 | 35 |\n",
              "\n"
            ],
            "text/plain": [
              "  sub dyn     setsize target  accuracy   n \n",
              "1 1   Dynamic  8      Absent  0.01428571 35\n",
              "2 1   Dynamic  8      Present 0.97142857 35\n",
              "3 1   Dynamic 12      Absent  0.02857143 35\n",
              "4 1   Dynamic 12      Present 0.98571429 35\n",
              "5 1   Dynamic 16      Absent  0.08571429 35\n",
              "6 1   Dynamic 16      Present 0.91428571 35"
            ]
          },
          "metadata": {},
          "output_type": "display_data"
        }
      ],
      "source": [
        "# replace 0 with 0.5/n and 1 with 1-0.5/n in the accuracy column\n",
        "confusion = confusion %>% mutate(accuracy = ifelse(accuracy == 0, 0.5/n, accuracy)) %>% \n",
        "        mutate(accuracy = ifelse(accuracy == 1, 1-0.5/n, accuracy))\n",
        "head(confusion)"
      ]
    },
    {
      "attachments": {},
      "cell_type": "markdown",
      "metadata": {},
      "source": [
        "After adjust the data, we need to transform the 'long' format table to 'wide' format table as confusion matrix. \n",
        "Note, in this example, the signal is 'Target present', and the noise is 'Target Absent'. So we need the column 'target' for transformation. Transformation can be done with `pivot_wider()` function. "
      ]
    },
    {
      "cell_type": "code",
      "execution_count": 41,
      "metadata": {
        "vscode": {
          "languageId": "r"
        }
      },
      "outputs": [
        {
          "data": {
            "text/html": [
              "<table class=\"dataframe\">\n",
              "<caption>A grouped_df: 6 × 5</caption>\n",
              "<thead>\n",
              "\t<tr><th scope=col>sub</th><th scope=col>dyn</th><th scope=col>setsize</th><th scope=col>Absent</th><th scope=col>Present</th></tr>\n",
              "\t<tr><th scope=col>&lt;int&gt;</th><th scope=col>&lt;chr&gt;</th><th scope=col>&lt;int&gt;</th><th scope=col>&lt;dbl&gt;</th><th scope=col>&lt;dbl&gt;</th></tr>\n",
              "</thead>\n",
              "<tbody>\n",
              "\t<tr><td>1</td><td>Dynamic</td><td> 8</td><td>0.01428571</td><td>0.9714286</td></tr>\n",
              "\t<tr><td>1</td><td>Dynamic</td><td>12</td><td>0.02857143</td><td>0.9857143</td></tr>\n",
              "\t<tr><td>1</td><td>Dynamic</td><td>16</td><td>0.08571429</td><td>0.9142857</td></tr>\n",
              "\t<tr><td>1</td><td>Static </td><td> 8</td><td>0.01428571</td><td>0.9857143</td></tr>\n",
              "\t<tr><td>1</td><td>Static </td><td>12</td><td>0.01428571</td><td>0.9714286</td></tr>\n",
              "\t<tr><td>1</td><td>Static </td><td>16</td><td>0.01428571</td><td>0.9714286</td></tr>\n",
              "</tbody>\n",
              "</table>\n"
            ],
            "text/latex": [
              "A grouped\\_df: 6 × 5\n",
              "\\begin{tabular}{lllll}\n",
              " sub & dyn & setsize & Absent & Present\\\\\n",
              " <int> & <chr> & <int> & <dbl> & <dbl>\\\\\n",
              "\\hline\n",
              "\t 1 & Dynamic &  8 & 0.01428571 & 0.9714286\\\\\n",
              "\t 1 & Dynamic & 12 & 0.02857143 & 0.9857143\\\\\n",
              "\t 1 & Dynamic & 16 & 0.08571429 & 0.9142857\\\\\n",
              "\t 1 & Static  &  8 & 0.01428571 & 0.9857143\\\\\n",
              "\t 1 & Static  & 12 & 0.01428571 & 0.9714286\\\\\n",
              "\t 1 & Static  & 16 & 0.01428571 & 0.9714286\\\\\n",
              "\\end{tabular}\n"
            ],
            "text/markdown": [
              "\n",
              "A grouped_df: 6 × 5\n",
              "\n",
              "| sub &lt;int&gt; | dyn &lt;chr&gt; | setsize &lt;int&gt; | Absent &lt;dbl&gt; | Present &lt;dbl&gt; |\n",
              "|---|---|---|---|---|\n",
              "| 1 | Dynamic |  8 | 0.01428571 | 0.9714286 |\n",
              "| 1 | Dynamic | 12 | 0.02857143 | 0.9857143 |\n",
              "| 1 | Dynamic | 16 | 0.08571429 | 0.9142857 |\n",
              "| 1 | Static  |  8 | 0.01428571 | 0.9857143 |\n",
              "| 1 | Static  | 12 | 0.01428571 | 0.9714286 |\n",
              "| 1 | Static  | 16 | 0.01428571 | 0.9714286 |\n",
              "\n"
            ],
            "text/plain": [
              "  sub dyn     setsize Absent     Present  \n",
              "1 1   Dynamic  8      0.01428571 0.9714286\n",
              "2 1   Dynamic 12      0.02857143 0.9857143\n",
              "3 1   Dynamic 16      0.08571429 0.9142857\n",
              "4 1   Static   8      0.01428571 0.9857143\n",
              "5 1   Static  12      0.01428571 0.9714286\n",
              "6 1   Static  16      0.01428571 0.9714286"
            ]
          },
          "metadata": {},
          "output_type": "display_data"
        }
      ],
      "source": [
        "# before we can use the pivot_wider function, we need to remove the n column\n",
        "cWide = confusion %>% select(-n) %>% pivot_wider(names_from = target, values_from = accuracy)\n",
        "head(cWide)"
      ]
    },
    {
      "attachments": {},
      "cell_type": "markdown",
      "metadata": {},
      "source": [
        "Now we have the confusion matrix for each participant. The columns `Present` and `Absent` are the rate of hits and false alarm, respectively. As we know, the miss rate is 1 - hit rate, and the correct rejection rate is 1 - false alarm rate.\n"
      ]
    },
    {
      "cell_type": "code",
      "execution_count": 46,
      "metadata": {
        "vscode": {
          "languageId": "r"
        }
      },
      "outputs": [
        {
          "data": {
            "text/html": [
              "<table class=\"dataframe\">\n",
              "<caption>A grouped_df: 6 × 5</caption>\n",
              "<thead>\n",
              "\t<tr><th scope=col>sub</th><th scope=col>dyn</th><th scope=col>setsize</th><th scope=col>FA</th><th scope=col>Hit</th></tr>\n",
              "\t<tr><th scope=col>&lt;int&gt;</th><th scope=col>&lt;chr&gt;</th><th scope=col>&lt;int&gt;</th><th scope=col>&lt;dbl&gt;</th><th scope=col>&lt;dbl&gt;</th></tr>\n",
              "</thead>\n",
              "<tbody>\n",
              "\t<tr><td>1</td><td>Dynamic</td><td> 8</td><td>0.01428571</td><td>0.9714286</td></tr>\n",
              "\t<tr><td>1</td><td>Dynamic</td><td>12</td><td>0.02857143</td><td>0.9857143</td></tr>\n",
              "\t<tr><td>1</td><td>Dynamic</td><td>16</td><td>0.08571429</td><td>0.9142857</td></tr>\n",
              "\t<tr><td>1</td><td>Static </td><td> 8</td><td>0.01428571</td><td>0.9857143</td></tr>\n",
              "\t<tr><td>1</td><td>Static </td><td>12</td><td>0.01428571</td><td>0.9714286</td></tr>\n",
              "\t<tr><td>1</td><td>Static </td><td>16</td><td>0.01428571</td><td>0.9714286</td></tr>\n",
              "</tbody>\n",
              "</table>\n"
            ],
            "text/latex": [
              "A grouped\\_df: 6 × 5\n",
              "\\begin{tabular}{lllll}\n",
              " sub & dyn & setsize & FA & Hit\\\\\n",
              " <int> & <chr> & <int> & <dbl> & <dbl>\\\\\n",
              "\\hline\n",
              "\t 1 & Dynamic &  8 & 0.01428571 & 0.9714286\\\\\n",
              "\t 1 & Dynamic & 12 & 0.02857143 & 0.9857143\\\\\n",
              "\t 1 & Dynamic & 16 & 0.08571429 & 0.9142857\\\\\n",
              "\t 1 & Static  &  8 & 0.01428571 & 0.9857143\\\\\n",
              "\t 1 & Static  & 12 & 0.01428571 & 0.9714286\\\\\n",
              "\t 1 & Static  & 16 & 0.01428571 & 0.9714286\\\\\n",
              "\\end{tabular}\n"
            ],
            "text/markdown": [
              "\n",
              "A grouped_df: 6 × 5\n",
              "\n",
              "| sub &lt;int&gt; | dyn &lt;chr&gt; | setsize &lt;int&gt; | FA &lt;dbl&gt; | Hit &lt;dbl&gt; |\n",
              "|---|---|---|---|---|\n",
              "| 1 | Dynamic |  8 | 0.01428571 | 0.9714286 |\n",
              "| 1 | Dynamic | 12 | 0.02857143 | 0.9857143 |\n",
              "| 1 | Dynamic | 16 | 0.08571429 | 0.9142857 |\n",
              "| 1 | Static  |  8 | 0.01428571 | 0.9857143 |\n",
              "| 1 | Static  | 12 | 0.01428571 | 0.9714286 |\n",
              "| 1 | Static  | 16 | 0.01428571 | 0.9714286 |\n",
              "\n"
            ],
            "text/plain": [
              "  sub dyn     setsize FA         Hit      \n",
              "1 1   Dynamic  8      0.01428571 0.9714286\n",
              "2 1   Dynamic 12      0.02857143 0.9857143\n",
              "3 1   Dynamic 16      0.08571429 0.9142857\n",
              "4 1   Static   8      0.01428571 0.9857143\n",
              "5 1   Static  12      0.01428571 0.9714286\n",
              "6 1   Static  16      0.01428571 0.9714286"
            ]
          },
          "metadata": {},
          "output_type": "display_data"
        }
      ],
      "source": [
        "# lets rename the columns Absent and Present to FA and Hit\n",
        "colnames(cWide) = c('sub', 'dyn', 'setsize', 'FA', 'Hit')\n",
        "head(cWide)"
      ]
    },
    {
      "attachments": {},
      "cell_type": "markdown",
      "metadata": {
        "id": "PNwuMbgKFVkm"
      },
      "source": [
        "### Step 3. Calculation of d' and C\n",
        "\n",
        "$$d' = z(Hit) - z(FA)$$\n",
        "$$C = - (z(Hit)+ z(FA))/2$$\n",
        "\n",
        "The z-score in R can be calculated with `qnorm()` function. We calculate the d' and C for each participant and add them to the confusion matrix as new columns using `mutate()` function."
      ]
    },
    {
      "cell_type": "code",
      "execution_count": 47,
      "metadata": {
        "colab": {
          "base_uri": "https://localhost:8080/",
          "height": 328
        },
        "id": "b3vyzIDbJ4aa",
        "outputId": "c06e79b9-a20e-45b4-da41-2531095b149c",
        "vscode": {
          "languageId": "r"
        }
      },
      "outputs": [
        {
          "data": {
            "text/html": [
              "<table class=\"dataframe\">\n",
              "<caption>A grouped_df: 6 × 7</caption>\n",
              "<thead>\n",
              "\t<tr><th scope=col>sub</th><th scope=col>dyn</th><th scope=col>setsize</th><th scope=col>FA</th><th scope=col>Hit</th><th scope=col>dprime</th><th scope=col>C</th></tr>\n",
              "\t<tr><th scope=col>&lt;int&gt;</th><th scope=col>&lt;chr&gt;</th><th scope=col>&lt;int&gt;</th><th scope=col>&lt;dbl&gt;</th><th scope=col>&lt;dbl&gt;</th><th scope=col>&lt;dbl&gt;</th><th scope=col>&lt;dbl&gt;</th></tr>\n",
              "</thead>\n",
              "<tbody>\n",
              "\t<tr><td>1</td><td>Dynamic</td><td> 8</td><td>0.01428571</td><td>0.9714286</td><td>4.091566</td><td> 1.435666e-01</td></tr>\n",
              "\t<tr><td>1</td><td>Dynamic</td><td>12</td><td>0.02857143</td><td>0.9857143</td><td>4.091566</td><td>-1.435666e-01</td></tr>\n",
              "\t<tr><td>1</td><td>Dynamic</td><td>16</td><td>0.08571429</td><td>0.9142857</td><td>2.735256</td><td> 0.000000e+00</td></tr>\n",
              "\t<tr><td>1</td><td>Static </td><td> 8</td><td>0.01428571</td><td>0.9857143</td><td>4.378700</td><td>-6.661338e-16</td></tr>\n",
              "\t<tr><td>1</td><td>Static </td><td>12</td><td>0.01428571</td><td>0.9714286</td><td>4.091566</td><td> 1.435666e-01</td></tr>\n",
              "\t<tr><td>1</td><td>Static </td><td>16</td><td>0.01428571</td><td>0.9714286</td><td>4.091566</td><td> 1.435666e-01</td></tr>\n",
              "</tbody>\n",
              "</table>\n"
            ],
            "text/latex": [
              "A grouped\\_df: 6 × 7\n",
              "\\begin{tabular}{lllllll}\n",
              " sub & dyn & setsize & FA & Hit & dprime & C\\\\\n",
              " <int> & <chr> & <int> & <dbl> & <dbl> & <dbl> & <dbl>\\\\\n",
              "\\hline\n",
              "\t 1 & Dynamic &  8 & 0.01428571 & 0.9714286 & 4.091566 &  1.435666e-01\\\\\n",
              "\t 1 & Dynamic & 12 & 0.02857143 & 0.9857143 & 4.091566 & -1.435666e-01\\\\\n",
              "\t 1 & Dynamic & 16 & 0.08571429 & 0.9142857 & 2.735256 &  0.000000e+00\\\\\n",
              "\t 1 & Static  &  8 & 0.01428571 & 0.9857143 & 4.378700 & -6.661338e-16\\\\\n",
              "\t 1 & Static  & 12 & 0.01428571 & 0.9714286 & 4.091566 &  1.435666e-01\\\\\n",
              "\t 1 & Static  & 16 & 0.01428571 & 0.9714286 & 4.091566 &  1.435666e-01\\\\\n",
              "\\end{tabular}\n"
            ],
            "text/markdown": [
              "\n",
              "A grouped_df: 6 × 7\n",
              "\n",
              "| sub &lt;int&gt; | dyn &lt;chr&gt; | setsize &lt;int&gt; | FA &lt;dbl&gt; | Hit &lt;dbl&gt; | dprime &lt;dbl&gt; | C &lt;dbl&gt; |\n",
              "|---|---|---|---|---|---|---|\n",
              "| 1 | Dynamic |  8 | 0.01428571 | 0.9714286 | 4.091566 |  1.435666e-01 |\n",
              "| 1 | Dynamic | 12 | 0.02857143 | 0.9857143 | 4.091566 | -1.435666e-01 |\n",
              "| 1 | Dynamic | 16 | 0.08571429 | 0.9142857 | 2.735256 |  0.000000e+00 |\n",
              "| 1 | Static  |  8 | 0.01428571 | 0.9857143 | 4.378700 | -6.661338e-16 |\n",
              "| 1 | Static  | 12 | 0.01428571 | 0.9714286 | 4.091566 |  1.435666e-01 |\n",
              "| 1 | Static  | 16 | 0.01428571 | 0.9714286 | 4.091566 |  1.435666e-01 |\n",
              "\n"
            ],
            "text/plain": [
              "  sub dyn     setsize FA         Hit       dprime   C            \n",
              "1 1   Dynamic  8      0.01428571 0.9714286 4.091566  1.435666e-01\n",
              "2 1   Dynamic 12      0.02857143 0.9857143 4.091566 -1.435666e-01\n",
              "3 1   Dynamic 16      0.08571429 0.9142857 2.735256  0.000000e+00\n",
              "4 1   Static   8      0.01428571 0.9857143 4.378700 -6.661338e-16\n",
              "5 1   Static  12      0.01428571 0.9714286 4.091566  1.435666e-01\n",
              "6 1   Static  16      0.01428571 0.9714286 4.091566  1.435666e-01"
            ]
          },
          "metadata": {},
          "output_type": "display_data"
        }
      ],
      "source": [
        "# now we calculate d' and C\n",
        "cWide = cWide %>% mutate(dprime = qnorm(Hit) - qnorm(FA), C = -0.5*(qnorm(Hit) + qnorm(FA)))\n",
        "head(cWide)"
      ]
    },
    {
      "cell_type": "markdown",
      "metadata": {
        "id": "QEABqtntFi8G"
      },
      "source": [
        "### Step 4. Visualization\n",
        "\n",
        "Let's first check the sensitivity. As you can see from the figure below, the dynamic display had much worse detection sensitivity as compared to the static display. The reduction of the sensitivity as a function of the display set size, however, remained the same for two display types. \n",
        "\n",
        "\n"
      ]
    },
    {
      "cell_type": "code",
      "execution_count": 50,
      "metadata": {
        "vscode": {
          "languageId": "r"
        }
      },
      "outputs": [
        {
          "name": "stderr",
          "output_type": "stream",
          "text": [
            "\u001b[1m\u001b[22m`summarise()` has grouped output by 'dyn'. You can override using the `.groups`\n",
            "argument.\n"
          ]
        },
        {
          "data": {
            "text/html": [
              "<table class=\"dataframe\">\n",
              "<caption>A grouped_df: 6 × 7</caption>\n",
              "<thead>\n",
              "\t<tr><th scope=col>dyn</th><th scope=col>setsize</th><th scope=col>n</th><th scope=col>md</th><th scope=col>dse</th><th scope=col>mc</th><th scope=col>Cse</th></tr>\n",
              "\t<tr><th scope=col>&lt;chr&gt;</th><th scope=col>&lt;int&gt;</th><th scope=col>&lt;int&gt;</th><th scope=col>&lt;dbl&gt;</th><th scope=col>&lt;dbl&gt;</th><th scope=col>&lt;dbl&gt;</th><th scope=col>&lt;dbl&gt;</th></tr>\n",
              "</thead>\n",
              "<tbody>\n",
              "\t<tr><td>Dynamic</td><td> 8</td><td>11</td><td>3.346979</td><td>0.2504379</td><td>-0.19270432</td><td>0.08699211</td></tr>\n",
              "\t<tr><td>Dynamic</td><td>12</td><td>11</td><td>3.077152</td><td>0.2528495</td><td>-0.16451360</td><td>0.11438768</td></tr>\n",
              "\t<tr><td>Dynamic</td><td>16</td><td>11</td><td>2.825317</td><td>0.3189047</td><td>-0.07609755</td><td>0.12407250</td></tr>\n",
              "\t<tr><td>Static </td><td> 8</td><td>11</td><td>4.077042</td><td>0.1193734</td><td> 0.09862271</td><td>0.03928546</td></tr>\n",
              "\t<tr><td>Static </td><td>12</td><td>11</td><td>4.006727</td><td>0.1337310</td><td> 0.10441671</td><td>0.08270305</td></tr>\n",
              "\t<tr><td>Static </td><td>16</td><td>11</td><td>3.766585</td><td>0.1695538</td><td> 0.09397291</td><td>0.05021553</td></tr>\n",
              "</tbody>\n",
              "</table>\n"
            ],
            "text/latex": [
              "A grouped\\_df: 6 × 7\n",
              "\\begin{tabular}{lllllll}\n",
              " dyn & setsize & n & md & dse & mc & Cse\\\\\n",
              " <chr> & <int> & <int> & <dbl> & <dbl> & <dbl> & <dbl>\\\\\n",
              "\\hline\n",
              "\t Dynamic &  8 & 11 & 3.346979 & 0.2504379 & -0.19270432 & 0.08699211\\\\\n",
              "\t Dynamic & 12 & 11 & 3.077152 & 0.2528495 & -0.16451360 & 0.11438768\\\\\n",
              "\t Dynamic & 16 & 11 & 2.825317 & 0.3189047 & -0.07609755 & 0.12407250\\\\\n",
              "\t Static  &  8 & 11 & 4.077042 & 0.1193734 &  0.09862271 & 0.03928546\\\\\n",
              "\t Static  & 12 & 11 & 4.006727 & 0.1337310 &  0.10441671 & 0.08270305\\\\\n",
              "\t Static  & 16 & 11 & 3.766585 & 0.1695538 &  0.09397291 & 0.05021553\\\\\n",
              "\\end{tabular}\n"
            ],
            "text/markdown": [
              "\n",
              "A grouped_df: 6 × 7\n",
              "\n",
              "| dyn &lt;chr&gt; | setsize &lt;int&gt; | n &lt;int&gt; | md &lt;dbl&gt; | dse &lt;dbl&gt; | mc &lt;dbl&gt; | Cse &lt;dbl&gt; |\n",
              "|---|---|---|---|---|---|---|\n",
              "| Dynamic |  8 | 11 | 3.346979 | 0.2504379 | -0.19270432 | 0.08699211 |\n",
              "| Dynamic | 12 | 11 | 3.077152 | 0.2528495 | -0.16451360 | 0.11438768 |\n",
              "| Dynamic | 16 | 11 | 2.825317 | 0.3189047 | -0.07609755 | 0.12407250 |\n",
              "| Static  |  8 | 11 | 4.077042 | 0.1193734 |  0.09862271 | 0.03928546 |\n",
              "| Static  | 12 | 11 | 4.006727 | 0.1337310 |  0.10441671 | 0.08270305 |\n",
              "| Static  | 16 | 11 | 3.766585 | 0.1695538 |  0.09397291 | 0.05021553 |\n",
              "\n"
            ],
            "text/plain": [
              "  dyn     setsize n  md       dse       mc          Cse       \n",
              "1 Dynamic  8      11 3.346979 0.2504379 -0.19270432 0.08699211\n",
              "2 Dynamic 12      11 3.077152 0.2528495 -0.16451360 0.11438768\n",
              "3 Dynamic 16      11 2.825317 0.3189047 -0.07609755 0.12407250\n",
              "4 Static   8      11 4.077042 0.1193734  0.09862271 0.03928546\n",
              "5 Static  12      11 4.006727 0.1337310  0.10441671 0.08270305\n",
              "6 Static  16      11 3.766585 0.1695538  0.09397291 0.05021553"
            ]
          },
          "metadata": {},
          "output_type": "display_data"
        }
      ],
      "source": [
        "# let's average d' and C across subjects\n",
        "mSDT = cWide %>% group_by(dyn, setsize) %>% \n",
        "    summarise(n = n(), md = mean(dprime), dse = sd(dprime)/sqrt(n), \n",
        "                    mc = mean(C), Cse = sd(C)/sqrt(n))\n",
        "mSDT"
      ]
    },
    {
      "cell_type": "code",
      "execution_count": 55,
      "metadata": {
        "vscode": {
          "languageId": "r"
        }
      },
      "outputs": [
        {
          "data": {
            "image/png": "[encoded data removed]",
            "text/plain": [
              "plot without title"
            ]
          },
          "metadata": {
            "image/png": {
              "height": 420,
              "width": 420
            }
          },
          "output_type": "display_data"
        }
      ],
      "source": [
        "# visualize the dprime\n",
        "ggplot(mSDT, aes(x = setsize, y = md, color = dyn, group = dyn)) + \n",
        "    geom_point() + geom_line() +  geom_errorbar(aes(ymin = md-dse, ymax = md+dse), width = 0.2) + \n",
        "    theme_classic() + theme(legend.position = 'bottom') + \n",
        "    labs(x = 'Set size', y = 'dprime', color = 'Dynamic')\n"
      ]
    },
    {
      "cell_type": "markdown",
      "metadata": {
        "id": "MWA5PSXJOXHt"
      },
      "source": [
        "Now let's check the decision criteria C. "
      ]
    },
    {
      "cell_type": "code",
      "execution_count": 56,
      "metadata": {
        "colab": {
          "base_uri": "https://localhost:8080/",
          "height": 296
        },
        "id": "Zad0LdVTOMTI",
        "outputId": "b544435e-590b-4f36-c8fa-10c43e39eb02",
        "vscode": {
          "languageId": "r"
        }
      },
      "outputs": [
        {
          "data": {
            "image/png": "[encoded data removed]",
            "text/plain": [
              "plot without title"
            ]
          },
          "metadata": {
            "image/png": {
              "height": 420,
              "width": 420
            }
          },
          "output_type": "display_data"
        }
      ],
      "source": [
        "# visualize the C\n",
        "ggplot(mSDT, aes(x = setsize, y = mc, color = dyn, group = dyn)) + \n",
        "    geom_point() + geom_line() +  geom_errorbar(aes(ymin = mc-Cse, ymax = mc+Cse), width = 0.2) + \n",
        "    theme_classic() + theme(legend.position = 'bottom') + \n",
        "    labs(x = 'Set size', y = 'C', color = 'Dynamic')"
      ]
    },
    {
      "cell_type": "markdown",
      "metadata": {},
      "source": [
        "As you can see from the above figure, participants tended to make more liberal responses in  dynamic search relative to static search. That is, they were more likely make 'target present' responses than 'target absent' responses. \n",
        "\n",
        "However, this was changed when we applied reward manipulation in Exp. 2. "
      ]
    },
    {
      "cell_type": "markdown",
      "metadata": {},
      "source": [
        "### Your practical task\n",
        "\n",
        "Your practical task is to do similar analysis for Experiment 2. \n",
        "To facilitate your analysis, the data have been loaded using the following code: "
      ]
    },
    {
      "cell_type": "code",
      "execution_count": 62,
      "metadata": {
        "vscode": {
          "languageId": "r"
        }
      },
      "outputs": [
        {
          "data": {
            "text/html": [
              "<table class=\"dataframe\">\n",
              "<caption>A data.frame: 6 × 8</caption>\n",
              "<thead>\n",
              "\t<tr><th></th><th scope=col>target</th><th scope=col>setsize</th><th scope=col>dyn</th><th scope=col>resp</th><th scope=col>rt</th><th scope=col>sub</th><th scope=col>reward</th><th scope=col>correct</th></tr>\n",
              "\t<tr><th></th><th scope=col>&lt;chr&gt;</th><th scope=col>&lt;int&gt;</th><th scope=col>&lt;chr&gt;</th><th scope=col>&lt;dbl&gt;</th><th scope=col>&lt;dbl&gt;</th><th scope=col>&lt;int&gt;</th><th scope=col>&lt;chr&gt;</th><th scope=col>&lt;int&gt;</th></tr>\n",
              "</thead>\n",
              "<tbody>\n",
              "\t<tr><th scope=row>1</th><td>Absent </td><td>12</td><td>Static</td><td>0</td><td>2.0583111</td><td>1</td><td>Absent</td><td>1</td></tr>\n",
              "\t<tr><th scope=row>2</th><td>Present</td><td> 8</td><td>Static</td><td>1</td><td>0.6495192</td><td>1</td><td>Absent</td><td>1</td></tr>\n",
              "\t<tr><th scope=row>3</th><td>Present</td><td>16</td><td>Static</td><td>1</td><td>0.5995575</td><td>1</td><td>Absent</td><td>1</td></tr>\n",
              "\t<tr><th scope=row>4</th><td>Present</td><td>12</td><td>Static</td><td>1</td><td>0.4896663</td><td>1</td><td>Absent</td><td>1</td></tr>\n",
              "\t<tr><th scope=row>5</th><td>Absent </td><td>12</td><td>Static</td><td>0</td><td>1.8984851</td><td>1</td><td>Absent</td><td>1</td></tr>\n",
              "\t<tr><th scope=row>6</th><td>Absent </td><td> 8</td><td>Static</td><td>0</td><td>0.8893312</td><td>1</td><td>Absent</td><td>1</td></tr>\n",
              "</tbody>\n",
              "</table>\n"
            ],
            "text/latex": [
              "A data.frame: 6 × 8\n",
              "\\begin{tabular}{r|llllllll}\n",
              "  & target & setsize & dyn & resp & rt & sub & reward & correct\\\\\n",
              "  & <chr> & <int> & <chr> & <dbl> & <dbl> & <int> & <chr> & <int>\\\\\n",
              "\\hline\n",
              "\t1 & Absent  & 12 & Static & 0 & 2.0583111 & 1 & Absent & 1\\\\\n",
              "\t2 & Present &  8 & Static & 1 & 0.6495192 & 1 & Absent & 1\\\\\n",
              "\t3 & Present & 16 & Static & 1 & 0.5995575 & 1 & Absent & 1\\\\\n",
              "\t4 & Present & 12 & Static & 1 & 0.4896663 & 1 & Absent & 1\\\\\n",
              "\t5 & Absent  & 12 & Static & 0 & 1.8984851 & 1 & Absent & 1\\\\\n",
              "\t6 & Absent  &  8 & Static & 0 & 0.8893312 & 1 & Absent & 1\\\\\n",
              "\\end{tabular}\n"
            ],
            "text/markdown": [
              "\n",
              "A data.frame: 6 × 8\n",
              "\n",
              "| <!--/--> | target &lt;chr&gt; | setsize &lt;int&gt; | dyn &lt;chr&gt; | resp &lt;dbl&gt; | rt &lt;dbl&gt; | sub &lt;int&gt; | reward &lt;chr&gt; | correct &lt;int&gt; |\n",
              "|---|---|---|---|---|---|---|---|---|\n",
              "| 1 | Absent  | 12 | Static | 0 | 2.0583111 | 1 | Absent | 1 |\n",
              "| 2 | Present |  8 | Static | 1 | 0.6495192 | 1 | Absent | 1 |\n",
              "| 3 | Present | 16 | Static | 1 | 0.5995575 | 1 | Absent | 1 |\n",
              "| 4 | Present | 12 | Static | 1 | 0.4896663 | 1 | Absent | 1 |\n",
              "| 5 | Absent  | 12 | Static | 0 | 1.8984851 | 1 | Absent | 1 |\n",
              "| 6 | Absent  |  8 | Static | 0 | 0.8893312 | 1 | Absent | 1 |\n",
              "\n"
            ],
            "text/plain": [
              "  target  setsize dyn    resp rt        sub reward correct\n",
              "1 Absent  12      Static 0    2.0583111 1   Absent 1      \n",
              "2 Present  8      Static 1    0.6495192 1   Absent 1      \n",
              "3 Present 16      Static 1    0.5995575 1   Absent 1      \n",
              "4 Present 12      Static 1    0.4896663 1   Absent 1      \n",
              "5 Absent  12      Static 0    1.8984851 1   Absent 1      \n",
              "6 Absent   8      Static 0    0.8893312 1   Absent 1      "
            ]
          },
          "metadata": {},
          "output_type": "display_data"
        }
      ],
      "source": [
        "#load data\n",
        "exp2 = read.csv('https://raw.githubusercontent.com/msenselab/dynamic_search/master/data/exp2.csv', sep = ',') \n",
        "exp2 = exp2 %>% filter(resp != -1) %>% # remove missing values %>%\n",
        "        mutate(resp = 2-resp) # 1 - present, 2 - absent -> 1 and 0\n",
        "head(exp2)"
      ]
    },
    {
      "attachments": {},
      "cell_type": "markdown",
      "metadata": {},
      "source": [
        "__Your task:__"
      ]
    },
    {
      "cell_type": "code",
      "execution_count": 63,
      "metadata": {
        "vscode": {
          "languageId": "r"
        }
      },
      "outputs": [],
      "source": [
        "# code here (similar to above)"
      ]
    }
  ],
  "metadata": {
    "colab": {
      "collapsed_sections": [
        "FwmGo7WjDwlM",
        "mzMLqtN6D3Mu",
        "MicXBomzEDVr",
        "uQMmNALKEKjH",
        "b1Lj2e4_EQle",
        "PNwuMbgKFVkm",
        "QEABqtntFi8G"
      ],
      "name": "Copy of w10-signal-detection-theory.ipynb",
      "provenance": [],
      "toc_visible": true
    },
    "kernelspec": {
      "display_name": "R",
      "language": "R",
      "name": "ir"
    },
    "language_info": {
      "codemirror_mode": "r",
      "file_extension": ".r",
      "mimetype": "text/x-r-source",
      "name": "R",
      "pygments_lexer": "r",
      "version": "4.2.0"
    }
  },
  "nbformat": 4,
  "nbformat_minor": 0
}
