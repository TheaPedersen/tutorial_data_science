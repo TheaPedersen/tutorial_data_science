{
 "cells": [
  {
   "cell_type": "markdown",
   "metadata": {},
   "source": [
    "# Statistics in Python: ANOVAs\n",
    "\n",
    "March. 18, 2019 (Strongway)\n",
    "\n",
    "[![Open In Colab](https://colab.research.google.com/assets/colab-badge.svg)](https://colab.research.google.com/github/strongway/tutorial_data_science/blob/master/anovas.ipynb)\n",
    "\n",
    "The analysis of variance (ANOVA) is an important statistical tool for psychology analysis. In Python we have `statsmodels` to do this job. `statsmodels` is a Python module that provides classes and functiosn for the estimation of many different statistical models, as well as for conducting statitical tests, and statistical data exploration. The online documentation is hosted at [statsmodels.org](http://statsmodels.org). \n"
   ]
  },
  {
   "cell_type": "markdown",
   "metadata": {},
   "source": [
    "`statsmodels` has two ANOVAs: `anova_lm` for ANOVA with a linear OLSModel, and `AnovaRM` for repeated measures ANOVA. \n",
    "\n",
    "## 1. Installation of `statsmodels`\n",
    "\n",
    "To obtain the latest version of statsmodels using `pip`\n",
    "\n",
    "> pip install -U statsmodels\n",
    "\n",
    "Or use Anaconda\n",
    "\n",
    "> conda install -c conda-forge statsmodels\n",
    "\n",
    "Note on google Colab, `statsmodels` v0.8 has already been install. "
   ]
  },
  {
   "cell_type": "code",
   "execution_count": 103,
   "metadata": {},
   "outputs": [],
   "source": [
    "# import modules and functions \n",
    "import numpy as np\n",
    "import pandas as pd\n",
    "import altair as alt\n",
    "import scipy.stats as ss\n",
    "from statsmodels.stats.anova import AnovaRM\n"
   ]
  },
  {
   "cell_type": "markdown",
   "metadata": {},
   "source": [
    "## 2. Repeated measures ANOVA\n",
    "\n",
    "We first check the syntax of `AnovaRM`."
   ]
  },
  {
   "cell_type": "code",
   "execution_count": 3,
   "metadata": {},
   "outputs": [
    {
     "name": "stdout",
     "output_type": "stream",
     "text": [
      "Help on class AnovaRM in module statsmodels.stats.anova:\n",
      "\n",
      "class AnovaRM(builtins.object)\n",
      " |  Repeated measures Anova using least squares regression\n",
      " |  \n",
      " |  The full model regression residual sum of squares is\n",
      " |  used to compare with the reduced model for calculating the\n",
      " |  within-subject effect sum of squares [1].\n",
      " |  \n",
      " |  Currently, only fully balanced within-subject designs are supported.\n",
      " |  Calculation of between-subject effects and corrections for violation of\n",
      " |  sphericity are not yet implemented.\n",
      " |  \n",
      " |  Parameters\n",
      " |  ----------\n",
      " |  data : DataFrame\n",
      " |  depvar : string\n",
      " |      The dependent variable in `data`\n",
      " |  subject : string\n",
      " |      Specify the subject id\n",
      " |  within : a list of string(s)\n",
      " |      The within-subject factors\n",
      " |  between : a list of string(s)\n",
      " |      The between-subject factors, this is not yet implemented\n",
      " |  aggregate_func : None, 'mean', or function\n",
      " |      If the data set contains more than a single observation per subject\n",
      " |      and cell of the specified model, this function will be used to\n",
      " |      aggregate the data before running the Anova. `None` (the default) will\n",
      " |      not perform any aggregation; 'mean' is s shortcut to `numpy.mean`.\n",
      " |      An exception will be raised if aggregation is required, but no\n",
      " |      aggregation function was specified.\n",
      " |  \n",
      " |  Returns\n",
      " |  -------\n",
      " |  results: AnovaResults instance\n",
      " |  \n",
      " |  Raises\n",
      " |  ------\n",
      " |  ValueError\n",
      " |      If the data need to be aggregated, but `aggregate_func` was not\n",
      " |      specified.\n",
      " |  \n",
      " |  Notes\n",
      " |  -----\n",
      " |  This implementation currently only supports fully balanced designs. If the\n",
      " |  data contain more than one observation per subject and cell of the design,\n",
      " |  these observations need to be aggregated into a single observation\n",
      " |  before the Anova is calculated, either manually or by passing an aggregation\n",
      " |  function via the `aggregate_func` keyword argument.\n",
      " |  Note that if the input data set was not balanced before performing the\n",
      " |  aggregation, the implied heteroscedasticity of the data is ignored.\n",
      " |  \n",
      " |  References\n",
      " |  ----------\n",
      " |  .. [*] Rutherford, Andrew. Anova and ANCOVA: a GLM approach. John Wiley & Sons, 2011.\n",
      " |  \n",
      " |  Methods defined here:\n",
      " |  \n",
      " |  __init__(self, data, depvar, subject, within=None, between=None, aggregate_func=None)\n",
      " |      Initialize self.  See help(type(self)) for accurate signature.\n",
      " |  \n",
      " |  fit(self)\n",
      " |      estimate the model and compute the Anova table\n",
      " |      \n",
      " |      Returns\n",
      " |      -------\n",
      " |      AnovaResults instance\n",
      " |  \n",
      " |  ----------------------------------------------------------------------\n",
      " |  Data descriptors defined here:\n",
      " |  \n",
      " |  __dict__\n",
      " |      dictionary for instance variables (if defined)\n",
      " |  \n",
      " |  __weakref__\n",
      " |      list of weak references to the object (if defined)\n",
      "\n"
     ]
    }
   ],
   "source": [
    "help(AnovaRM)"
   ]
  },
  {
   "cell_type": "markdown",
   "metadata": {},
   "source": []
  },
  {
   "cell_type": "markdown",
   "metadata": {},
   "source": [
    "## 3. Statistical test with a real example\n",
    "\n",
    "### 3.1 Load experimental data\n",
    "\n",
    "We use a visual search study (Shi et al., 2019) as an example. The data are available at \n",
    "https://github.com/msenselab/visualsearch. The first experiment was a replication of Horowitz & Wolfe (1998), a standard T vs Ls static search and a dynamic search (the display was randomly reshuffled every 110 ms). There were three set sizes (8, 12, 16). \n"
   ]
  },
  {
   "cell_type": "code",
   "execution_count": 105,
   "metadata": {},
   "outputs": [
    {
     "data": {
      "text/html": [
       "<div>\n",
       "<style scoped>\n",
       "    .dataframe tbody tr th:only-of-type {\n",
       "        vertical-align: middle;\n",
       "    }\n",
       "\n",
       "    .dataframe tbody tr th {\n",
       "        vertical-align: top;\n",
       "    }\n",
       "\n",
       "    .dataframe thead th {\n",
       "        text-align: right;\n",
       "    }\n",
       "</style>\n",
       "<table border=\"1\" class=\"dataframe\">\n",
       "  <thead>\n",
       "    <tr style=\"text-align: right;\">\n",
       "      <th></th>\n",
       "      <th>target</th>\n",
       "      <th>setsize</th>\n",
       "      <th>dyn</th>\n",
       "      <th>resp</th>\n",
       "      <th>rt</th>\n",
       "      <th>sub</th>\n",
       "      <th>exp</th>\n",
       "      <th>correct</th>\n",
       "    </tr>\n",
       "  </thead>\n",
       "  <tbody>\n",
       "    <tr>\n",
       "      <th>0</th>\n",
       "      <td>Absent</td>\n",
       "      <td>12</td>\n",
       "      <td>Static</td>\n",
       "      <td>2</td>\n",
       "      <td>2.583007</td>\n",
       "      <td>1</td>\n",
       "      <td>1</td>\n",
       "      <td>1</td>\n",
       "    </tr>\n",
       "    <tr>\n",
       "      <th>1</th>\n",
       "      <td>Absent</td>\n",
       "      <td>8</td>\n",
       "      <td>Static</td>\n",
       "      <td>2</td>\n",
       "      <td>0.935967</td>\n",
       "      <td>1</td>\n",
       "      <td>1</td>\n",
       "      <td>1</td>\n",
       "    </tr>\n",
       "    <tr>\n",
       "      <th>2</th>\n",
       "      <td>Present</td>\n",
       "      <td>16</td>\n",
       "      <td>Static</td>\n",
       "      <td>1</td>\n",
       "      <td>0.794771</td>\n",
       "      <td>1</td>\n",
       "      <td>1</td>\n",
       "      <td>1</td>\n",
       "    </tr>\n",
       "    <tr>\n",
       "      <th>3</th>\n",
       "      <td>Present</td>\n",
       "      <td>8</td>\n",
       "      <td>Static</td>\n",
       "      <td>1</td>\n",
       "      <td>1.241838</td>\n",
       "      <td>1</td>\n",
       "      <td>1</td>\n",
       "      <td>1</td>\n",
       "    </tr>\n",
       "    <tr>\n",
       "      <th>4</th>\n",
       "      <td>Absent</td>\n",
       "      <td>12</td>\n",
       "      <td>Static</td>\n",
       "      <td>2</td>\n",
       "      <td>1.759485</td>\n",
       "      <td>1</td>\n",
       "      <td>1</td>\n",
       "      <td>1</td>\n",
       "    </tr>\n",
       "  </tbody>\n",
       "</table>\n",
       "</div>"
      ],
      "text/plain": [
       "    target  setsize     dyn  resp        rt  sub  exp correct\n",
       "0   Absent       12  Static     2  2.583007    1    1       1\n",
       "1   Absent        8  Static     2  0.935967    1    1       1\n",
       "2  Present       16  Static     1  0.794771    1    1       1\n",
       "3  Present        8  Static     1  1.241838    1    1       1\n",
       "4   Absent       12  Static     2  1.759485    1    1       1"
      ]
     },
     "execution_count": 105,
     "metadata": {},
     "output_type": "execute_result"
    }
   ],
   "source": [
    "# read raw data\n",
    "\n",
    "raw = pd.read_csv('https://raw.githubusercontent.com/msenselab/visualsearch/master/data/exp1.csv')\n",
    "raw.head()"
   ]
  },
  {
   "cell_type": "code",
   "execution_count": 129,
   "metadata": {},
   "outputs": [
    {
     "name": "stdout",
     "output_type": "stream",
     "text": [
      "<class 'pandas.core.frame.DataFrame'>\n",
      "RangeIndex: 9620 entries, 0 to 9619\n",
      "Data columns (total 8 columns):\n",
      "target     9620 non-null object\n",
      "setsize    9620 non-null int64\n",
      "dyn        9620 non-null object\n",
      "resp       9620 non-null int64\n",
      "rt         9620 non-null float64\n",
      "sub        9620 non-null int64\n",
      "exp        9620 non-null int64\n",
      "correct    9620 non-null object\n",
      "dtypes: float64(1), int64(4), object(3)\n",
      "memory usage: 601.3+ KB\n"
     ]
    }
   ],
   "source": [
    "raw.info()"
   ]
  },
  {
   "cell_type": "markdown",
   "metadata": {},
   "source": [
    "For this tutorial, we skip error analysis and other preprocessing. We will use chain rules to quickly obtain the mean RTs, preparing average data for further statistics. \n",
    "\n",
    "### 3.2. Summarise the data\n",
    "\n",
    "Recall the chain rules, and think about how to apply chain rules to manipulate/summarize the data. If you want to see the reference, here is the link to our previous tutorial - [Python_4_r_users](https://colab.research.google.com/github/strongway/tutorial_data_science/blob/master/python_4_r_users.ipynb) Or [![Open In Colab](https://colab.research.google.com/assets/colab-badge.svg)](https://colab.research.google.com/github/strongway/tutorial_data_science/blob/master/python_4_r_users.ipynb). "
   ]
  },
  {
   "cell_type": "code",
   "execution_count": 126,
   "metadata": {},
   "outputs": [
    {
     "data": {
      "text/html": [
       "<div>\n",
       "<style scoped>\n",
       "    .dataframe tbody tr th:only-of-type {\n",
       "        vertical-align: middle;\n",
       "    }\n",
       "\n",
       "    .dataframe tbody tr th {\n",
       "        vertical-align: top;\n",
       "    }\n",
       "\n",
       "    .dataframe thead th {\n",
       "        text-align: right;\n",
       "    }\n",
       "</style>\n",
       "<table border=\"1\" class=\"dataframe\">\n",
       "  <thead>\n",
       "    <tr style=\"text-align: right;\">\n",
       "      <th></th>\n",
       "      <th></th>\n",
       "      <th></th>\n",
       "      <th></th>\n",
       "      <th>resp</th>\n",
       "      <th>rt</th>\n",
       "    </tr>\n",
       "    <tr>\n",
       "      <th>sub</th>\n",
       "      <th>dyn</th>\n",
       "      <th>target</th>\n",
       "      <th>setsize</th>\n",
       "      <th></th>\n",
       "      <th></th>\n",
       "    </tr>\n",
       "  </thead>\n",
       "  <tbody>\n",
       "    <tr>\n",
       "      <th rowspan=\"5\" valign=\"top\">1</th>\n",
       "      <th rowspan=\"5\" valign=\"top\">Dynamic</th>\n",
       "      <th rowspan=\"3\" valign=\"top\">Absent</th>\n",
       "      <th>8</th>\n",
       "      <td>35</td>\n",
       "      <td>2.566563</td>\n",
       "    </tr>\n",
       "    <tr>\n",
       "      <th>12</th>\n",
       "      <td>34</td>\n",
       "      <td>3.101724</td>\n",
       "    </tr>\n",
       "    <tr>\n",
       "      <th>16</th>\n",
       "      <td>32</td>\n",
       "      <td>2.898478</td>\n",
       "    </tr>\n",
       "    <tr>\n",
       "      <th rowspan=\"2\" valign=\"top\">Present</th>\n",
       "      <th>8</th>\n",
       "      <td>34</td>\n",
       "      <td>1.118311</td>\n",
       "    </tr>\n",
       "    <tr>\n",
       "      <th>12</th>\n",
       "      <td>35</td>\n",
       "      <td>1.218653</td>\n",
       "    </tr>\n",
       "  </tbody>\n",
       "</table>\n",
       "</div>"
      ],
      "text/plain": [
       "                             resp        rt\n",
       "sub dyn     target  setsize                \n",
       "1   Dynamic Absent  8          35  2.566563\n",
       "                    12         34  3.101724\n",
       "                    16         32  2.898478\n",
       "            Present 8          34  1.118311\n",
       "                    12         35  1.218653"
      ]
     },
     "execution_count": 126,
     "metadata": {},
     "output_type": "execute_result"
    }
   ],
   "source": [
    "# obtain valid mean RTs\n",
    "# note: I use () to have multiple lines without using \\ at end of each line.\n",
    "mRTs = (raw.query(\"correct == '1' \").\n",
    "        groupby(['sub','dyn','target', 'setsize']).\n",
    "        agg({\"resp\":\"count\", \"rt\":\"mean\"}))\n",
    "mRTs.head()"
   ]
  },
  {
   "cell_type": "markdown",
   "metadata": {},
   "source": [
    "You may wonder why I used '1' instead of number 1 (I wondered as well!), you can first check the table column types. Soon you will realize that that column contains strings. "
   ]
  },
  {
   "cell_type": "code",
   "execution_count": 19,
   "metadata": {},
   "outputs": [
    {
     "name": "stdout",
     "output_type": "stream",
     "text": [
      "<class 'pandas.core.frame.DataFrame'>\n",
      "RangeIndex: 9620 entries, 0 to 9619\n",
      "Data columns (total 8 columns):\n",
      "target     9620 non-null object\n",
      "setsize    9620 non-null int64\n",
      "dyn        9620 non-null object\n",
      "resp       9620 non-null int64\n",
      "rt         9620 non-null float64\n",
      "sub        9620 non-null int64\n",
      "exp        9620 non-null int64\n",
      "correct    9620 non-null object\n",
      "dtypes: float64(1), int64(4), object(3)\n",
      "memory usage: 601.3+ KB\n"
     ]
    }
   ],
   "source": [
    "raw.info()"
   ]
  },
  {
   "cell_type": "code",
   "execution_count": 20,
   "metadata": {},
   "outputs": [
    {
     "data": {
      "text/plain": [
       "array(['1', '0', 'True', 'False'], dtype=object)"
      ]
     },
     "execution_count": 20,
     "metadata": {},
     "output_type": "execute_result"
    }
   ],
   "source": [
    "raw.correct.unique()"
   ]
  },
  {
   "cell_type": "markdown",
   "metadata": {},
   "source": [
    "Anyway, let's get back to the mean RT data for further visualization and analysis. To get some intuitive of the data, let's first visualize the mean RTs. "
   ]
  },
  {
   "cell_type": "code",
   "execution_count": 117,
   "metadata": {},
   "outputs": [
    {
     "data": {
      "text/html": [
       "<div>\n",
       "<style scoped>\n",
       "    .dataframe tbody tr th:only-of-type {\n",
       "        vertical-align: middle;\n",
       "    }\n",
       "\n",
       "    .dataframe tbody tr th {\n",
       "        vertical-align: top;\n",
       "    }\n",
       "\n",
       "    .dataframe thead tr th {\n",
       "        text-align: left;\n",
       "    }\n",
       "\n",
       "    .dataframe thead tr:last-of-type th {\n",
       "        text-align: right;\n",
       "    }\n",
       "</style>\n",
       "<table border=\"1\" class=\"dataframe\">\n",
       "  <thead>\n",
       "    <tr>\n",
       "      <th></th>\n",
       "      <th></th>\n",
       "      <th></th>\n",
       "      <th colspan=\"2\" halign=\"left\">rt</th>\n",
       "    </tr>\n",
       "    <tr>\n",
       "      <th></th>\n",
       "      <th></th>\n",
       "      <th></th>\n",
       "      <th>mean</th>\n",
       "      <th>sem</th>\n",
       "    </tr>\n",
       "    <tr>\n",
       "      <th>dyn</th>\n",
       "      <th>target</th>\n",
       "      <th>setsize</th>\n",
       "      <th></th>\n",
       "      <th></th>\n",
       "    </tr>\n",
       "  </thead>\n",
       "  <tbody>\n",
       "    <tr>\n",
       "      <th rowspan=\"5\" valign=\"top\">Dynamic</th>\n",
       "      <th rowspan=\"3\" valign=\"top\">Absent</th>\n",
       "      <th>8</th>\n",
       "      <td>2.208454</td>\n",
       "      <td>0.267384</td>\n",
       "    </tr>\n",
       "    <tr>\n",
       "      <th>12</th>\n",
       "      <td>2.262694</td>\n",
       "      <td>0.321961</td>\n",
       "    </tr>\n",
       "    <tr>\n",
       "      <th>16</th>\n",
       "      <td>2.495611</td>\n",
       "      <td>0.284776</td>\n",
       "    </tr>\n",
       "    <tr>\n",
       "      <th rowspan=\"2\" valign=\"top\">Present</th>\n",
       "      <th>8</th>\n",
       "      <td>1.178920</td>\n",
       "      <td>0.114543</td>\n",
       "    </tr>\n",
       "    <tr>\n",
       "      <th>12</th>\n",
       "      <td>1.234546</td>\n",
       "      <td>0.145360</td>\n",
       "    </tr>\n",
       "  </tbody>\n",
       "</table>\n",
       "</div>"
      ],
      "text/plain": [
       "                               rt          \n",
       "                             mean       sem\n",
       "dyn     target  setsize                    \n",
       "Dynamic Absent  8        2.208454  0.267384\n",
       "                12       2.262694  0.321961\n",
       "                16       2.495611  0.284776\n",
       "        Present 8        1.178920  0.114543\n",
       "                12       1.234546  0.145360"
      ]
     },
     "execution_count": 117,
     "metadata": {},
     "output_type": "execute_result"
    }
   ],
   "source": [
    "# get grand mean RTs\n",
    "mmRTs = (mRTs.groupby(['dyn','target', 'setsize']).\n",
    "        agg({\"rt\":[np.mean, ss.sem]}))\n",
    "mmRTs.head()\n"
   ]
  },
  {
   "cell_type": "markdown",
   "metadata": {},
   "source": [
    "Note, the above table is a MultiIndex table.  You can flatten it by appending `.reset_index()`. MultiIndex table offers one great conveninent - stacking and unstacking. For example:"
   ]
  },
  {
   "cell_type": "code",
   "execution_count": 118,
   "metadata": {},
   "outputs": [
    {
     "data": {
      "text/html": [
       "<div>\n",
       "<style scoped>\n",
       "    .dataframe tbody tr th:only-of-type {\n",
       "        vertical-align: middle;\n",
       "    }\n",
       "\n",
       "    .dataframe tbody tr th {\n",
       "        vertical-align: top;\n",
       "    }\n",
       "\n",
       "    .dataframe thead tr th {\n",
       "        text-align: left;\n",
       "    }\n",
       "\n",
       "    .dataframe thead tr:last-of-type th {\n",
       "        text-align: right;\n",
       "    }\n",
       "</style>\n",
       "<table border=\"1\" class=\"dataframe\">\n",
       "  <thead>\n",
       "    <tr>\n",
       "      <th></th>\n",
       "      <th></th>\n",
       "      <th colspan=\"6\" halign=\"left\">rt</th>\n",
       "    </tr>\n",
       "    <tr>\n",
       "      <th></th>\n",
       "      <th></th>\n",
       "      <th colspan=\"3\" halign=\"left\">mean</th>\n",
       "      <th colspan=\"3\" halign=\"left\">sem</th>\n",
       "    </tr>\n",
       "    <tr>\n",
       "      <th></th>\n",
       "      <th>setsize</th>\n",
       "      <th>8</th>\n",
       "      <th>12</th>\n",
       "      <th>16</th>\n",
       "      <th>8</th>\n",
       "      <th>12</th>\n",
       "      <th>16</th>\n",
       "    </tr>\n",
       "    <tr>\n",
       "      <th>dyn</th>\n",
       "      <th>target</th>\n",
       "      <th></th>\n",
       "      <th></th>\n",
       "      <th></th>\n",
       "      <th></th>\n",
       "      <th></th>\n",
       "      <th></th>\n",
       "    </tr>\n",
       "  </thead>\n",
       "  <tbody>\n",
       "    <tr>\n",
       "      <th rowspan=\"2\" valign=\"top\">Dynamic</th>\n",
       "      <th>Absent</th>\n",
       "      <td>2.208454</td>\n",
       "      <td>2.262694</td>\n",
       "      <td>2.495611</td>\n",
       "      <td>0.267384</td>\n",
       "      <td>0.321961</td>\n",
       "      <td>0.284776</td>\n",
       "    </tr>\n",
       "    <tr>\n",
       "      <th>Present</th>\n",
       "      <td>1.178920</td>\n",
       "      <td>1.234546</td>\n",
       "      <td>1.415677</td>\n",
       "      <td>0.114543</td>\n",
       "      <td>0.145360</td>\n",
       "      <td>0.140737</td>\n",
       "    </tr>\n",
       "    <tr>\n",
       "      <th rowspan=\"2\" valign=\"top\">Static</th>\n",
       "      <th>Absent</th>\n",
       "      <td>1.177113</td>\n",
       "      <td>1.554864</td>\n",
       "      <td>1.788847</td>\n",
       "      <td>0.078252</td>\n",
       "      <td>0.113560</td>\n",
       "      <td>0.157800</td>\n",
       "    </tr>\n",
       "    <tr>\n",
       "      <th>Present</th>\n",
       "      <td>0.771285</td>\n",
       "      <td>0.898985</td>\n",
       "      <td>0.945592</td>\n",
       "      <td>0.034035</td>\n",
       "      <td>0.044600</td>\n",
       "      <td>0.033591</td>\n",
       "    </tr>\n",
       "  </tbody>\n",
       "</table>\n",
       "</div>"
      ],
      "text/plain": [
       "                       rt                                                  \n",
       "                     mean                           sem                    \n",
       "setsize                8         12        16        8         12        16\n",
       "dyn     target                                                             \n",
       "Dynamic Absent   2.208454  2.262694  2.495611  0.267384  0.321961  0.284776\n",
       "        Present  1.178920  1.234546  1.415677  0.114543  0.145360  0.140737\n",
       "Static  Absent   1.177113  1.554864  1.788847  0.078252  0.113560  0.157800\n",
       "        Present  0.771285  0.898985  0.945592  0.034035  0.044600  0.033591"
      ]
     },
     "execution_count": 118,
     "metadata": {},
     "output_type": "execute_result"
    }
   ],
   "source": [
    "mmRTs.unstack(level = 2)"
   ]
  },
  {
   "cell_type": "code",
   "execution_count": 120,
   "metadata": {},
   "outputs": [
    {
     "data": {
      "text/html": [
       "<div>\n",
       "<style scoped>\n",
       "    .dataframe tbody tr th:only-of-type {\n",
       "        vertical-align: middle;\n",
       "    }\n",
       "\n",
       "    .dataframe tbody tr th {\n",
       "        vertical-align: top;\n",
       "    }\n",
       "\n",
       "    .dataframe thead th {\n",
       "        text-align: right;\n",
       "    }\n",
       "</style>\n",
       "<table border=\"1\" class=\"dataframe\">\n",
       "  <thead>\n",
       "    <tr style=\"text-align: right;\">\n",
       "      <th></th>\n",
       "      <th>dyn</th>\n",
       "      <th>target</th>\n",
       "      <th>setsize</th>\n",
       "      <th>mean</th>\n",
       "      <th>sem</th>\n",
       "    </tr>\n",
       "  </thead>\n",
       "  <tbody>\n",
       "    <tr>\n",
       "      <th>0</th>\n",
       "      <td>Dynamic</td>\n",
       "      <td>Absent</td>\n",
       "      <td>8</td>\n",
       "      <td>2.208454</td>\n",
       "      <td>0.267384</td>\n",
       "    </tr>\n",
       "    <tr>\n",
       "      <th>1</th>\n",
       "      <td>Dynamic</td>\n",
       "      <td>Absent</td>\n",
       "      <td>12</td>\n",
       "      <td>2.262694</td>\n",
       "      <td>0.321961</td>\n",
       "    </tr>\n",
       "    <tr>\n",
       "      <th>2</th>\n",
       "      <td>Dynamic</td>\n",
       "      <td>Absent</td>\n",
       "      <td>16</td>\n",
       "      <td>2.495611</td>\n",
       "      <td>0.284776</td>\n",
       "    </tr>\n",
       "    <tr>\n",
       "      <th>3</th>\n",
       "      <td>Dynamic</td>\n",
       "      <td>Present</td>\n",
       "      <td>8</td>\n",
       "      <td>1.178920</td>\n",
       "      <td>0.114543</td>\n",
       "    </tr>\n",
       "    <tr>\n",
       "      <th>4</th>\n",
       "      <td>Dynamic</td>\n",
       "      <td>Present</td>\n",
       "      <td>12</td>\n",
       "      <td>1.234546</td>\n",
       "      <td>0.145360</td>\n",
       "    </tr>\n",
       "    <tr>\n",
       "      <th>5</th>\n",
       "      <td>Dynamic</td>\n",
       "      <td>Present</td>\n",
       "      <td>16</td>\n",
       "      <td>1.415677</td>\n",
       "      <td>0.140737</td>\n",
       "    </tr>\n",
       "    <tr>\n",
       "      <th>6</th>\n",
       "      <td>Static</td>\n",
       "      <td>Absent</td>\n",
       "      <td>8</td>\n",
       "      <td>1.177113</td>\n",
       "      <td>0.078252</td>\n",
       "    </tr>\n",
       "    <tr>\n",
       "      <th>7</th>\n",
       "      <td>Static</td>\n",
       "      <td>Absent</td>\n",
       "      <td>12</td>\n",
       "      <td>1.554864</td>\n",
       "      <td>0.113560</td>\n",
       "    </tr>\n",
       "    <tr>\n",
       "      <th>8</th>\n",
       "      <td>Static</td>\n",
       "      <td>Absent</td>\n",
       "      <td>16</td>\n",
       "      <td>1.788847</td>\n",
       "      <td>0.157800</td>\n",
       "    </tr>\n",
       "    <tr>\n",
       "      <th>9</th>\n",
       "      <td>Static</td>\n",
       "      <td>Present</td>\n",
       "      <td>8</td>\n",
       "      <td>0.771285</td>\n",
       "      <td>0.034035</td>\n",
       "    </tr>\n",
       "    <tr>\n",
       "      <th>10</th>\n",
       "      <td>Static</td>\n",
       "      <td>Present</td>\n",
       "      <td>12</td>\n",
       "      <td>0.898985</td>\n",
       "      <td>0.044600</td>\n",
       "    </tr>\n",
       "    <tr>\n",
       "      <th>11</th>\n",
       "      <td>Static</td>\n",
       "      <td>Present</td>\n",
       "      <td>16</td>\n",
       "      <td>0.945592</td>\n",
       "      <td>0.033591</td>\n",
       "    </tr>\n",
       "  </tbody>\n",
       "</table>\n",
       "</div>"
      ],
      "text/plain": [
       "        dyn   target  setsize      mean       sem\n",
       "0   Dynamic   Absent        8  2.208454  0.267384\n",
       "1   Dynamic   Absent       12  2.262694  0.321961\n",
       "2   Dynamic   Absent       16  2.495611  0.284776\n",
       "3   Dynamic  Present        8  1.178920  0.114543\n",
       "4   Dynamic  Present       12  1.234546  0.145360\n",
       "5   Dynamic  Present       16  1.415677  0.140737\n",
       "6    Static   Absent        8  1.177113  0.078252\n",
       "7    Static   Absent       12  1.554864  0.113560\n",
       "8    Static   Absent       16  1.788847  0.157800\n",
       "9    Static  Present        8  0.771285  0.034035\n",
       "10   Static  Present       12  0.898985  0.044600\n",
       "11   Static  Present       16  0.945592  0.033591"
      ]
     },
     "execution_count": 120,
     "metadata": {},
     "output_type": "execute_result"
    }
   ],
   "source": [
    "# first split column 'rt', and reset index\n",
    "mmRTs0 = pd.DataFrame(mmRTs.rt).reset_index()\n",
    "mmRTs0"
   ]
  },
  {
   "cell_type": "markdown",
   "metadata": {},
   "source": [
    "### 3.3 Visualize the data"
   ]
  },
  {
   "cell_type": "code",
   "execution_count": 122,
   "metadata": {},
   "outputs": [
    {
     "data": {
      "application/vnd.vegalite.v2+json": {
       "$schema": "https://vega.github.io/schema/vega-lite/v2.6.0.json",
       "config": {
        "axis": {
         "grid": false
        },
        "view": {
         "height": 300,
         "width": 400
        }
       },
       "data": {
        "name": "data-0ed71f78b596bf8186c0a867d8233693"
       },
       "datasets": {
        "data-0ed71f78b596bf8186c0a867d8233693": [
         {
          "dyn": "Dynamic",
          "mean": 2.208454360252264,
          "sem": 0.26738395407140614,
          "setsize": 8,
          "target": "Absent"
         },
         {
          "dyn": "Dynamic",
          "mean": 2.2626940064948275,
          "sem": 0.3219606792019773,
          "setsize": 12,
          "target": "Absent"
         },
         {
          "dyn": "Dynamic",
          "mean": 2.4956110405731966,
          "sem": 0.2847756791494871,
          "setsize": 16,
          "target": "Absent"
         },
         {
          "dyn": "Dynamic",
          "mean": 1.1789196970846563,
          "sem": 0.1145433379285091,
          "setsize": 8,
          "target": "Present"
         },
         {
          "dyn": "Dynamic",
          "mean": 1.2345459324724588,
          "sem": 0.14536012124469905,
          "setsize": 12,
          "target": "Present"
         },
         {
          "dyn": "Dynamic",
          "mean": 1.4156772107198152,
          "sem": 0.14073674568266134,
          "setsize": 16,
          "target": "Present"
         },
         {
          "dyn": "Static",
          "mean": 1.1771127726191093,
          "sem": 0.07825208960054915,
          "setsize": 8,
          "target": "Absent"
         },
         {
          "dyn": "Static",
          "mean": 1.5548643079518,
          "sem": 0.1135599220119935,
          "setsize": 12,
          "target": "Absent"
         },
         {
          "dyn": "Static",
          "mean": 1.7888466898876745,
          "sem": 0.15780044150755057,
          "setsize": 16,
          "target": "Absent"
         },
         {
          "dyn": "Static",
          "mean": 0.771284501473512,
          "sem": 0.03403458891662587,
          "setsize": 8,
          "target": "Present"
         },
         {
          "dyn": "Static",
          "mean": 0.8989849615489868,
          "sem": 0.04460007958779783,
          "setsize": 12,
          "target": "Present"
         },
         {
          "dyn": "Static",
          "mean": 0.9455917869564644,
          "sem": 0.033590892867926346,
          "setsize": 16,
          "target": "Present"
         }
        ]
       },
       "facet": {
        "column": {
         "field": "dyn",
         "type": "nominal"
        }
       },
       "spec": {
        "layer": [
         {
          "encoding": {
           "color": {
            "field": "target",
            "type": "nominal"
           },
           "shape": {
            "field": "target",
            "type": "nominal"
           },
           "x": {
            "field": "setsize",
            "scale": {
             "domain": [
              6,
              18
             ]
            },
            "type": "quantitative"
           },
           "y": {
            "field": "mean",
            "scale": {
             "zero": false
            },
            "type": "quantitative"
           }
          },
          "mark": "point"
         },
         {
          "encoding": {
           "color": {
            "field": "target",
            "type": "nominal"
           },
           "shape": {
            "field": "target",
            "type": "nominal"
           },
           "x": {
            "field": "setsize",
            "scale": {
             "domain": [
              6,
              18
             ]
            },
            "type": "quantitative"
           },
           "y": {
            "field": "mean",
            "scale": {
             "zero": false
            },
            "type": "quantitative"
           }
          },
          "mark": "line"
         },
         {
          "encoding": {
           "color": {
            "field": "target",
            "type": "nominal"
           },
           "shape": {
            "field": "target",
            "type": "nominal"
           },
           "x": {
            "field": "setsize",
            "type": "quantitative"
           },
           "y": {
            "field": "ymin",
            "type": "quantitative"
           },
           "y2": {
            "field": "ymax",
            "type": "quantitative"
           }
          },
          "mark": "rule",
          "transform": [
           {
            "as": "ymin",
            "calculate": "datum.mean - datum.sem"
           },
           {
            "as": "ymax",
            "calculate": "datum.mean + datum.sem"
           }
          ]
         }
        ]
       }
      },
      "image/png": "[encoded data removed]",
      "text/plain": [
       "<VegaLite 2 object>\n",
       "\n",
       "If you see this message, it means the renderer has not been properly enabled\n",
       "for the frontend that you are using. For more information, see\n",
       "https://altair-viz.github.io/user_guide/troubleshooting.html\n"
      ]
     },
     "execution_count": 122,
     "metadata": {},
     "output_type": "execute_result"
    }
   ],
   "source": [
    "# Important note on multiple facet charts with multiple layers. DO NOT specify data in base plot!\n",
    "base = alt.Chart().encode(\n",
    "    alt.X('setsize', scale = alt.Scale( domain = (6,18))),\n",
    "    alt.Y('mean', scale = alt.Scale(zero = False)),\n",
    "    color = 'target',\n",
    "    shape ='target'\n",
    ")\n",
    "\n",
    "chart = base.mark_point() + base.mark_line()\n",
    "chart += base.mark_rule().encode(\n",
    "    x = \"setsize\",\n",
    "    y = \"ymin:Q\",\n",
    "    y2 = \"ymax:Q\",\n",
    "    size = 2\n",
    ").transform_calculate(\n",
    "    ymin = 'datum.mean - datum.sem',\n",
    "    ymax = 'datum.mean + datum.sem'\n",
    ")\n",
    "\n",
    "chart.facet(column = 'dyn', data = mmRTs0).configure_axis(\n",
    "    grid = False\n",
    ")"
   ]
  },
  {
   "cell_type": "markdown",
   "metadata": {},
   "source": [
    "Visualization using Matplotlib functions (matlab style). When you use matplotlib, multiindex table is useful for selecting subset of data. \n",
    "\n",
    "__MultiIndex subsecting data__\n",
    "\n",
    "> data.loc['index1','index2']"
   ]
  },
  {
   "cell_type": "code",
   "execution_count": 209,
   "metadata": {},
   "outputs": [
    {
     "data": {
      "text/plain": [
       "setsize\n",
       "8     1.178920\n",
       "12    1.234546\n",
       "16    1.415677\n",
       "Name: mean, dtype: float64"
      ]
     },
     "execution_count": 209,
     "metadata": {},
     "output_type": "execute_result"
    }
   ],
   "source": [
    "# e.g., select dynamic target-present mean RTs\n",
    "mmRTs.loc['Dynamic','Present'].rt['mean']"
   ]
  },
  {
   "cell_type": "markdown",
   "metadata": {},
   "source": [
    "In addition, you can get the unique of the levels from multiIndex by using `.index.levels[]`"
   ]
  },
  {
   "cell_type": "code",
   "execution_count": 212,
   "metadata": {},
   "outputs": [
    {
     "data": {
      "text/plain": [
       "Index(['Dynamic', 'Static'], dtype='object', name='dyn')"
      ]
     },
     "execution_count": 212,
     "metadata": {},
     "output_type": "execute_result"
    }
   ],
   "source": [
    "# For example, get dyn levels\n",
    "mmRTs.index.levels[0]"
   ]
  },
  {
   "cell_type": "code",
   "execution_count": 220,
   "metadata": {},
   "outputs": [
    {
     "data": {
      "image/png": "[encoded data removed]",
      "text/plain": [
       "<Figure size 432x288 with 2 Axes>"
      ]
     },
     "metadata": {
      "needs_background": "light"
     },
     "output_type": "display_data"
    }
   ],
   "source": [
    "# Now let's visualize using standard matplotlib functions\n",
    "%matplotlib inline\n",
    "import matplotlib.pyplot as plt\n",
    "\n",
    "fig = plt.figure()\n",
    "fig.subplots_adjust(hspace=0.4, wspace=0.4)\n",
    "i = 1\n",
    "for dyn in mmRTs.index.levels[0]:\n",
    "    ax = fig.add_subplot(1,2,i)\n",
    "    i += 1\n",
    "    for tar in mmRTs.index.levels[1]:\n",
    "        cdat = mmRTs.loc[dyn,tar]\n",
    "        ax.plot(cdat.index, cdat.rt['mean'])\n",
    "        ax.errorbar(cdat.index, cdat.rt['mean'],yerr = cdat.rt['sem'], fmt = '.k', ecolor = 'gray', capsize = 5)\n",
    "        ax.set(xlabel = 'Set Size', ylabel ='Mean RTs (secs)')\n",
    "        "
   ]
  },
  {
   "cell_type": "code",
   "execution_count": null,
   "metadata": {},
   "outputs": [],
   "source": []
  },
  {
   "cell_type": "markdown",
   "metadata": {},
   "source": [
    "### 3.5 Repeated ANOVA test\n",
    "\n",
    "In this example, we have three factors: Search type (Dynamic vs Static), Target (Absent vs. Present), and Set size (8, 12, 16). As we saw from the help of AnovaRM, it accepts parameters: data, depvar, subject, within, between, and aggregate_func. We have already aggregate mean RTs. So we only need to provide the first parameters. \n"
   ]
  },
  {
   "cell_type": "code",
   "execution_count": 131,
   "metadata": {},
   "outputs": [
    {
     "name": "stdout",
     "output_type": "stream",
     "text": [
      "                     Anova\n",
      "================================================\n",
      "                   Num DF  Den DF F Value Pr > F\n",
      "------------------------------------------------\n",
      "dyn                1.0000 10.0000 19.0085 0.0014\n",
      "target             1.0000 10.0000 45.5424 0.0001\n",
      "setsize            2.0000 20.0000 52.6811 0.0000\n",
      "dyn:target         1.0000 10.0000  9.8088 0.0107\n",
      "dyn:setsize        2.0000 20.0000  3.3114 0.0572\n",
      "target:setsize     2.0000 20.0000 12.9475 0.0002\n",
      "dyn:target:setsize 2.0000 20.0000  6.4267 0.0070\n",
      "================================================\n",
      "\n"
     ]
    }
   ],
   "source": [
    "mRTs0 = mRTs.reset_index() \n",
    "avr = AnovaRM(mRTs0, 'rt','sub', within = ['dyn','target','setsize'])\n",
    "res = avr.fit()\n",
    "print(res)"
   ]
  },
  {
   "cell_type": "markdown",
   "metadata": {},
   "source": [
    "## 4. ANOVA analysis with a linear OLSModel\n",
    "\n",
    "`Statsmodels` provides ordinary least squares, which is a method for estimating the parameters in a linear regression model. The `ols` from `Statsmodels` now accepts R-style formulas with pandas data frames to fit your models. `ols` comes from `statsmodels.formula.api`. The following is an example from `Statsmodels` official website:\n"
   ]
  },
  {
   "cell_type": "code",
   "execution_count": 134,
   "metadata": {},
   "outputs": [
    {
     "name": "stdout",
     "output_type": "stream",
     "text": [
      "                            OLS Regression Results                            \n",
      "==============================================================================\n",
      "Dep. Variable:                Lottery   R-squared:                       0.348\n",
      "Model:                            OLS   Adj. R-squared:                  0.333\n",
      "Method:                 Least Squares   F-statistic:                     22.20\n",
      "Date:                Mon, 18 Mar 2019   Prob (F-statistic):           1.90e-08\n",
      "Time:                        23:03:32   Log-Likelihood:                -379.82\n",
      "No. Observations:                  86   AIC:                             765.6\n",
      "Df Residuals:                      83   BIC:                             773.0\n",
      "Df Model:                           2                                         \n",
      "Covariance Type:            nonrobust                                         \n",
      "===================================================================================\n",
      "                      coef    std err          t      P>|t|      [0.025      0.975]\n",
      "-----------------------------------------------------------------------------------\n",
      "Intercept         246.4341     35.233      6.995      0.000     176.358     316.510\n",
      "Literacy           -0.4889      0.128     -3.832      0.000      -0.743      -0.235\n",
      "np.log(Pop1831)   -31.3114      5.977     -5.239      0.000     -43.199     -19.424\n",
      "==============================================================================\n",
      "Omnibus:                        3.713   Durbin-Watson:                   2.019\n",
      "Prob(Omnibus):                  0.156   Jarque-Bera (JB):                3.394\n",
      "Skew:                          -0.487   Prob(JB):                        0.183\n",
      "Kurtosis:                       3.003   Cond. No.                         702.\n",
      "==============================================================================\n",
      "\n",
      "Warnings:\n",
      "[1] Standard Errors assume that the covariance matrix of the errors is correctly specified.\n"
     ]
    }
   ],
   "source": [
    "import statsmodels.api as sm\n",
    "import statsmodels.formula.api as smf\n",
    "dat = sm.datasets.get_rdataset(\"Guerry\",\"HistData\").data\n",
    "# Fit regression model (using the natural log of one of the regressors)\n",
    "results = smf.ols('Lottery ~ Literacy + np.log(Pop1831)', data=dat).fit()\n",
    "print(results.summary())"
   ]
  },
  {
   "cell_type": "code",
   "execution_count": 153,
   "metadata": {},
   "outputs": [
    {
     "data": {
      "text/html": [
       "<table class=\"simpletable\">\n",
       "<caption>OLS Regression Results</caption>\n",
       "<tr>\n",
       "  <th>Dep. Variable:</th>           <td>rt</td>        <th>  R-squared:         </th> <td>   0.533</td>\n",
       "</tr>\n",
       "<tr>\n",
       "  <th>Model:</th>                   <td>OLS</td>       <th>  Adj. R-squared:    </th> <td>   0.506</td>\n",
       "</tr>\n",
       "<tr>\n",
       "  <th>Method:</th>             <td>Least Squares</td>  <th>  F-statistic:       </th> <td>   20.20</td>\n",
       "</tr>\n",
       "<tr>\n",
       "  <th>Date:</th>             <td>Mon, 18 Mar 2019</td> <th>  Prob (F-statistic):</th> <td>6.75e-18</td>\n",
       "</tr>\n",
       "<tr>\n",
       "  <th>Time:</th>                 <td>23:26:18</td>     <th>  Log-Likelihood:    </th> <td> -104.22</td>\n",
       "</tr>\n",
       "<tr>\n",
       "  <th>No. Observations:</th>      <td>   132</td>      <th>  AIC:               </th> <td>   224.4</td>\n",
       "</tr>\n",
       "<tr>\n",
       "  <th>Df Residuals:</th>          <td>   124</td>      <th>  BIC:               </th> <td>   247.5</td>\n",
       "</tr>\n",
       "<tr>\n",
       "  <th>Df Model:</th>              <td>     7</td>      <th>                     </th>     <td> </td>   \n",
       "</tr>\n",
       "<tr>\n",
       "  <th>Covariance Type:</th>      <td>nonrobust</td>    <th>                     </th>     <td> </td>   \n",
       "</tr>\n",
       "</table>\n",
       "<table class=\"simpletable\">\n",
       "<tr>\n",
       "                        <td></td>                           <th>coef</th>     <th>std err</th>      <th>t</th>      <th>P>|t|</th>  <th>[0.025</th>    <th>0.975]</th>  \n",
       "</tr>\n",
       "<tr>\n",
       "  <th>Intercept</th>                                     <td>    1.9486</td> <td>    0.364</td> <td>    5.346</td> <td> 0.000</td> <td>    1.227</td> <td>    2.670</td>\n",
       "</tr>\n",
       "<tr>\n",
       "  <th>C(target)[T.Present]</th>                          <td>   -0.9995</td> <td>    0.515</td> <td>   -1.939</td> <td> 0.055</td> <td>   -2.020</td> <td>    0.021</td>\n",
       "</tr>\n",
       "<tr>\n",
       "  <th>C(dyn)[T.Static]</th>                              <td>   -1.3593</td> <td>    0.515</td> <td>   -2.637</td> <td> 0.009</td> <td>   -2.379</td> <td>   -0.339</td>\n",
       "</tr>\n",
       "<tr>\n",
       "  <th>C(target)[T.Present]:C(dyn)[T.Static]</th>         <td>    1.0206</td> <td>    0.729</td> <td>    1.400</td> <td> 0.164</td> <td>   -0.422</td> <td>    2.463</td>\n",
       "</tr>\n",
       "<tr>\n",
       "  <th>setsize</th>                                       <td>    0.0359</td> <td>    0.029</td> <td>    1.225</td> <td> 0.223</td> <td>   -0.022</td> <td>    0.094</td>\n",
       "</tr>\n",
       "<tr>\n",
       "  <th>C(target)[T.Present]:setsize</th>                  <td>   -0.0063</td> <td>    0.041</td> <td>   -0.152</td> <td> 0.879</td> <td>   -0.088</td> <td>    0.076</td>\n",
       "</tr>\n",
       "<tr>\n",
       "  <th>C(dyn)[T.Static]:setsize</th>                      <td>    0.0406</td> <td>    0.041</td> <td>    0.979</td> <td> 0.330</td> <td>   -0.041</td> <td>    0.123</td>\n",
       "</tr>\n",
       "<tr>\n",
       "  <th>C(target)[T.Present]:C(dyn)[T.Static]:setsize</th> <td>   -0.0484</td> <td>    0.059</td> <td>   -0.825</td> <td> 0.411</td> <td>   -0.164</td> <td>    0.068</td>\n",
       "</tr>\n",
       "</table>\n",
       "<table class=\"simpletable\">\n",
       "<tr>\n",
       "  <th>Omnibus:</th>       <td>14.347</td> <th>  Durbin-Watson:     </th> <td>   0.508</td>\n",
       "</tr>\n",
       "<tr>\n",
       "  <th>Prob(Omnibus):</th> <td> 0.001</td> <th>  Jarque-Bera (JB):  </th> <td>  38.967</td>\n",
       "</tr>\n",
       "<tr>\n",
       "  <th>Skew:</th>          <td> 0.276</td> <th>  Prob(JB):          </th> <td>3.46e-09</td>\n",
       "</tr>\n",
       "<tr>\n",
       "  <th>Kurtosis:</th>      <td> 5.604</td> <th>  Cond. No.          </th> <td>    327.</td>\n",
       "</tr>\n",
       "</table><br/><br/>Warnings:<br/>[1] Standard Errors assume that the covariance matrix of the errors is correctly specified."
      ],
      "text/plain": [
       "<class 'statsmodels.iolib.summary.Summary'>\n",
       "\"\"\"\n",
       "                            OLS Regression Results                            \n",
       "==============================================================================\n",
       "Dep. Variable:                     rt   R-squared:                       0.533\n",
       "Model:                            OLS   Adj. R-squared:                  0.506\n",
       "Method:                 Least Squares   F-statistic:                     20.20\n",
       "Date:                Mon, 18 Mar 2019   Prob (F-statistic):           6.75e-18\n",
       "Time:                        23:26:18   Log-Likelihood:                -104.22\n",
       "No. Observations:                 132   AIC:                             224.4\n",
       "Df Residuals:                     124   BIC:                             247.5\n",
       "Df Model:                           7                                         \n",
       "Covariance Type:            nonrobust                                         \n",
       "=================================================================================================================\n",
       "                                                    coef    std err          t      P>|t|      [0.025      0.975]\n",
       "-----------------------------------------------------------------------------------------------------------------\n",
       "Intercept                                         1.9486      0.364      5.346      0.000       1.227       2.670\n",
       "C(target)[T.Present]                             -0.9995      0.515     -1.939      0.055      -2.020       0.021\n",
       "C(dyn)[T.Static]                                 -1.3593      0.515     -2.637      0.009      -2.379      -0.339\n",
       "C(target)[T.Present]:C(dyn)[T.Static]             1.0206      0.729      1.400      0.164      -0.422       2.463\n",
       "setsize                                           0.0359      0.029      1.225      0.223      -0.022       0.094\n",
       "C(target)[T.Present]:setsize                     -0.0063      0.041     -0.152      0.879      -0.088       0.076\n",
       "C(dyn)[T.Static]:setsize                          0.0406      0.041      0.979      0.330      -0.041       0.123\n",
       "C(target)[T.Present]:C(dyn)[T.Static]:setsize    -0.0484      0.059     -0.825      0.411      -0.164       0.068\n",
       "==============================================================================\n",
       "Omnibus:                       14.347   Durbin-Watson:                   0.508\n",
       "Prob(Omnibus):                  0.001   Jarque-Bera (JB):               38.967\n",
       "Skew:                           0.276   Prob(JB):                     3.46e-09\n",
       "Kurtosis:                       5.604   Cond. No.                         327.\n",
       "==============================================================================\n",
       "\n",
       "Warnings:\n",
       "[1] Standard Errors assume that the covariance matrix of the errors is correctly specified.\n",
       "\"\"\""
      ]
     },
     "execution_count": 153,
     "metadata": {},
     "output_type": "execute_result"
    }
   ],
   "source": [
    "lm = smf.ols('rt ~ C(target)*C(dyn)*setsize', data = mRTs0).fit()\n",
    "lm.summary()"
   ]
  },
  {
   "cell_type": "code",
   "execution_count": 146,
   "metadata": {},
   "outputs": [
    {
     "name": "stdout",
     "output_type": "stream",
     "text": [
      "              df     sum_sq    mean_sq          F        PR(>F)\n",
      "C(target)    1.0  24.125078  24.125078  77.759117  7.242848e-15\n",
      "C(dyn)       1.0  14.043969  14.043969  45.266034  5.173061e-10\n",
      "setsize      1.0   2.359477   2.359477   7.604984  6.672907e-03\n",
      "Residual   128.0  39.712514   0.310254        NaN           NaN\n"
     ]
    }
   ],
   "source": [
    "from statsmodels.stats.api import anova_lm\n",
    "aov_res = anova_lm(lm)\n",
    "print(aov_res)"
   ]
  },
  {
   "cell_type": "code",
   "execution_count": 152,
   "metadata": {},
   "outputs": [
    {
     "data": {
      "text/html": [
       "<table class=\"simpletable\">\n",
       "<tr>\n",
       "       <td>Model:</td>       <td>MixedLM</td> <td>Dependent Variable:</td>    <td>rt</td>   \n",
       "</tr>\n",
       "<tr>\n",
       "  <td>No. Observations:</td>   <td>132</td>         <td>Method:</td>         <td>REML</td>  \n",
       "</tr>\n",
       "<tr>\n",
       "     <td>No. Groups:</td>      <td>11</td>          <td>Scale:</td>         <td>0.1509</td> \n",
       "</tr>\n",
       "<tr>\n",
       "  <td>Min. group size:</td>    <td>12</td>        <td>Likelihood:</td>     <td>-85.9403</td>\n",
       "</tr>\n",
       "<tr>\n",
       "  <td>Max. group size:</td>    <td>12</td>        <td>Converged:</td>         <td>Yes</td>  \n",
       "</tr>\n",
       "<tr>\n",
       "  <td>Mean group size:</td>   <td>12.0</td>            <td></td>               <td></td>    \n",
       "</tr>\n",
       "</table>\n",
       "<table class=\"simpletable\">\n",
       "<tr>\n",
       "                <td></td>                <th>Coef.</th> <th>Std.Err.</th>    <th>z</th>   <th>P>|z|</th> <th>[0.025</th> <th>0.975]</th>\n",
       "</tr>\n",
       "<tr>\n",
       "  <th>Intercept</th>                     <td>1.595</td>   <td>0.223</td>   <td>7.162</td> <td>0.000</td>  <td>1.159</td>  <td>2.032</td>\n",
       "</tr>\n",
       "<tr>\n",
       "  <th>C(target)[T.Present]</th>         <td>-0.489</td>   <td>0.257</td>  <td>-1.900</td> <td>0.057</td> <td>-0.994</td>  <td>0.015</td>\n",
       "</tr>\n",
       "<tr>\n",
       "  <th>C(dyn)[T.Static]</th>             <td>-0.652</td>   <td>0.068</td>  <td>-9.648</td> <td>0.000</td> <td>-0.785</td> <td>-0.520</td>\n",
       "</tr>\n",
       "<tr>\n",
       "  <th>setsize</th>                       <td>0.056</td>   <td>0.015</td>   <td>3.838</td> <td>0.000</td>  <td>0.027</td>  <td>0.085</td>\n",
       "</tr>\n",
       "<tr>\n",
       "  <th>C(target)[T.Present]:setsize</th> <td>-0.030</td>   <td>0.021</td>  <td>-1.473</td> <td>0.141</td> <td>-0.071</td>  <td>0.010</td>\n",
       "</tr>\n",
       "<tr>\n",
       "  <th>Group Var</th>                     <td>0.169</td>   <td>0.217</td>     <td></td>      <td></td>       <td></td>       <td></td>   \n",
       "</tr>\n",
       "</table>"
      ],
      "text/plain": [
       "<class 'statsmodels.iolib.summary2.Summary'>\n",
       "\"\"\"\n",
       "                 Mixed Linear Model Regression Results\n",
       "=======================================================================\n",
       "Model:                   MixedLM      Dependent Variable:      rt      \n",
       "No. Observations:        132          Method:                  REML    \n",
       "No. Groups:              11           Scale:                   0.1509  \n",
       "Min. group size:         12           Likelihood:              -85.9403\n",
       "Max. group size:         12           Converged:               Yes     \n",
       "Mean group size:         12.0                                          \n",
       "-----------------------------------------------------------------------\n",
       "                             Coef.  Std.Err.   z    P>|z| [0.025 0.975]\n",
       "-----------------------------------------------------------------------\n",
       "Intercept                     1.595    0.223  7.162 0.000  1.159  2.032\n",
       "C(target)[T.Present]         -0.489    0.257 -1.900 0.057 -0.994  0.015\n",
       "C(dyn)[T.Static]             -0.652    0.068 -9.648 0.000 -0.785 -0.520\n",
       "setsize                       0.056    0.015  3.838 0.000  0.027  0.085\n",
       "C(target)[T.Present]:setsize -0.030    0.021 -1.473 0.141 -0.071  0.010\n",
       "Group Var                     0.169    0.217                           \n",
       "=======================================================================\n",
       "\n",
       "\"\"\""
      ]
     },
     "execution_count": 152,
     "metadata": {},
     "output_type": "execute_result"
    }
   ],
   "source": [
    "mlm = smf.mixedlm('rt ~ C(target)*setsize+C(dyn)', mRTs0, groups = mRTs0['sub']).fit()\n",
    "mlm.summary()"
   ]
  },
  {
   "cell_type": "markdown",
   "metadata": {},
   "source": [
    "## 5. References and resources\n",
    "\n",
    "1. [Official website of statsmodels](http://www.statsmodels.org)\n",
    "2. [Examples](https://github.com/statsmodels/statsmodels/wiki/Examples#linear-mixed-models)\n"
   ]
  }
 ],
 "metadata": {
  "kernelspec": {
   "display_name": "Python 3",
   "language": "python",
   "name": "python3"
  },
  "language_info": {
   "codemirror_mode": {
    "name": "ipython",
    "version": 3
   },
   "file_extension": ".py",
   "mimetype": "text/x-python",
   "name": "python",
   "nbconvert_exporter": "python",
   "pygments_lexer": "ipython3",
   "version": "3.6.7"
  }
 },
 "nbformat": 4,
 "nbformat_minor": 2
}
