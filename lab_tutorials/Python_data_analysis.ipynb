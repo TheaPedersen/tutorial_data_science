{
  "nbformat": 4,
  "nbformat_minor": 0,
  "metadata": {
    "colab": {
      "name": "Python data analysis",
      "provenance": [],
      "collapsed_sections": [],
      "include_colab_link": true
    },
    "kernelspec": {
      "display_name": "Python 3",
      "language": "python",
      "name": "python3"
    }
  },
  "cells": [
    {
      "cell_type": "markdown",
      "metadata": {
        "id": "view-in-github",
        "colab_type": "text"
      },
      "source": [
        "<a href=\"https://colab.research.google.com/github/strongway/tutorial_data_science/blob/master/Python_data_analysis.ipynb\" target=\"_parent\"><img src=\"https://colab.research.google.com/assets/colab-badge.svg\" alt=\"Open In Colab\"/></a>"
      ]
    },
    {
      "cell_type": "markdown",
      "metadata": {
        "id": "sVs6HrkkteH1",
        "colab_type": "text"
      },
      "source": [
        "# Python Data Analysis\n",
        "\n",
        "**Strongway, 2019**\n",
        "\n",
        "\n",
        "This tutorial assumes you have some basic knowledge of Python. Some basic tutorials can be found here from my github repo [Tutorial for data science](https://github.com/strongway/tutorial_data_science).\n",
        "\n",
        "1. [Python for R users](https://github.com/strongway/tutorial_data_science/blob/master/python_4_r_users.ipynb)\n",
        "2. [Visualization with Altair](https://github.com/strongway/tutorial_data_science/blob/master/altair_visualization.ipynb)\n",
        "3. [Visualization with Seaborn and Altair](https://github.com/strongway/tutorial_data_science/blob/master/Visualization_practice.ipynb)\n",
        "\n",
        "In this tutorial we will practice some basic data analysis, and focus on estimation of psychometric functions. "
      ]
    },
    {
      "cell_type": "markdown",
      "metadata": {
        "id": "eREgjEEEWCbm",
        "colab_type": "text"
      },
      "source": [
        "## Quick recall Data analysis routine\n",
        "\n",
        "### 1. Pandas \n",
        "\n",
        "* Pandas can read remote data using URL `pd.read_csv(url)`. \n",
        "* Selection: `pd.query()` with logical filters (in strings)\n",
        "* Add column: `.assign()`\n",
        "* sorting: `.sort_values()`\n",
        "* rename: `.rename()`\n",
        "* group operation: `.groupby()`\n",
        "\n",
        "Note: Pandas `.groupby()` will **<font color = 'red'>put grouped variables into multi-index</font>**, so the columns after grouping will not include those grouped variables. If you want to put them back **as columns** for later usage, you need to add **`.reset_index()`**. \n",
        "\n",
        "Comparison between R and Python on data analysis\n",
        "\n",
        "``dplyr`` has a small set of nicely defined verbs. I've listed their closest pandas verbs.\n",
        "\n",
        "\n",
        "<table>\n",
        "  <tr>\n",
        "    <td><b>dplyr</b></td>\n",
        "    <td><b>pandas</b></td>\n",
        "  </tr>\n",
        "  <tr>\n",
        "    <td><code>filter()</code> (and <code>slice()</code>)</td>\n",
        "    <td><code>query()</code> (and <code>loc[]</code>, <code>iloc[]</code>)</td>\n",
        "  </tr>\n",
        "  <tr>\n",
        "    <td><code>arrange()</code></td>\n",
        "    <td><code>sort_values</code> and <code>sort_index()</code></td>\n",
        "  </tr>\n",
        "  <tr>\n",
        "  <td><code>select() </code>(and <code>rename()</code>)</td>\n",
        "    <td><code>__getitem__ </code> (and <code>rename()</code>)</td>\n",
        "  </tr>\n",
        "  <tr>\n",
        "  <td><code>distinct()</code></td>\n",
        "    <td><code>drop_duplicates()</code></td>\n",
        "  </tr>\n",
        "  <tr>\n",
        "    <td><code>mutate()</code> (and <code>transmute()</code>)</td>\n",
        "    <td>assign</td>\n",
        "  </tr>\n",
        "  <tr>\n",
        "    <td>summarise()</td>\n",
        "    <td>None</td>\n",
        "  </tr>\n",
        "  <tr>\n",
        "    <td>sample_n() and sample_frac()</td>\n",
        "    <td><code>sample</code></td>\n",
        "  </tr>\n",
        "  <tr>\n",
        "    <td><code>%>%</code></td>\n",
        "    <td><code>pipe</code></td>\n",
        "  </tr>\n",
        "\n",
        "</table>\n",
        "\n",
        "\n",
        "Some of the \"missing\" verbs in pandas are because there are other, different ways of achieving the same goal. For example `summarise` is spread across `mean`, `std`, etc. It's closest analog is actually the `.agg` method on a `GroupBy` object, as it reduces a DataFrame to a single row (per group). This isn't quite what `.describe` does.\n"
      ]
    },
    {
      "cell_type": "code",
      "metadata": {
        "id": "f3fd3GgHteH3",
        "colab_type": "code",
        "colab": {}
      },
      "source": [
        "# Some prep work to get the data from R and into pandas\n",
        "%matplotlib inline\n",
        "\n",
        "# pandas for data process, seaborn for plotting, in addition, matplotlib\n",
        "import pandas as pd\n",
        "import numpy as np\n",
        "import seaborn as sns\n",
        "import matplotlib.pyplot as plt\n",
        "import altair as alt\n",
        "\n",
        "pd.set_option(\"display.max_rows\", 5)"
      ],
      "execution_count": 0,
      "outputs": []
    },
    {
      "cell_type": "code",
      "metadata": {
        "id": "7QIyF8xZ0Tz5",
        "colab_type": "code",
        "outputId": "fc2d03ad-dfba-41ad-e389-fe411cfe2354",
        "colab": {
          "base_uri": "https://localhost:8080/",
          "height": 204
        }
      },
      "source": [
        "# read remote data using URL\n",
        "url = 'https://raw.githubusercontent.com/msenselab/dynamic_search/master/data/exp1.csv'\n",
        "dat = pd.read_csv(url)\n",
        "dat.head()"
      ],
      "execution_count": 5,
      "outputs": [
        {
          "output_type": "execute_result",
          "data": {
            "text/html": [
              "<div>\n",
              "<style scoped>\n",
              "    .dataframe tbody tr th:only-of-type {\n",
              "        vertical-align: middle;\n",
              "    }\n",
              "\n",
              "    .dataframe tbody tr th {\n",
              "        vertical-align: top;\n",
              "    }\n",
              "\n",
              "    .dataframe thead th {\n",
              "        text-align: right;\n",
              "    }\n",
              "</style>\n",
              "<table border=\"1\" class=\"dataframe\">\n",
              "  <thead>\n",
              "    <tr style=\"text-align: right;\">\n",
              "      <th></th>\n",
              "      <th>target</th>\n",
              "      <th>setsize</th>\n",
              "      <th>dyn</th>\n",
              "      <th>resp</th>\n",
              "      <th>rt</th>\n",
              "      <th>sub</th>\n",
              "      <th>exp</th>\n",
              "      <th>correct</th>\n",
              "    </tr>\n",
              "  </thead>\n",
              "  <tbody>\n",
              "    <tr>\n",
              "      <th>0</th>\n",
              "      <td>Absent</td>\n",
              "      <td>12</td>\n",
              "      <td>Static</td>\n",
              "      <td>2</td>\n",
              "      <td>2.583007</td>\n",
              "      <td>1</td>\n",
              "      <td>1</td>\n",
              "      <td>1</td>\n",
              "    </tr>\n",
              "    <tr>\n",
              "      <th>1</th>\n",
              "      <td>Absent</td>\n",
              "      <td>8</td>\n",
              "      <td>Static</td>\n",
              "      <td>2</td>\n",
              "      <td>0.935967</td>\n",
              "      <td>1</td>\n",
              "      <td>1</td>\n",
              "      <td>1</td>\n",
              "    </tr>\n",
              "    <tr>\n",
              "      <th>2</th>\n",
              "      <td>Present</td>\n",
              "      <td>16</td>\n",
              "      <td>Static</td>\n",
              "      <td>1</td>\n",
              "      <td>0.794771</td>\n",
              "      <td>1</td>\n",
              "      <td>1</td>\n",
              "      <td>1</td>\n",
              "    </tr>\n",
              "    <tr>\n",
              "      <th>3</th>\n",
              "      <td>Present</td>\n",
              "      <td>8</td>\n",
              "      <td>Static</td>\n",
              "      <td>1</td>\n",
              "      <td>1.241838</td>\n",
              "      <td>1</td>\n",
              "      <td>1</td>\n",
              "      <td>1</td>\n",
              "    </tr>\n",
              "    <tr>\n",
              "      <th>4</th>\n",
              "      <td>Absent</td>\n",
              "      <td>12</td>\n",
              "      <td>Static</td>\n",
              "      <td>2</td>\n",
              "      <td>1.759485</td>\n",
              "      <td>1</td>\n",
              "      <td>1</td>\n",
              "      <td>1</td>\n",
              "    </tr>\n",
              "  </tbody>\n",
              "</table>\n",
              "</div>"
            ],
            "text/plain": [
              "    target  setsize     dyn  resp        rt  sub  exp  correct\n",
              "0   Absent       12  Static     2  2.583007    1    1        1\n",
              "1   Absent        8  Static     2  0.935967    1    1        1\n",
              "2  Present       16  Static     1  0.794771    1    1        1\n",
              "3  Present        8  Static     1  1.241838    1    1        1\n",
              "4   Absent       12  Static     2  1.759485    1    1        1"
            ]
          },
          "metadata": {
            "tags": []
          },
          "execution_count": 5
        }
      ]
    },
    {
      "cell_type": "markdown",
      "metadata": {
        "id": "8-XbxlA744c2",
        "colab_type": "text"
      },
      "source": [
        "### Example of using chain rules\n",
        "\n",
        "Let's say we want to filter correct response trials, and then group by display types (dyn), target, setsize for mean RTs. "
      ]
    },
    {
      "cell_type": "code",
      "metadata": {
        "id": "xpK65RiTteJo",
        "colab_type": "code",
        "outputId": "c7a574cc-95ea-4b91-bea3-7dcfd0db8eaf",
        "colab": {
          "base_uri": "https://localhost:8080/",
          "height": 204
        }
      },
      "source": [
        "mrt = dat.query('correct == 1')\\\n",
        "    .groupby(['dyn','target','setsize'])\\\n",
        "    .agg({\"resp\":\"count\",\n",
        "         \"rt\":\"mean\"})\\\n",
        "    .rename(columns={\"resp\":\"count\"})\\\n",
        "    .reset_index()\n",
        "mrt.head()"
      ],
      "execution_count": 8,
      "outputs": [
        {
          "output_type": "execute_result",
          "data": {
            "text/html": [
              "<div>\n",
              "<style scoped>\n",
              "    .dataframe tbody tr th:only-of-type {\n",
              "        vertical-align: middle;\n",
              "    }\n",
              "\n",
              "    .dataframe tbody tr th {\n",
              "        vertical-align: top;\n",
              "    }\n",
              "\n",
              "    .dataframe thead th {\n",
              "        text-align: right;\n",
              "    }\n",
              "</style>\n",
              "<table border=\"1\" class=\"dataframe\">\n",
              "  <thead>\n",
              "    <tr style=\"text-align: right;\">\n",
              "      <th></th>\n",
              "      <th>dyn</th>\n",
              "      <th>target</th>\n",
              "      <th>setsize</th>\n",
              "      <th>count</th>\n",
              "      <th>rt</th>\n",
              "    </tr>\n",
              "  </thead>\n",
              "  <tbody>\n",
              "    <tr>\n",
              "      <th>0</th>\n",
              "      <td>Dynamic</td>\n",
              "      <td>Absent</td>\n",
              "      <td>8</td>\n",
              "      <td>345</td>\n",
              "      <td>2.193893</td>\n",
              "    </tr>\n",
              "    <tr>\n",
              "      <th>1</th>\n",
              "      <td>Dynamic</td>\n",
              "      <td>Absent</td>\n",
              "      <td>12</td>\n",
              "      <td>323</td>\n",
              "      <td>2.399149</td>\n",
              "    </tr>\n",
              "    <tr>\n",
              "      <th>2</th>\n",
              "      <td>Dynamic</td>\n",
              "      <td>Absent</td>\n",
              "      <td>16</td>\n",
              "      <td>324</td>\n",
              "      <td>2.507215</td>\n",
              "    </tr>\n",
              "    <tr>\n",
              "      <th>3</th>\n",
              "      <td>Dynamic</td>\n",
              "      <td>Present</td>\n",
              "      <td>8</td>\n",
              "      <td>368</td>\n",
              "      <td>1.173426</td>\n",
              "    </tr>\n",
              "    <tr>\n",
              "      <th>4</th>\n",
              "      <td>Dynamic</td>\n",
              "      <td>Present</td>\n",
              "      <td>12</td>\n",
              "      <td>360</td>\n",
              "      <td>1.307784</td>\n",
              "    </tr>\n",
              "  </tbody>\n",
              "</table>\n",
              "</div>"
            ],
            "text/plain": [
              "       dyn   target  setsize  count        rt\n",
              "0  Dynamic   Absent        8    345  2.193893\n",
              "1  Dynamic   Absent       12    323  2.399149\n",
              "2  Dynamic   Absent       16    324  2.507215\n",
              "3  Dynamic  Present        8    368  1.173426\n",
              "4  Dynamic  Present       12    360  1.307784"
            ]
          },
          "metadata": {
            "tags": []
          },
          "execution_count": 8
        }
      ]
    },
    {
      "cell_type": "markdown",
      "metadata": {
        "id": "RxFiDz1KteJt",
        "colab_type": "text"
      },
      "source": [
        "### 2. Visualization with Seaborn and Altair\n",
        "\n",
        "`matplotlib` is close to matlab plot functions. `seaborn` tries to make a well-define set of plot functions. \n",
        "\n",
        "* Visualizing statistsical relationship\n",
        "\n",
        "`relplot(..., kind = \"\")` is a general function. `scatterplot()` and `lineplot()` are its special functions. "
      ]
    },
    {
      "cell_type": "code",
      "metadata": {
        "id": "63irrgcSVDdP",
        "colab_type": "code",
        "colab": {
          "base_uri": "https://localhost:8080/",
          "height": 386
        },
        "outputId": "41e46013-0313-4a12-b660-673ee142efa8"
      },
      "source": [
        "sns.relplot(x = 'setsize', y = 'rt', hue = 'target', style = 'dyn', kind = 'line', data = mrt)"
      ],
      "execution_count": 12,
      "outputs": [
        {
          "output_type": "execute_result",
          "data": {
            "text/plain": [
              "<seaborn.axisgrid.FacetGrid at 0x7fb4be7bdda0>"
            ]
          },
          "metadata": {
            "tags": []
          },
          "execution_count": 12
        },
        {
          "output_type": "display_data",
          "data": {
            "image/png": "[encoded data removed]",
            "text/plain": [
              "<Figure size 440.125x360 with 1 Axes>"
            ]
          },
          "metadata": {
            "tags": []
          }
        }
      ]
    },
    {
      "cell_type": "code",
      "metadata": {
        "id": "g-5Ro7LTVxt0",
        "colab_type": "code",
        "colab": {
          "base_uri": "https://localhost:8080/",
          "height": 369
        },
        "outputId": "e3a7123a-1d30-4eaf-e38d-06da6c8b3d03"
      },
      "source": [
        "# an example of random walk graph\n",
        "df = pd.DataFrame(dict(time=np.arange(500),\n",
        "                       value=np.random.randn(500).cumsum()))\n",
        "g = sns.relplot(x=\"time\", y=\"value\", kind=\"line\", data=df)"
      ],
      "execution_count": 14,
      "outputs": [
        {
          "output_type": "display_data",
          "data": {
            "image/png": "[encoded data removed]",
            "text/plain": [
              "<Figure size 360x360 with 1 Axes>"
            ]
          },
          "metadata": {
            "tags": []
          }
        }
      ]
    },
    {
      "cell_type": "code",
      "metadata": {
        "id": "7P9K_ECgWItg",
        "colab_type": "code",
        "colab": {}
      },
      "source": [
        "# try the above code, but replace the dataset with the original raw data, see what happens\n",
        "# sns.lineplot(x = 'setsize', y = 'rt', hue = 'target', style = 'dyn',  data = ____)"
      ],
      "execution_count": 0,
      "outputs": []
    },
    {
      "cell_type": "markdown",
      "metadata": {
        "id": "unKl0kN1W6zF",
        "colab_type": "text"
      },
      "source": [
        "You can use `col` and `row` in  `relplot()` to control multiple facet plots. "
      ]
    },
    {
      "cell_type": "code",
      "metadata": {
        "id": "a3Qpy9GPWwsv",
        "colab_type": "code",
        "colab": {}
      },
      "source": [
        "# please facet 'dyn' as column wise here\n",
        "# your code here\n"
      ],
      "execution_count": 0,
      "outputs": []
    },
    {
      "cell_type": "markdown",
      "metadata": {
        "id": "wj6rC6YOXJDg",
        "colab_type": "text"
      },
      "source": [
        "Similar to `relplot()`, you can use `catplot()` to visualize categorical data. Please check my previous tutorial for details. \n",
        "\n",
        "In addition, `lmplot()` can be used for visualization of linear / logistic regression. "
      ]
    },
    {
      "cell_type": "code",
      "metadata": {
        "id": "n4hEyhLxWrdd",
        "colab_type": "code",
        "colab": {
          "base_uri": "https://localhost:8080/",
          "height": 386
        },
        "outputId": "62188a6f-6144-49bc-e292-454b42c37885"
      },
      "source": [
        "sns.lmplot(x = 'setsize', y = 'rt', hue = 'target', col = 'dyn',  data = dat)"
      ],
      "execution_count": 24,
      "outputs": [
        {
          "output_type": "execute_result",
          "data": {
            "text/plain": [
              "<seaborn.axisgrid.FacetGrid at 0x7fb4be428a20>"
            ]
          },
          "metadata": {
            "tags": []
          },
          "execution_count": 24
        },
        {
          "output_type": "display_data",
          "data": {
            "image/png": "[encoded data removed]",
            "text/plain": [
              "<Figure size 793.875x360 with 2 Axes>"
            ]
          },
          "metadata": {
            "tags": []
          }
        }
      ]
    },
    {
      "cell_type": "markdown",
      "metadata": {
        "id": "EZBOQMCjYpyA",
        "colab_type": "text"
      },
      "source": [
        "### Altair\n",
        "\n",
        "Altair is a declarative statistical visualization library, based on Vega and Vega-Lite. \n",
        "\n",
        "1. The fundamental object in Altair is the Chart. Use `Chart()` to initiate it. (Or other charts: LayerChart, and VConcatChart, HConcatChart, RepeatChart, FacetChart)\n",
        "2. Prepare encodings and marks\n",
        "\n",
        "__Encoding:__\n",
        "\n",
        "* Position channels: x, y, x2, y2 (for errors)\n",
        "* mark channels: color, fill, opacity, shape, size, stroke\n",
        "* facet: column, row\n",
        "\n",
        "__Marks:__\n",
        "\n",
        "* mark_area()\n",
        "* mark_bar()\n",
        "* mark_line()\n",
        "* mark_point()\n",
        "* mark_text()\n",
        "\n",
        "__Encoding data type:__\n",
        "\n",
        "By default Altair will look the data type and use them correspondently. Alternative, you can specify them explicitly. There are __four__ main types:\n",
        "\n",
        "Data Type  |    Shorthand Code | Description\n",
        "--- | ---- | ----\n",
        "quantitative |  ``Q``   |        a continuous real-valued quantity\n",
        "ordinal      | ``O``    |       a discrete ordered quantity\n",
        "nominal     |  ``N``  |         a discrete unordered category\n",
        "temporal    |  ``T``  |         a time or date value\n",
        "\n",
        "The types can either be expressed in a long-form using the channel encoding classes such as X and Y, or in short-form using the Shorthand Syntax.\n",
        "\n",
        "THe shorthand form (e.g., `x = \"name:Q\"`) is useful when doing quick data explorations. The long-form, `alt.X('name', type = 'quantitative')` is useful when doing more fine-tuned adjustments to the encoding, such as binning, axis and scale properties, or more.  "
      ]
    },
    {
      "cell_type": "code",
      "metadata": {
        "id": "NdbHFN4eaLNj",
        "colab_type": "code",
        "colab": {
          "base_uri": "https://localhost:8080/",
          "height": 416
        },
        "outputId": "33831eff-4937-4cb0-9c91-8a8c4529dd32"
      },
      "source": [
        "# for example, plot the mean RT above from data mrt\n",
        "alt.Chart(mrt).mark_line().encode(\n",
        "    x = 'setsize',\n",
        "    y = 'rt',\n",
        "    color = 'target',\n",
        "    column = 'dyn'\n",
        ")"
      ],
      "execution_count": 35,
      "outputs": [
        {
          "output_type": "execute_result",
          "data": {
            "text/plain": [
              "alt.Chart(...)"
            ],
            "text/html": [
              "<!DOCTYPE html>\n",
              "<html>\n",
              "<head>\n",
              "  <style>\n",
              "    .vega-actions a {\n",
              "        margin-right: 12px;\n",
              "        color: #757575;\n",
              "        font-weight: normal;\n",
              "        font-size: 13px;\n",
              "    }\n",
              "    .error {\n",
              "        color: red;\n",
              "    }\n",
              "  </style>\n",
              "  <script type=\"text/javascript\" src=\"https://cdn.jsdelivr.net/npm//vega@5\"></script>\n",
              "  <script type=\"text/javascript\" src=\"https://cdn.jsdelivr.net/npm//vega-lite@3.4.0\"></script>\n",
              "  <script type=\"text/javascript\" src=\"https://cdn.jsdelivr.net/npm//vega-embed@4\"></script>\n",
              "</head>\n",
              "<body>\n",
              "  <div id=\"altair-viz\"></div>\n",
              "  <script>\n",
              "    (function(vegaEmbed) {\n",
              "      var spec = {\"config\": {\"view\": {\"width\": 400, \"height\": 300}, \"mark\": {\"tooltip\": null}}, \"data\": {\"name\": \"data-11579016976dcb835554001f7eddea68\"}, \"mark\": \"line\", \"encoding\": {\"color\": {\"type\": \"nominal\", \"field\": \"target\"}, \"column\": {\"type\": \"nominal\", \"field\": \"dyn\"}, \"x\": {\"type\": \"quantitative\", \"field\": \"setsize\"}, \"y\": {\"type\": \"quantitative\", \"field\": \"rt\"}}, \"$schema\": \"https://vega.github.io/schema/vega-lite/v3.4.0.json\", \"datasets\": {\"data-11579016976dcb835554001f7eddea68\": [{\"dyn\": \"Dynamic\", \"target\": \"Absent\", \"setsize\": 8, \"count\": 345, \"rt\": 2.193893416938565}, {\"dyn\": \"Dynamic\", \"target\": \"Absent\", \"setsize\": 12, \"count\": 323, \"rt\": 2.3991494308637407}, {\"dyn\": \"Dynamic\", \"target\": \"Absent\", \"setsize\": 16, \"count\": 324, \"rt\": 2.507215266102516}, {\"dyn\": \"Dynamic\", \"target\": \"Present\", \"setsize\": 8, \"count\": 368, \"rt\": 1.1734260072210358}, {\"dyn\": \"Dynamic\", \"target\": \"Present\", \"setsize\": 12, \"count\": 360, \"rt\": 1.3077836214096972}, {\"dyn\": \"Dynamic\", \"target\": \"Present\", \"setsize\": 16, \"count\": 341, \"rt\": 1.4102152818591107}, {\"dyn\": \"Static\", \"target\": \"Absent\", \"setsize\": 8, \"count\": 383, \"rt\": 1.17738272652324}, {\"dyn\": \"Static\", \"target\": \"Absent\", \"setsize\": 12, \"count\": 382, \"rt\": 1.5555709868895415}, {\"dyn\": \"Static\", \"target\": \"Absent\", \"setsize\": 16, \"count\": 377, \"rt\": 1.7948178212891595}, {\"dyn\": \"Static\", \"target\": \"Present\", \"setsize\": 8, \"count\": 375, \"rt\": 0.7731609882474189}, {\"dyn\": \"Static\", \"target\": \"Present\", \"setsize\": 12, \"count\": 371, \"rt\": 0.8967602404700641}, {\"dyn\": \"Static\", \"target\": \"Present\", \"setsize\": 16, \"count\": 368, \"rt\": 0.9446888031545285}]}};\n",
              "      var embedOpt = {\"mode\": \"vega-lite\"};\n",
              "\n",
              "      function showError(el, error){\n",
              "          el.innerHTML = ('<div class=\"error\" style=\"color:red;\">'\n",
              "                          + '<p>JavaScript Error: ' + error.message + '</p>'\n",
              "                          + \"<p>This usually means there's a typo in your chart specification. \"\n",
              "                          + \"See the javascript console for the full traceback.</p>\"\n",
              "                          + '</div>');\n",
              "          throw error;\n",
              "      }\n",
              "      const el = document.getElementById('altair-viz');\n",
              "      vegaEmbed(\"#altair-viz\", spec, embedOpt)\n",
              "        .catch(error => showError(el, error));\n",
              "    })(vegaEmbed);\n",
              "\n",
              "  </script>\n",
              "</body>\n",
              "</html>"
            ]
          },
          "metadata": {
            "tags": []
          },
          "execution_count": 35
        }
      ]
    },
    {
      "cell_type": "code",
      "metadata": {
        "id": "GG36BG2pat5D",
        "colab_type": "code",
        "colab": {}
      },
      "source": [
        "# add .interactive() to make charts interactive\n"
      ],
      "execution_count": 0,
      "outputs": []
    },
    {
      "cell_type": "markdown",
      "metadata": {
        "id": "7zPpkgqwdLbq",
        "colab_type": "text"
      },
      "source": [
        "## Case study\n",
        "\n",
        "Here we analyze the data from the study Lingyue did. \n",
        "\n",
        "The raw data can be found [here](https://raw.githubusercontent.com/msenselab/time_distortion/master/data/v2.csv).\n",
        "\n",
        "### 1. First let's load the data and inspect it. "
      ]
    },
    {
      "cell_type": "code",
      "metadata": {
        "id": "cObpgUWJdK0V",
        "colab_type": "code",
        "colab": {
          "base_uri": "https://localhost:8080/",
          "height": 204
        },
        "outputId": "92038795-d8d2-4112-ee5c-74cdce9b6c3f"
      },
      "source": [
        "url = 'https://raw.githubusercontent.com/msenselab/time_distortion/master/data/v2.csv'\n",
        "v2 = pd.read_csv(url)\n",
        "v2.head()"
      ],
      "execution_count": 38,
      "outputs": [
        {
          "output_type": "execute_result",
          "data": {
            "text/html": [
              "<div>\n",
              "<style scoped>\n",
              "    .dataframe tbody tr th:only-of-type {\n",
              "        vertical-align: middle;\n",
              "    }\n",
              "\n",
              "    .dataframe tbody tr th {\n",
              "        vertical-align: top;\n",
              "    }\n",
              "\n",
              "    .dataframe thead th {\n",
              "        text-align: right;\n",
              "    }\n",
              "</style>\n",
              "<table border=\"1\" class=\"dataframe\">\n",
              "  <thead>\n",
              "    <tr style=\"text-align: right;\">\n",
              "      <th></th>\n",
              "      <th>Block</th>\n",
              "      <th>Trial</th>\n",
              "      <th>V3</th>\n",
              "      <th>CueDirection</th>\n",
              "      <th>Condition</th>\n",
              "      <th>Level</th>\n",
              "      <th>V7</th>\n",
              "      <th>V8</th>\n",
              "      <th>V9</th>\n",
              "      <th>V10</th>\n",
              "      <th>V11</th>\n",
              "      <th>V12</th>\n",
              "      <th>V13</th>\n",
              "      <th>long</th>\n",
              "      <th>V15</th>\n",
              "      <th>V16</th>\n",
              "      <th>V17</th>\n",
              "      <th>V18</th>\n",
              "      <th>V19</th>\n",
              "      <th>V20</th>\n",
              "      <th>V21</th>\n",
              "      <th>SubID</th>\n",
              "      <th>BlockID</th>\n",
              "    </tr>\n",
              "  </thead>\n",
              "  <tbody>\n",
              "    <tr>\n",
              "      <th>0</th>\n",
              "      <td>1</td>\n",
              "      <td>1</td>\n",
              "      <td>1</td>\n",
              "      <td>left</td>\n",
              "      <td>1</td>\n",
              "      <td>600</td>\n",
              "      <td>0</td>\n",
              "      <td>0</td>\n",
              "      <td>0</td>\n",
              "      <td>22</td>\n",
              "      <td>0</td>\n",
              "      <td>0</td>\n",
              "      <td>0</td>\n",
              "      <td>1</td>\n",
              "      <td>1</td>\n",
              "      <td>1</td>\n",
              "      <td>1</td>\n",
              "      <td>1</td>\n",
              "      <td>0</td>\n",
              "      <td>1</td>\n",
              "      <td>0</td>\n",
              "      <td>1</td>\n",
              "      <td>1</td>\n",
              "    </tr>\n",
              "    <tr>\n",
              "      <th>1</th>\n",
              "      <td>1</td>\n",
              "      <td>2</td>\n",
              "      <td>1</td>\n",
              "      <td>left</td>\n",
              "      <td>1</td>\n",
              "      <td>300</td>\n",
              "      <td>0</td>\n",
              "      <td>0</td>\n",
              "      <td>0</td>\n",
              "      <td>19</td>\n",
              "      <td>0</td>\n",
              "      <td>0</td>\n",
              "      <td>0</td>\n",
              "      <td>0</td>\n",
              "      <td>2</td>\n",
              "      <td>1</td>\n",
              "      <td>1</td>\n",
              "      <td>1</td>\n",
              "      <td>0</td>\n",
              "      <td>1</td>\n",
              "      <td>0</td>\n",
              "      <td>1</td>\n",
              "      <td>1</td>\n",
              "    </tr>\n",
              "    <tr>\n",
              "      <th>2</th>\n",
              "      <td>1</td>\n",
              "      <td>3</td>\n",
              "      <td>1</td>\n",
              "      <td>left</td>\n",
              "      <td>1</td>\n",
              "      <td>1050</td>\n",
              "      <td>0</td>\n",
              "      <td>0</td>\n",
              "      <td>0</td>\n",
              "      <td>22</td>\n",
              "      <td>0</td>\n",
              "      <td>0</td>\n",
              "      <td>0</td>\n",
              "      <td>0</td>\n",
              "      <td>2</td>\n",
              "      <td>1</td>\n",
              "      <td>1</td>\n",
              "      <td>1</td>\n",
              "      <td>0</td>\n",
              "      <td>1</td>\n",
              "      <td>0</td>\n",
              "      <td>1</td>\n",
              "      <td>1</td>\n",
              "    </tr>\n",
              "    <tr>\n",
              "      <th>3</th>\n",
              "      <td>1</td>\n",
              "      <td>4</td>\n",
              "      <td>1</td>\n",
              "      <td>right</td>\n",
              "      <td>1</td>\n",
              "      <td>1050</td>\n",
              "      <td>0</td>\n",
              "      <td>0</td>\n",
              "      <td>0</td>\n",
              "      <td>36</td>\n",
              "      <td>0</td>\n",
              "      <td>0</td>\n",
              "      <td>0</td>\n",
              "      <td>1</td>\n",
              "      <td>1</td>\n",
              "      <td>1</td>\n",
              "      <td>1</td>\n",
              "      <td>1</td>\n",
              "      <td>0</td>\n",
              "      <td>1</td>\n",
              "      <td>0</td>\n",
              "      <td>1</td>\n",
              "      <td>1</td>\n",
              "    </tr>\n",
              "    <tr>\n",
              "      <th>4</th>\n",
              "      <td>1</td>\n",
              "      <td>5</td>\n",
              "      <td>1</td>\n",
              "      <td>left</td>\n",
              "      <td>1</td>\n",
              "      <td>1050</td>\n",
              "      <td>0</td>\n",
              "      <td>0</td>\n",
              "      <td>0</td>\n",
              "      <td>3</td>\n",
              "      <td>0</td>\n",
              "      <td>0</td>\n",
              "      <td>0</td>\n",
              "      <td>0</td>\n",
              "      <td>2</td>\n",
              "      <td>1</td>\n",
              "      <td>1</td>\n",
              "      <td>1</td>\n",
              "      <td>0</td>\n",
              "      <td>1</td>\n",
              "      <td>0</td>\n",
              "      <td>1</td>\n",
              "      <td>1</td>\n",
              "    </tr>\n",
              "  </tbody>\n",
              "</table>\n",
              "</div>"
            ],
            "text/plain": [
              "   Block  Trial  V3 CueDirection  Condition  ...  V19  V20  V21  SubID  BlockID\n",
              "0      1      1   1         left          1  ...    0    1    0      1        1\n",
              "1      1      2   1         left          1  ...    0    1    0      1        1\n",
              "2      1      3   1         left          1  ...    0    1    0      1        1\n",
              "3      1      4   1        right          1  ...    0    1    0      1        1\n",
              "4      1      5   1         left          1  ...    0    1    0      1        1\n",
              "\n",
              "[5 rows x 23 columns]"
            ]
          },
          "metadata": {
            "tags": []
          },
          "execution_count": 38
        }
      ]
    },
    {
      "cell_type": "markdown",
      "metadata": {
        "id": "P1QWsnF6e077",
        "colab_type": "text"
      },
      "source": [
        "Note the columns we are interested in:\n",
        "\n",
        "1. Condition: 1, 2, 3, 4 for 4 different conditions (Interval 1, Interval 2, Baseline 1, Baseline 2). \n",
        "2. SubID: Individual subject\n",
        "3. Level: comparison duration\n",
        "4. long: response (perceived long response)\n",
        "\n",
        "\n",
        "let's first check the validity of the data. "
      ]
    },
    {
      "cell_type": "code",
      "metadata": {
        "id": "siz5h69kgWEg",
        "colab_type": "code",
        "colab": {
          "base_uri": "https://localhost:8080/",
          "height": 233
        },
        "outputId": "11e1d455-a519-49b9-c83e-19d5437ccb5b"
      },
      "source": [
        "v2[['Condition','Level','long']].drop_duplicates()"
      ],
      "execution_count": 41,
      "outputs": [
        {
          "output_type": "execute_result",
          "data": {
            "text/html": [
              "<div>\n",
              "<style scoped>\n",
              "    .dataframe tbody tr th:only-of-type {\n",
              "        vertical-align: middle;\n",
              "    }\n",
              "\n",
              "    .dataframe tbody tr th {\n",
              "        vertical-align: top;\n",
              "    }\n",
              "\n",
              "    .dataframe thead th {\n",
              "        text-align: right;\n",
              "    }\n",
              "</style>\n",
              "<table border=\"1\" class=\"dataframe\">\n",
              "  <thead>\n",
              "    <tr style=\"text-align: right;\">\n",
              "      <th></th>\n",
              "      <th>Condition</th>\n",
              "      <th>Level</th>\n",
              "      <th>long</th>\n",
              "    </tr>\n",
              "  </thead>\n",
              "  <tbody>\n",
              "    <tr>\n",
              "      <th>0</th>\n",
              "      <td>1</td>\n",
              "      <td>600</td>\n",
              "      <td>1</td>\n",
              "    </tr>\n",
              "    <tr>\n",
              "      <th>1</th>\n",
              "      <td>1</td>\n",
              "      <td>300</td>\n",
              "      <td>0</td>\n",
              "    </tr>\n",
              "    <tr>\n",
              "      <th>...</th>\n",
              "      <td>...</td>\n",
              "      <td>...</td>\n",
              "      <td>...</td>\n",
              "    </tr>\n",
              "    <tr>\n",
              "      <th>1569</th>\n",
              "      <td>4</td>\n",
              "      <td>300</td>\n",
              "      <td>1</td>\n",
              "    </tr>\n",
              "    <tr>\n",
              "      <th>1617</th>\n",
              "      <td>4</td>\n",
              "      <td>150</td>\n",
              "      <td>1</td>\n",
              "    </tr>\n",
              "  </tbody>\n",
              "</table>\n",
              "<p>70 rows × 3 columns</p>\n",
              "</div>"
            ],
            "text/plain": [
              "      Condition  Level  long\n",
              "0             1    600     1\n",
              "1             1    300     0\n",
              "...         ...    ...   ...\n",
              "1569          4    300     1\n",
              "1617          4    150     1\n",
              "\n",
              "[70 rows x 3 columns]"
            ]
          },
          "metadata": {
            "tags": []
          },
          "execution_count": 41
        }
      ]
    },
    {
      "cell_type": "markdown",
      "metadata": {
        "id": "7KxP5E3zgpwO",
        "colab_type": "text"
      },
      "source": [
        "It has 70 combinations, strange! So check each unique levels."
      ]
    },
    {
      "cell_type": "code",
      "metadata": {
        "id": "MYOKB3X9gxSA",
        "colab_type": "code",
        "colab": {
          "base_uri": "https://localhost:8080/",
          "height": 68
        },
        "outputId": "967da713-d3b3-4de8-cf72-e17ab5a8447b"
      },
      "source": [
        "print(v2.Condition.unique())\n",
        "print(v2.Level.unique())\n",
        "print(v2.long.unique())\n"
      ],
      "execution_count": 43,
      "outputs": [
        {
          "output_type": "stream",
          "text": [
            "[1 2 3 4]\n",
            "[ 600  300 1050  900  750  150  450]\n",
            "[1 0 4]\n"
          ],
          "name": "stdout"
        }
      ]
    },
    {
      "cell_type": "markdown",
      "metadata": {
        "id": "Cnv5eD8fhCgP",
        "colab_type": "text"
      },
      "source": [
        "It has '4' responses, which must be removed before further analysis. \n",
        "\n",
        "Pandas provide a very quick visualization function `.pivot_table()`.\n",
        "\n",
        "### 2. Visualization"
      ]
    },
    {
      "cell_type": "code",
      "metadata": {
        "id": "7_Zz7miLfdRo",
        "colab_type": "code",
        "colab": {
          "base_uri": "https://localhost:8080/",
          "height": 296
        },
        "outputId": "007619f0-cd37-46c5-9bec-cd77f21330e3"
      },
      "source": [
        "v2.query('long < 2').pivot_table('long','Level','Condition').plot()"
      ],
      "execution_count": 44,
      "outputs": [
        {
          "output_type": "execute_result",
          "data": {
            "text/plain": [
              "<matplotlib.axes._subplots.AxesSubplot at 0x7fb4bde4a908>"
            ]
          },
          "metadata": {
            "tags": []
          },
          "execution_count": 44
        },
        {
          "output_type": "display_data",
          "data": {
            "image/png": "[encoded data removed]",
            "text/plain": [
              "<Figure size 432x288 with 1 Axes>"
            ]
          },
          "metadata": {
            "tags": []
          }
        }
      ]
    },
    {
      "cell_type": "markdown",
      "metadata": {
        "id": "Nzm06GJdhbK-",
        "colab_type": "text"
      },
      "source": [
        "We then use Altair to visualize. "
      ]
    },
    {
      "cell_type": "code",
      "metadata": {
        "id": "OpHbN7vnhglu",
        "colab_type": "code",
        "colab": {
          "base_uri": "https://localhost:8080/",
          "height": 318
        },
        "outputId": "9108b863-dd1e-4f16-a4db-de1cf5272a3d"
      },
      "source": [
        "# first we get mean data\n",
        "mdat = v2.query('long<2').groupby(['Condition','Level']).agg(\n",
        "    {\"long\":\"mean\"}).reset_index()\n",
        "alt.Chart(mdat).mark_line().encode(\n",
        "    x = 'Level',\n",
        "    y = 'long',\n",
        "    color = 'Condition:N'\n",
        ").properties(\n",
        "    width = 250,\n",
        "    height = 250\n",
        ").interactive()"
      ],
      "execution_count": 51,
      "outputs": [
        {
          "output_type": "execute_result",
          "data": {
            "text/plain": [
              "alt.Chart(...)"
            ],
            "text/html": [
              "<!DOCTYPE html>\n",
              "<html>\n",
              "<head>\n",
              "  <style>\n",
              "    .vega-actions a {\n",
              "        margin-right: 12px;\n",
              "        color: #757575;\n",
              "        font-weight: normal;\n",
              "        font-size: 13px;\n",
              "    }\n",
              "    .error {\n",
              "        color: red;\n",
              "    }\n",
              "  </style>\n",
              "  <script type=\"text/javascript\" src=\"https://cdn.jsdelivr.net/npm//vega@5\"></script>\n",
              "  <script type=\"text/javascript\" src=\"https://cdn.jsdelivr.net/npm//vega-lite@3.4.0\"></script>\n",
              "  <script type=\"text/javascript\" src=\"https://cdn.jsdelivr.net/npm//vega-embed@4\"></script>\n",
              "</head>\n",
              "<body>\n",
              "  <div id=\"altair-viz\"></div>\n",
              "  <script>\n",
              "    (function(vegaEmbed) {\n",
              "      var spec = {\"config\": {\"view\": {\"width\": 400, \"height\": 300}, \"mark\": {\"tooltip\": null}}, \"data\": {\"name\": \"data-a61b655c6eaec513d69c9e05b89f8d76\"}, \"mark\": \"line\", \"encoding\": {\"color\": {\"type\": \"nominal\", \"field\": \"Condition\"}, \"x\": {\"type\": \"quantitative\", \"field\": \"Level\"}, \"y\": {\"type\": \"quantitative\", \"field\": \"long\"}}, \"height\": 250, \"selection\": {\"selector006\": {\"type\": \"interval\", \"bind\": \"scales\", \"encodings\": [\"x\", \"y\"]}}, \"width\": 250, \"$schema\": \"https://vega.github.io/schema/vega-lite/v3.4.0.json\", \"datasets\": {\"data-a61b655c6eaec513d69c9e05b89f8d76\": [{\"Condition\": 1, \"Level\": 150, \"long\": 0.2222222222222222}, {\"Condition\": 1, \"Level\": 300, \"long\": 0.2099236641221374}, {\"Condition\": 1, \"Level\": 450, \"long\": 0.311284046692607}, {\"Condition\": 1, \"Level\": 600, \"long\": 0.49416342412451364}, {\"Condition\": 1, \"Level\": 750, \"long\": 0.631578947368421}, {\"Condition\": 1, \"Level\": 900, \"long\": 0.667953667953668}, {\"Condition\": 1, \"Level\": 1050, \"long\": 0.7244094488188977}, {\"Condition\": 2, \"Level\": 150, \"long\": 0.21755725190839695}, {\"Condition\": 2, \"Level\": 300, \"long\": 0.2545454545454545}, {\"Condition\": 2, \"Level\": 450, \"long\": 0.3435374149659864}, {\"Condition\": 2, \"Level\": 600, \"long\": 0.4128113879003559}, {\"Condition\": 2, \"Level\": 750, \"long\": 0.5641025641025641}, {\"Condition\": 2, \"Level\": 900, \"long\": 0.6541095890410958}, {\"Condition\": 2, \"Level\": 1050, \"long\": 0.7034482758620689}, {\"Condition\": 3, \"Level\": 150, \"long\": 0.10909090909090909}, {\"Condition\": 3, \"Level\": 300, \"long\": 0.1318181818181818}, {\"Condition\": 3, \"Level\": 450, \"long\": 0.2}, {\"Condition\": 3, \"Level\": 600, \"long\": 0.3090909090909091}, {\"Condition\": 3, \"Level\": 750, \"long\": 0.4681818181818182}, {\"Condition\": 3, \"Level\": 900, \"long\": 0.7318181818181818}, {\"Condition\": 3, \"Level\": 1050, \"long\": 0.6863636363636364}, {\"Condition\": 4, \"Level\": 150, \"long\": 0.1318181818181818}, {\"Condition\": 4, \"Level\": 300, \"long\": 0.16363636363636364}, {\"Condition\": 4, \"Level\": 450, \"long\": 0.2909090909090909}, {\"Condition\": 4, \"Level\": 600, \"long\": 0.4681818181818182}, {\"Condition\": 4, \"Level\": 750, \"long\": 0.6136363636363636}, {\"Condition\": 4, \"Level\": 900, \"long\": 0.7545454545454545}, {\"Condition\": 4, \"Level\": 1050, \"long\": 0.75}]}};\n",
              "      var embedOpt = {\"mode\": \"vega-lite\"};\n",
              "\n",
              "      function showError(el, error){\n",
              "          el.innerHTML = ('<div class=\"error\" style=\"color:red;\">'\n",
              "                          + '<p>JavaScript Error: ' + error.message + '</p>'\n",
              "                          + \"<p>This usually means there's a typo in your chart specification. \"\n",
              "                          + \"See the javascript console for the full traceback.</p>\"\n",
              "                          + '</div>');\n",
              "          throw error;\n",
              "      }\n",
              "      const el = document.getElementById('altair-viz');\n",
              "      vegaEmbed(\"#altair-viz\", spec, embedOpt)\n",
              "        .catch(error => showError(el, error));\n",
              "    })(vegaEmbed);\n",
              "\n",
              "  </script>\n",
              "</body>\n",
              "</html>"
            ]
          },
          "metadata": {
            "tags": []
          },
          "execution_count": 51
        }
      ]
    },
    {
      "cell_type": "code",
      "metadata": {
        "id": "cpBN_o7vjDx3",
        "colab_type": "code",
        "colab": {}
      },
      "source": [
        "# Your task: Please modify the above codes to plot individual dataset (SubID)\n",
        "\n",
        "# ...\n"
      ],
      "execution_count": 0,
      "outputs": []
    },
    {
      "cell_type": "markdown",
      "metadata": {
        "id": "RMGWGeIvjpiF",
        "colab_type": "text"
      },
      "source": [
        "### 3. Estimation of Psychometric function\n",
        "\n",
        "Wichmann's lab has developed `psignifit` for fitting psychometric functions. The basic usage can be found [here](https://github.com/wichmann-lab/python-psignifit/wiki/Basic-Usage). "
      ]
    },
    {
      "cell_type": "code",
      "metadata": {
        "id": "4tL_wVlRkIB0",
        "colab_type": "code",
        "colab": {
          "base_uri": "https://localhost:8080/",
          "height": 442
        },
        "outputId": "5b7b3929-cee1-40d9-9bab-2b36c21eee3d"
      },
      "source": [
        "# first you need to install the package\n",
        "!pip install https://github.com/wichmann-lab/python-psignifit/zipball/master\n"
      ],
      "execution_count": 53,
      "outputs": [
        {
          "output_type": "stream",
          "text": [
            "Collecting https://github.com/wichmann-lab/python-psignifit/zipball/master\n",
            "\u001b[?25l  Downloading https://github.com/wichmann-lab/python-psignifit/zipball/master\n",
            "\u001b[K     - 542kB 8.3MB/s\n",
            "\u001b[?25hRequirement already satisfied: scipy in /usr/local/lib/python3.6/dist-packages (from psignifit==0.1) (1.3.2)\n",
            "Requirement already satisfied: matplotlib in /usr/local/lib/python3.6/dist-packages (from psignifit==0.1) (3.1.1)\n",
            "Requirement already satisfied: pytest in /usr/local/lib/python3.6/dist-packages (from psignifit==0.1) (3.6.4)\n",
            "Requirement already satisfied: numpy>=1.13.3 in /usr/local/lib/python3.6/dist-packages (from scipy->psignifit==0.1) (1.17.4)\n",
            "Requirement already satisfied: kiwisolver>=1.0.1 in /usr/local/lib/python3.6/dist-packages (from matplotlib->psignifit==0.1) (1.1.0)\n",
            "Requirement already satisfied: cycler>=0.10 in /usr/local/lib/python3.6/dist-packages (from matplotlib->psignifit==0.1) (0.10.0)\n",
            "Requirement already satisfied: python-dateutil>=2.1 in /usr/local/lib/python3.6/dist-packages (from matplotlib->psignifit==0.1) (2.6.1)\n",
            "Requirement already satisfied: pyparsing!=2.0.4,!=2.1.2,!=2.1.6,>=2.0.1 in /usr/local/lib/python3.6/dist-packages (from matplotlib->psignifit==0.1) (2.4.5)\n",
            "Requirement already satisfied: pluggy<0.8,>=0.5 in /usr/local/lib/python3.6/dist-packages (from pytest->psignifit==0.1) (0.7.1)\n",
            "Requirement already satisfied: py>=1.5.0 in /usr/local/lib/python3.6/dist-packages (from pytest->psignifit==0.1) (1.8.0)\n",
            "Requirement already satisfied: attrs>=17.4.0 in /usr/local/lib/python3.6/dist-packages (from pytest->psignifit==0.1) (19.3.0)\n",
            "Requirement already satisfied: more-itertools>=4.0.0 in /usr/local/lib/python3.6/dist-packages (from pytest->psignifit==0.1) (7.2.0)\n",
            "Requirement already satisfied: atomicwrites>=1.0 in /usr/local/lib/python3.6/dist-packages (from pytest->psignifit==0.1) (1.3.0)\n",
            "Requirement already satisfied: six>=1.10.0 in /usr/local/lib/python3.6/dist-packages (from pytest->psignifit==0.1) (1.12.0)\n",
            "Requirement already satisfied: setuptools in /usr/local/lib/python3.6/dist-packages (from pytest->psignifit==0.1) (41.4.0)\n",
            "Building wheels for collected packages: psignifit\n",
            "  Building wheel for psignifit (setup.py) ... \u001b[?25l\u001b[?25hdone\n",
            "  Created wheel for psignifit: filename=psignifit-0.1-cp36-none-any.whl size=51560 sha256=5c7591a55253fac88bf4f4dd7b03803cb0545a9285425840749b92af1c9eb945\n",
            "  Stored in directory: /tmp/pip-ephem-wheel-cache-5d0p6zqd/wheels/d3/e7/8b/ab7d92f0a08f1e8722ce45cd92eb09f2564ba4cff67aa78744\n",
            "Successfully built psignifit\n",
            "Installing collected packages: psignifit\n",
            "Successfully installed psignifit-0.1\n"
          ],
          "name": "stdout"
        }
      ]
    },
    {
      "cell_type": "markdown",
      "metadata": {
        "id": "xgbMCuvNmcjV",
        "colab_type": "text"
      },
      "source": [
        "Psignifit requires the data format in nx3 matrix (Stimulus level / nCorrect / ntotal)"
      ]
    },
    {
      "cell_type": "code",
      "metadata": {
        "id": "VKWRlYypkqN0",
        "colab_type": "code",
        "colab": {
          "base_uri": "https://localhost:8080/",
          "height": 264
        },
        "outputId": "1819ba0c-e1ff-4749-95b7-f8ef467a6bdf"
      },
      "source": [
        "import psignifit as ps\n",
        "# recalculate in nx3 format\n",
        "mdat = v2.query('long<2')\\\n",
        "        .groupby(['Condition','Level'])\\\n",
        "        .agg({\"long\":\"mean\",\"V7\":\"count\"})\\\n",
        "        .assign(nCorrect = lambda df: df.long*df.V7)\\\n",
        "        .rename(columns = {\"V7\":\"Total\", \"long\":'Prob'})\n",
        "mdat.loc[1]\n",
        "\n",
        "# think about using pivot table\n",
        "#  v2.pivot_table('long','Level','Condition', aggfunc = 'mean')"
      ],
      "execution_count": 83,
      "outputs": [
        {
          "output_type": "execute_result",
          "data": {
            "text/html": [
              "<div>\n",
              "<style scoped>\n",
              "    .dataframe tbody tr th:only-of-type {\n",
              "        vertical-align: middle;\n",
              "    }\n",
              "\n",
              "    .dataframe tbody tr th {\n",
              "        vertical-align: top;\n",
              "    }\n",
              "\n",
              "    .dataframe thead th {\n",
              "        text-align: right;\n",
              "    }\n",
              "</style>\n",
              "<table border=\"1\" class=\"dataframe\">\n",
              "  <thead>\n",
              "    <tr style=\"text-align: right;\">\n",
              "      <th></th>\n",
              "      <th>Prob</th>\n",
              "      <th>Total</th>\n",
              "      <th>nCorrect</th>\n",
              "    </tr>\n",
              "    <tr>\n",
              "      <th>Level</th>\n",
              "      <th></th>\n",
              "      <th></th>\n",
              "      <th></th>\n",
              "    </tr>\n",
              "  </thead>\n",
              "  <tbody>\n",
              "    <tr>\n",
              "      <th>150</th>\n",
              "      <td>0.222222</td>\n",
              "      <td>261</td>\n",
              "      <td>58.0</td>\n",
              "    </tr>\n",
              "    <tr>\n",
              "      <th>300</th>\n",
              "      <td>0.209924</td>\n",
              "      <td>262</td>\n",
              "      <td>55.0</td>\n",
              "    </tr>\n",
              "    <tr>\n",
              "      <th>...</th>\n",
              "      <td>...</td>\n",
              "      <td>...</td>\n",
              "      <td>...</td>\n",
              "    </tr>\n",
              "    <tr>\n",
              "      <th>900</th>\n",
              "      <td>0.667954</td>\n",
              "      <td>259</td>\n",
              "      <td>173.0</td>\n",
              "    </tr>\n",
              "    <tr>\n",
              "      <th>1050</th>\n",
              "      <td>0.724409</td>\n",
              "      <td>254</td>\n",
              "      <td>184.0</td>\n",
              "    </tr>\n",
              "  </tbody>\n",
              "</table>\n",
              "<p>7 rows × 3 columns</p>\n",
              "</div>"
            ],
            "text/plain": [
              "           Prob  Total  nCorrect\n",
              "Level                           \n",
              "150    0.222222    261      58.0\n",
              "300    0.209924    262      55.0\n",
              "...         ...    ...       ...\n",
              "900    0.667954    259     173.0\n",
              "1050   0.724409    254     184.0\n",
              "\n",
              "[7 rows x 3 columns]"
            ]
          },
          "metadata": {
            "tags": []
          },
          "execution_count": 83
        }
      ]
    },
    {
      "cell_type": "code",
      "metadata": {
        "id": "FycwHPPYodwP",
        "colab_type": "code",
        "colab": {
          "base_uri": "https://localhost:8080/",
          "height": 68
        },
        "outputId": "facea065-e9e5-476a-d759-8a8670623ff1"
      },
      "source": [
        "# pd.as_matrix() can be used for conversion\n",
        "#e.g., mdat.loc[1].reset_index().to_numpy()\n",
        "\n",
        "data_c1 = mdat.loc[1].reset_index().as_matrix(['Level','nCorrect','Total'])\n",
        "\n",
        "options = dict();\n",
        "\n",
        "options['sigmoidName'] = 'norm';   # choose a cumulative Gauss as the sigmoid  \n",
        "options['expType']     = 'YesNo';\n",
        "result_c1 = ps.psignifit(data_c1, options)"
      ],
      "execution_count": 84,
      "outputs": [
        {
          "output_type": "stream",
          "text": [
            "/usr/local/lib/python3.6/dist-packages/ipykernel_launcher.py:2: FutureWarning: Method .as_matrix will be removed in a future version. Use .values instead.\n",
            "  \n"
          ],
          "name": "stderr"
        },
        {
          "output_type": "stream",
          "text": [
            "(array([], dtype=int64),)\n"
          ],
          "name": "stdout"
        }
      ]
    },
    {
      "cell_type": "code",
      "metadata": {
        "id": "r1P4PzyasCZB",
        "colab_type": "code",
        "colab": {
          "base_uri": "https://localhost:8080/",
          "height": 627
        },
        "outputId": "057e010a-9fd7-4823-f570-e5422daddec4"
      },
      "source": [
        "print(result_c1['Fit'])\n",
        "ps.psigniplot.plotPsych(result_c1)"
      ],
      "execution_count": 87,
      "outputs": [
        {
          "output_type": "stream",
          "text": [
            "findfont: Font family ['Helvetica'] not found. Falling back to DejaVu Sans.\n"
          ],
          "name": "stderr"
        },
        {
          "output_type": "stream",
          "text": [
            "[5.78926869e+02 5.58426761e+02 2.88055082e-01 1.99795359e-01\n",
            " 1.45305263e-14]\n"
          ],
          "name": "stdout"
        },
        {
          "output_type": "display_data",
          "data": {
            "image/png": "[encoded data removed]",
            "text/plain": [
              "<Figure size 432x288 with 1 Axes>"
            ]
          },
          "metadata": {
            "tags": []
          }
        },
        {
          "output_type": "execute_result",
          "data": {
            "text/plain": [
              "<matplotlib.axes._subplots.AxesSubplot at 0x7fb4bc113f60>"
            ]
          },
          "metadata": {
            "tags": []
          },
          "execution_count": 87
        },
        {
          "output_type": "display_data",
          "data": {
            "image/png": "[encoded data removed]",
            "text/plain": [
              "<Figure size 432x288 with 1 Axes>"
            ]
          },
          "metadata": {
            "tags": []
          }
        }
      ]
    }
  ]
}