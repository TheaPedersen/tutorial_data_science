{
  "nbformat": 4,
  "nbformat_minor": 0,
  "metadata": {
    "colab": {
      "name": "list_comprehension_lambda_map.ipynb",
      "version": "0.3.2",
      "provenance": [],
      "collapsed_sections": [],
      "toc_visible": true,
      "include_colab_link": true
    },
    "kernelspec": {
      "name": "python3",
      "display_name": "Python 3"
    }
  },
  "cells": [
    {
      "cell_type": "markdown",
      "metadata": {
        "id": "view-in-github",
        "colab_type": "text"
      },
      "source": [
        "<a href=\"https://colab.research.google.com/github/strongway/tutorial_data_science/blob/master/list_comprehension_lambda_map.ipynb\" target=\"_parent\"><img src=\"https://colab.research.google.com/assets/colab-badge.svg\" alt=\"Open In Colab\"/></a>"
      ]
    },
    {
      "metadata": {
        "id": "9_0rC7ciIUuM",
        "colab_type": "text"
      },
      "cell_type": "markdown",
      "source": [
        "# List comprehension, lambda function and map function\n",
        "\n",
        "## 1. List comprehension\n",
        "\n",
        "A list comprehension provides a concise way to create lists. \n",
        "\n",
        "### Basic syntax:\n",
        "\n",
        "> new_list = \\[output expression for loop in iterable if condition \\]\n",
        "\n",
        "It is a short form of for loop and if-else conditions. \n",
        "\n",
        "For example, a simple for loop to calculate $x^2$:"
      ]
    },
    {
      "metadata": {
        "id": "3wZ-SQYdTtHL",
        "colab_type": "code",
        "colab": {}
      },
      "cell_type": "code",
      "source": [
        ""
      ],
      "execution_count": 0,
      "outputs": []
    },
    {
      "metadata": {
        "id": "TzbUHYndI7v3",
        "colab_type": "code",
        "colab": {
          "base_uri": "https://localhost:8080/",
          "height": 34
        },
        "outputId": "1959007c-40e1-4228-8fb6-d78c35f4d785"
      },
      "cell_type": "code",
      "source": [
        "squares = []\n",
        "for n in range(10):\n",
        "  squares.append(n**2)\n",
        "\n",
        "print(squares)"
      ],
      "execution_count": 1,
      "outputs": [
        {
          "output_type": "stream",
          "text": [
            "[0, 1, 4, 9, 16, 25, 36, 49, 64, 81]\n"
          ],
          "name": "stdout"
        }
      ]
    },
    {
      "metadata": {
        "id": "za3GncdLJYdl",
        "colab_type": "text"
      },
      "cell_type": "markdown",
      "source": [
        "Using list comprehension:"
      ]
    },
    {
      "metadata": {
        "id": "WDu-uTRzJbv9",
        "colab_type": "code",
        "colab": {
          "base_uri": "https://localhost:8080/",
          "height": 34
        },
        "outputId": "13a80605-880c-4e45-ba6a-7301ae090753"
      },
      "cell_type": "code",
      "source": [
        "[n**2 for n in range(10)]"
      ],
      "execution_count": 2,
      "outputs": [
        {
          "output_type": "execute_result",
          "data": {
            "text/plain": [
              "[0, 1, 4, 9, 16, 25, 36, 49, 64, 81]"
            ]
          },
          "metadata": {
            "tags": []
          },
          "execution_count": 2
        }
      ]
    },
    {
      "metadata": {
        "id": "FWvJ_qcPJzyM",
        "colab_type": "text"
      },
      "cell_type": "markdown",
      "source": [
        "Another example to lower letters in a string list."
      ]
    },
    {
      "metadata": {
        "id": "q1sBqONoKAZp",
        "colab_type": "code",
        "colab": {
          "base_uri": "https://localhost:8080/",
          "height": 34
        },
        "outputId": "de25cc30-645c-4d4d-c0db-b787486cb5c3"
      },
      "cell_type": "code",
      "source": [
        "list1 = [\"MSense\", \"Lab\", \"experiment\", \"Design\"]\n",
        "\n",
        "list_lower = [str.lower() for str in list1]\n",
        "print(list_lower)"
      ],
      "execution_count": 3,
      "outputs": [
        {
          "output_type": "stream",
          "text": [
            "['msense', 'lab', 'experiment', 'design']\n"
          ],
          "name": "stdout"
        }
      ]
    },
    {
      "metadata": {
        "id": "GG5SwCTkKO2B",
        "colab_type": "text"
      },
      "cell_type": "markdown",
      "source": [
        "### Multiple Loops and Conditions\n",
        "\n",
        "In a list comprehension, you can add multiple loops and conditions. \n",
        "\n",
        "For example, if you want to compare to lists, and check the common elements:"
      ]
    },
    {
      "metadata": {
        "id": "EZYmsDTMLBLd",
        "colab_type": "code",
        "colab": {
          "base_uri": "https://localhost:8080/",
          "height": 34
        },
        "outputId": "bcc2929c-f092-4951-aeb3-6076c58077c8"
      },
      "cell_type": "code",
      "source": [
        "list1 = [1, 2, 3, 4]\n",
        "list2 = [3, 4, 5, 6]\n",
        "\n",
        "common_list = [a for a in list1 for b in list2 if a==b]\n",
        "print(common_list)"
      ],
      "execution_count": 5,
      "outputs": [
        {
          "output_type": "stream",
          "text": [
            "[3, 4]\n"
          ],
          "name": "stdout"
        }
      ]
    },
    {
      "metadata": {
        "id": "sA8CZ1tbMx7A",
        "colab_type": "text"
      },
      "cell_type": "markdown",
      "source": [
        "## Lambda Functions\n",
        "\n",
        "Lambda function is a small anonymous function. It can be used in chain rules or list comprehension. \n",
        "\n",
        "\n",
        "### Basic syntax\n",
        "\n",
        "> lambda arguments : expression\n"
      ]
    },
    {
      "metadata": {
        "id": "K-MtzQMyNVbc",
        "colab_type": "code",
        "colab": {
          "base_uri": "https://localhost:8080/",
          "height": 34
        },
        "outputId": "eceddfc0-3211-4728-83e6-21d6c110d9c7"
      },
      "cell_type": "code",
      "source": [
        "# a normal function definition\n",
        "\n",
        "def add(x,y):\n",
        "  return x + y\n",
        "\n",
        "# call the function\n",
        "add(2,3)"
      ],
      "execution_count": 6,
      "outputs": [
        {
          "output_type": "execute_result",
          "data": {
            "text/plain": [
              "5"
            ]
          },
          "metadata": {
            "tags": []
          },
          "execution_count": 6
        }
      ]
    },
    {
      "metadata": {
        "id": "V4eV5FHiNfCI",
        "colab_type": "code",
        "colab": {
          "base_uri": "https://localhost:8080/",
          "height": 34
        },
        "outputId": "e11b907c-bd61-4ad7-9201-15a617326781"
      },
      "cell_type": "code",
      "source": [
        "# now using lambda\n",
        "\n",
        "add = lambda x, y: x + y\n",
        "\n",
        "print(add(2,3))"
      ],
      "execution_count": 7,
      "outputs": [
        {
          "output_type": "stream",
          "text": [
            "5\n"
          ],
          "name": "stdout"
        }
      ]
    },
    {
      "metadata": {
        "id": "aW5nPWTgNrzd",
        "colab_type": "text"
      },
      "cell_type": "markdown",
      "source": [
        "## Map function\n",
        "\n",
        "`map` function expects a function objet and any iterables like list, dictionary. It excuetes the function object for each element in sequence and returns a list of elements modified by the function object. \n",
        "\n",
        "Recall the `map`,`lapply` functions in R. They are similar. "
      ]
    },
    {
      "metadata": {
        "id": "_HJQQ-7jOLJa",
        "colab_type": "code",
        "colab": {
          "base_uri": "https://localhost:8080/",
          "height": 34
        },
        "outputId": "9f1366a8-8ee8-4033-91aa-c297d8cb1e63"
      },
      "cell_type": "code",
      "source": [
        "map1 = map(lambda x : x + x*x, range(5))\n",
        "print(list(map1))"
      ],
      "execution_count": 16,
      "outputs": [
        {
          "output_type": "stream",
          "text": [
            "[0, 2, 6, 12, 20]\n"
          ],
          "name": "stdout"
        }
      ]
    },
    {
      "metadata": {
        "id": "avBc1ZauPPQn",
        "colab_type": "text"
      },
      "cell_type": "markdown",
      "source": [
        "__Note__: Python2 and Python 3 return differently for `map` function. Python 2 return list directly, but Python __3__ return a map object that contains iterators, to save memory and go faster."
      ]
    },
    {
      "metadata": {
        "id": "JsGbaLGTQPTf",
        "colab_type": "text"
      },
      "cell_type": "markdown",
      "source": [
        "## Examples \n",
        "\n",
        "Here are some examples to combine those functions. \n",
        "\n",
        "Example 1: element-wise multiply. Of course, in this case it would be easier to do directly. \n",
        "\n",
        "`[1,2,3] + [4, 5, 6]`"
      ]
    },
    {
      "metadata": {
        "id": "n-emkmMAQ2et",
        "colab_type": "code",
        "colab": {
          "base_uri": "https://localhost:8080/",
          "height": 34
        },
        "outputId": "63d9db5d-31d1-4017-f5f2-5a5b992d7f46"
      },
      "cell_type": "code",
      "source": [
        "s = map(lambda x,y: x * y, [1,2,3], [4,5,6])\n",
        "list(s)"
      ],
      "execution_count": 17,
      "outputs": [
        {
          "output_type": "execute_result",
          "data": {
            "text/plain": [
              "[4, 10, 18]"
            ]
          },
          "metadata": {
            "tags": []
          },
          "execution_count": 17
        }
      ]
    },
    {
      "metadata": {
        "id": "sGRoFVrTSFdr",
        "colab_type": "text"
      },
      "cell_type": "markdown",
      "source": [
        "Example 2: load multiple csv files\n",
        "\n",
        "It is often we need to load multiple csv files for data analysis. For example, we recruited multiple participants in an experiment. \n",
        "\n",
        "Here I show two ways to do the same job, and you compare which one fits your style. \n",
        "\n"
      ]
    },
    {
      "metadata": {
        "id": "_ePMw12cSZgU",
        "colab_type": "code",
        "colab": {}
      },
      "cell_type": "code",
      "source": [
        "# standard for-loop way\n",
        "# not runnable\n",
        "\n",
        "import glob\n",
        "import pandas as pd\n",
        "raw = pd.DataFrame()\n",
        "for f in glob.glob(\"sub_folder\\*.csv\"):\n",
        "  subdata = pd.read_csv(f, header = None, sep = ';')\n",
        "  raw = raw.append(subdata, ignore_index = True)\n"
      ],
      "execution_count": 0,
      "outputs": []
    },
    {
      "metadata": {
        "id": "rclzRRffTAuf",
        "colab_type": "text"
      },
      "cell_type": "markdown",
      "source": [
        "An alternative way using list comprehension:"
      ]
    },
    {
      "metadata": {
        "id": "VLmtVUbNTE3C",
        "colab_type": "code",
        "colab": {}
      },
      "cell_type": "code",
      "source": [
        "import glob\n",
        "import pandas as pd\n",
        "\n",
        "files = glob.glob(\"sub_folder\\*.csv\")\n",
        "subs = [pd.read_csv(f, header = None, sep = ';') for f in files]\n",
        "\n",
        "raw = pd.concat(subs, ignore_index = True)"
      ],
      "execution_count": 0,
      "outputs": []
    },
    {
      "metadata": {
        "id": "ievdLQzVTdWI",
        "colab_type": "text"
      },
      "cell_type": "markdown",
      "source": [
        "__Practice:__\n",
        "\n",
        "Please use the above codes in your local drive to load some real data. "
      ]
    }
  ]
}