{
  "cells": [
    {
      "cell_type": "markdown",
      "metadata": {
        "id": "4oCWPA4WBwH-"
      },
      "source": [
        "# Signal Detection Theory (SDT): Tutorial\n",
        "\n",
        "__Zhuanghua Shi__ (shi@lmu.de)\n",
        "\n",
        "[![Open In Colab](https://colab.research.google.com/assets/colab-badge.svg)](https://colab.research.google.com/github/strongway/tutorial_data_science/blob/master/lecture_2021/signal_detection_theory_practice.ipynb)\n",
        "\n",
        "## 1. Psychometric function (PF) and Signal Detection Theory (SDT)\n",
        "\n",
        "A psychometric function (PF) indicates human performance of a psychophysical task (e.g., classification) at a given intensity of a physical stimulus (e.g., velocity, duration, brightness, etc.). Recall a typical response is binary categorical response, and the sensory input is continuous from undetectable (or chance level) to surely detectable range, the probability of response shows a sigmoid curve. A general psychometric function includes the chance level and attentional lapses:\n",
        "\n",
        "$$\\Psi(x,\\alpha, \\beta, \\gamma, \\lambda) = \\gamma + (1-\\gamma -\\lambda) F(x, \\alpha, \\beta)$$\n",
        "where $\\alpha$ is the threshold, $\\beta$ the sensitivity, $\\gamma$ the chance level, and $\\lambda$ the lapse rate. $F(.)$ is a sigmoid function, such as logistic function:\n",
        "\n",
        "$$F(x,\\alpha, \\beta) = \\frac{1}{1 + e^{-\\beta(x-\\alpha)}}$$ \n",
        "\n",
        "## High-threshold theory\n",
        "\n",
        "Let's imagine a simple two-interval force-choice (2IFC) task in which observers had to identify which interval contains a target. This kind of 2IFC task can be treated as a signal detection paradigm. Let's denote the interval containing the stimulus as $S$ (signal), and the blank interval as $N$ (noise). The below figure (Kingdom & Prins, 2016) illustrates a probability distribution of two signals. \n",
        "\n",
        "![High Threshold](https://github.com/strongway/tutorial_data_science/raw/master/figures/high_threshold.png)\n",
        "_Figure from Kingdom and Prins (2016), Figure 4.6_\n",
        "\n",
        "Whether or not the sensory process will detect the sitmulus on any trial is determined by the amount of sensory evidence accumulated by the sensory system. Let's assume that the mean amount of accumulated evidence is a linear function of stimulus intensity $x$:\n",
        "\n",
        "$$\\mu(x)=\\pi + \\rho x$$\n",
        "\n",
        "According to high-threshold theory, the sensory mechanism will detect the stimulus when the amount of sensory evidence exceeds a fixed internal criterion or threshold. As its name implied, high-threshold theory assumes that the internal threshold is high. More specifically, the threshold is assumed to be high enough such that the probability that the threshold is exceedd when $x=0$ (i.e., noise) is effective zero. The decision is based on binary information only: either the sensory evidence was in excess of the threshold, or the sensory evidence was not in excess of the threshold. Given the assumptions we have made, function $F(x)$, which describes the probability that the threshold will be exceeded by a stimulus of intensity $x$, will be the cumulative normal distribution (see the inset in the above Figure). \n",
        "\n",
        "By contrast, there is no such thing as a fixed internal threshold according to SDT. Instead, SDT makes the assumption that sensory mechanism generate a graded signal, corresponding to the degree of sensory evidence accumulated. The decision process has access  to the degree of sensory evidence accumulated on both Signal and Noise. We may think of any stimulus as a sample from the probability density function associated with the stimulus. Even in the absence of a stimulus, differing degrees of sensory evidence results, and we may think of the presentation of the noise interval as a sample from the probability density function associated with the noise stimulus. Thus, the decision is based on the relative amplitude of two samples: Signal $N(\\pi + \\rho x), \\sigma^2$, and Noise $N(\\pi, \\sigma^2)$. \n",
        "\n",
        "For unbiased 2AFC, one simple decision rule is that if the sample taken during the sitmulus interval has a value greater than the sample taken during the noise interval. That is, if the difference between the sample value derived from the signal interval and the sample value derived from the noise interval exceed zero, the response will be correct. The difference in sensory evidence will be distributed as $N(\\rho x, 2 \\sigma^2)$. \n",
        "\n",
        "Reference:\n",
        "\n",
        "Kingdom, F. A. A., & Prins, N. (2016). Psychophysics: A Practical Introduction. Academic Press. "
      ]
    },
    {
      "cell_type": "markdown",
      "metadata": {
        "id": "FwmGo7WjDwlM"
      },
      "source": [
        "## 2. Calculation of d' and bias C for M-AFC"
      ]
    },
    {
      "cell_type": "markdown",
      "metadata": {
        "id": "mzMLqtN6D3Mu"
      },
      "source": [
        "### 2.1 Yes/No 1AFC\n",
        "\n",
        "Yes/No paradigm, known as 1AFC, is particularly prone to bias. Suppose two observers have the same internal sensitivity, but use different response criteria. Observed psychometric functions would differ a lot between two observers. The SDT can distinguish the response bias from the sensitivity with the following estimates:\n",
        "\n",
        "$$d' = z(Hit) - z(FA)$$\n",
        "\n",
        "$$c =-[z(Hit)+z(FA)]/2$$\n"
      ]
    },
    {
      "cell_type": "markdown",
      "metadata": {
        "id": "MicXBomzEDVr"
      },
      "source": [
        "### 2.2 Unbiased 2IFC\n",
        "\n",
        "With the standard 2IFC procedure, the N and S+N stimuli are presented together in a trial as two alternatives. Remember that the decision rule is to choose the alternative in which the internal signal is biggest. If the observer adopts this rule, trials in which the _difference_ between the S+N and N samples are positive will result in a correct decision. The variance of the _difference_ is the summation of the variances of the S+N and N. The proportion correct for 2AFC is thus given by the grey area in the lower panel to the right of zero. This is:\n",
        "\n",
        "$$ P_c = \\Phi(d'/\\sqrt{2})$$\n",
        "\n",
        "and \n",
        "\n",
        "$$ d' = z(P_c) \\sqrt2$$\n",
        "\n",
        "![2AFC](https://github.com/strongway/tutorial_data_science/raw/master/figures/2afc.jpg)\n",
        "_Graphical illustration of how d' is calculated from an unbiased 2AFC task. Figure from Kingdom and Prins (2016)_\n",
        "\n",
        "\n",
        "For the __biased 2IFC__, the calculation is the same as shown in 1AFC. \n"
      ]
    },
    {
      "cell_type": "markdown",
      "metadata": {
        "id": "uQMmNALKEKjH"
      },
      "source": [
        "## 3. Confusion Matrix and ROC curve\n",
        "\n",
        "1AFC or 2AFC are essential binary classification. The probabilities of outcomes from S and N define the confusion matrix. \n",
        "\n",
        "Response | Signal  |  Noise\n",
        "-------- | -------  | -------\n",
        "Yes      | Hit      | FA\n",
        "No       | Miss     | CR\n",
        "\n",
        "ROC curve plots with the horizontal axis (FA) and the vertical axis (Hit). On the same ROC curve, Hit/FA with liberal criteria locate at the right-up corner, whereas Hit/FA with conservative criteria locate at the lower-left corner. A ROC curve with high d' relative to low d' has __a larger area under the curve__. Sometimes we also use the Area under the curve (AUC) to measure the sensitity. \n",
        "\n",
        "Assuming Gaussian distribution, we have the folling relation between d' and AUX ($A_z$):\n",
        "\n",
        "$$A_z = \\Phi(\\frac{d'}{\\sqrt 2})$$\n",
        "\n",
        "Note, sometimes we also use ROC curves and AUCs to select the best logistic regression models. "
      ]
    },
    {
      "cell_type": "markdown",
      "metadata": {
        "id": "b1Lj2e4_EQle"
      },
      "source": [
        "## 4. Example: Neural decoding (Britten et al. 1992)\n",
        "\n",
        "[Britten and collegues (1992)](https://doi.org/10.1523/JNEUROSCI.12-12-04745.1992) compared the ability of psychophysical observers and single cortical neurons to discriminate weak motion signals in a stochastic visual display. \n",
        "\n",
        "![RDM](https://github.com/strongway/tutorial_data_science/raw/master/figures/random_dot_motion.jpg)\n",
        "\n",
        "They recorded money's behavioral responses as well as responses from MT neurons. The following Figure shows frequency histogram of reponses obtained from a single MT neuron at five different correlation levels. The black bars illustrate reponses for null direction motion, while the white bars represent responses for motion in the neuron's preferred direction. We can see clearly the distance between the _signal_ and the _noise_ depends on the motion coherence.  \n",
        "\n",
        "![MT Neurons responses](https://github.com/strongway/tutorial_data_science/raw/master/figures/britten_frequencies.jpg)\n",
        "\n",
        "Given that one sees a firing rate from that neuron in one trial, how should one decode whether the RDM was moving upward or downward? It depends on the decision criterion! The unbias decision should set the criterion in the middle. \n",
        "\n",
        "The below figure plots the ROC curves for the five pairs. Each ROC was generated by increasing the criterion level from 0 to 120 spikes in one-spike increments. Recall the area under the ROC is an alternative measure of the sensitivity, which is shown on the right side of the curve. \n",
        "\n",
        "![ROC](https://github.com/strongway/tutorial_data_science/raw/master/figures/britten_rocs.jpg)\n",
        "\n",
        "\n",
        "And you can see from Figure below, the neuron's senstivity curve is very close to the behavioral responses. \n",
        "\n",
        "![comparison](https://github.com/strongway/tutorial_data_science/raw/master/figures/britten_comparisons.jpg)\n",
        "\n"
      ]
    },
    {
      "cell_type": "markdown",
      "metadata": {
        "id": "7C8Ngsz8EdHO"
      },
      "source": [
        "## 5. Practice\n",
        "\n",
        "The practice data come from the following study:\n",
        "\n",
        "Shi, Z., Allenmark, F., Zhu, X., Elliott, M. A., & Müller, H. J. (2019). To quit or not to quit in dynamic search. Attention, Perception & Psychophysics. https://doi.org/10.3758/s13414-019-01857-7\n",
        "\n",
        "In this study, we examined the search performance between the static and dynamic displays. One striking finding from dynamic search (Horowitz & Wolfe, 1998) is that the search slope, measured by search time per item, is similar to static search. In this study, we examined how decision crtieria that related to the quiting process influence the search performance. \n",
        "\n",
        "In the following practice, we estimate the target detection sensitivity and decision criteria for both the static and dynamic search displays. \n",
        "\n",
        "The data are availabe in the following github repository:\n",
        "\n",
        "https://github.com/msenselab/dynamic_search\n"
      ]
    },
    {
      "cell_type": "markdown",
      "metadata": {
        "id": "Op23rZOXxo8p"
      },
      "source": []
    },
    {
      "cell_type": "markdown",
      "metadata": {
        "id": "yB7t1hVlExMX"
      },
      "source": [
        "### Step 1. Load data\n",
        "\n",
        "Let us first load the first experimental data: "
      ]
    },
    {
      "cell_type": "code",
      "execution_count": 15,
      "metadata": {
        "colab": {
          "base_uri": "https://localhost:8080/",
          "height": 522
        },
        "id": "32N5dOMhDv6V",
        "outputId": "f90aa997-c668-4987-c19e-556b2bc4bcae"
      },
      "outputs": [
        {
          "name": "stdout",
          "output_type": "stream",
          "text": [
            "    target  setsize     dyn  resp        rt  sub  exp  correct\n",
            "0   Absent       12  Static     1  2.583007    1    1        1\n",
            "1   Absent        8  Static     1  0.935967    1    1        1\n",
            "2  Present       16  Static     0  0.794771    1    1        1\n",
            "3  Present        8  Static     0  1.241838    1    1        1\n",
            "4   Absent       12  Static     1  1.759485    1    1        1\n"
          ]
        }
      ],
      "source": [
        "%matplotlib inline\n",
        "import numpy as np\n",
        "import pandas as pd\n",
        "import statsmodels.api as sm\n",
        "from scipy import stats\n",
        "\n",
        "import matplotlib.pyplot as plt\n",
        "import seaborn as sns\n",
        "\n",
        "#load data\n",
        "dat = pd.read_csv('https://raw.githubusercontent.com/msenselab/dynamic_search/master/data/exp1.csv', sep = ',')\n",
        "dat = dat.assign(resp = dat.resp -1) # change to 0 to 1 for two categories\n",
        "print(dat.head())"
      ]
    },
    {
      "cell_type": "code",
      "execution_count": 7,
      "metadata": {},
      "outputs": [
        {
          "data": {
            "text/html": [
              "<div>\n",
              "<style scoped>\n",
              "    .dataframe tbody tr th:only-of-type {\n",
              "        vertical-align: middle;\n",
              "    }\n",
              "\n",
              "    .dataframe tbody tr th {\n",
              "        vertical-align: top;\n",
              "    }\n",
              "\n",
              "    .dataframe thead th {\n",
              "        text-align: right;\n",
              "    }\n",
              "</style>\n",
              "<table border=\"1\" class=\"dataframe\">\n",
              "  <thead>\n",
              "    <tr style=\"text-align: right;\">\n",
              "      <th></th>\n",
              "      <th>sub</th>\n",
              "      <th>dyn</th>\n",
              "      <th>target</th>\n",
              "      <th>setsize</th>\n",
              "      <th>correct_mean</th>\n",
              "      <th>correct_count</th>\n",
              "    </tr>\n",
              "  </thead>\n",
              "  <tbody>\n",
              "    <tr>\n",
              "      <th>0</th>\n",
              "      <td>1</td>\n",
              "      <td>Dynamic</td>\n",
              "      <td>Absent</td>\n",
              "      <td>8</td>\n",
              "      <td>1.000000</td>\n",
              "      <td>35</td>\n",
              "    </tr>\n",
              "    <tr>\n",
              "      <th>1</th>\n",
              "      <td>1</td>\n",
              "      <td>Dynamic</td>\n",
              "      <td>Absent</td>\n",
              "      <td>12</td>\n",
              "      <td>0.971429</td>\n",
              "      <td>35</td>\n",
              "    </tr>\n",
              "    <tr>\n",
              "      <th>2</th>\n",
              "      <td>1</td>\n",
              "      <td>Dynamic</td>\n",
              "      <td>Absent</td>\n",
              "      <td>16</td>\n",
              "      <td>0.914286</td>\n",
              "      <td>35</td>\n",
              "    </tr>\n",
              "    <tr>\n",
              "      <th>3</th>\n",
              "      <td>1</td>\n",
              "      <td>Dynamic</td>\n",
              "      <td>Present</td>\n",
              "      <td>8</td>\n",
              "      <td>0.971429</td>\n",
              "      <td>35</td>\n",
              "    </tr>\n",
              "    <tr>\n",
              "      <th>4</th>\n",
              "      <td>1</td>\n",
              "      <td>Dynamic</td>\n",
              "      <td>Present</td>\n",
              "      <td>12</td>\n",
              "      <td>1.000000</td>\n",
              "      <td>35</td>\n",
              "    </tr>\n",
              "  </tbody>\n",
              "</table>\n",
              "</div>"
            ],
            "text/plain": [
              "   sub      dyn   target  setsize  correct_mean  correct_count\n",
              "0    1  Dynamic   Absent        8      1.000000             35\n",
              "1    1  Dynamic   Absent       12      0.971429             35\n",
              "2    1  Dynamic   Absent       16      0.914286             35\n",
              "3    1  Dynamic  Present        8      0.971429             35\n",
              "4    1  Dynamic  Present       12      1.000000             35"
            ]
          },
          "execution_count": 7,
          "metadata": {},
          "output_type": "execute_result"
        }
      ],
      "source": [
        "# let's quickly obtain the confusion matrix\n",
        "macc = dat.groupby(['sub', 'dyn','target','setsize']).agg({'correct':['mean','count']})\n",
        "macc.columns = macc.columns.map('_'.join) # combine multi-level columns\n",
        "macc = macc.reset_index()\n",
        "macc.head()\n",
        "\n"
      ]
    },
    {
      "cell_type": "markdown",
      "metadata": {
        "id": "SbV3Ah2-FQfD"
      },
      "source": [
        "### Step 2. Data transformation\n",
        "\n",
        "We quickly realized that in some conditions, the search is relative easy and participants can performance the task without any error. This pose a potential problem when we want to calculate the z-score. For such extreme values, usually we need to make some adjustments. A common method for  adjustments is to apply a small correction ([Macmillan & Kaplan, 1985](https://www.ncbi.nlm.nih.gov/pubmed/4034817); Stanislaw & Todorov, 1999): rates of 0 were replaced by 0.5/n, and rates of 1 by 1–0.5/n, where n is the number of trials, respectively.\n"
      ]
    },
    {
      "cell_type": "code",
      "execution_count": 8,
      "metadata": {},
      "outputs": [
        {
          "name": "stdout",
          "output_type": "stream",
          "text": [
            "[0.42857142857142855, 1.0]\n"
          ]
        }
      ],
      "source": [
        "print([macc.correct_mean.min(),macc.correct_mean.max()])"
      ]
    },
    {
      "cell_type": "code",
      "execution_count": 9,
      "metadata": {},
      "outputs": [
        {
          "data": {
            "text/html": [
              "<div>\n",
              "<style scoped>\n",
              "    .dataframe tbody tr th:only-of-type {\n",
              "        vertical-align: middle;\n",
              "    }\n",
              "\n",
              "    .dataframe tbody tr th {\n",
              "        vertical-align: top;\n",
              "    }\n",
              "\n",
              "    .dataframe thead th {\n",
              "        text-align: right;\n",
              "    }\n",
              "</style>\n",
              "<table border=\"1\" class=\"dataframe\">\n",
              "  <thead>\n",
              "    <tr style=\"text-align: right;\">\n",
              "      <th></th>\n",
              "      <th>sub</th>\n",
              "      <th>dyn</th>\n",
              "      <th>target</th>\n",
              "      <th>setsize</th>\n",
              "      <th>correct_mean</th>\n",
              "      <th>correct_count</th>\n",
              "      <th>pc_a</th>\n",
              "    </tr>\n",
              "  </thead>\n",
              "  <tbody>\n",
              "    <tr>\n",
              "      <th>0</th>\n",
              "      <td>1</td>\n",
              "      <td>Dynamic</td>\n",
              "      <td>Absent</td>\n",
              "      <td>8</td>\n",
              "      <td>1.000000</td>\n",
              "      <td>35</td>\n",
              "      <td>0.985714</td>\n",
              "    </tr>\n",
              "    <tr>\n",
              "      <th>1</th>\n",
              "      <td>1</td>\n",
              "      <td>Dynamic</td>\n",
              "      <td>Absent</td>\n",
              "      <td>12</td>\n",
              "      <td>0.971429</td>\n",
              "      <td>35</td>\n",
              "      <td>0.971429</td>\n",
              "    </tr>\n",
              "    <tr>\n",
              "      <th>2</th>\n",
              "      <td>1</td>\n",
              "      <td>Dynamic</td>\n",
              "      <td>Absent</td>\n",
              "      <td>16</td>\n",
              "      <td>0.914286</td>\n",
              "      <td>35</td>\n",
              "      <td>0.914286</td>\n",
              "    </tr>\n",
              "    <tr>\n",
              "      <th>3</th>\n",
              "      <td>1</td>\n",
              "      <td>Dynamic</td>\n",
              "      <td>Present</td>\n",
              "      <td>8</td>\n",
              "      <td>0.971429</td>\n",
              "      <td>35</td>\n",
              "      <td>0.971429</td>\n",
              "    </tr>\n",
              "    <tr>\n",
              "      <th>4</th>\n",
              "      <td>1</td>\n",
              "      <td>Dynamic</td>\n",
              "      <td>Present</td>\n",
              "      <td>12</td>\n",
              "      <td>1.000000</td>\n",
              "      <td>35</td>\n",
              "      <td>0.985714</td>\n",
              "    </tr>\n",
              "  </tbody>\n",
              "</table>\n",
              "</div>"
            ],
            "text/plain": [
              "   sub      dyn   target  setsize  correct_mean  correct_count      pc_a\n",
              "0    1  Dynamic   Absent        8      1.000000             35  0.985714\n",
              "1    1  Dynamic   Absent       12      0.971429             35  0.971429\n",
              "2    1  Dynamic   Absent       16      0.914286             35  0.914286\n",
              "3    1  Dynamic  Present        8      0.971429             35  0.971429\n",
              "4    1  Dynamic  Present       12      1.000000             35  0.985714"
            ]
          },
          "execution_count": 9,
          "metadata": {},
          "output_type": "execute_result"
        }
      ],
      "source": [
        "# percentage of correct after adjustment\n",
        "macc['pc_a'] = np.where(macc.correct_mean == 1, 1 - 0.5/macc.correct_count, macc.correct_mean)\n",
        "macc.head()"
      ]
    },
    {
      "cell_type": "markdown",
      "metadata": {},
      "source": [
        "After adjust the data, we need to transform the 'long' format table to 'wide' format table as confusion matrix. \n",
        "Note, in this example, the signal is 'Target present', and the noise is 'Target Absent'. So we need the column 'target' for transformation. Transformation can be done by pandas `pivot()` function. "
      ]
    },
    {
      "cell_type": "code",
      "execution_count": 10,
      "metadata": {},
      "outputs": [
        {
          "data": {
            "text/html": [
              "<div>\n",
              "<style scoped>\n",
              "    .dataframe tbody tr th:only-of-type {\n",
              "        vertical-align: middle;\n",
              "    }\n",
              "\n",
              "    .dataframe tbody tr th {\n",
              "        vertical-align: top;\n",
              "    }\n",
              "\n",
              "    .dataframe thead th {\n",
              "        text-align: right;\n",
              "    }\n",
              "</style>\n",
              "<table border=\"1\" class=\"dataframe\">\n",
              "  <thead>\n",
              "    <tr style=\"text-align: right;\">\n",
              "      <th>target</th>\n",
              "      <th>sub</th>\n",
              "      <th>dyn</th>\n",
              "      <th>setsize</th>\n",
              "      <th>Absent</th>\n",
              "      <th>Present</th>\n",
              "    </tr>\n",
              "  </thead>\n",
              "  <tbody>\n",
              "    <tr>\n",
              "      <th>0</th>\n",
              "      <td>1</td>\n",
              "      <td>Dynamic</td>\n",
              "      <td>8</td>\n",
              "      <td>0.985714</td>\n",
              "      <td>0.971429</td>\n",
              "    </tr>\n",
              "    <tr>\n",
              "      <th>1</th>\n",
              "      <td>1</td>\n",
              "      <td>Dynamic</td>\n",
              "      <td>12</td>\n",
              "      <td>0.971429</td>\n",
              "      <td>0.985714</td>\n",
              "    </tr>\n",
              "    <tr>\n",
              "      <th>2</th>\n",
              "      <td>1</td>\n",
              "      <td>Dynamic</td>\n",
              "      <td>16</td>\n",
              "      <td>0.914286</td>\n",
              "      <td>0.914286</td>\n",
              "    </tr>\n",
              "    <tr>\n",
              "      <th>3</th>\n",
              "      <td>1</td>\n",
              "      <td>Static</td>\n",
              "      <td>8</td>\n",
              "      <td>0.985714</td>\n",
              "      <td>0.985714</td>\n",
              "    </tr>\n",
              "    <tr>\n",
              "      <th>4</th>\n",
              "      <td>1</td>\n",
              "      <td>Static</td>\n",
              "      <td>12</td>\n",
              "      <td>0.985714</td>\n",
              "      <td>0.971429</td>\n",
              "    </tr>\n",
              "  </tbody>\n",
              "</table>\n",
              "</div>"
            ],
            "text/plain": [
              "target  sub      dyn  setsize    Absent   Present\n",
              "0         1  Dynamic        8  0.985714  0.971429\n",
              "1         1  Dynamic       12  0.971429  0.985714\n",
              "2         1  Dynamic       16  0.914286  0.914286\n",
              "3         1   Static        8  0.985714  0.985714\n",
              "4         1   Static       12  0.985714  0.971429"
            ]
          },
          "execution_count": 10,
          "metadata": {},
          "output_type": "execute_result"
        }
      ],
      "source": [
        "acc_wide = macc.pivot(index=['sub','dyn','setsize'], columns = 'target', values = 'pc_a').reset_index()\n",
        "acc_wide.head()"
      ]
    },
    {
      "cell_type": "markdown",
      "metadata": {
        "id": "PNwuMbgKFVkm"
      },
      "source": [
        "### Step 3. Calculation of d' and C\n",
        "\n",
        "$$d' = z(Hit) - z(FA)$$\n",
        "$$C = - (z(Hit)+ z(FA))/2$$\n",
        "\n",
        "Recall that for the Two-alternative discrimination task, the above equations are equal to \n",
        "\n",
        "$$d' = z(Present) + z(Absent) $$\n",
        "\n",
        "$$C = -[z(Present) - z(Absent)]/2$$\n",
        "\n",
        "We use scipy function`scipy.stats.norm.ppf()` to calculate the z-score. \n",
        "\n",
        "Note: `scipy.stats.zscore()` is used for the zscore within the numpy array after normalization, which is different from what we want. "
      ]
    },
    {
      "cell_type": "code",
      "execution_count": 11,
      "metadata": {
        "colab": {
          "base_uri": "https://localhost:8080/",
          "height": 328
        },
        "id": "b3vyzIDbJ4aa",
        "outputId": "c06e79b9-a20e-45b4-da41-2531095b149c"
      },
      "outputs": [
        {
          "data": {
            "text/html": [
              "<div>\n",
              "<style scoped>\n",
              "    .dataframe tbody tr th:only-of-type {\n",
              "        vertical-align: middle;\n",
              "    }\n",
              "\n",
              "    .dataframe tbody tr th {\n",
              "        vertical-align: top;\n",
              "    }\n",
              "\n",
              "    .dataframe thead th {\n",
              "        text-align: right;\n",
              "    }\n",
              "</style>\n",
              "<table border=\"1\" class=\"dataframe\">\n",
              "  <thead>\n",
              "    <tr style=\"text-align: right;\">\n",
              "      <th>target</th>\n",
              "      <th>sub</th>\n",
              "      <th>dyn</th>\n",
              "      <th>setsize</th>\n",
              "      <th>Absent</th>\n",
              "      <th>Present</th>\n",
              "      <th>d</th>\n",
              "      <th>c</th>\n",
              "    </tr>\n",
              "  </thead>\n",
              "  <tbody>\n",
              "    <tr>\n",
              "      <th>0</th>\n",
              "      <td>1</td>\n",
              "      <td>Dynamic</td>\n",
              "      <td>8</td>\n",
              "      <td>0.985714</td>\n",
              "      <td>0.971429</td>\n",
              "      <td>4.091566</td>\n",
              "      <td>0.143567</td>\n",
              "    </tr>\n",
              "    <tr>\n",
              "      <th>1</th>\n",
              "      <td>1</td>\n",
              "      <td>Dynamic</td>\n",
              "      <td>12</td>\n",
              "      <td>0.971429</td>\n",
              "      <td>0.985714</td>\n",
              "      <td>4.091566</td>\n",
              "      <td>-0.143567</td>\n",
              "    </tr>\n",
              "    <tr>\n",
              "      <th>2</th>\n",
              "      <td>1</td>\n",
              "      <td>Dynamic</td>\n",
              "      <td>16</td>\n",
              "      <td>0.914286</td>\n",
              "      <td>0.914286</td>\n",
              "      <td>2.735256</td>\n",
              "      <td>-0.000000</td>\n",
              "    </tr>\n",
              "    <tr>\n",
              "      <th>3</th>\n",
              "      <td>1</td>\n",
              "      <td>Static</td>\n",
              "      <td>8</td>\n",
              "      <td>0.985714</td>\n",
              "      <td>0.985714</td>\n",
              "      <td>4.378700</td>\n",
              "      <td>-0.000000</td>\n",
              "    </tr>\n",
              "    <tr>\n",
              "      <th>4</th>\n",
              "      <td>1</td>\n",
              "      <td>Static</td>\n",
              "      <td>12</td>\n",
              "      <td>0.985714</td>\n",
              "      <td>0.971429</td>\n",
              "      <td>4.091566</td>\n",
              "      <td>0.143567</td>\n",
              "    </tr>\n",
              "  </tbody>\n",
              "</table>\n",
              "</div>"
            ],
            "text/plain": [
              "target  sub      dyn  setsize    Absent   Present         d         c\n",
              "0         1  Dynamic        8  0.985714  0.971429  4.091566  0.143567\n",
              "1         1  Dynamic       12  0.971429  0.985714  4.091566 -0.143567\n",
              "2         1  Dynamic       16  0.914286  0.914286  2.735256 -0.000000\n",
              "3         1   Static        8  0.985714  0.985714  4.378700 -0.000000\n",
              "4         1   Static       12  0.985714  0.971429  4.091566  0.143567"
            ]
          },
          "execution_count": 11,
          "metadata": {},
          "output_type": "execute_result"
        }
      ],
      "source": [
        "# now we calculate d' and C\n",
        "acc_wide['d'] =stats.norm.ppf(acc_wide.Present) + stats.norm.ppf(acc_wide.Absent)\n",
        "acc_wide['c'] = -(stats.norm.ppf(acc_wide.Present) - stats.norm.ppf(acc_wide.Absent))/2\n",
        "acc_wide.head()"
      ]
    },
    {
      "cell_type": "markdown",
      "metadata": {
        "id": "QEABqtntFi8G"
      },
      "source": [
        "### Step 4. Visualization\n",
        "\n",
        "Let's first check the sensitivity. As you can see from the figure below, the dynamic display had much worse detection sensitivity as compared to the static display. The reduction of the sensitivity as a function of the display set size, however, remained the same for two display types. \n",
        "\n",
        "\n"
      ]
    },
    {
      "cell_type": "code",
      "execution_count": 16,
      "metadata": {
        "colab": {
          "base_uri": "https://localhost:8080/",
          "height": 296
        },
        "id": "9AOUdOvyKwe5",
        "outputId": "157f4aaf-560c-4c8c-ced0-d27fed0a0175"
      },
      "outputs": [
        {
          "data": {
            "text/plain": [
              "<seaborn.axisgrid.FacetGrid at 0x7f7ce16c8d30>"
            ]
          },
          "execution_count": 16,
          "metadata": {},
          "output_type": "execute_result"
        },
        {
          "data": {
            "image/png": "[encoded data removed]",
            "text/plain": [
              "<Figure size 440.125x360 with 1 Axes>"
            ]
          },
          "metadata": {
            "needs_background": "light"
          },
          "output_type": "display_data"
        }
      ],
      "source": [
        "sns.catplot(x = 'setsize', y = 'd',  hue = 'dyn', kind = 'point', data = acc_wide)"
      ]
    },
    {
      "cell_type": "markdown",
      "metadata": {
        "id": "MWA5PSXJOXHt"
      },
      "source": [
        "Now let's check the decision criteria C. "
      ]
    },
    {
      "cell_type": "code",
      "execution_count": 18,
      "metadata": {
        "colab": {
          "base_uri": "https://localhost:8080/",
          "height": 296
        },
        "id": "Zad0LdVTOMTI",
        "outputId": "b544435e-590b-4f36-c8fa-10c43e39eb02"
      },
      "outputs": [
        {
          "data": {
            "text/plain": [
              "<seaborn.axisgrid.FacetGrid at 0x7f7cb1048250>"
            ]
          },
          "execution_count": 18,
          "metadata": {},
          "output_type": "execute_result"
        },
        {
          "data": {
            "image/png": "[encoded data removed]",
            "text/plain": [
              "<Figure size 440.125x360 with 1 Axes>"
            ]
          },
          "metadata": {
            "needs_background": "light"
          },
          "output_type": "display_data"
        }
      ],
      "source": [
        "sns.catplot(x = 'setsize', y = 'c',  hue = 'dyn', kind = 'point', data = acc_wide)"
      ]
    },
    {
      "cell_type": "markdown",
      "metadata": {},
      "source": [
        "As you can see from the above figure, participants tended to make more liberal responses in  dynamic search relative to static search. That is, they were more likely make 'target present' responses than 'target absent' responses. \n",
        "\n",
        "However, this was changed when we applied reward manipulation in Exp. 2. "
      ]
    },
    {
      "cell_type": "markdown",
      "metadata": {},
      "source": [
        "### Your practical task\n",
        "\n",
        "Your practical task is to do similar analysis for Experiment 2. \n",
        "To facilitate your analysis, the data have been loaded using the following code: "
      ]
    },
    {
      "cell_type": "code",
      "execution_count": 20,
      "metadata": {},
      "outputs": [
        {
          "data": {
            "text/html": [
              "<div>\n",
              "<style scoped>\n",
              "    .dataframe tbody tr th:only-of-type {\n",
              "        vertical-align: middle;\n",
              "    }\n",
              "\n",
              "    .dataframe tbody tr th {\n",
              "        vertical-align: top;\n",
              "    }\n",
              "\n",
              "    .dataframe thead th {\n",
              "        text-align: right;\n",
              "    }\n",
              "</style>\n",
              "<table border=\"1\" class=\"dataframe\">\n",
              "  <thead>\n",
              "    <tr style=\"text-align: right;\">\n",
              "      <th></th>\n",
              "      <th>target</th>\n",
              "      <th>setsize</th>\n",
              "      <th>dyn</th>\n",
              "      <th>resp</th>\n",
              "      <th>rt</th>\n",
              "      <th>sub</th>\n",
              "      <th>reward</th>\n",
              "      <th>correct</th>\n",
              "    </tr>\n",
              "  </thead>\n",
              "  <tbody>\n",
              "    <tr>\n",
              "      <th>0</th>\n",
              "      <td>Absent</td>\n",
              "      <td>12</td>\n",
              "      <td>Static</td>\n",
              "      <td>1</td>\n",
              "      <td>2.058311</td>\n",
              "      <td>1</td>\n",
              "      <td>Absent</td>\n",
              "      <td>1</td>\n",
              "    </tr>\n",
              "    <tr>\n",
              "      <th>1</th>\n",
              "      <td>Present</td>\n",
              "      <td>8</td>\n",
              "      <td>Static</td>\n",
              "      <td>0</td>\n",
              "      <td>0.649519</td>\n",
              "      <td>1</td>\n",
              "      <td>Absent</td>\n",
              "      <td>1</td>\n",
              "    </tr>\n",
              "    <tr>\n",
              "      <th>2</th>\n",
              "      <td>Present</td>\n",
              "      <td>16</td>\n",
              "      <td>Static</td>\n",
              "      <td>0</td>\n",
              "      <td>0.599557</td>\n",
              "      <td>1</td>\n",
              "      <td>Absent</td>\n",
              "      <td>1</td>\n",
              "    </tr>\n",
              "    <tr>\n",
              "      <th>3</th>\n",
              "      <td>Present</td>\n",
              "      <td>12</td>\n",
              "      <td>Static</td>\n",
              "      <td>0</td>\n",
              "      <td>0.489666</td>\n",
              "      <td>1</td>\n",
              "      <td>Absent</td>\n",
              "      <td>1</td>\n",
              "    </tr>\n",
              "    <tr>\n",
              "      <th>4</th>\n",
              "      <td>Absent</td>\n",
              "      <td>12</td>\n",
              "      <td>Static</td>\n",
              "      <td>1</td>\n",
              "      <td>1.898485</td>\n",
              "      <td>1</td>\n",
              "      <td>Absent</td>\n",
              "      <td>1</td>\n",
              "    </tr>\n",
              "  </tbody>\n",
              "</table>\n",
              "</div>"
            ],
            "text/plain": [
              "    target  setsize     dyn  resp        rt  sub  reward  correct\n",
              "0   Absent       12  Static     1  2.058311    1  Absent        1\n",
              "1  Present        8  Static     0  0.649519    1  Absent        1\n",
              "2  Present       16  Static     0  0.599557    1  Absent        1\n",
              "3  Present       12  Static     0  0.489666    1  Absent        1\n",
              "4   Absent       12  Static     1  1.898485    1  Absent        1"
            ]
          },
          "execution_count": 20,
          "metadata": {},
          "output_type": "execute_result"
        }
      ],
      "source": [
        "#load data\n",
        "exp2 = pd.read_csv('https://raw.githubusercontent.com/msenselab/dynamic_search/master/data/exp2.csv', sep = ',')\n",
        "exp2 = exp2.assign(resp = exp2.resp -1) # change to 0 to 1 for two categories\n",
        "exp2.head()"
      ]
    }
  ],
  "metadata": {
    "colab": {
      "collapsed_sections": [
        "FwmGo7WjDwlM",
        "mzMLqtN6D3Mu",
        "MicXBomzEDVr",
        "uQMmNALKEKjH",
        "b1Lj2e4_EQle",
        "PNwuMbgKFVkm",
        "QEABqtntFi8G"
      ],
      "name": "Copy of w10-signal-detection-theory.ipynb",
      "provenance": [],
      "toc_visible": true
    },
    "kernelspec": {
      "display_name": "Python 3",
      "name": "python3"
    },
    "language_info": {
      "codemirror_mode": {
        "name": "ipython",
        "version": 3
      },
      "file_extension": ".py",
      "mimetype": "text/x-python",
      "name": "python",
      "nbconvert_exporter": "python",
      "pygments_lexer": "ipython3",
      "version": "3.9.5"
    }
  },
  "nbformat": 4,
  "nbformat_minor": 0
}
