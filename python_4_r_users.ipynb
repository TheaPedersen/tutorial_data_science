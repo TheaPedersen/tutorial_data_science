{
 "cells": [
  {
   "cell_type": "markdown",
   "metadata": {
    "colab_type": "text",
    "id": "sVs6HrkkteH1"
   },
   "source": [
    "# Python Pandas Data Manipulation for R users\n",
    "\n",
    "**Strongway, 2019**\n",
    "\n",
    "[![Open In Colab](https://colab.research.google.com/assets/colab-badge.svg)](https://colab.research.google.com/github/strongway/tutorial_data_science/blob/master/python_4_r_users.ipynb)\n",
    "\n",
    "This tutorial compares [pandas](http://pandas.pydata.org)\n",
    "and [dplyr](http://cran.r-project.org/web/packages/dplyr/index.html), which is based on  [Tom Augspurger's notebook](http://nbviewer.jupyter.org/gist/TomAugspurger/6e052140eaa5fdb6e8c0), and some other tutorials (such as colab examples).\n",
    "\n",
    "The comparison allow R users quickly get familar with Python data analysis. Correspondent R codes are in comments. \n",
    "\n",
    "\n",
    "`seaborn`, `matplotlib.pyplot` and `altair` provide plots for python. "
   ]
  },
  {
   "cell_type": "code",
   "execution_count": null,
   "metadata": {
    "colab": {},
    "colab_type": "code",
    "id": "f3fd3GgHteH3"
   },
   "outputs": [],
   "source": [
    "# Some prep work to get the data from R and into pandas\n",
    "%matplotlib inline\n",
    "\n",
    "# pandas for data process, seaborn for plotting, in addition, matplotlib\n",
    "import pandas as pd\n",
    "import numpy as np\n",
    "import seaborn as sns\n",
    "import matplotlib.pyplot as plt\n",
    "import altair as alt\n",
    "\n",
    "pd.set_option(\"display.max_rows\", 5)"
   ]
  },
  {
   "cell_type": "markdown",
   "metadata": {
    "colab_type": "text",
    "id": "Rzr1VT6cvIMS"
   },
   "source": [
    "## 1. Basic Data types in Python\n",
    "\n",
    "## Primitive variables\n",
    "\n",
    "Primitive variables includes `integers`, `floats`,`strings`, `characters`, `booleans`.\n",
    "\n",
    "using `type(var)` you can know the type of the variable. \n",
    "\n",
    "## Complex Variables\n",
    "\n",
    "- **tuples**\n",
    "    - An ordered sequence with a fixed number of elments. e.g., x = (1,2,3). It is immutable (i.e., values cannot be changed) \n",
    "- **lists**\n",
    "    - An ordered sequence of items (array). Item values can be changed. For example, x = [1,2,3]\n",
    "- **set**\n",
    "    - An unordered collection of unique items. a = {1,2,3,6,5}\n",
    "- **dictionary**\n",
    "    - An unordered collection of key-value pairs, e.g., d = {'Female':1, 'Male':2}\n",
    "\n",
    "**Note**: you can convert them by using their key words. For example\n",
    "\n",
    "```python\n",
    "dict([[1,2],[3,4]])\n",
    "tuple({5,6,7})\n",
    "```\n",
    "\n",
    "## numpy array (matrix)\n",
    "\n",
    "Numpy array accept `bool`, `int`,`float`,`complex` and more. \n",
    "\n",
    "## pandas table\n",
    "\n",
    "Pandas store data in tables with column names and row index. This is very similar to the data.frame in R. In the following, we will focus on pandas table manipulation. \n"
   ]
  },
  {
   "cell_type": "markdown",
   "metadata": {
    "colab_type": "text",
    "id": "ecnxBD6Wv20l"
   },
   "source": [
    "## 2. External data in Colab Cloud\n",
    "\n",
    "Colab provides cloud computing and collaboration with python notebook, but not natively for data sharing. Fortunately, there are several ways for sharing data. \n",
    "\n",
    "### Uploading files from your local file system\n",
    "\n",
    "You share the data using other cloud methods, and then upload files locally. `files.upload` returns a dictionary of the files which were uploaded.\n",
    "The dictionary is keyed by the file name, the value is the data which was uploaded."
   ]
  },
  {
   "cell_type": "code",
   "execution_count": null,
   "metadata": {
    "colab": {},
    "colab_type": "code",
    "id": "igjf0uUKvHnV"
   },
   "outputs": [],
   "source": [
    "from google.colab import files\n",
    "\n",
    "uploaded = files.upload()\n",
    "\n",
    "for fn in uploaded.keys():\n",
    "  print('User uploaded file \"{name}\" with length {length} bytes'.format(\n",
    "      name=fn, length=len(uploaded[fn])))"
   ]
  },
  {
   "cell_type": "markdown",
   "metadata": {
    "colab_type": "text",
    "id": "MiNXo2gwx175"
   },
   "source": [
    "Another example, upload a csv file and import as pandas table. "
   ]
  },
  {
   "cell_type": "code",
   "execution_count": null,
   "metadata": {
    "colab": {},
    "colab_type": "code",
    "id": "w_6HLddex9mg"
   },
   "outputs": [],
   "source": [
    "import io\n",
    "from google.colab import files\n",
    "\n",
    "uploaded = files.upload()\n",
    "key, value = uploaded.popitem()\n",
    "df = pd.read_csv(io.BytesIO(value))\n",
    "df.head()"
   ]
  },
  {
   "cell_type": "markdown",
   "metadata": {
    "colab_type": "text",
    "id": "KPAnYiGNw_gu"
   },
   "source": [
    "### Downloading files to your local file system\n",
    "\n",
    "`files.download` will invoke a browser download of the file to the user's local computer.\n"
   ]
  },
  {
   "cell_type": "code",
   "execution_count": null,
   "metadata": {
    "colab": {},
    "colab_type": "code",
    "id": "sTN6VMlCxP8o"
   },
   "outputs": [],
   "source": [
    "from google.colab import files\n",
    "\n",
    "with open('example.txt', 'w') as f:\n",
    "  f.write('some content')\n",
    "\n",
    "files.download('example.txt')"
   ]
  },
  {
   "cell_type": "markdown",
   "metadata": {
    "colab_type": "text",
    "id": "lqSgjn6Qxilk"
   },
   "source": [
    "### Mounting Google Drive locally\n",
    "\n",
    "The example below shows how to mount your Google Drive in your virtual machine using an authorization code, and shows a couple of ways to write & read files there. Once executed, observe the new file (`foo.txt`) is visible in https://drive.google.com/\n",
    "\n",
    "Note this only supports reading and writing files; to programmatically change sharing settings etc use one of the other options below."
   ]
  },
  {
   "cell_type": "code",
   "execution_count": null,
   "metadata": {
    "colab": {},
    "colab_type": "code",
    "id": "fLvPAL64xwIQ"
   },
   "outputs": [],
   "source": [
    "from google.colab import drive\n",
    "drive.mount('/content/gdrive')"
   ]
  },
  {
   "cell_type": "markdown",
   "metadata": {
    "colab_type": "text",
    "id": "V-XKZ4F00Equ"
   },
   "source": [
    "### use internet URL\n",
    "\n",
    "If you store your data in some public available address, you can simply use URL to read in. "
   ]
  },
  {
   "cell_type": "code",
   "execution_count": null,
   "metadata": {
    "colab": {
     "base_uri": "https://localhost:8080/",
     "height": 202
    },
    "colab_type": "code",
    "executionInfo": {
     "elapsed": 518,
     "status": "ok",
     "timestamp": 1548845279601,
     "user": {
      "displayName": "Jan Nasemann",
      "photoUrl": "https://lh3.googleusercontent.com/-NwAvDmlKMCY/AAAAAAAAAAI/AAAAAAAAGA8/MjUNH8ZUJXw/s64/photo.jpg",
      "userId": "14602079930279377020"
     },
     "user_tz": -60
    },
    "id": "7QIyF8xZ0Tz5",
    "outputId": "f1507895-9284-4a71-e1c6-1641caf19e98"
   },
   "outputs": [
    {
     "data": {
      "text/html": [
       "<div>\n",
       "<style scoped>\n",
       "    .dataframe tbody tr th:only-of-type {\n",
       "        vertical-align: middle;\n",
       "    }\n",
       "\n",
       "    .dataframe tbody tr th {\n",
       "        vertical-align: top;\n",
       "    }\n",
       "\n",
       "    .dataframe thead th {\n",
       "        text-align: right;\n",
       "    }\n",
       "</style>\n",
       "<table border=\"1\" class=\"dataframe\">\n",
       "  <thead>\n",
       "    <tr style=\"text-align: right;\">\n",
       "      <th></th>\n",
       "      <th>target</th>\n",
       "      <th>setsize</th>\n",
       "      <th>dyn</th>\n",
       "      <th>resp</th>\n",
       "      <th>rt</th>\n",
       "      <th>sub</th>\n",
       "      <th>exp</th>\n",
       "      <th>correct</th>\n",
       "    </tr>\n",
       "  </thead>\n",
       "  <tbody>\n",
       "    <tr>\n",
       "      <th>0</th>\n",
       "      <td>Absent</td>\n",
       "      <td>12</td>\n",
       "      <td>Static</td>\n",
       "      <td>2</td>\n",
       "      <td>2.583007</td>\n",
       "      <td>1</td>\n",
       "      <td>1</td>\n",
       "      <td>1</td>\n",
       "    </tr>\n",
       "    <tr>\n",
       "      <th>1</th>\n",
       "      <td>Absent</td>\n",
       "      <td>8</td>\n",
       "      <td>Static</td>\n",
       "      <td>2</td>\n",
       "      <td>0.935967</td>\n",
       "      <td>1</td>\n",
       "      <td>1</td>\n",
       "      <td>1</td>\n",
       "    </tr>\n",
       "    <tr>\n",
       "      <th>2</th>\n",
       "      <td>Present</td>\n",
       "      <td>16</td>\n",
       "      <td>Static</td>\n",
       "      <td>1</td>\n",
       "      <td>0.794771</td>\n",
       "      <td>1</td>\n",
       "      <td>1</td>\n",
       "      <td>1</td>\n",
       "    </tr>\n",
       "    <tr>\n",
       "      <th>3</th>\n",
       "      <td>Present</td>\n",
       "      <td>8</td>\n",
       "      <td>Static</td>\n",
       "      <td>1</td>\n",
       "      <td>1.241838</td>\n",
       "      <td>1</td>\n",
       "      <td>1</td>\n",
       "      <td>1</td>\n",
       "    </tr>\n",
       "    <tr>\n",
       "      <th>4</th>\n",
       "      <td>Absent</td>\n",
       "      <td>12</td>\n",
       "      <td>Static</td>\n",
       "      <td>2</td>\n",
       "      <td>1.759485</td>\n",
       "      <td>1</td>\n",
       "      <td>1</td>\n",
       "      <td>1</td>\n",
       "    </tr>\n",
       "  </tbody>\n",
       "</table>\n",
       "</div>"
      ],
      "text/plain": [
       "    target  setsize     dyn  resp        rt  sub  exp  correct\n",
       "0   Absent       12  Static     2  2.583007    1    1        1\n",
       "1   Absent        8  Static     2  0.935967    1    1        1\n",
       "2  Present       16  Static     1  0.794771    1    1        1\n",
       "3  Present        8  Static     1  1.241838    1    1        1\n",
       "4   Absent       12  Static     2  1.759485    1    1        1"
      ]
     },
     "execution_count": 5,
     "metadata": {
      "tags": []
     },
     "output_type": "execute_result"
    }
   ],
   "source": [
    "url = 'https://raw.githubusercontent.com/berkgercek/visualsearch/master/data/exp1.csv'\n",
    "dat = pd.read_csv(url)\n",
    "dat.head()"
   ]
  },
  {
   "cell_type": "markdown",
   "metadata": {
    "colab_type": "text",
    "id": "FDH_7fk7teH7"
   },
   "source": [
    "## 3. Pandas Data Table Basic\n",
    "\n",
    "read and explore pandas data table. \n",
    "\n",
    "### Shape, list rows"
   ]
  },
  {
   "cell_type": "code",
   "execution_count": null,
   "metadata": {
    "colab": {
     "base_uri": "https://localhost:8080/",
     "height": 35
    },
    "colab_type": "code",
    "executionInfo": {
     "elapsed": 549,
     "status": "ok",
     "timestamp": 1548845284598,
     "user": {
      "displayName": "Jan Nasemann",
      "photoUrl": "https://lh3.googleusercontent.com/-NwAvDmlKMCY/AAAAAAAAAAI/AAAAAAAAGA8/MjUNH8ZUJXw/s64/photo.jpg",
      "userId": "14602079930279377020"
     },
     "user_tz": -60
    },
    "id": "ciJS1CeAteIA",
    "outputId": "49497459-63b4-4a61-d5e4-a373124fcb1e"
   },
   "outputs": [
    {
     "data": {
      "text/plain": [
       "(4620, 8)"
      ]
     },
     "execution_count": 6,
     "metadata": {
      "tags": []
     },
     "output_type": "execute_result"
    }
   ],
   "source": [
    "# dim(dat)   <--- The R code\n",
    "dat.shape  # <--- The python code"
   ]
  },
  {
   "cell_type": "markdown",
   "metadata": {
    "colab_type": "text",
    "id": "wr3fb1zgteIF"
   },
   "source": [
    "To view the data, use `.head()` or `.tail()` function"
   ]
  },
  {
   "cell_type": "code",
   "execution_count": null,
   "metadata": {
    "colab": {
     "base_uri": "https://localhost:8080/",
     "height": 202
    },
    "colab_type": "code",
    "executionInfo": {
     "elapsed": 529,
     "status": "ok",
     "timestamp": 1548845287029,
     "user": {
      "displayName": "Jan Nasemann",
      "photoUrl": "https://lh3.googleusercontent.com/-NwAvDmlKMCY/AAAAAAAAAAI/AAAAAAAAGA8/MjUNH8ZUJXw/s64/photo.jpg",
      "userId": "14602079930279377020"
     },
     "user_tz": -60
    },
    "id": "4ULGK6q0teIG",
    "outputId": "ab95d181-90ab-4ac3-d919-ae20bca8f9f7"
   },
   "outputs": [
    {
     "data": {
      "text/html": [
       "<div>\n",
       "<style scoped>\n",
       "    .dataframe tbody tr th:only-of-type {\n",
       "        vertical-align: middle;\n",
       "    }\n",
       "\n",
       "    .dataframe tbody tr th {\n",
       "        vertical-align: top;\n",
       "    }\n",
       "\n",
       "    .dataframe thead th {\n",
       "        text-align: right;\n",
       "    }\n",
       "</style>\n",
       "<table border=\"1\" class=\"dataframe\">\n",
       "  <thead>\n",
       "    <tr style=\"text-align: right;\">\n",
       "      <th></th>\n",
       "      <th>target</th>\n",
       "      <th>setsize</th>\n",
       "      <th>dyn</th>\n",
       "      <th>resp</th>\n",
       "      <th>rt</th>\n",
       "      <th>sub</th>\n",
       "      <th>exp</th>\n",
       "      <th>correct</th>\n",
       "    </tr>\n",
       "  </thead>\n",
       "  <tbody>\n",
       "    <tr>\n",
       "      <th>4615</th>\n",
       "      <td>Present</td>\n",
       "      <td>16</td>\n",
       "      <td>Static</td>\n",
       "      <td>1</td>\n",
       "      <td>0.571045</td>\n",
       "      <td>11</td>\n",
       "      <td>1</td>\n",
       "      <td>1</td>\n",
       "    </tr>\n",
       "    <tr>\n",
       "      <th>4616</th>\n",
       "      <td>Absent</td>\n",
       "      <td>12</td>\n",
       "      <td>Static</td>\n",
       "      <td>2</td>\n",
       "      <td>1.100499</td>\n",
       "      <td>11</td>\n",
       "      <td>1</td>\n",
       "      <td>1</td>\n",
       "    </tr>\n",
       "    <tr>\n",
       "      <th>4617</th>\n",
       "      <td>Absent</td>\n",
       "      <td>8</td>\n",
       "      <td>Static</td>\n",
       "      <td>2</td>\n",
       "      <td>1.029907</td>\n",
       "      <td>11</td>\n",
       "      <td>1</td>\n",
       "      <td>1</td>\n",
       "    </tr>\n",
       "    <tr>\n",
       "      <th>4618</th>\n",
       "      <td>Absent</td>\n",
       "      <td>12</td>\n",
       "      <td>Static</td>\n",
       "      <td>2</td>\n",
       "      <td>0.994617</td>\n",
       "      <td>11</td>\n",
       "      <td>1</td>\n",
       "      <td>1</td>\n",
       "    </tr>\n",
       "    <tr>\n",
       "      <th>4619</th>\n",
       "      <td>Absent</td>\n",
       "      <td>16</td>\n",
       "      <td>Static</td>\n",
       "      <td>2</td>\n",
       "      <td>1.253425</td>\n",
       "      <td>11</td>\n",
       "      <td>1</td>\n",
       "      <td>1</td>\n",
       "    </tr>\n",
       "  </tbody>\n",
       "</table>\n",
       "</div>"
      ],
      "text/plain": [
       "       target  setsize     dyn  resp        rt  sub  exp  correct\n",
       "4615  Present       16  Static     1  0.571045   11    1        1\n",
       "4616   Absent       12  Static     2  1.100499   11    1        1\n",
       "4617   Absent        8  Static     2  1.029907   11    1        1\n",
       "4618   Absent       12  Static     2  0.994617   11    1        1\n",
       "4619   Absent       16  Static     2  1.253425   11    1        1"
      ]
     },
     "execution_count": 7,
     "metadata": {
      "tags": []
     },
     "output_type": "execute_result"
    }
   ],
   "source": [
    "# head(dat)\n",
    "dat.tail()"
   ]
  },
  {
   "cell_type": "markdown",
   "metadata": {
    "colab_type": "text",
    "id": "1v-YD7To1wI_"
   },
   "source": [
    "__Your task:__ Please list the first 10 rows of the data. "
   ]
  },
  {
   "cell_type": "code",
   "execution_count": null,
   "metadata": {
    "colab": {
     "base_uri": "https://localhost:8080/",
     "height": 202
    },
    "colab_type": "code",
    "executionInfo": {
     "elapsed": 562,
     "status": "ok",
     "timestamp": 1548845305358,
     "user": {
      "displayName": "Jan Nasemann",
      "photoUrl": "https://lh3.googleusercontent.com/-NwAvDmlKMCY/AAAAAAAAAAI/AAAAAAAAGA8/MjUNH8ZUJXw/s64/photo.jpg",
      "userId": "14602079930279377020"
     },
     "user_tz": -60
    },
    "id": "WzjwKafT2UwB",
    "outputId": "5314a56d-7d87-46bb-ee9c-c04db2b73cc6"
   },
   "outputs": [
    {
     "data": {
      "text/html": [
       "<div>\n",
       "<style scoped>\n",
       "    .dataframe tbody tr th:only-of-type {\n",
       "        vertical-align: middle;\n",
       "    }\n",
       "\n",
       "    .dataframe tbody tr th {\n",
       "        vertical-align: top;\n",
       "    }\n",
       "\n",
       "    .dataframe thead th {\n",
       "        text-align: right;\n",
       "    }\n",
       "</style>\n",
       "<table border=\"1\" class=\"dataframe\">\n",
       "  <thead>\n",
       "    <tr style=\"text-align: right;\">\n",
       "      <th></th>\n",
       "      <th>target</th>\n",
       "      <th>setsize</th>\n",
       "      <th>dyn</th>\n",
       "      <th>resp</th>\n",
       "      <th>rt</th>\n",
       "      <th>sub</th>\n",
       "      <th>exp</th>\n",
       "      <th>correct</th>\n",
       "    </tr>\n",
       "  </thead>\n",
       "  <tbody>\n",
       "    <tr>\n",
       "      <th>0</th>\n",
       "      <td>Absent</td>\n",
       "      <td>12</td>\n",
       "      <td>Static</td>\n",
       "      <td>2</td>\n",
       "      <td>2.583007</td>\n",
       "      <td>1</td>\n",
       "      <td>1</td>\n",
       "      <td>1</td>\n",
       "    </tr>\n",
       "    <tr>\n",
       "      <th>1</th>\n",
       "      <td>Absent</td>\n",
       "      <td>8</td>\n",
       "      <td>Static</td>\n",
       "      <td>2</td>\n",
       "      <td>0.935967</td>\n",
       "      <td>1</td>\n",
       "      <td>1</td>\n",
       "      <td>1</td>\n",
       "    </tr>\n",
       "    <tr>\n",
       "      <th>2</th>\n",
       "      <td>Present</td>\n",
       "      <td>16</td>\n",
       "      <td>Static</td>\n",
       "      <td>1</td>\n",
       "      <td>0.794771</td>\n",
       "      <td>1</td>\n",
       "      <td>1</td>\n",
       "      <td>1</td>\n",
       "    </tr>\n",
       "    <tr>\n",
       "      <th>3</th>\n",
       "      <td>Present</td>\n",
       "      <td>8</td>\n",
       "      <td>Static</td>\n",
       "      <td>1</td>\n",
       "      <td>1.241838</td>\n",
       "      <td>1</td>\n",
       "      <td>1</td>\n",
       "      <td>1</td>\n",
       "    </tr>\n",
       "    <tr>\n",
       "      <th>4</th>\n",
       "      <td>Absent</td>\n",
       "      <td>12</td>\n",
       "      <td>Static</td>\n",
       "      <td>2</td>\n",
       "      <td>1.759485</td>\n",
       "      <td>1</td>\n",
       "      <td>1</td>\n",
       "      <td>1</td>\n",
       "    </tr>\n",
       "  </tbody>\n",
       "</table>\n",
       "</div>"
      ],
      "text/plain": [
       "    target  setsize     dyn  resp        rt  sub  exp  correct\n",
       "0   Absent       12  Static     2  2.583007    1    1        1\n",
       "1   Absent        8  Static     2  0.935967    1    1        1\n",
       "2  Present       16  Static     1  0.794771    1    1        1\n",
       "3  Present        8  Static     1  1.241838    1    1        1\n",
       "4   Absent       12  Static     2  1.759485    1    1        1"
      ]
     },
     "execution_count": 8,
     "metadata": {
      "tags": []
     },
     "output_type": "execute_result"
    }
   ],
   "source": [
    "# your code here:\n",
    "dat.head()"
   ]
  },
  {
   "cell_type": "markdown",
   "metadata": {
    "colab_type": "text",
    "id": "4TPCKI_V2TbM"
   },
   "source": [
    "### __Solution__:"
   ]
  },
  {
   "cell_type": "code",
   "execution_count": null,
   "metadata": {
    "colab": {
     "base_uri": "https://localhost:8080/",
     "height": 233
    },
    "colab_type": "code",
    "executionInfo": {
     "elapsed": 821,
     "status": "ok",
     "timestamp": 1548836610405,
     "user": {
      "displayName": "Z Shi",
      "photoUrl": "https://lh3.googleusercontent.com/-prclvRzINh0/AAAAAAAAAAI/AAAAAAAABNE/UKdTTGAL4_g/s64/photo.jpg",
      "userId": "00277634363955980343"
     },
     "user_tz": -60
    },
    "id": "NzPeJUFL2grz",
    "outputId": "74b18267-6d02-428a-d2dc-4d11787ebfb9"
   },
   "outputs": [
    {
     "data": {
      "text/html": [
       "<div>\n",
       "<style scoped>\n",
       "    .dataframe tbody tr th:only-of-type {\n",
       "        vertical-align: middle;\n",
       "    }\n",
       "\n",
       "    .dataframe tbody tr th {\n",
       "        vertical-align: top;\n",
       "    }\n",
       "\n",
       "    .dataframe thead th {\n",
       "        text-align: right;\n",
       "    }\n",
       "</style>\n",
       "<table border=\"1\" class=\"dataframe\">\n",
       "  <thead>\n",
       "    <tr style=\"text-align: right;\">\n",
       "      <th></th>\n",
       "      <th>target</th>\n",
       "      <th>setsize</th>\n",
       "      <th>dyn</th>\n",
       "      <th>resp</th>\n",
       "      <th>rt</th>\n",
       "      <th>sub</th>\n",
       "      <th>exp</th>\n",
       "      <th>correct</th>\n",
       "    </tr>\n",
       "  </thead>\n",
       "  <tbody>\n",
       "    <tr>\n",
       "      <th>0</th>\n",
       "      <td>Absent</td>\n",
       "      <td>12</td>\n",
       "      <td>Static</td>\n",
       "      <td>2</td>\n",
       "      <td>2.583007</td>\n",
       "      <td>1</td>\n",
       "      <td>1</td>\n",
       "      <td>1</td>\n",
       "    </tr>\n",
       "    <tr>\n",
       "      <th>1</th>\n",
       "      <td>Absent</td>\n",
       "      <td>8</td>\n",
       "      <td>Static</td>\n",
       "      <td>2</td>\n",
       "      <td>0.935967</td>\n",
       "      <td>1</td>\n",
       "      <td>1</td>\n",
       "      <td>1</td>\n",
       "    </tr>\n",
       "    <tr>\n",
       "      <th>...</th>\n",
       "      <td>...</td>\n",
       "      <td>...</td>\n",
       "      <td>...</td>\n",
       "      <td>...</td>\n",
       "      <td>...</td>\n",
       "      <td>...</td>\n",
       "      <td>...</td>\n",
       "      <td>...</td>\n",
       "    </tr>\n",
       "    <tr>\n",
       "      <th>8</th>\n",
       "      <td>Absent</td>\n",
       "      <td>8</td>\n",
       "      <td>Static</td>\n",
       "      <td>2</td>\n",
       "      <td>1.406544</td>\n",
       "      <td>1</td>\n",
       "      <td>1</td>\n",
       "      <td>1</td>\n",
       "    </tr>\n",
       "    <tr>\n",
       "      <th>9</th>\n",
       "      <td>Present</td>\n",
       "      <td>12</td>\n",
       "      <td>Static</td>\n",
       "      <td>1</td>\n",
       "      <td>1.230085</td>\n",
       "      <td>1</td>\n",
       "      <td>1</td>\n",
       "      <td>1</td>\n",
       "    </tr>\n",
       "  </tbody>\n",
       "</table>\n",
       "<p>10 rows × 8 columns</p>\n",
       "</div>"
      ],
      "text/plain": [
       "     target  setsize     dyn  resp        rt  sub  exp  correct\n",
       "0    Absent       12  Static     2  2.583007    1    1        1\n",
       "1    Absent        8  Static     2  0.935967    1    1        1\n",
       "..      ...      ...     ...   ...       ...  ...  ...      ...\n",
       "8    Absent        8  Static     2  1.406544    1    1        1\n",
       "9   Present       12  Static     1  1.230085    1    1        1\n",
       "\n",
       "[10 rows x 8 columns]"
      ]
     },
     "execution_count": 18,
     "metadata": {
      "tags": []
     },
     "output_type": "execute_result"
    }
   ],
   "source": [
    "dat.head(10)"
   ]
  },
  {
   "cell_type": "markdown",
   "metadata": {
    "colab_type": "text",
    "id": "XKnsSNwu29SZ"
   },
   "source": [
    "### Statistical summary"
   ]
  },
  {
   "cell_type": "code",
   "execution_count": null,
   "metadata": {
    "colab": {
     "base_uri": "https://localhost:8080/",
     "height": 233
    },
    "colab_type": "code",
    "executionInfo": {
     "elapsed": 677,
     "status": "ok",
     "timestamp": 1548836730433,
     "user": {
      "displayName": "Z Shi",
      "photoUrl": "https://lh3.googleusercontent.com/-prclvRzINh0/AAAAAAAAAAI/AAAAAAAABNE/UKdTTGAL4_g/s64/photo.jpg",
      "userId": "00277634363955980343"
     },
     "user_tz": -60
    },
    "id": "_EOUJHXbteIK",
    "outputId": "14daa9c4-cd01-45f6-f595-e4744cd9b741"
   },
   "outputs": [
    {
     "data": {
      "text/html": [
       "<div>\n",
       "<style scoped>\n",
       "    .dataframe tbody tr th:only-of-type {\n",
       "        vertical-align: middle;\n",
       "    }\n",
       "\n",
       "    .dataframe tbody tr th {\n",
       "        vertical-align: top;\n",
       "    }\n",
       "\n",
       "    .dataframe thead th {\n",
       "        text-align: right;\n",
       "    }\n",
       "</style>\n",
       "<table border=\"1\" class=\"dataframe\">\n",
       "  <thead>\n",
       "    <tr style=\"text-align: right;\">\n",
       "      <th></th>\n",
       "      <th>setsize</th>\n",
       "      <th>resp</th>\n",
       "      <th>rt</th>\n",
       "      <th>sub</th>\n",
       "      <th>exp</th>\n",
       "      <th>correct</th>\n",
       "    </tr>\n",
       "  </thead>\n",
       "  <tbody>\n",
       "    <tr>\n",
       "      <th>count</th>\n",
       "      <td>4620.0</td>\n",
       "      <td>4620.000000</td>\n",
       "      <td>4620.000000</td>\n",
       "      <td>4620.0</td>\n",
       "      <td>4620.0</td>\n",
       "      <td>4620.000000</td>\n",
       "    </tr>\n",
       "    <tr>\n",
       "      <th>mean</th>\n",
       "      <td>12.0</td>\n",
       "      <td>1.467965</td>\n",
       "      <td>1.530554</td>\n",
       "      <td>6.0</td>\n",
       "      <td>1.0</td>\n",
       "      <td>0.934416</td>\n",
       "    </tr>\n",
       "    <tr>\n",
       "      <th>...</th>\n",
       "      <td>...</td>\n",
       "      <td>...</td>\n",
       "      <td>...</td>\n",
       "      <td>...</td>\n",
       "      <td>...</td>\n",
       "      <td>...</td>\n",
       "    </tr>\n",
       "    <tr>\n",
       "      <th>75%</th>\n",
       "      <td>16.0</td>\n",
       "      <td>2.000000</td>\n",
       "      <td>1.994610</td>\n",
       "      <td>9.0</td>\n",
       "      <td>1.0</td>\n",
       "      <td>1.000000</td>\n",
       "    </tr>\n",
       "    <tr>\n",
       "      <th>max</th>\n",
       "      <td>16.0</td>\n",
       "      <td>2.000000</td>\n",
       "      <td>5.041658</td>\n",
       "      <td>11.0</td>\n",
       "      <td>1.0</td>\n",
       "      <td>1.000000</td>\n",
       "    </tr>\n",
       "  </tbody>\n",
       "</table>\n",
       "<p>8 rows × 6 columns</p>\n",
       "</div>"
      ],
      "text/plain": [
       "       setsize         resp           rt     sub     exp      correct\n",
       "count   4620.0  4620.000000  4620.000000  4620.0  4620.0  4620.000000\n",
       "mean      12.0     1.467965     1.530554     6.0     1.0     0.934416\n",
       "...        ...          ...          ...     ...     ...          ...\n",
       "75%       16.0     2.000000     1.994610     9.0     1.0     1.000000\n",
       "max       16.0     2.000000     5.041658    11.0     1.0     1.000000\n",
       "\n",
       "[8 rows x 6 columns]"
      ]
     },
     "execution_count": 19,
     "metadata": {
      "tags": []
     },
     "output_type": "execute_result"
    }
   ],
   "source": [
    "# show some descriptive summary\n",
    "# summary(dat)\n",
    "dat.describe()"
   ]
  },
  {
   "cell_type": "code",
   "execution_count": null,
   "metadata": {
    "colab": {
     "base_uri": "https://localhost:8080/",
     "height": 34
    },
    "colab_type": "code",
    "executionInfo": {
     "elapsed": 1397,
     "status": "ok",
     "timestamp": 1548836752028,
     "user": {
      "displayName": "Z Shi",
      "photoUrl": "https://lh3.googleusercontent.com/-prclvRzINh0/AAAAAAAAAAI/AAAAAAAABNE/UKdTTGAL4_g/s64/photo.jpg",
      "userId": "00277634363955980343"
     },
     "user_tz": -60
    },
    "id": "PQJY9EtHteIO",
    "outputId": "b08d96ef-c0d3-4dd8-bbf6-95aa0ad77093"
   },
   "outputs": [
    {
     "data": {
      "text/plain": [
       "array([12,  8, 16])"
      ]
     },
     "execution_count": 20,
     "metadata": {
      "tags": []
     },
     "output_type": "execute_result"
    }
   ],
   "source": [
    "# unique(dat$Cond) <- R\n",
    "dat.setsize.unique()"
   ]
  },
  {
   "cell_type": "code",
   "execution_count": null,
   "metadata": {
    "colab": {
     "base_uri": "https://localhost:8080/",
     "height": 34
    },
    "colab_type": "code",
    "executionInfo": {
     "elapsed": 884,
     "status": "ok",
     "timestamp": 1548836868767,
     "user": {
      "displayName": "Z Shi",
      "photoUrl": "https://lh3.googleusercontent.com/-prclvRzINh0/AAAAAAAAAAI/AAAAAAAABNE/UKdTTGAL4_g/s64/photo.jpg",
      "userId": "00277634363955980343"
     },
     "user_tz": -60
    },
    "id": "_G_i7h6ZteIR",
    "outputId": "28acdd41-8f14-4db9-c100-24bb3ae386d3"
   },
   "outputs": [
    {
     "data": {
      "text/plain": [
       "array([ 1,  2,  3,  4,  5,  6,  7,  8,  9, 10, 11])"
      ]
     },
     "execution_count": 25,
     "metadata": {
      "tags": []
     },
     "output_type": "execute_result"
    }
   ],
   "source": [
    "dat['sub'].unique()"
   ]
  },
  {
   "cell_type": "code",
   "execution_count": null,
   "metadata": {
    "colab": {
     "base_uri": "https://localhost:8080/",
     "height": 34
    },
    "colab_type": "code",
    "executionInfo": {
     "elapsed": 883,
     "status": "ok",
     "timestamp": 1548836898263,
     "user": {
      "displayName": "Z Shi",
      "photoUrl": "https://lh3.googleusercontent.com/-prclvRzINh0/AAAAAAAAAAI/AAAAAAAABNE/UKdTTGAL4_g/s64/photo.jpg",
      "userId": "00277634363955980343"
     },
     "user_tz": -60
    },
    "id": "7mCMA_sQteIU",
    "outputId": "64442c9b-49ea-4876-801e-371e43b20f68"
   },
   "outputs": [
    {
     "data": {
      "text/plain": [
       "pandas.core.series.Series"
      ]
     },
     "execution_count": 28,
     "metadata": {
      "tags": []
     },
     "output_type": "execute_result"
    }
   ],
   "source": [
    "type(dat.resp)"
   ]
  },
  {
   "cell_type": "markdown",
   "metadata": {
    "colab_type": "text",
    "id": "bSQpqAWY4Gv-"
   },
   "source": [
    "## 4. Indexing, slicing and subsetting in Pandas\n",
    "\n",
    "Indexing, slicing and subsettings are basic data manipulation. For example, we need to select specific subject for further data exploring, or we need to exclude error trials etc. \n",
    "\n",
    "### Doing in matlab way\n",
    "\n",
    "Pandas is a matrix, so you can index using standard matlab way. \n"
   ]
  },
  {
   "cell_type": "code",
   "execution_count": null,
   "metadata": {
    "colab": {
     "base_uri": "https://localhost:8080/",
     "height": 204
    },
    "colab_type": "code",
    "executionInfo": {
     "elapsed": 795,
     "status": "ok",
     "timestamp": 1548837189155,
     "user": {
      "displayName": "Z Shi",
      "photoUrl": "https://lh3.googleusercontent.com/-prclvRzINh0/AAAAAAAAAAI/AAAAAAAABNE/UKdTTGAL4_g/s64/photo.jpg",
      "userId": "00277634363955980343"
     },
     "user_tz": -60
    },
    "id": "ZnWzo80Y46JY",
    "outputId": "750f20dc-dc34-4d5c-9ed8-1915af844a4f"
   },
   "outputs": [
    {
     "data": {
      "text/html": [
       "<div>\n",
       "<style scoped>\n",
       "    .dataframe tbody tr th:only-of-type {\n",
       "        vertical-align: middle;\n",
       "    }\n",
       "\n",
       "    .dataframe tbody tr th {\n",
       "        vertical-align: top;\n",
       "    }\n",
       "\n",
       "    .dataframe thead th {\n",
       "        text-align: right;\n",
       "    }\n",
       "</style>\n",
       "<table border=\"1\" class=\"dataframe\">\n",
       "  <thead>\n",
       "    <tr style=\"text-align: right;\">\n",
       "      <th></th>\n",
       "      <th>target</th>\n",
       "      <th>setsize</th>\n",
       "      <th>dyn</th>\n",
       "      <th>resp</th>\n",
       "      <th>rt</th>\n",
       "      <th>sub</th>\n",
       "      <th>exp</th>\n",
       "      <th>correct</th>\n",
       "    </tr>\n",
       "  </thead>\n",
       "  <tbody>\n",
       "    <tr>\n",
       "      <th>0</th>\n",
       "      <td>Absent</td>\n",
       "      <td>12</td>\n",
       "      <td>Static</td>\n",
       "      <td>2</td>\n",
       "      <td>2.583007</td>\n",
       "      <td>1</td>\n",
       "      <td>1</td>\n",
       "      <td>1</td>\n",
       "    </tr>\n",
       "    <tr>\n",
       "      <th>1</th>\n",
       "      <td>Absent</td>\n",
       "      <td>8</td>\n",
       "      <td>Static</td>\n",
       "      <td>2</td>\n",
       "      <td>0.935967</td>\n",
       "      <td>1</td>\n",
       "      <td>1</td>\n",
       "      <td>1</td>\n",
       "    </tr>\n",
       "    <tr>\n",
       "      <th>2</th>\n",
       "      <td>Present</td>\n",
       "      <td>16</td>\n",
       "      <td>Static</td>\n",
       "      <td>1</td>\n",
       "      <td>0.794771</td>\n",
       "      <td>1</td>\n",
       "      <td>1</td>\n",
       "      <td>1</td>\n",
       "    </tr>\n",
       "    <tr>\n",
       "      <th>3</th>\n",
       "      <td>Present</td>\n",
       "      <td>8</td>\n",
       "      <td>Static</td>\n",
       "      <td>1</td>\n",
       "      <td>1.241838</td>\n",
       "      <td>1</td>\n",
       "      <td>1</td>\n",
       "      <td>1</td>\n",
       "    </tr>\n",
       "    <tr>\n",
       "      <th>4</th>\n",
       "      <td>Absent</td>\n",
       "      <td>12</td>\n",
       "      <td>Static</td>\n",
       "      <td>2</td>\n",
       "      <td>1.759485</td>\n",
       "      <td>1</td>\n",
       "      <td>1</td>\n",
       "      <td>1</td>\n",
       "    </tr>\n",
       "  </tbody>\n",
       "</table>\n",
       "</div>"
      ],
      "text/plain": [
       "    target  setsize     dyn  resp        rt  sub  exp  correct\n",
       "0   Absent       12  Static     2  2.583007    1    1        1\n",
       "1   Absent        8  Static     2  0.935967    1    1        1\n",
       "2  Present       16  Static     1  0.794771    1    1        1\n",
       "3  Present        8  Static     1  1.241838    1    1        1\n",
       "4   Absent       12  Static     2  1.759485    1    1        1"
      ]
     },
     "execution_count": 29,
     "metadata": {
      "tags": []
     },
     "output_type": "execute_result"
    }
   ],
   "source": [
    "# show the first 5 rows\n",
    "dat[:5]"
   ]
  },
  {
   "cell_type": "code",
   "execution_count": null,
   "metadata": {
    "colab": {
     "base_uri": "https://localhost:8080/",
     "height": 142
    },
    "colab_type": "code",
    "executionInfo": {
     "elapsed": 789,
     "status": "ok",
     "timestamp": 1548837332356,
     "user": {
      "displayName": "Z Shi",
      "photoUrl": "https://lh3.googleusercontent.com/-prclvRzINh0/AAAAAAAAAAI/AAAAAAAABNE/UKdTTGAL4_g/s64/photo.jpg",
      "userId": "00277634363955980343"
     },
     "user_tz": -60
    },
    "id": "8YVUGThg5BNj",
    "outputId": "f15c8358-72bd-4391-c71a-62dd80206580"
   },
   "outputs": [
    {
     "data": {
      "text/html": [
       "<div>\n",
       "<style scoped>\n",
       "    .dataframe tbody tr th:only-of-type {\n",
       "        vertical-align: middle;\n",
       "    }\n",
       "\n",
       "    .dataframe tbody tr th {\n",
       "        vertical-align: top;\n",
       "    }\n",
       "\n",
       "    .dataframe thead th {\n",
       "        text-align: right;\n",
       "    }\n",
       "</style>\n",
       "<table border=\"1\" class=\"dataframe\">\n",
       "  <thead>\n",
       "    <tr style=\"text-align: right;\">\n",
       "      <th></th>\n",
       "      <th>target</th>\n",
       "      <th>setsize</th>\n",
       "      <th>dyn</th>\n",
       "    </tr>\n",
       "  </thead>\n",
       "  <tbody>\n",
       "    <tr>\n",
       "      <th>0</th>\n",
       "      <td>Absent</td>\n",
       "      <td>12</td>\n",
       "      <td>Static</td>\n",
       "    </tr>\n",
       "    <tr>\n",
       "      <th>1</th>\n",
       "      <td>Absent</td>\n",
       "      <td>8</td>\n",
       "      <td>Static</td>\n",
       "    </tr>\n",
       "    <tr>\n",
       "      <th>2</th>\n",
       "      <td>Present</td>\n",
       "      <td>16</td>\n",
       "      <td>Static</td>\n",
       "    </tr>\n",
       "  </tbody>\n",
       "</table>\n",
       "</div>"
      ],
      "text/plain": [
       "    target  setsize     dyn\n",
       "0   Absent       12  Static\n",
       "1   Absent        8  Static\n",
       "2  Present       16  Static"
      ]
     },
     "execution_count": 34,
     "metadata": {
      "tags": []
     },
     "output_type": "execute_result"
    }
   ],
   "source": [
    "# select first 3 rows, first 3 columns\n",
    "dat.iloc[:3,:3]"
   ]
  },
  {
   "cell_type": "code",
   "execution_count": null,
   "metadata": {
    "colab": {
     "base_uri": "https://localhost:8080/",
     "height": 204
    },
    "colab_type": "code",
    "executionInfo": {
     "elapsed": 644,
     "status": "ok",
     "timestamp": 1548837413684,
     "user": {
      "displayName": "Z Shi",
      "photoUrl": "https://lh3.googleusercontent.com/-prclvRzINh0/AAAAAAAAAAI/AAAAAAAABNE/UKdTTGAL4_g/s64/photo.jpg",
      "userId": "00277634363955980343"
     },
     "user_tz": -60
    },
    "id": "HooznWEr5sya",
    "outputId": "9f8a1735-73da-4a61-bd62-1ea1c8458e8a"
   },
   "outputs": [
    {
     "data": {
      "text/html": [
       "<div>\n",
       "<style scoped>\n",
       "    .dataframe tbody tr th:only-of-type {\n",
       "        vertical-align: middle;\n",
       "    }\n",
       "\n",
       "    .dataframe tbody tr th {\n",
       "        vertical-align: top;\n",
       "    }\n",
       "\n",
       "    .dataframe thead th {\n",
       "        text-align: right;\n",
       "    }\n",
       "</style>\n",
       "<table border=\"1\" class=\"dataframe\">\n",
       "  <thead>\n",
       "    <tr style=\"text-align: right;\">\n",
       "      <th></th>\n",
       "      <th>target</th>\n",
       "      <th>setsize</th>\n",
       "      <th>rt</th>\n",
       "    </tr>\n",
       "  </thead>\n",
       "  <tbody>\n",
       "    <tr>\n",
       "      <th>0</th>\n",
       "      <td>Absent</td>\n",
       "      <td>12</td>\n",
       "      <td>2.583007</td>\n",
       "    </tr>\n",
       "    <tr>\n",
       "      <th>1</th>\n",
       "      <td>Absent</td>\n",
       "      <td>8</td>\n",
       "      <td>0.935967</td>\n",
       "    </tr>\n",
       "    <tr>\n",
       "      <th>2</th>\n",
       "      <td>Present</td>\n",
       "      <td>16</td>\n",
       "      <td>0.794771</td>\n",
       "    </tr>\n",
       "    <tr>\n",
       "      <th>3</th>\n",
       "      <td>Present</td>\n",
       "      <td>8</td>\n",
       "      <td>1.241838</td>\n",
       "    </tr>\n",
       "    <tr>\n",
       "      <th>4</th>\n",
       "      <td>Absent</td>\n",
       "      <td>12</td>\n",
       "      <td>1.759485</td>\n",
       "    </tr>\n",
       "  </tbody>\n",
       "</table>\n",
       "</div>"
      ],
      "text/plain": [
       "    target  setsize        rt\n",
       "0   Absent       12  2.583007\n",
       "1   Absent        8  0.935967\n",
       "2  Present       16  0.794771\n",
       "3  Present        8  1.241838\n",
       "4   Absent       12  1.759485"
      ]
     },
     "execution_count": 35,
     "metadata": {
      "tags": []
     },
     "output_type": "execute_result"
    }
   ],
   "source": [
    "# select target, setsize, and rt\n",
    "dat.loc[:,['target','setsize','rt']].head()"
   ]
  },
  {
   "cell_type": "markdown",
   "metadata": {
    "colab_type": "text",
    "id": "8-XbxlA744c2"
   },
   "source": [
    "### Using query()\n",
    "\n",
    "Pandas `query()` function is equivalent to `filter()` function in R. "
   ]
  },
  {
   "cell_type": "code",
   "execution_count": null,
   "metadata": {
    "colab": {
     "base_uri": "https://localhost:8080/",
     "height": 231
    },
    "colab_type": "code",
    "executionInfo": {
     "elapsed": 543,
     "status": "ok",
     "timestamp": 1548846124302,
     "user": {
      "displayName": "Jan Nasemann",
      "photoUrl": "https://lh3.googleusercontent.com/-NwAvDmlKMCY/AAAAAAAAAAI/AAAAAAAAGA8/MjUNH8ZUJXw/s64/photo.jpg",
      "userId": "14602079930279377020"
     },
     "user_tz": -60
    },
    "id": "zPMFsXux6EEy",
    "outputId": "b20346c6-7ac8-491a-dbfa-49205ed69c14"
   },
   "outputs": [
    {
     "data": {
      "text/html": [
       "<div>\n",
       "<style scoped>\n",
       "    .dataframe tbody tr th:only-of-type {\n",
       "        vertical-align: middle;\n",
       "    }\n",
       "\n",
       "    .dataframe tbody tr th {\n",
       "        vertical-align: top;\n",
       "    }\n",
       "\n",
       "    .dataframe thead th {\n",
       "        text-align: right;\n",
       "    }\n",
       "</style>\n",
       "<table border=\"1\" class=\"dataframe\">\n",
       "  <thead>\n",
       "    <tr style=\"text-align: right;\">\n",
       "      <th></th>\n",
       "      <th>target</th>\n",
       "      <th>setsize</th>\n",
       "      <th>dyn</th>\n",
       "      <th>resp</th>\n",
       "      <th>rt</th>\n",
       "      <th>sub</th>\n",
       "      <th>exp</th>\n",
       "      <th>correct</th>\n",
       "    </tr>\n",
       "  </thead>\n",
       "  <tbody>\n",
       "    <tr>\n",
       "      <th>0</th>\n",
       "      <td>Absent</td>\n",
       "      <td>12</td>\n",
       "      <td>Static</td>\n",
       "      <td>2</td>\n",
       "      <td>2.583007</td>\n",
       "      <td>1</td>\n",
       "      <td>1</td>\n",
       "      <td>1</td>\n",
       "    </tr>\n",
       "    <tr>\n",
       "      <th>1</th>\n",
       "      <td>Absent</td>\n",
       "      <td>8</td>\n",
       "      <td>Static</td>\n",
       "      <td>2</td>\n",
       "      <td>0.935967</td>\n",
       "      <td>1</td>\n",
       "      <td>1</td>\n",
       "      <td>1</td>\n",
       "    </tr>\n",
       "    <tr>\n",
       "      <th>...</th>\n",
       "      <td>...</td>\n",
       "      <td>...</td>\n",
       "      <td>...</td>\n",
       "      <td>...</td>\n",
       "      <td>...</td>\n",
       "      <td>...</td>\n",
       "      <td>...</td>\n",
       "      <td>...</td>\n",
       "    </tr>\n",
       "    <tr>\n",
       "      <th>358</th>\n",
       "      <td>Present</td>\n",
       "      <td>12</td>\n",
       "      <td>Static</td>\n",
       "      <td>1</td>\n",
       "      <td>1.759472</td>\n",
       "      <td>1</td>\n",
       "      <td>1</td>\n",
       "      <td>1</td>\n",
       "    </tr>\n",
       "    <tr>\n",
       "      <th>359</th>\n",
       "      <td>Present</td>\n",
       "      <td>16</td>\n",
       "      <td>Static</td>\n",
       "      <td>1</td>\n",
       "      <td>0.853598</td>\n",
       "      <td>1</td>\n",
       "      <td>1</td>\n",
       "      <td>1</td>\n",
       "    </tr>\n",
       "  </tbody>\n",
       "</table>\n",
       "<p>208 rows × 8 columns</p>\n",
       "</div>"
      ],
      "text/plain": [
       "      target  setsize     dyn  resp        rt  sub  exp  correct\n",
       "0     Absent       12  Static     2  2.583007    1    1        1\n",
       "1     Absent        8  Static     2  0.935967    1    1        1\n",
       "..       ...      ...     ...   ...       ...  ...  ...      ...\n",
       "358  Present       12  Static     1  1.759472    1    1        1\n",
       "359  Present       16  Static     1  0.853598    1    1        1\n",
       "\n",
       "[208 rows x 8 columns]"
      ]
     },
     "execution_count": 13,
     "metadata": {
      "tags": []
     },
     "output_type": "execute_result"
    }
   ],
   "source": [
    "# select subject 1\n",
    "dat.query('sub == 1 & correct == 1 & dyn == \"Static\"')"
   ]
  },
  {
   "cell_type": "markdown",
   "metadata": {
    "colab_type": "text",
    "id": "8wqTnOmwteIh"
   },
   "source": [
    "# Single table verbs (dplyr vs. pandas)"
   ]
  },
  {
   "cell_type": "markdown",
   "metadata": {
    "colab_type": "text",
    "id": "abosX-xwteIi"
   },
   "source": [
    "``dplyr`` has a small set of nicely defined verbs. I've listed their closest pandas verbs.\n",
    "\n",
    "\n",
    "<table>\n",
    "  <tr>\n",
    "    <td><b>dplyr</b></td>\n",
    "    <td><b>pandas</b></td>\n",
    "  </tr>\n",
    "  <tr>\n",
    "    <td><code>filter()</code> (and <code>slice()</code>)</td>\n",
    "    <td><code>query()</code> (and <code>loc[]</code>, <code>iloc[]</code>)</td>\n",
    "  </tr>\n",
    "  <tr>\n",
    "    <td><code>arrange()</code></td>\n",
    "    <td><code>sort_values</code> and <code>sort_index()</code></td>\n",
    "  </tr>\n",
    "  <tr>\n",
    "  <td><code>select() </code>(and <code>rename()</code>)</td>\n",
    "    <td><code>__getitem__ </code> (and <code>rename()</code>)</td>\n",
    "  </tr>\n",
    "  <tr>\n",
    "  <td><code>distinct()</code></td>\n",
    "    <td><code>drop_duplicates()</code></td>\n",
    "  </tr>\n",
    "  <tr>\n",
    "    <td><code>mutate()</code> (and <code>transmute()</code>)</td>\n",
    "    <td>assign</td>\n",
    "  </tr>\n",
    "  <tr>\n",
    "    <td>summarise()</td>\n",
    "    <td>None</td>\n",
    "  </tr>\n",
    "  <tr>\n",
    "    <td>sample_n() and sample_frac()</td>\n",
    "    <td><code>sample</code></td>\n",
    "  </tr>\n",
    "  <tr>\n",
    "    <td><code>%>%</code></td>\n",
    "    <td><code>pipe</code></td>\n",
    "  </tr>\n",
    "\n",
    "</table>\n",
    "\n",
    "\n",
    "Some of the \"missing\" verbs in pandas are because there are other, different ways of achieving the same goal. For example `summarise` is spread across `mean`, `std`, etc. It's closest analog is actually the `.agg` method on a `GroupBy` object, as it reduces a DataFrame to a single row (per group). This isn't quite what `.describe` does.\n",
    "\n",
    "I've also included the `pipe` operator from R (`%>%`), the `pipe` method from pandas, even though it isn't quite a verb."
   ]
  },
  {
   "cell_type": "markdown",
   "metadata": {
    "colab_type": "text",
    "id": "NLkpsShoteIj"
   },
   "source": [
    "# Filter rows with filter(), query()"
   ]
  },
  {
   "cell_type": "code",
   "execution_count": null,
   "metadata": {
    "colab": {
     "base_uri": "https://localhost:8080/",
     "height": 233
    },
    "colab_type": "code",
    "executionInfo": {
     "elapsed": 836,
     "status": "ok",
     "timestamp": 1548837583043,
     "user": {
      "displayName": "Z Shi",
      "photoUrl": "https://lh3.googleusercontent.com/-prclvRzINh0/AAAAAAAAAAI/AAAAAAAABNE/UKdTTGAL4_g/s64/photo.jpg",
      "userId": "00277634363955980343"
     },
     "user_tz": -60
    },
    "id": "Vn0Uz-_8teIk",
    "outputId": "4774d8a8-0f76-4cf5-f9fd-93289194f8d1"
   },
   "outputs": [
    {
     "data": {
      "text/html": [
       "<div>\n",
       "<style scoped>\n",
       "    .dataframe tbody tr th:only-of-type {\n",
       "        vertical-align: middle;\n",
       "    }\n",
       "\n",
       "    .dataframe tbody tr th {\n",
       "        vertical-align: top;\n",
       "    }\n",
       "\n",
       "    .dataframe thead th {\n",
       "        text-align: right;\n",
       "    }\n",
       "</style>\n",
       "<table border=\"1\" class=\"dataframe\">\n",
       "  <thead>\n",
       "    <tr style=\"text-align: right;\">\n",
       "      <th></th>\n",
       "      <th>target</th>\n",
       "      <th>setsize</th>\n",
       "      <th>dyn</th>\n",
       "      <th>resp</th>\n",
       "      <th>rt</th>\n",
       "      <th>sub</th>\n",
       "      <th>exp</th>\n",
       "      <th>correct</th>\n",
       "    </tr>\n",
       "  </thead>\n",
       "  <tbody>\n",
       "    <tr>\n",
       "      <th>3780</th>\n",
       "      <td>Absent</td>\n",
       "      <td>12</td>\n",
       "      <td>Static</td>\n",
       "      <td>2</td>\n",
       "      <td>2.779448</td>\n",
       "      <td>10</td>\n",
       "      <td>1</td>\n",
       "      <td>1</td>\n",
       "    </tr>\n",
       "    <tr>\n",
       "      <th>3783</th>\n",
       "      <td>Absent</td>\n",
       "      <td>12</td>\n",
       "      <td>Static</td>\n",
       "      <td>2</td>\n",
       "      <td>1.218132</td>\n",
       "      <td>10</td>\n",
       "      <td>1</td>\n",
       "      <td>1</td>\n",
       "    </tr>\n",
       "    <tr>\n",
       "      <th>...</th>\n",
       "      <td>...</td>\n",
       "      <td>...</td>\n",
       "      <td>...</td>\n",
       "      <td>...</td>\n",
       "      <td>...</td>\n",
       "      <td>...</td>\n",
       "      <td>...</td>\n",
       "      <td>...</td>\n",
       "    </tr>\n",
       "    <tr>\n",
       "      <th>4198</th>\n",
       "      <td>Present</td>\n",
       "      <td>12</td>\n",
       "      <td>Dynamic</td>\n",
       "      <td>1</td>\n",
       "      <td>0.794616</td>\n",
       "      <td>10</td>\n",
       "      <td>1</td>\n",
       "      <td>1</td>\n",
       "    </tr>\n",
       "    <tr>\n",
       "      <th>4199</th>\n",
       "      <td>Absent</td>\n",
       "      <td>12</td>\n",
       "      <td>Dynamic</td>\n",
       "      <td>2</td>\n",
       "      <td>1.324017</td>\n",
       "      <td>10</td>\n",
       "      <td>1</td>\n",
       "      <td>1</td>\n",
       "    </tr>\n",
       "  </tbody>\n",
       "</table>\n",
       "<p>138 rows × 8 columns</p>\n",
       "</div>"
      ],
      "text/plain": [
       "       target  setsize      dyn  resp        rt  sub  exp  correct\n",
       "3780   Absent       12   Static     2  2.779448   10    1        1\n",
       "3783   Absent       12   Static     2  1.218132   10    1        1\n",
       "...       ...      ...      ...   ...       ...  ...  ...      ...\n",
       "4198  Present       12  Dynamic     1  0.794616   10    1        1\n",
       "4199   Absent       12  Dynamic     2  1.324017   10    1        1\n",
       "\n",
       "[138 rows x 8 columns]"
      ]
     },
     "execution_count": 40,
     "metadata": {
      "tags": []
     },
     "output_type": "execute_result"
    }
   ],
   "source": [
    "dat.query(\"setsize == 12 & sub == 10 & correct == 1\")"
   ]
  },
  {
   "cell_type": "markdown",
   "metadata": {
    "colab_type": "text",
    "id": "-5ELBhJWteIn"
   },
   "source": [
    "We see the first big *language* difference between R and python.\n",
    "Many python programmers will shun the R code as too magical.\n",
    "How is the programmer supposed to know that `month` and `day` are supposed to represent columns in the DataFrame?\n",
    "On the other hand, to emulate this *very* convenient feature of R, python has to write the expression as a string, and evaluate the string in the context of the DataFrame."
   ]
  },
  {
   "cell_type": "markdown",
   "metadata": {
    "colab_type": "text",
    "id": "mnuFD0IgteIo"
   },
   "source": [
    "The more verbose version:"
   ]
  },
  {
   "cell_type": "code",
   "execution_count": null,
   "metadata": {
    "colab": {
     "base_uri": "https://localhost:8080/",
     "height": 49
    },
    "colab_type": "code",
    "executionInfo": {
     "elapsed": 700,
     "status": "ok",
     "timestamp": 1548837629050,
     "user": {
      "displayName": "Z Shi",
      "photoUrl": "https://lh3.googleusercontent.com/-prclvRzINh0/AAAAAAAAAAI/AAAAAAAABNE/UKdTTGAL4_g/s64/photo.jpg",
      "userId": "00277634363955980343"
     },
     "user_tz": -60
    },
    "id": "PUsv_S3vteIr",
    "outputId": "d9abe2b8-42b2-48a2-a074-12ab8131f244"
   },
   "outputs": [
    {
     "data": {
      "text/html": [
       "<div>\n",
       "<style scoped>\n",
       "    .dataframe tbody tr th:only-of-type {\n",
       "        vertical-align: middle;\n",
       "    }\n",
       "\n",
       "    .dataframe tbody tr th {\n",
       "        vertical-align: top;\n",
       "    }\n",
       "\n",
       "    .dataframe thead th {\n",
       "        text-align: right;\n",
       "    }\n",
       "</style>\n",
       "<table border=\"1\" class=\"dataframe\">\n",
       "  <thead>\n",
       "    <tr style=\"text-align: right;\">\n",
       "      <th></th>\n",
       "      <th>target</th>\n",
       "      <th>setsize</th>\n",
       "      <th>dyn</th>\n",
       "      <th>resp</th>\n",
       "      <th>rt</th>\n",
       "      <th>sub</th>\n",
       "      <th>exp</th>\n",
       "      <th>correct</th>\n",
       "    </tr>\n",
       "  </thead>\n",
       "  <tbody>\n",
       "  </tbody>\n",
       "</table>\n",
       "</div>"
      ],
      "text/plain": [
       "Empty DataFrame\n",
       "Columns: [target, setsize, dyn, resp, rt, sub, exp, correct]\n",
       "Index: []"
      ]
     },
     "execution_count": 41,
     "metadata": {
      "tags": []
     },
     "output_type": "execute_result"
    }
   ],
   "source": [
    "dat[(dat.setsize == 12) & (dat.sub == 10)]"
   ]
  },
  {
   "cell_type": "markdown",
   "metadata": {
    "colab_type": "text",
    "id": "BbKgPd4_teIz"
   },
   "source": [
    "# Arrange rows with arrange(), sort()"
   ]
  },
  {
   "cell_type": "code",
   "execution_count": null,
   "metadata": {
    "colab": {
     "base_uri": "https://localhost:8080/",
     "height": 233
    },
    "colab_type": "code",
    "executionInfo": {
     "elapsed": 1380,
     "status": "ok",
     "timestamp": 1548837675820,
     "user": {
      "displayName": "Z Shi",
      "photoUrl": "https://lh3.googleusercontent.com/-prclvRzINh0/AAAAAAAAAAI/AAAAAAAABNE/UKdTTGAL4_g/s64/photo.jpg",
      "userId": "00277634363955980343"
     },
     "user_tz": -60
    },
    "id": "PXrIZxgIteI4",
    "outputId": "0f0073b3-7780-4041-9dfc-00d3ffd0d3de"
   },
   "outputs": [
    {
     "data": {
      "text/html": [
       "<div>\n",
       "<style scoped>\n",
       "    .dataframe tbody tr th:only-of-type {\n",
       "        vertical-align: middle;\n",
       "    }\n",
       "\n",
       "    .dataframe tbody tr th {\n",
       "        vertical-align: top;\n",
       "    }\n",
       "\n",
       "    .dataframe thead th {\n",
       "        text-align: right;\n",
       "    }\n",
       "</style>\n",
       "<table border=\"1\" class=\"dataframe\">\n",
       "  <thead>\n",
       "    <tr style=\"text-align: right;\">\n",
       "      <th></th>\n",
       "      <th>target</th>\n",
       "      <th>setsize</th>\n",
       "      <th>dyn</th>\n",
       "      <th>resp</th>\n",
       "      <th>rt</th>\n",
       "      <th>sub</th>\n",
       "      <th>exp</th>\n",
       "      <th>correct</th>\n",
       "    </tr>\n",
       "  </thead>\n",
       "  <tbody>\n",
       "    <tr>\n",
       "      <th>1</th>\n",
       "      <td>Absent</td>\n",
       "      <td>8</td>\n",
       "      <td>Static</td>\n",
       "      <td>2</td>\n",
       "      <td>0.935967</td>\n",
       "      <td>1</td>\n",
       "      <td>1</td>\n",
       "      <td>1</td>\n",
       "    </tr>\n",
       "    <tr>\n",
       "      <th>3</th>\n",
       "      <td>Present</td>\n",
       "      <td>8</td>\n",
       "      <td>Static</td>\n",
       "      <td>1</td>\n",
       "      <td>1.241838</td>\n",
       "      <td>1</td>\n",
       "      <td>1</td>\n",
       "      <td>1</td>\n",
       "    </tr>\n",
       "    <tr>\n",
       "      <th>...</th>\n",
       "      <td>...</td>\n",
       "      <td>...</td>\n",
       "      <td>...</td>\n",
       "      <td>...</td>\n",
       "      <td>...</td>\n",
       "      <td>...</td>\n",
       "      <td>...</td>\n",
       "      <td>...</td>\n",
       "    </tr>\n",
       "    <tr>\n",
       "      <th>4615</th>\n",
       "      <td>Present</td>\n",
       "      <td>16</td>\n",
       "      <td>Static</td>\n",
       "      <td>1</td>\n",
       "      <td>0.571045</td>\n",
       "      <td>11</td>\n",
       "      <td>1</td>\n",
       "      <td>1</td>\n",
       "    </tr>\n",
       "    <tr>\n",
       "      <th>4619</th>\n",
       "      <td>Absent</td>\n",
       "      <td>16</td>\n",
       "      <td>Static</td>\n",
       "      <td>2</td>\n",
       "      <td>1.253425</td>\n",
       "      <td>11</td>\n",
       "      <td>1</td>\n",
       "      <td>1</td>\n",
       "    </tr>\n",
       "  </tbody>\n",
       "</table>\n",
       "<p>4620 rows × 8 columns</p>\n",
       "</div>"
      ],
      "text/plain": [
       "       target  setsize     dyn  resp        rt  sub  exp  correct\n",
       "1      Absent        8  Static     2  0.935967    1    1        1\n",
       "3     Present        8  Static     1  1.241838    1    1        1\n",
       "...       ...      ...     ...   ...       ...  ...  ...      ...\n",
       "4615  Present       16  Static     1  0.571045   11    1        1\n",
       "4619   Absent       16  Static     2  1.253425   11    1        1\n",
       "\n",
       "[4620 rows x 8 columns]"
      ]
     },
     "execution_count": 42,
     "metadata": {
      "tags": []
     },
     "output_type": "execute_result"
    }
   ],
   "source": [
    "# arrange(data, sub, setsize) \n",
    "dat.sort_values(['sub', 'setsize'])"
   ]
  },
  {
   "cell_type": "code",
   "execution_count": null,
   "metadata": {
    "colab": {
     "base_uri": "https://localhost:8080/",
     "height": 233
    },
    "colab_type": "code",
    "executionInfo": {
     "elapsed": 625,
     "status": "ok",
     "timestamp": 1548837711900,
     "user": {
      "displayName": "Z Shi",
      "photoUrl": "https://lh3.googleusercontent.com/-prclvRzINh0/AAAAAAAAAAI/AAAAAAAABNE/UKdTTGAL4_g/s64/photo.jpg",
      "userId": "00277634363955980343"
     },
     "user_tz": -60
    },
    "id": "GX1y9WM_teI6",
    "outputId": "e2eb9d0b-e79c-443b-d608-318e8d2863d1"
   },
   "outputs": [
    {
     "data": {
      "text/html": [
       "<div>\n",
       "<style scoped>\n",
       "    .dataframe tbody tr th:only-of-type {\n",
       "        vertical-align: middle;\n",
       "    }\n",
       "\n",
       "    .dataframe tbody tr th {\n",
       "        vertical-align: top;\n",
       "    }\n",
       "\n",
       "    .dataframe thead th {\n",
       "        text-align: right;\n",
       "    }\n",
       "</style>\n",
       "<table border=\"1\" class=\"dataframe\">\n",
       "  <thead>\n",
       "    <tr style=\"text-align: right;\">\n",
       "      <th></th>\n",
       "      <th>target</th>\n",
       "      <th>setsize</th>\n",
       "      <th>dyn</th>\n",
       "      <th>resp</th>\n",
       "      <th>rt</th>\n",
       "      <th>sub</th>\n",
       "      <th>exp</th>\n",
       "      <th>correct</th>\n",
       "    </tr>\n",
       "  </thead>\n",
       "  <tbody>\n",
       "    <tr>\n",
       "      <th>4619</th>\n",
       "      <td>Absent</td>\n",
       "      <td>16</td>\n",
       "      <td>Static</td>\n",
       "      <td>2</td>\n",
       "      <td>1.253425</td>\n",
       "      <td>11</td>\n",
       "      <td>1</td>\n",
       "      <td>1</td>\n",
       "    </tr>\n",
       "    <tr>\n",
       "      <th>4356</th>\n",
       "      <td>Present</td>\n",
       "      <td>16</td>\n",
       "      <td>Static</td>\n",
       "      <td>1</td>\n",
       "      <td>1.218113</td>\n",
       "      <td>11</td>\n",
       "      <td>1</td>\n",
       "      <td>1</td>\n",
       "    </tr>\n",
       "    <tr>\n",
       "      <th>...</th>\n",
       "      <td>...</td>\n",
       "      <td>...</td>\n",
       "      <td>...</td>\n",
       "      <td>...</td>\n",
       "      <td>...</td>\n",
       "      <td>...</td>\n",
       "      <td>...</td>\n",
       "      <td>...</td>\n",
       "    </tr>\n",
       "    <tr>\n",
       "      <th>287</th>\n",
       "      <td>Present</td>\n",
       "      <td>16</td>\n",
       "      <td>Dynamic</td>\n",
       "      <td>2</td>\n",
       "      <td>2.912484</td>\n",
       "      <td>1</td>\n",
       "      <td>1</td>\n",
       "      <td>0</td>\n",
       "    </tr>\n",
       "    <tr>\n",
       "      <th>0</th>\n",
       "      <td>Absent</td>\n",
       "      <td>12</td>\n",
       "      <td>Static</td>\n",
       "      <td>2</td>\n",
       "      <td>2.583007</td>\n",
       "      <td>1</td>\n",
       "      <td>1</td>\n",
       "      <td>1</td>\n",
       "    </tr>\n",
       "  </tbody>\n",
       "</table>\n",
       "<p>4620 rows × 8 columns</p>\n",
       "</div>"
      ],
      "text/plain": [
       "       target  setsize      dyn  resp        rt  sub  exp  correct\n",
       "4619   Absent       16   Static     2  1.253425   11    1        1\n",
       "4356  Present       16   Static     1  1.218113   11    1        1\n",
       "...       ...      ...      ...   ...       ...  ...  ...      ...\n",
       "287   Present       16  Dynamic     2  2.912484    1    1        0\n",
       "0      Absent       12   Static     2  2.583007    1    1        1\n",
       "\n",
       "[4620 rows x 8 columns]"
      ]
     },
     "execution_count": 43,
     "metadata": {
      "tags": []
     },
     "output_type": "execute_result"
    }
   ],
   "source": [
    "# arrange(data, desc(sub))\n",
    "dat.sort_values('sub', ascending=False)"
   ]
  },
  {
   "cell_type": "markdown",
   "metadata": {
    "colab_type": "text",
    "id": "QrluD8J6teI9"
   },
   "source": [
    "It's worth mentioning the other common sorting method for pandas DataFrames, `sort_index`. Pandas puts much more emphasis on indicies, (or row labels) than R.\n",
    "This is a design decision that has positives and negatives, which we won't go into here. Suffice to say that when you need to sort a `DataFrame` by the index, use `DataFrame.sort_index`."
   ]
  },
  {
   "cell_type": "markdown",
   "metadata": {
    "colab_type": "text",
    "id": "pCshLLNmteI-"
   },
   "source": [
    "# Select columns with select(), []"
   ]
  },
  {
   "cell_type": "code",
   "execution_count": null,
   "metadata": {
    "colab": {
     "base_uri": "https://localhost:8080/",
     "height": 233
    },
    "colab_type": "code",
    "executionInfo": {
     "elapsed": 703,
     "status": "ok",
     "timestamp": 1548837741561,
     "user": {
      "displayName": "Z Shi",
      "photoUrl": "https://lh3.googleusercontent.com/-prclvRzINh0/AAAAAAAAAAI/AAAAAAAABNE/UKdTTGAL4_g/s64/photo.jpg",
      "userId": "00277634363955980343"
     },
     "user_tz": -60
    },
    "id": "1N12sNpQteI_",
    "outputId": "89fdfe8f-c1fc-4190-a75a-416d03363db6"
   },
   "outputs": [
    {
     "data": {
      "text/html": [
       "<div>\n",
       "<style scoped>\n",
       "    .dataframe tbody tr th:only-of-type {\n",
       "        vertical-align: middle;\n",
       "    }\n",
       "\n",
       "    .dataframe tbody tr th {\n",
       "        vertical-align: top;\n",
       "    }\n",
       "\n",
       "    .dataframe thead th {\n",
       "        text-align: right;\n",
       "    }\n",
       "</style>\n",
       "<table border=\"1\" class=\"dataframe\">\n",
       "  <thead>\n",
       "    <tr style=\"text-align: right;\">\n",
       "      <th></th>\n",
       "      <th>sub</th>\n",
       "      <th>setsize</th>\n",
       "      <th>rt</th>\n",
       "    </tr>\n",
       "  </thead>\n",
       "  <tbody>\n",
       "    <tr>\n",
       "      <th>0</th>\n",
       "      <td>1</td>\n",
       "      <td>12</td>\n",
       "      <td>2.583007</td>\n",
       "    </tr>\n",
       "    <tr>\n",
       "      <th>1</th>\n",
       "      <td>1</td>\n",
       "      <td>8</td>\n",
       "      <td>0.935967</td>\n",
       "    </tr>\n",
       "    <tr>\n",
       "      <th>...</th>\n",
       "      <td>...</td>\n",
       "      <td>...</td>\n",
       "      <td>...</td>\n",
       "    </tr>\n",
       "    <tr>\n",
       "      <th>4618</th>\n",
       "      <td>11</td>\n",
       "      <td>12</td>\n",
       "      <td>0.994617</td>\n",
       "    </tr>\n",
       "    <tr>\n",
       "      <th>4619</th>\n",
       "      <td>11</td>\n",
       "      <td>16</td>\n",
       "      <td>1.253425</td>\n",
       "    </tr>\n",
       "  </tbody>\n",
       "</table>\n",
       "<p>4620 rows × 3 columns</p>\n",
       "</div>"
      ],
      "text/plain": [
       "      sub  setsize        rt\n",
       "0       1       12  2.583007\n",
       "1       1        8  0.935967\n",
       "...   ...      ...       ...\n",
       "4618   11       12  0.994617\n",
       "4619   11       16  1.253425\n",
       "\n",
       "[4620 rows x 3 columns]"
      ]
     },
     "execution_count": 44,
     "metadata": {
      "tags": []
     },
     "output_type": "execute_result"
    }
   ],
   "source": [
    "# select(data, subno, Cond, rt) \n",
    "dat[['sub', 'setsize', 'rt']]"
   ]
  },
  {
   "cell_type": "markdown",
   "metadata": {
    "colab_type": "text",
    "id": "VKkDy9vrteJD"
   },
   "source": [
    "# Rename\n",
    "\n",
    "Similar to `.replace()`, `.rename()` function also copies the data and return a new object. So you need to store it in a new object. "
   ]
  },
  {
   "cell_type": "code",
   "execution_count": null,
   "metadata": {
    "colab": {
     "base_uri": "https://localhost:8080/",
     "height": 204
    },
    "colab_type": "code",
    "executionInfo": {
     "elapsed": 849,
     "status": "ok",
     "timestamp": 1548837805696,
     "user": {
      "displayName": "Z Shi",
      "photoUrl": "https://lh3.googleusercontent.com/-prclvRzINh0/AAAAAAAAAAI/AAAAAAAABNE/UKdTTGAL4_g/s64/photo.jpg",
      "userId": "00277634363955980343"
     },
     "user_tz": -60
    },
    "id": "NqfRyoS2teJD",
    "outputId": "20fa2c47-92c6-4b36-f593-679fdf19779b"
   },
   "outputs": [
    {
     "data": {
      "text/html": [
       "<div>\n",
       "<style scoped>\n",
       "    .dataframe tbody tr th:only-of-type {\n",
       "        vertical-align: middle;\n",
       "    }\n",
       "\n",
       "    .dataframe tbody tr th {\n",
       "        vertical-align: top;\n",
       "    }\n",
       "\n",
       "    .dataframe thead th {\n",
       "        text-align: right;\n",
       "    }\n",
       "</style>\n",
       "<table border=\"1\" class=\"dataframe\">\n",
       "  <thead>\n",
       "    <tr style=\"text-align: right;\">\n",
       "      <th></th>\n",
       "      <th>target</th>\n",
       "      <th>setsize</th>\n",
       "      <th>Display</th>\n",
       "      <th>resp</th>\n",
       "      <th>rt</th>\n",
       "      <th>sub</th>\n",
       "      <th>exp</th>\n",
       "      <th>correct</th>\n",
       "    </tr>\n",
       "  </thead>\n",
       "  <tbody>\n",
       "    <tr>\n",
       "      <th>0</th>\n",
       "      <td>Absent</td>\n",
       "      <td>12</td>\n",
       "      <td>Static</td>\n",
       "      <td>2</td>\n",
       "      <td>2.583007</td>\n",
       "      <td>1</td>\n",
       "      <td>1</td>\n",
       "      <td>1</td>\n",
       "    </tr>\n",
       "    <tr>\n",
       "      <th>1</th>\n",
       "      <td>Absent</td>\n",
       "      <td>8</td>\n",
       "      <td>Static</td>\n",
       "      <td>2</td>\n",
       "      <td>0.935967</td>\n",
       "      <td>1</td>\n",
       "      <td>1</td>\n",
       "      <td>1</td>\n",
       "    </tr>\n",
       "    <tr>\n",
       "      <th>2</th>\n",
       "      <td>Present</td>\n",
       "      <td>16</td>\n",
       "      <td>Static</td>\n",
       "      <td>1</td>\n",
       "      <td>0.794771</td>\n",
       "      <td>1</td>\n",
       "      <td>1</td>\n",
       "      <td>1</td>\n",
       "    </tr>\n",
       "    <tr>\n",
       "      <th>3</th>\n",
       "      <td>Present</td>\n",
       "      <td>8</td>\n",
       "      <td>Static</td>\n",
       "      <td>1</td>\n",
       "      <td>1.241838</td>\n",
       "      <td>1</td>\n",
       "      <td>1</td>\n",
       "      <td>1</td>\n",
       "    </tr>\n",
       "    <tr>\n",
       "      <th>4</th>\n",
       "      <td>Absent</td>\n",
       "      <td>12</td>\n",
       "      <td>Static</td>\n",
       "      <td>2</td>\n",
       "      <td>1.759485</td>\n",
       "      <td>1</td>\n",
       "      <td>1</td>\n",
       "      <td>1</td>\n",
       "    </tr>\n",
       "  </tbody>\n",
       "</table>\n",
       "</div>"
      ],
      "text/plain": [
       "    target  setsize Display  resp        rt  sub  exp  correct\n",
       "0   Absent       12  Static     2  2.583007    1    1        1\n",
       "1   Absent        8  Static     2  0.935967    1    1        1\n",
       "2  Present       16  Static     1  0.794771    1    1        1\n",
       "3  Present        8  Static     1  1.241838    1    1        1\n",
       "4   Absent       12  Static     2  1.759485    1    1        1"
      ]
     },
     "execution_count": 45,
     "metadata": {
      "tags": []
     },
     "output_type": "execute_result"
    }
   ],
   "source": [
    "ndata = dat.rename(columns={'dyn': 'Display'})\n",
    "ndata.head()"
   ]
  },
  {
   "cell_type": "markdown",
   "metadata": {
    "colab_type": "text",
    "id": "-V5uJvjateJH"
   },
   "source": [
    "Pandas is more verbose, but the the argument to `columns` can be any mapping. So it's often used with a function to perform a common task, say `df.rename(columns=lambda x: x.replace('-', '_'))` to replace any dashes with underscores. Also, ``rename`` (the pandas version) can be applied to the Index."
   ]
  },
  {
   "cell_type": "markdown",
   "metadata": {
    "colab_type": "text",
    "id": "fv4p4SrvteJH"
   },
   "source": [
    "One more note on the differences here.\n",
    "Pandas could easily include a `.select` method.\n",
    "[`xray`](http://xray.readthedocs.org/en/stable/), a library that builds on top of NumPy and pandas to offer labeled N-dimensional arrays (along with many other things) does [just that](http://xray.readthedocs.org/en/stable/indexing.html#indexing-with-labeled-dimensions).\n",
    "Pandas chooses the `.loc` and `.iloc` accessors because *any valid selection is also a valid assignment*. This makes it easier to modify the data.\n",
    "\n",
    "```python\n",
    "flights.loc[:, 'year':'day'] = data\n",
    "```\n",
    "\n",
    "where `data` is an object that is, or can be broadcast to, the correct shape."
   ]
  },
  {
   "cell_type": "markdown",
   "metadata": {
    "colab_type": "text",
    "id": "TxbfveKeteJJ"
   },
   "source": [
    "# Extract distinct (unique) rows \n",
    "\n",
    "In the above explorative data anlysis we have already used this function. "
   ]
  },
  {
   "cell_type": "code",
   "execution_count": null,
   "metadata": {
    "colab": {
     "base_uri": "https://localhost:8080/",
     "height": 34
    },
    "colab_type": "code",
    "executionInfo": {
     "elapsed": 924,
     "status": "ok",
     "timestamp": 1548837837421,
     "user": {
      "displayName": "Z Shi",
      "photoUrl": "https://lh3.googleusercontent.com/-prclvRzINh0/AAAAAAAAAAI/AAAAAAAABNE/UKdTTGAL4_g/s64/photo.jpg",
      "userId": "00277634363955980343"
     },
     "user_tz": -60
    },
    "id": "0rRBfsXGteJK",
    "outputId": "05339086-534d-42fd-d058-5a4b9e5538a4"
   },
   "outputs": [
    {
     "data": {
      "text/plain": [
       "array([12,  8, 16])"
      ]
     },
     "execution_count": 48,
     "metadata": {
      "tags": []
     },
     "output_type": "execute_result"
    }
   ],
   "source": [
    "# distinct(select(data, subno))\n",
    "dat.setsize.unique()"
   ]
  },
  {
   "cell_type": "markdown",
   "metadata": {
    "colab_type": "text",
    "id": "A4-yYDs7teJN"
   },
   "source": [
    "FYI this returns a numpy array instead of a Series."
   ]
  },
  {
   "cell_type": "code",
   "execution_count": null,
   "metadata": {
    "colab": {},
    "colab_type": "code",
    "id": "9bWe8NfjteJO",
    "outputId": "8342d936-1ba0-42fa-b3af-36c31901cdba"
   },
   "outputs": [
    {
     "data": {
      "text/html": [
       "<div>\n",
       "<style>\n",
       "    .dataframe thead tr:only-child th {\n",
       "        text-align: right;\n",
       "    }\n",
       "\n",
       "    .dataframe thead th {\n",
       "        text-align: left;\n",
       "    }\n",
       "\n",
       "    .dataframe tbody tr th {\n",
       "        vertical-align: top;\n",
       "    }\n",
       "</style>\n",
       "<table border=\"1\" class=\"dataframe\">\n",
       "  <thead>\n",
       "    <tr style=\"text-align: right;\">\n",
       "      <th></th>\n",
       "      <th>position</th>\n",
       "      <th>dimension</th>\n",
       "    </tr>\n",
       "  </thead>\n",
       "  <tbody>\n",
       "    <tr>\n",
       "      <th>0</th>\n",
       "      <td>Right</td>\n",
       "      <td>Color</td>\n",
       "    </tr>\n",
       "    <tr>\n",
       "      <th>1</th>\n",
       "      <td>Right</td>\n",
       "      <td>Orientation</td>\n",
       "    </tr>\n",
       "    <tr>\n",
       "      <th>2</th>\n",
       "      <td>Left</td>\n",
       "      <td>Color</td>\n",
       "    </tr>\n",
       "    <tr>\n",
       "      <th>7</th>\n",
       "      <td>Left</td>\n",
       "      <td>Orientation</td>\n",
       "    </tr>\n",
       "  </tbody>\n",
       "</table>\n",
       "</div>"
      ],
      "text/plain": [
       "  position    dimension\n",
       "0    Right        Color\n",
       "1    Right  Orientation\n",
       "2     Left        Color\n",
       "7     Left  Orientation"
      ]
     },
     "execution_count": 34,
     "metadata": {
      "tags": []
     },
     "output_type": "execute_result"
    }
   ],
   "source": [
    "# distinct(select(ndata, position, dimension))\n",
    "ndata[['position', 'dimension']].drop_duplicates()"
   ]
  },
  {
   "cell_type": "markdown",
   "metadata": {
    "colab_type": "text",
    "id": "OYn15m45teJP"
   },
   "source": [
    "OK, so ``dplyr`` wins there from a consistency point of view. ``unique`` is only defined on Series, not DataFrames."
   ]
  },
  {
   "cell_type": "markdown",
   "metadata": {
    "colab_type": "text",
    "id": "QZygXzL1teJQ"
   },
   "source": [
    "# Add new columns with mutate() "
   ]
  },
  {
   "cell_type": "markdown",
   "metadata": {
    "colab_type": "text",
    "id": "eKz_0WNOteJQ"
   },
   "source": [
    "We at pandas shamelessly stole this for [v0.16.0](http://pandas.pydata.org/pandas-docs/stable/whatsnew.html#whatsnew-0160-enhancements-assign).\n",
    "\n",
    "In Pandas, you need explicitly express column from which dataframe. "
   ]
  },
  {
   "cell_type": "markdown",
   "metadata": {
    "colab_type": "text",
    "id": "XjKwRYBP7mJS"
   },
   "source": []
  },
  {
   "cell_type": "code",
   "execution_count": null,
   "metadata": {
    "colab": {},
    "colab_type": "code",
    "id": "rv-VVi94teJR",
    "outputId": "3ec48951-a229-46f9-867d-ae105d8f628a"
   },
   "outputs": [
    {
     "data": {
      "text/html": [
       "<div>\n",
       "<style>\n",
       "    .dataframe thead tr:only-child th {\n",
       "        text-align: right;\n",
       "    }\n",
       "\n",
       "    .dataframe thead th {\n",
       "        text-align: left;\n",
       "    }\n",
       "\n",
       "    .dataframe tbody tr th {\n",
       "        vertical-align: top;\n",
       "    }\n",
       "</style>\n",
       "<table border=\"1\" class=\"dataframe\">\n",
       "  <thead>\n",
       "    <tr style=\"text-align: right;\">\n",
       "      <th></th>\n",
       "      <th>Cond</th>\n",
       "      <th>rt</th>\n",
       "      <th>resp</th>\n",
       "      <th>position</th>\n",
       "      <th>dimension</th>\n",
       "      <th>accuracy</th>\n",
       "      <th>subno</th>\n",
       "      <th>session</th>\n",
       "      <th>rtms</th>\n",
       "    </tr>\n",
       "  </thead>\n",
       "  <tbody>\n",
       "    <tr>\n",
       "      <th>0</th>\n",
       "      <td>ColorRight</td>\n",
       "      <td>2.623047</td>\n",
       "      <td>1</td>\n",
       "      <td>Right</td>\n",
       "      <td>Color</td>\n",
       "      <td>0</td>\n",
       "      <td>10</td>\n",
       "      <td>1</td>\n",
       "      <td>2623.046875</td>\n",
       "    </tr>\n",
       "    <tr>\n",
       "      <th>1</th>\n",
       "      <td>OrienRight</td>\n",
       "      <td>1.958984</td>\n",
       "      <td>1</td>\n",
       "      <td>Right</td>\n",
       "      <td>Orientation</td>\n",
       "      <td>1</td>\n",
       "      <td>10</td>\n",
       "      <td>1</td>\n",
       "      <td>1958.984375</td>\n",
       "    </tr>\n",
       "    <tr>\n",
       "      <th>...</th>\n",
       "      <td>...</td>\n",
       "      <td>...</td>\n",
       "      <td>...</td>\n",
       "      <td>...</td>\n",
       "      <td>...</td>\n",
       "      <td>...</td>\n",
       "      <td>...</td>\n",
       "      <td>...</td>\n",
       "      <td>...</td>\n",
       "    </tr>\n",
       "    <tr>\n",
       "      <th>9598</th>\n",
       "      <td>OrienRight</td>\n",
       "      <td>1.398438</td>\n",
       "      <td>1</td>\n",
       "      <td>Right</td>\n",
       "      <td>Orientation</td>\n",
       "      <td>1</td>\n",
       "      <td>8</td>\n",
       "      <td>3</td>\n",
       "      <td>1398.437500</td>\n",
       "    </tr>\n",
       "    <tr>\n",
       "      <th>9599</th>\n",
       "      <td>OrienLeft</td>\n",
       "      <td>0.529297</td>\n",
       "      <td>1</td>\n",
       "      <td>Left</td>\n",
       "      <td>Orientation</td>\n",
       "      <td>1</td>\n",
       "      <td>8</td>\n",
       "      <td>3</td>\n",
       "      <td>529.296875</td>\n",
       "    </tr>\n",
       "  </tbody>\n",
       "</table>\n",
       "<p>9600 rows × 9 columns</p>\n",
       "</div>"
      ],
      "text/plain": [
       "            Cond        rt  resp position    dimension  accuracy  subno  \\\n",
       "0     ColorRight  2.623047     1    Right        Color         0     10   \n",
       "1     OrienRight  1.958984     1    Right  Orientation         1     10   \n",
       "...          ...       ...   ...      ...          ...       ...    ...   \n",
       "9598  OrienRight  1.398438     1    Right  Orientation         1      8   \n",
       "9599   OrienLeft  0.529297     1     Left  Orientation         1      8   \n",
       "\n",
       "      session         rtms  \n",
       "0           1  2623.046875  \n",
       "1           1  1958.984375  \n",
       "...       ...          ...  \n",
       "9598        3  1398.437500  \n",
       "9599        3   529.296875  \n",
       "\n",
       "[9600 rows x 9 columns]"
      ]
     },
     "execution_count": 11,
     "metadata": {
      "tags": []
     },
     "output_type": "execute_result"
    }
   ],
   "source": [
    "# mutate(ndata,rtms = rt*1000)\n",
    "\n",
    "ndata.assign(rtms=ndata.rt*1000)"
   ]
  },
  {
   "cell_type": "code",
   "execution_count": null,
   "metadata": {
    "colab": {},
    "colab_type": "code",
    "id": "DKVvoRuYteJV",
    "outputId": "b22ff419-fe64-4604-e36c-f4de7b2904b3"
   },
   "outputs": [
    {
     "data": {
      "text/html": [
       "<div>\n",
       "<style>\n",
       "    .dataframe thead tr:only-child th {\n",
       "        text-align: right;\n",
       "    }\n",
       "\n",
       "    .dataframe thead th {\n",
       "        text-align: left;\n",
       "    }\n",
       "\n",
       "    .dataframe tbody tr th {\n",
       "        vertical-align: top;\n",
       "    }\n",
       "</style>\n",
       "<table border=\"1\" class=\"dataframe\">\n",
       "  <thead>\n",
       "    <tr style=\"text-align: right;\">\n",
       "      <th></th>\n",
       "      <th>Cond</th>\n",
       "      <th>rt</th>\n",
       "      <th>resp</th>\n",
       "      <th>position</th>\n",
       "      <th>dimension</th>\n",
       "      <th>accuracy</th>\n",
       "      <th>subno</th>\n",
       "      <th>session</th>\n",
       "      <th>rtms</th>\n",
       "      <th>inv_rt</th>\n",
       "    </tr>\n",
       "  </thead>\n",
       "  <tbody>\n",
       "    <tr>\n",
       "      <th>0</th>\n",
       "      <td>ColorRight</td>\n",
       "      <td>2.623047</td>\n",
       "      <td>1</td>\n",
       "      <td>Right</td>\n",
       "      <td>Color</td>\n",
       "      <td>0</td>\n",
       "      <td>10</td>\n",
       "      <td>1</td>\n",
       "      <td>2623.046875</td>\n",
       "      <td>0.000381</td>\n",
       "    </tr>\n",
       "    <tr>\n",
       "      <th>1</th>\n",
       "      <td>OrienRight</td>\n",
       "      <td>1.958984</td>\n",
       "      <td>1</td>\n",
       "      <td>Right</td>\n",
       "      <td>Orientation</td>\n",
       "      <td>1</td>\n",
       "      <td>10</td>\n",
       "      <td>1</td>\n",
       "      <td>1958.984375</td>\n",
       "      <td>0.000510</td>\n",
       "    </tr>\n",
       "    <tr>\n",
       "      <th>...</th>\n",
       "      <td>...</td>\n",
       "      <td>...</td>\n",
       "      <td>...</td>\n",
       "      <td>...</td>\n",
       "      <td>...</td>\n",
       "      <td>...</td>\n",
       "      <td>...</td>\n",
       "      <td>...</td>\n",
       "      <td>...</td>\n",
       "      <td>...</td>\n",
       "    </tr>\n",
       "    <tr>\n",
       "      <th>9598</th>\n",
       "      <td>OrienRight</td>\n",
       "      <td>1.398438</td>\n",
       "      <td>1</td>\n",
       "      <td>Right</td>\n",
       "      <td>Orientation</td>\n",
       "      <td>1</td>\n",
       "      <td>8</td>\n",
       "      <td>3</td>\n",
       "      <td>1398.437500</td>\n",
       "      <td>0.000715</td>\n",
       "    </tr>\n",
       "    <tr>\n",
       "      <th>9599</th>\n",
       "      <td>OrienLeft</td>\n",
       "      <td>0.529297</td>\n",
       "      <td>1</td>\n",
       "      <td>Left</td>\n",
       "      <td>Orientation</td>\n",
       "      <td>1</td>\n",
       "      <td>8</td>\n",
       "      <td>3</td>\n",
       "      <td>529.296875</td>\n",
       "      <td>0.001889</td>\n",
       "    </tr>\n",
       "  </tbody>\n",
       "</table>\n",
       "<p>9600 rows × 10 columns</p>\n",
       "</div>"
      ],
      "text/plain": [
       "            Cond        rt  resp position    dimension  accuracy  subno  \\\n",
       "0     ColorRight  2.623047     1    Right        Color         0     10   \n",
       "1     OrienRight  1.958984     1    Right  Orientation         1     10   \n",
       "...          ...       ...   ...      ...          ...       ...    ...   \n",
       "9598  OrienRight  1.398438     1    Right  Orientation         1      8   \n",
       "9599   OrienLeft  0.529297     1     Left  Orientation         1      8   \n",
       "\n",
       "      session         rtms    inv_rt  \n",
       "0           1  2623.046875  0.000381  \n",
       "1           1  1958.984375  0.000510  \n",
       "...       ...          ...       ...  \n",
       "9598        3  1398.437500  0.000715  \n",
       "9599        3   529.296875  0.001889  \n",
       "\n",
       "[9600 rows x 10 columns]"
      ]
     },
     "execution_count": 12,
     "metadata": {
      "tags": []
     },
     "output_type": "execute_result"
    }
   ],
   "source": [
    "# mutate(ndata,\n",
    "#   rtms = rt*1000,\n",
    "#   inv_rt = 1/rtms\n",
    "# )\n",
    "\n",
    "ndata.assign(rtms=ndata.rt*1000).assign(inv_rt = lambda df: 1/df.rtms)"
   ]
  },
  {
   "cell_type": "markdown",
   "metadata": {
    "colab_type": "text",
    "id": "gPO0qjudteJY"
   },
   "source": [
    "The first example is pretty much identical (aside from the names, `mutate` vs. `assign`).\n",
    "\n",
    "The second example just comes down to language differences. In `R`, it's possible to implement a function like `mutate` where you can refer to `gain` in the line calcuating `gain_per_hour`, even though `gain` hasn't actually been calcuated yet.\n",
    "\n",
    "In Python, you can have arbitrary keyword arguments to functions (which we needed for `.assign`), but the order of the argumnets is arbitrary since `dict`s are unsorted and `**kwargs*` is a `dict`. So you can't have something like `df.assign(x=df.a / df.b, y=x **2)`, because you don't know whether `x` or `y` will come first (you'd also get an error saying `x` is undefined.\n",
    "\n",
    "To work around that with pandas, you'll need to split up the assigns, and pass in a *callable* to the second assign. The callable looks at itself to find a column named `gain`. Since the line above returns a DataFrame with the `gain` column added, the pipeline goes through just fine."
   ]
  },
  {
   "cell_type": "markdown",
   "metadata": {
    "colab_type": "text",
    "id": "uznj_NJmteJZ"
   },
   "source": [
    "# Summarise values with summarise()"
   ]
  },
  {
   "cell_type": "code",
   "execution_count": null,
   "metadata": {
    "colab": {},
    "colab_type": "code",
    "id": "sv4P3f5MteJa",
    "outputId": "432ec9de-4b93-4f85-cb65-0905788e8ef4"
   },
   "outputs": [
    {
     "data": {
      "text/plain": [
       "0.5666471354166667"
      ]
     },
     "execution_count": 63,
     "metadata": {
      "tags": []
     },
     "output_type": "execute_result"
    }
   ],
   "source": [
    "# summarise(ndata,\n",
    "#   rt = mean(rt, na.rm = TRUE))\n",
    "ndata.rt.mean()"
   ]
  },
  {
   "cell_type": "markdown",
   "metadata": {
    "colab_type": "text",
    "id": "0uuLgEhkteJe"
   },
   "source": [
    "This is only roughly equivalent.\n",
    "`summarise` takes a callable (e.g. `mean`, `sum`) and evaluates that on the DataFrame. In pandas these are spread across `pd.DataFrame.mean`, `pd.DataFrame.sum`. This will come up again when we look at `groupby`."
   ]
  },
  {
   "cell_type": "markdown",
   "metadata": {
    "colab_type": "text",
    "id": "2cVOjDR3teJf"
   },
   "source": [
    "# Randomly sample rows with sample_n() and sample_frac()"
   ]
  },
  {
   "cell_type": "code",
   "execution_count": null,
   "metadata": {
    "colab": {},
    "colab_type": "code",
    "id": "DFpDS1utteJg",
    "outputId": "16db9d36-3ed0-43b2-fea0-bcf496f171b1"
   },
   "outputs": [
    {
     "data": {
      "text/html": [
       "<div>\n",
       "<style>\n",
       "    .dataframe thead tr:only-child th {\n",
       "        text-align: right;\n",
       "    }\n",
       "\n",
       "    .dataframe thead th {\n",
       "        text-align: left;\n",
       "    }\n",
       "\n",
       "    .dataframe tbody tr th {\n",
       "        vertical-align: top;\n",
       "    }\n",
       "</style>\n",
       "<table border=\"1\" class=\"dataframe\">\n",
       "  <thead>\n",
       "    <tr style=\"text-align: right;\">\n",
       "      <th></th>\n",
       "      <th>Cond</th>\n",
       "      <th>rt</th>\n",
       "      <th>resp</th>\n",
       "      <th>spatial</th>\n",
       "      <th>feature</th>\n",
       "      <th>accuracy</th>\n",
       "      <th>subno</th>\n",
       "      <th>session</th>\n",
       "    </tr>\n",
       "  </thead>\n",
       "  <tbody>\n",
       "    <tr>\n",
       "      <th>3360</th>\n",
       "      <td>ColorLeft</td>\n",
       "      <td>0.966797</td>\n",
       "      <td>0</td>\n",
       "      <td>Left</td>\n",
       "      <td>Color</td>\n",
       "      <td>1</td>\n",
       "      <td>3</td>\n",
       "      <td>3</td>\n",
       "    </tr>\n",
       "    <tr>\n",
       "      <th>3173</th>\n",
       "      <td>OrienLeft</td>\n",
       "      <td>0.683594</td>\n",
       "      <td>1</td>\n",
       "      <td>Left</td>\n",
       "      <td>Orientation</td>\n",
       "      <td>1</td>\n",
       "      <td>3</td>\n",
       "      <td>2</td>\n",
       "    </tr>\n",
       "    <tr>\n",
       "      <th>...</th>\n",
       "      <td>...</td>\n",
       "      <td>...</td>\n",
       "      <td>...</td>\n",
       "      <td>...</td>\n",
       "      <td>...</td>\n",
       "      <td>...</td>\n",
       "      <td>...</td>\n",
       "      <td>...</td>\n",
       "    </tr>\n",
       "    <tr>\n",
       "      <th>9077</th>\n",
       "      <td>ColorRight</td>\n",
       "      <td>0.591797</td>\n",
       "      <td>0</td>\n",
       "      <td>Right</td>\n",
       "      <td>Color</td>\n",
       "      <td>1</td>\n",
       "      <td>8</td>\n",
       "      <td>2</td>\n",
       "    </tr>\n",
       "    <tr>\n",
       "      <th>7871</th>\n",
       "      <td>ColorLeft</td>\n",
       "      <td>0.498047</td>\n",
       "      <td>0</td>\n",
       "      <td>Left</td>\n",
       "      <td>Color</td>\n",
       "      <td>1</td>\n",
       "      <td>7</td>\n",
       "      <td>2</td>\n",
       "    </tr>\n",
       "  </tbody>\n",
       "</table>\n",
       "<p>10 rows × 8 columns</p>\n",
       "</div>"
      ],
      "text/plain": [
       "            Cond        rt  resp spatial      feature  accuracy  subno  \\\n",
       "3360   ColorLeft  0.966797     0    Left        Color         1      3   \n",
       "3173   OrienLeft  0.683594     1    Left  Orientation         1      3   \n",
       "...          ...       ...   ...     ...          ...       ...    ...   \n",
       "9077  ColorRight  0.591797     0   Right        Color         1      8   \n",
       "7871   ColorLeft  0.498047     0    Left        Color         1      7   \n",
       "\n",
       "      session  \n",
       "3360        3  \n",
       "3173        2  \n",
       "...       ...  \n",
       "9077        2  \n",
       "7871        2  \n",
       "\n",
       "[10 rows x 8 columns]"
      ]
     },
     "execution_count": 64,
     "metadata": {
      "tags": []
     },
     "output_type": "execute_result"
    }
   ],
   "source": [
    "# sample_n(data, 10)\n",
    "data.sample(n=10)"
   ]
  },
  {
   "cell_type": "code",
   "execution_count": null,
   "metadata": {
    "colab": {},
    "colab_type": "code",
    "id": "Hg-LiRnhteJi",
    "outputId": "42a600a4-adaf-48c1-80f2-5be31f632dea"
   },
   "outputs": [
    {
     "data": {
      "text/html": [
       "<div>\n",
       "<style>\n",
       "    .dataframe thead tr:only-child th {\n",
       "        text-align: right;\n",
       "    }\n",
       "\n",
       "    .dataframe thead th {\n",
       "        text-align: left;\n",
       "    }\n",
       "\n",
       "    .dataframe tbody tr th {\n",
       "        vertical-align: top;\n",
       "    }\n",
       "</style>\n",
       "<table border=\"1\" class=\"dataframe\">\n",
       "  <thead>\n",
       "    <tr style=\"text-align: right;\">\n",
       "      <th></th>\n",
       "      <th>Cond</th>\n",
       "      <th>rt</th>\n",
       "      <th>resp</th>\n",
       "      <th>spatial</th>\n",
       "      <th>feature</th>\n",
       "      <th>accuracy</th>\n",
       "      <th>subno</th>\n",
       "      <th>session</th>\n",
       "    </tr>\n",
       "  </thead>\n",
       "  <tbody>\n",
       "    <tr>\n",
       "      <th>2068</th>\n",
       "      <td>OrienLeft</td>\n",
       "      <td>0.716797</td>\n",
       "      <td>1</td>\n",
       "      <td>Left</td>\n",
       "      <td>Orientation</td>\n",
       "      <td>1</td>\n",
       "      <td>11</td>\n",
       "      <td>3</td>\n",
       "    </tr>\n",
       "    <tr>\n",
       "      <th>8935</th>\n",
       "      <td>ColorRight</td>\n",
       "      <td>0.654297</td>\n",
       "      <td>0</td>\n",
       "      <td>Right</td>\n",
       "      <td>Color</td>\n",
       "      <td>1</td>\n",
       "      <td>8</td>\n",
       "      <td>2</td>\n",
       "    </tr>\n",
       "    <tr>\n",
       "      <th>...</th>\n",
       "      <td>...</td>\n",
       "      <td>...</td>\n",
       "      <td>...</td>\n",
       "      <td>...</td>\n",
       "      <td>...</td>\n",
       "      <td>...</td>\n",
       "      <td>...</td>\n",
       "      <td>...</td>\n",
       "    </tr>\n",
       "    <tr>\n",
       "      <th>5062</th>\n",
       "      <td>ColorRight</td>\n",
       "      <td>0.841797</td>\n",
       "      <td>0</td>\n",
       "      <td>Right</td>\n",
       "      <td>Color</td>\n",
       "      <td>1</td>\n",
       "      <td>5</td>\n",
       "      <td>1</td>\n",
       "    </tr>\n",
       "    <tr>\n",
       "      <th>5732</th>\n",
       "      <td>OrienLeft</td>\n",
       "      <td>0.873047</td>\n",
       "      <td>1</td>\n",
       "      <td>Left</td>\n",
       "      <td>Orientation</td>\n",
       "      <td>1</td>\n",
       "      <td>5</td>\n",
       "      <td>3</td>\n",
       "    </tr>\n",
       "  </tbody>\n",
       "</table>\n",
       "<p>96 rows × 8 columns</p>\n",
       "</div>"
      ],
      "text/plain": [
       "            Cond        rt  resp spatial      feature  accuracy  subno  \\\n",
       "2068   OrienLeft  0.716797     1    Left  Orientation         1     11   \n",
       "8935  ColorRight  0.654297     0   Right        Color         1      8   \n",
       "...          ...       ...   ...     ...          ...       ...    ...   \n",
       "5062  ColorRight  0.841797     0   Right        Color         1      5   \n",
       "5732   OrienLeft  0.873047     1    Left  Orientation         1      5   \n",
       "\n",
       "      session  \n",
       "2068        3  \n",
       "8935        2  \n",
       "...       ...  \n",
       "5062        1  \n",
       "5732        3  \n",
       "\n",
       "[96 rows x 8 columns]"
      ]
     },
     "execution_count": 65,
     "metadata": {
      "tags": []
     },
     "output_type": "execute_result"
    }
   ],
   "source": [
    "# sample_frac(data, 0.01)\n",
    "data.sample(frac=.01)"
   ]
  },
  {
   "cell_type": "code",
   "execution_count": null,
   "metadata": {
    "colab": {},
    "colab_type": "code",
    "id": "cQxaer9OteJk"
   },
   "outputs": [],
   "source": []
  },
  {
   "cell_type": "markdown",
   "metadata": {
    "colab_type": "text",
    "id": "uT2lRhswteJo"
   },
   "source": [
    "# Grouped operations \n",
    "\n",
    "Pandas uses `.groupby()` function, very much like dplyr::group_by. \n",
    "\n",
    "But you need to aware that pandas `.groupby()` will **<font color = 'red'>put grouped variables into multi-index</font>**, so the columns after grouping will not include those grouped variables. If you want to put them back **as columns** for later usage, you need to add **`.reset_index()`**. "
   ]
  },
  {
   "cell_type": "code",
   "execution_count": null,
   "metadata": {
    "colab": {},
    "colab_type": "code",
    "id": "xpK65RiTteJo",
    "outputId": "0d35b729-d2d9-4a72-d83c-307a707eadf5"
   },
   "outputs": [
    {
     "data": {
      "text/html": [
       "<div>\n",
       "<style>\n",
       "    .dataframe thead tr:only-child th {\n",
       "        text-align: right;\n",
       "    }\n",
       "\n",
       "    .dataframe thead th {\n",
       "        text-align: left;\n",
       "    }\n",
       "\n",
       "    .dataframe tbody tr th {\n",
       "        vertical-align: top;\n",
       "    }\n",
       "</style>\n",
       "<table border=\"1\" class=\"dataframe\">\n",
       "  <thead>\n",
       "    <tr style=\"text-align: right;\">\n",
       "      <th></th>\n",
       "      <th>subno</th>\n",
       "      <th>session</th>\n",
       "      <th>dimension</th>\n",
       "      <th>rt</th>\n",
       "      <th>count</th>\n",
       "    </tr>\n",
       "  </thead>\n",
       "  <tbody>\n",
       "    <tr>\n",
       "      <th>0</th>\n",
       "      <td>3</td>\n",
       "      <td>1</td>\n",
       "      <td>Color</td>\n",
       "      <td>0.569287</td>\n",
       "      <td>299</td>\n",
       "    </tr>\n",
       "    <tr>\n",
       "      <th>1</th>\n",
       "      <td>3</td>\n",
       "      <td>1</td>\n",
       "      <td>Orientation</td>\n",
       "      <td>0.629269</td>\n",
       "      <td>97</td>\n",
       "    </tr>\n",
       "    <tr>\n",
       "      <th>2</th>\n",
       "      <td>3</td>\n",
       "      <td>2</td>\n",
       "      <td>Color</td>\n",
       "      <td>0.794291</td>\n",
       "      <td>96</td>\n",
       "    </tr>\n",
       "    <tr>\n",
       "      <th>3</th>\n",
       "      <td>3</td>\n",
       "      <td>2</td>\n",
       "      <td>Orientation</td>\n",
       "      <td>0.686033</td>\n",
       "      <td>293</td>\n",
       "    </tr>\n",
       "    <tr>\n",
       "      <th>4</th>\n",
       "      <td>3</td>\n",
       "      <td>3</td>\n",
       "      <td>Color</td>\n",
       "      <td>0.632128</td>\n",
       "      <td>197</td>\n",
       "    </tr>\n",
       "  </tbody>\n",
       "</table>\n",
       "</div>"
      ],
      "text/plain": [
       "   subno  session    dimension        rt  count\n",
       "0      3        1        Color  0.569287    299\n",
       "1      3        1  Orientation  0.629269     97\n",
       "2      3        2        Color  0.794291     96\n",
       "3      3        2  Orientation  0.686033    293\n",
       "4      3        3        Color  0.632128    197"
      ]
     },
     "execution_count": 40,
     "metadata": {
      "tags": []
     },
     "output_type": "execute_result"
    }
   ],
   "source": [
    "# ndata %>% filter(accuracy==1) %>% \n",
    "#     group_by(subno, session, dimension) %>% \n",
    "#     summarise(count=n(), rt = mean(rt), se = sd(rt)/sqrt(n-1))\n",
    "\n",
    "mrt = ndata.query('accuracy == 1')\\\n",
    "    .groupby(['subno','session','dimension'])\\\n",
    "    .agg({\"resp\":\"count\",\n",
    "         \"rt\":\"mean\"})\\\n",
    "    .rename(columns={\"resp\":\"count\"})\\\n",
    "    .reset_index()\n",
    "mrt.head()"
   ]
  },
  {
   "cell_type": "markdown",
   "metadata": {
    "colab_type": "text",
    "id": "JIzuXIx6teJt"
   },
   "source": [
    "Note, when python chains span over multiple lines, take care the indentation and add one '\\' at the previous line. \n",
    "\n",
    "I think pandas is more difficult for this particular example.\n",
    "There isn't as natural a way to mix column-agnostic aggregations (like ``count``) with column-specific aggregations like the other two. You end up writing could like `.agg{'resp': 'count'}` which reads, \"I want the count of `resp`\", even though you don't care about `resp` specifically. You could just as easily have said `.agg('Cond': 'count')`.\n",
    "Additionally assigning names can't be done as cleanly in pandas; you have to just follow it up with a ``rename`` like before."
   ]
  },
  {
   "cell_type": "markdown",
   "metadata": {
    "colab_type": "text",
    "id": "RxFiDz1KteJt"
   },
   "source": [
    "The result is a `MultiIndex` in the columns which can be a bit awkard to work with (you can drop a level with `r.columns.droplevel()`). But `MultiIndex` has its own purpose, such as subsecting data. "
   ]
  },
  {
   "cell_type": "code",
   "execution_count": null,
   "metadata": {
    "colab": {},
    "colab_type": "code",
    "id": "Kr96LCkOteJu",
    "outputId": "29eaa5b7-2bd3-4808-8276-2e1e38d87f5b"
   },
   "outputs": [
    {
     "data": {
      "text/html": [
       "<div>\n",
       "<style>\n",
       "    .dataframe thead tr:only-child th {\n",
       "        text-align: right;\n",
       "    }\n",
       "\n",
       "    .dataframe thead th {\n",
       "        text-align: left;\n",
       "    }\n",
       "\n",
       "    .dataframe tbody tr th {\n",
       "        vertical-align: top;\n",
       "    }\n",
       "</style>\n",
       "<table border=\"1\" class=\"dataframe\">\n",
       "  <thead>\n",
       "    <tr style=\"text-align: right;\">\n",
       "      <th></th>\n",
       "      <th></th>\n",
       "      <th></th>\n",
       "      <th>rt</th>\n",
       "      <th>count</th>\n",
       "    </tr>\n",
       "    <tr>\n",
       "      <th>subno</th>\n",
       "      <th>session</th>\n",
       "      <th>dimension</th>\n",
       "      <th></th>\n",
       "      <th></th>\n",
       "    </tr>\n",
       "  </thead>\n",
       "  <tbody>\n",
       "    <tr>\n",
       "      <th rowspan=\"5\" valign=\"top\">3</th>\n",
       "      <th rowspan=\"2\" valign=\"top\">1</th>\n",
       "      <th>Color</th>\n",
       "      <td>0.569287</td>\n",
       "      <td>299</td>\n",
       "    </tr>\n",
       "    <tr>\n",
       "      <th>Orientation</th>\n",
       "      <td>0.629269</td>\n",
       "      <td>97</td>\n",
       "    </tr>\n",
       "    <tr>\n",
       "      <th rowspan=\"2\" valign=\"top\">2</th>\n",
       "      <th>Color</th>\n",
       "      <td>0.794291</td>\n",
       "      <td>96</td>\n",
       "    </tr>\n",
       "    <tr>\n",
       "      <th>Orientation</th>\n",
       "      <td>0.686033</td>\n",
       "      <td>293</td>\n",
       "    </tr>\n",
       "    <tr>\n",
       "      <th>3</th>\n",
       "      <th>Color</th>\n",
       "      <td>0.632128</td>\n",
       "      <td>197</td>\n",
       "    </tr>\n",
       "  </tbody>\n",
       "</table>\n",
       "</div>"
      ],
      "text/plain": [
       "                                 rt  count\n",
       "subno session dimension                   \n",
       "3     1       Color        0.569287    299\n",
       "              Orientation  0.629269     97\n",
       "      2       Color        0.794291     96\n",
       "              Orientation  0.686033    293\n",
       "      3       Color        0.632128    197"
      ]
     },
     "execution_count": 35,
     "metadata": {
      "tags": []
     },
     "output_type": "execute_result"
    }
   ],
   "source": [
    "# use multiindex to subsecting data\n",
    "mrt = ndata.query('accuracy == 1')\\\n",
    "    .groupby(['subno','session','dimension'])\\\n",
    "    .agg({\"resp\":\"count\",\n",
    "         \"rt\":\"mean\"})\\\n",
    "    .rename(columns={\"resp\":\"count\"})\n",
    "# see the 'multi-index'\n",
    "mrt.head()"
   ]
  },
  {
   "cell_type": "code",
   "execution_count": null,
   "metadata": {
    "colab": {},
    "colab_type": "code",
    "id": "Dx4Y-diqteJz",
    "outputId": "a220e048-38e0-44f1-9c49-2f481460898c"
   },
   "outputs": [
    {
     "data": {
      "text/html": [
       "<div>\n",
       "<style>\n",
       "    .dataframe thead tr:only-child th {\n",
       "        text-align: right;\n",
       "    }\n",
       "\n",
       "    .dataframe thead th {\n",
       "        text-align: left;\n",
       "    }\n",
       "\n",
       "    .dataframe tbody tr th {\n",
       "        vertical-align: top;\n",
       "    }\n",
       "</style>\n",
       "<table border=\"1\" class=\"dataframe\">\n",
       "  <thead>\n",
       "    <tr style=\"text-align: right;\">\n",
       "      <th></th>\n",
       "      <th></th>\n",
       "      <th>rt</th>\n",
       "      <th>count</th>\n",
       "    </tr>\n",
       "    <tr>\n",
       "      <th>session</th>\n",
       "      <th>dimension</th>\n",
       "      <th></th>\n",
       "      <th></th>\n",
       "    </tr>\n",
       "  </thead>\n",
       "  <tbody>\n",
       "    <tr>\n",
       "      <th rowspan=\"2\" valign=\"top\">1</th>\n",
       "      <th>Color</th>\n",
       "      <td>0.569287</td>\n",
       "      <td>299</td>\n",
       "    </tr>\n",
       "    <tr>\n",
       "      <th>Orientation</th>\n",
       "      <td>0.629269</td>\n",
       "      <td>97</td>\n",
       "    </tr>\n",
       "    <tr>\n",
       "      <th>...</th>\n",
       "      <th>...</th>\n",
       "      <td>...</td>\n",
       "      <td>...</td>\n",
       "    </tr>\n",
       "    <tr>\n",
       "      <th rowspan=\"2\" valign=\"top\">3</th>\n",
       "      <th>Color</th>\n",
       "      <td>0.632128</td>\n",
       "      <td>197</td>\n",
       "    </tr>\n",
       "    <tr>\n",
       "      <th>Orientation</th>\n",
       "      <td>0.662747</td>\n",
       "      <td>196</td>\n",
       "    </tr>\n",
       "  </tbody>\n",
       "</table>\n",
       "<p>6 rows × 2 columns</p>\n",
       "</div>"
      ],
      "text/plain": [
       "                           rt  count\n",
       "session dimension                   \n",
       "1       Color        0.569287    299\n",
       "        Orientation  0.629269     97\n",
       "...                       ...    ...\n",
       "3       Color        0.632128    197\n",
       "        Orientation  0.662747    196\n",
       "\n",
       "[6 rows x 2 columns]"
      ]
     },
     "execution_count": 37,
     "metadata": {
      "tags": []
     },
     "output_type": "execute_result"
    }
   ],
   "source": [
    "# use 'multi-index' to select subset data\n",
    "# get out subno of 3.\n",
    "mrt.loc[3]"
   ]
  },
  {
   "cell_type": "markdown",
   "metadata": {
    "colab_type": "text",
    "id": "HeIGUQsMteJ4"
   },
   "source": [
    "<font color = 'blue'>\n",
    "\n",
    "**Note**:\n",
    "\n",
    "- Pandas use `.loc()` and `.iloc()` to retrieve selected rows. The former uses named index, and the latter uses number index.  \n",
    "- By default, `data['column_name']` select columns. "
   ]
  },
  {
   "cell_type": "code",
   "execution_count": null,
   "metadata": {
    "colab": {},
    "colab_type": "code",
    "id": "fu-riAg7teJ5",
    "outputId": "cceeb9fc-37b6-496a-b1d2-84ddd8e8e151"
   },
   "outputs": [
    {
     "data": {
      "text/html": [
       "<div>\n",
       "<style>\n",
       "    .dataframe thead tr:only-child th {\n",
       "        text-align: right;\n",
       "    }\n",
       "\n",
       "    .dataframe thead th {\n",
       "        text-align: left;\n",
       "    }\n",
       "\n",
       "    .dataframe tbody tr th {\n",
       "        vertical-align: top;\n",
       "    }\n",
       "</style>\n",
       "<table border=\"1\" class=\"dataframe\">\n",
       "  <thead>\n",
       "    <tr style=\"text-align: right;\">\n",
       "      <th></th>\n",
       "      <th>rt</th>\n",
       "      <th>count</th>\n",
       "    </tr>\n",
       "    <tr>\n",
       "      <th>dimension</th>\n",
       "      <th></th>\n",
       "      <th></th>\n",
       "    </tr>\n",
       "  </thead>\n",
       "  <tbody>\n",
       "    <tr>\n",
       "      <th>Color</th>\n",
       "      <td>0.794291</td>\n",
       "      <td>96</td>\n",
       "    </tr>\n",
       "    <tr>\n",
       "      <th>Orientation</th>\n",
       "      <td>0.686033</td>\n",
       "      <td>293</td>\n",
       "    </tr>\n",
       "  </tbody>\n",
       "</table>\n",
       "</div>"
      ],
      "text/plain": [
       "                   rt  count\n",
       "dimension                   \n",
       "Color        0.794291     96\n",
       "Orientation  0.686033    293"
      ]
     },
     "execution_count": 39,
     "metadata": {
      "tags": []
     },
     "output_type": "execute_result"
    }
   ],
   "source": [
    "# get subno 8, session 2, Color target\n",
    "# use tuple (8,2,'Color')\n",
    "mrt.loc[(3,2)]"
   ]
  },
  {
   "cell_type": "markdown",
   "metadata": {
    "colab_type": "text",
    "id": "07c5RWIQteJ7"
   },
   "source": [
    "Similar to how ``dplyr`` provides optimized C++ versions of most of the `summarise` functions, pandas uses [cython](http://cython.org) optimized versions for most of the `agg` methods."
   ]
  },
  {
   "cell_type": "markdown",
   "metadata": {
    "colab_type": "text",
    "id": "b15DlxrGteJ8"
   },
   "source": [
    "# Chaining"
   ]
  },
  {
   "cell_type": "markdown",
   "metadata": {
    "colab_type": "text",
    "id": "MUTo3L-GteJ8"
   },
   "source": [
    "I have used chaining in the above examples. More specifically, chaining is a concatenation of functions from left to right, very much like R `%>%`. "
   ]
  },
  {
   "cell_type": "code",
   "execution_count": null,
   "metadata": {
    "colab": {},
    "colab_type": "code",
    "id": "6CzObX9DteJ8"
   },
   "outputs": [],
   "source": [
    "mrt = ndata.query('accuracy == 1')\\\n",
    "    .groupby(['subno','session','dimension'])\\\n",
    "    .agg({\"resp\":\"count\",\n",
    "         \"rt\":\"mean\"})\\\n",
    "    .rename(columns={\"resp\":\"count\"})\\\n",
    "    .reset_index()"
   ]
  },
  {
   "cell_type": "markdown",
   "metadata": {
    "colab_type": "text",
    "id": "e63ewt5PteJ-"
   },
   "source": [
    "A bit of soapboxing here if you'll indulge me.\n",
    "\n",
    "The example above is a bit contrived since it only uses methods on `DataFrame`. But what if you have some function to work into your pipeline that pandas hasn't (or won't) implement? In that case you're required to break up your pipeline by assigning your intermediate (probably uninteresting) DataFrame to a temporary variable you don't actually care about.\n",
    "\n",
    "`R` doesn't have this problem since the `%>%` operator works with any function that takes (and maybe returns) DataFrames.\n",
    "The python language doesn't have any notion of right to left function application (other than special cases like `__radd__` and `__rmul__`).\n",
    "It only allows the usual left to right `function(arguments)`, where you can think of the `()` as the \"call this function\" operator.\n",
    "\n",
    "Pandas wanted something like `%>%` and we did it in a farily pythonic way. The `pd.DataFrame.pipe` method takes a function and optionally some arguments, and calls that function with `self` (the DataFrame) as the first argument.\n",
    "\n",
    "So\n",
    "\n",
    "```R\n",
    "data >%> my_function(my_argument=10)\n",
    "```\n",
    "\n",
    "becomes\n",
    "\n",
    "```python\n",
    "data.pipe(my_function, my_argument=10)\n",
    "```\n",
    "\n",
    "We initially had grander visions for `.pipe`, but the wider python community didn't seem that interested."
   ]
  },
  {
   "cell_type": "markdown",
   "metadata": {
    "colab_type": "text",
    "id": "YO-Edm4kteJ_"
   },
   "source": [
    "# Plotting\n",
    "\n",
    "We may as well reproduce the graph. It looks like `ggplots` `geom_smooth` is some kind of lowess smoother. We can either us [seaborn](http://stanford.edu/~mwaskom/software/seaborn/):"
   ]
  },
  {
   "cell_type": "code",
   "execution_count": null,
   "metadata": {
    "colab": {},
    "colab_type": "code",
    "id": "24Nb8udjteKA",
    "outputId": "2fe12312-866f-447b-a170-1837dccd5e71"
   },
   "outputs": [
    {
     "data": {
      "text/html": [
       "<div>\n",
       "<style>\n",
       "    .dataframe thead tr:only-child th {\n",
       "        text-align: right;\n",
       "    }\n",
       "\n",
       "    .dataframe thead th {\n",
       "        text-align: left;\n",
       "    }\n",
       "\n",
       "    .dataframe tbody tr th {\n",
       "        vertical-align: top;\n",
       "    }\n",
       "</style>\n",
       "<table border=\"1\" class=\"dataframe\">\n",
       "  <thead>\n",
       "    <tr style=\"text-align: right;\">\n",
       "      <th></th>\n",
       "      <th>subno</th>\n",
       "      <th>session</th>\n",
       "      <th>dimension</th>\n",
       "      <th>rt</th>\n",
       "      <th>count</th>\n",
       "    </tr>\n",
       "  </thead>\n",
       "  <tbody>\n",
       "    <tr>\n",
       "      <th>0</th>\n",
       "      <td>3</td>\n",
       "      <td>1</td>\n",
       "      <td>Color</td>\n",
       "      <td>0.569287</td>\n",
       "      <td>299</td>\n",
       "    </tr>\n",
       "    <tr>\n",
       "      <th>1</th>\n",
       "      <td>3</td>\n",
       "      <td>1</td>\n",
       "      <td>Orientation</td>\n",
       "      <td>0.629269</td>\n",
       "      <td>97</td>\n",
       "    </tr>\n",
       "    <tr>\n",
       "      <th>2</th>\n",
       "      <td>3</td>\n",
       "      <td>2</td>\n",
       "      <td>Color</td>\n",
       "      <td>0.794291</td>\n",
       "      <td>96</td>\n",
       "    </tr>\n",
       "    <tr>\n",
       "      <th>3</th>\n",
       "      <td>3</td>\n",
       "      <td>2</td>\n",
       "      <td>Orientation</td>\n",
       "      <td>0.686033</td>\n",
       "      <td>293</td>\n",
       "    </tr>\n",
       "    <tr>\n",
       "      <th>4</th>\n",
       "      <td>3</td>\n",
       "      <td>3</td>\n",
       "      <td>Color</td>\n",
       "      <td>0.632128</td>\n",
       "      <td>197</td>\n",
       "    </tr>\n",
       "  </tbody>\n",
       "</table>\n",
       "</div>"
      ],
      "text/plain": [
       "   subno  session    dimension        rt  count\n",
       "0      3        1        Color  0.569287    299\n",
       "1      3        1  Orientation  0.629269     97\n",
       "2      3        2        Color  0.794291     96\n",
       "3      3        2  Orientation  0.686033    293\n",
       "4      3        3        Color  0.632128    197"
      ]
     },
     "execution_count": 42,
     "metadata": {
      "tags": []
     },
     "output_type": "execute_result"
    }
   ],
   "source": [
    "mrt.head()"
   ]
  },
  {
   "cell_type": "code",
   "execution_count": null,
   "metadata": {
    "colab": {},
    "colab_type": "code",
    "id": "KcfNrNUgteKB",
    "outputId": "1707f540-3abb-4107-f8c4-e600ac122d48"
   },
   "outputs": [
    {
     "data": {
      "text/plain": [
       "<seaborn.axisgrid.FacetGrid at 0x11079a850>"
      ]
     },
     "execution_count": 48,
     "metadata": {
      "tags": []
     },
     "output_type": "execute_result"
    },
    {
     "data": {
      "image/png": "[encoded data removed]",
      "text/plain": [
       "<matplotlib.figure.Figure at 0x1112bb250>"
      ]
     },
     "metadata": {
      "tags": []
     },
     "output_type": "display_data"
    }
   ],
   "source": [
    "sns.set()\n",
    "sns.factorplot(x ='dimension', y = \"rt\", hue = \"session\", data=mrt, kind = 'bar')"
   ]
  },
  {
   "cell_type": "markdown",
   "metadata": {
    "colab_type": "text",
    "id": "9jCQEutcteKJ"
   },
   "source": [
    "# Summary"
   ]
  },
  {
   "cell_type": "markdown",
   "metadata": {
    "colab_type": "text",
    "id": "TT7otLwCteKJ"
   },
   "source": [
    "I think pandas held up pretty well, considering this was a vignette written for dplyr. I found the degree of similarity more interesting than the differences. The most difficult task was renaming of columns within an operation; they had to be followed up with a call to ``rename`` *after* the operation, which isn't that burdensome honestly.\n",
    "\n",
    "More and more it looks like we're moving towards future where being a language or package partisan just doesn't make sense. Not when you can load up a [Jupyter](http://jupyter.org) (formerly IPython) notebook to call up a library written in R, and hand those results off to python or Julia or whatever for followup, before going back to R to make a cool [shiny](http://shiny.rstudio.com) web app.\n",
    "\n",
    "There will always be a place for your \"utility belt\" package like dplyr or pandas, but it wouldn't hurt to be familiar with both.\n",
    "\n",
    "If you want to contribute to pandas, we're always looking for help at https://github.com/pydata/pandas/.\n"
   ]
  }
 ],
 "metadata": {
  "colab": {
   "collapsed_sections": [
    "4TPCKI_V2TbM",
    "uznj_NJmteJZ",
    "2cVOjDR3teJf",
    "uT2lRhswteJo",
    "b15DlxrGteJ8",
    "YO-Edm4kteJ_",
    "9jCQEutcteKJ"
   ],
   "name": "Python for R Users - Pandas.ipynb",
   "provenance": [],
   "version": "0.3.2"
  },
  "kernelspec": {
   "display_name": "Python 3",
   "language": "python",
   "name": "python3"
  },
  "language_info": {
   "codemirror_mode": {
    "name": "ipython",
    "version": 3
   },
   "file_extension": ".py",
   "mimetype": "text/x-python",
   "name": "python",
   "nbconvert_exporter": "python",
   "pygments_lexer": "ipython3",
   "version": "3.6.7"
  }
 },
 "nbformat": 4,
 "nbformat_minor": 2
}
